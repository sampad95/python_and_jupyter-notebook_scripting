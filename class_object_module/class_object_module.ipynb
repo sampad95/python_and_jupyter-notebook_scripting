{
 "cells": [
  {
   "cell_type": "code",
   "execution_count": 9,
   "id": "23eda3a3-08a5-4800-adf2-37702458ec3a",
   "metadata": {},
   "outputs": [
    {
     "name": "stdout",
     "output_type": "stream",
     "text": [
      "<class 'str'>\n"
     ]
    }
   ],
   "source": [
    "print(type('Hello')) # 'Hello' is an object of the class str (string)"
   ]
  },
  {
   "cell_type": "code",
   "execution_count": 12,
   "id": "93253ddd-7905-4c33-b6c4-40c70f8ad1b2",
   "metadata": {},
   "outputs": [
    {
     "name": "stdout",
     "output_type": "stream",
     "text": [
      "<class 'int'>\n",
      "1\n"
     ]
    }
   ],
   "source": [
    "x = 1\n",
    "print(type(x)) # x is an object (data type) of class (or type) int (integer) with value 1\n",
    "print(x)"
   ]
  },
  {
   "cell_type": "code",
   "execution_count": 13,
   "id": "e2528994-77cf-40ed-89e9-695c6739ad29",
   "metadata": {},
   "outputs": [],
   "source": [
    "def Hello():               # defining am object\n",
    "    print('Hello')"
   ]
  },
  {
   "cell_type": "code",
   "execution_count": 14,
   "id": "c199da40-249b-4a50-a7e9-d975a00ab1ba",
   "metadata": {},
   "outputs": [
    {
     "name": "stdout",
     "output_type": "stream",
     "text": [
      "<class 'function'>\n"
     ]
    }
   ],
   "source": [
    "print(type(Hello)) # Hello is an object of the class function"
   ]
  },
  {
   "cell_type": "markdown",
   "id": "54d5f14e-0e92-4c79-95fd-ad30152f01cc",
   "metadata": {},
   "source": [
    "### Above mentioned \"Hello\", x, Hello are objects, 'str', 'inf', 'function' are classes."
   ]
  },
  {
   "cell_type": "code",
   "execution_count": 29,
   "id": "7b8ef49e-e7b5-41bd-b991-ac019fcc4fd8",
   "metadata": {},
   "outputs": [],
   "source": [
    "x = 10\n",
    "y = 'hello'\n",
    "z = 5"
   ]
  },
  {
   "cell_type": "code",
   "execution_count": 25,
   "id": "b9a293e1-0d31-4782-a010-5ad4ce2729a2",
   "metadata": {},
   "outputs": [
    {
     "name": "stdout",
     "output_type": "stream",
     "text": [
      "<class 'int'>\n",
      "<class 'str'>\n"
     ]
    }
   ],
   "source": [
    "print(type(x))\n",
    "print(type(y))"
   ]
  },
  {
   "cell_type": "code",
   "execution_count": 26,
   "id": "a930a505-29fc-4dcd-b49a-58d3499de91b",
   "metadata": {},
   "outputs": [
    {
     "name": "stdout",
     "output_type": "stream",
     "text": [
      "HELLO\n"
     ]
    }
   ],
   "source": [
    "print(y.upper())"
   ]
  },
  {
   "cell_type": "markdown",
   "id": "a2914b43-08d6-4af2-bd66-348174d1375f",
   "metadata": {},
   "source": [
    "### \"upper()\" following . (dot) operator is a method defined for objectes belong to the class 'str'."
   ]
  },
  {
   "cell_type": "code",
   "execution_count": 27,
   "id": "a19134e1-a46e-4c5b-8361-41d3551b8b82",
   "metadata": {},
   "outputs": [
    {
     "ename": "AttributeError",
     "evalue": "'int' object has no attribute 'upper'",
     "output_type": "error",
     "traceback": [
      "\u001b[1;31m---------------------------------------------------------------------------\u001b[0m",
      "\u001b[1;31mAttributeError\u001b[0m                            Traceback (most recent call last)",
      "Cell \u001b[1;32mIn[27], line 1\u001b[0m\n\u001b[1;32m----> 1\u001b[0m \u001b[38;5;28mprint\u001b[39m(\u001b[43mx\u001b[49m\u001b[38;5;241;43m.\u001b[39;49m\u001b[43mupper\u001b[49m())\n",
      "\u001b[1;31mAttributeError\u001b[0m: 'int' object has no attribute 'upper'"
     ]
    }
   ],
   "source": [
    "print(x.upper())"
   ]
  },
  {
   "cell_type": "markdown",
   "id": "4f4c1c41-83d8-4f46-bbcb-00dd3b8e3977",
   "metadata": {},
   "source": [
    "### There is no \"upper()\" method defined for the objects in class 'int'."
   ]
  },
  {
   "cell_type": "code",
   "execution_count": 30,
   "id": "48de0f62-dfb9-4507-a075-24c41f0ebb30",
   "metadata": {},
   "outputs": [
    {
     "data": {
      "text/plain": [
       "15"
      ]
     },
     "execution_count": 30,
     "metadata": {},
     "output_type": "execute_result"
    }
   ],
   "source": [
    "x+z"
   ]
  },
  {
   "cell_type": "code",
   "execution_count": 31,
   "id": "0a3354cd-88ab-4253-9726-841e114577ed",
   "metadata": {},
   "outputs": [
    {
     "ename": "TypeError",
     "evalue": "unsupported operand type(s) for +: 'int' and 'str'",
     "output_type": "error",
     "traceback": [
      "\u001b[1;31m---------------------------------------------------------------------------\u001b[0m",
      "\u001b[1;31mTypeError\u001b[0m                                 Traceback (most recent call last)",
      "Cell \u001b[1;32mIn[31], line 1\u001b[0m\n\u001b[1;32m----> 1\u001b[0m \u001b[43mx\u001b[49m\u001b[38;5;241;43m+\u001b[39;49m\u001b[43my\u001b[49m\n",
      "\u001b[1;31mTypeError\u001b[0m: unsupported operand type(s) for +: 'int' and 'str'"
     ]
    }
   ],
   "source": [
    "x+y"
   ]
  },
  {
   "cell_type": "markdown",
   "id": "a7b1b3d8-1f25-4f94-b2f4-c38de67accb1",
   "metadata": {},
   "source": [
    "### + (addition) operator is not defined for either of the classes 'int' and 'str' so that two objects of two different classes 'int' and 'str' can be added."
   ]
  },
  {
   "cell_type": "markdown",
   "id": "8f654bfe-88bd-4066-8cc0-3fe1b251a274",
   "metadata": {},
   "source": [
    "## see geeksforgeeks: python class and objects"
   ]
  },
  {
   "cell_type": "markdown",
   "id": "51d7e69c-7ff1-469d-ac8b-48df18c4f976",
   "metadata": {},
   "source": [
    "### **Syntax:** Class Definition\n",
    "\n",
    "### class ClassName:\n",
    "###     # Statement"
   ]
  },
  {
   "cell_type": "markdown",
   "id": "7caa49ca-5078-4f77-9b5c-e67416527af3",
   "metadata": {},
   "source": [
    "### **Syntax:** Object Definition\n",
    "\n",
    "### obj = ClassName()\n",
    "### print(obj.atrr)"
   ]
  },
  {
   "cell_type": "markdown",
   "id": "0992b122-7f07-4e8c-81ce-e0af77f71c90",
   "metadata": {},
   "source": [
    "### The class creates a user-defined data structure, which holds its own data members and member functions, which can be accessed and used by creating an instance of that class. A class is like a blueprint for an object."
   ]
  },
  {
   "cell_type": "markdown",
   "id": "1292e252-8a9e-4e33-875f-f8fac6c7a2b6",
   "metadata": {},
   "source": [
    "### **Some points on Python class:**\n",
    "* ### Classes are created by keyword _class_.\n",
    "* ### Attributes are the variables that belong to a class.\n",
    "* ### Attributes are always public and can be accessed using the dot (.) operator. Eg.: My class.Myattribute"
   ]
  },
  {
   "cell_type": "markdown",
   "id": "96aa50f3-53d9-4161-82e4-220b6368afd9",
   "metadata": {},
   "source": [
    "## Creating a Python Class"
   ]
  },
  {
   "cell_type": "code",
   "execution_count": 32,
   "id": "2bdef4fd-eeda-4ead-bd32-23326105edd4",
   "metadata": {},
   "outputs": [],
   "source": [
    "class Dog:\n",
    "    sound = 'bark'"
   ]
  },
  {
   "cell_type": "markdown",
   "id": "89781e44-301b-415c-a17d-4fa1efdba473",
   "metadata": {},
   "source": [
    "## Object of Python Class\n",
    "### An Object is an instance of a Class. A class is like a blueprint while an instance is a copy of the class with actual values. It’s not an idea anymore, it’s an actual dog, like a dog of breed pug who’s seven years old. You can have many dogs to create many different instances, but without the class as a guide, you would be lost, not knowing what information is required."
   ]
  },
  {
   "cell_type": "markdown",
   "id": "31920ed8-32eb-41c2-adf6-30097515f2a6",
   "metadata": {},
   "source": [
    "## Declaring Class Objects (Also called instantiating a class)\n",
    "### When an object of a class is created, the class is said to be instantiated. All the instances share the attributes and the behavior of the class. But the values of those attributes, i.e. the state are unique for each object. A single class may have any number of instances.\n",
    "### Creating an object in Python involves instantiating a class to create a new instance of that class. This process is also referred to as object instantiation."
   ]
  },
  {
   "cell_type": "code",
   "execution_count": 33,
   "id": "65da3c22-3f93-4357-9a77-cd91147ab63d",
   "metadata": {},
   "outputs": [
    {
     "name": "stdout",
     "output_type": "stream",
     "text": [
      "mammal\n",
      "Tnat's a mammal\n",
      "That's a dog\n"
     ]
    }
   ],
   "source": [
    "# Python3 program to\n",
    "# demonstrate instantiating\n",
    "# a class\n",
    "class Dog:\n",
    "\n",
    "    # A simple class\n",
    "    # attribute\n",
    "    attr1 = \"mammal\"\n",
    "    attr2 = \"dog\"\n",
    "\n",
    "    # A sample method\n",
    "    def fun(self):\n",
    "        print(\"Tnat's a\", self.attr1)\n",
    "        print(\"That's a\", self.attr2)\n",
    "\n",
    "\n",
    "# Driver code\n",
    "# Object instantiation\n",
    "Rodger = Dog()\n",
    "\n",
    "# Accessing class attributes\n",
    "# and method through objects\n",
    "print(Rodger.attr1)\n",
    "Rodger.fun()"
   ]
  },
  {
   "cell_type": "markdown",
   "id": "96317d47-4290-423f-9fb7-805d103b68f9",
   "metadata": {},
   "source": [
    "## Self Parameter\n",
    "### When we call a method of this object as myobject.method(arg1, arg2), this is automatically converted by Python into MyClass.method(myobject, arg1, arg2) – this is all the special self is about. "
   ]
  },
  {
   "cell_type": "code",
   "execution_count": 34,
   "id": "a873299c-9e09-4354-8376-5c66be131957",
   "metadata": {},
   "outputs": [
    {
     "name": "stdout",
     "output_type": "stream",
     "text": [
      "Hello my name is John and I work in GeeksForGeeks.\n"
     ]
    }
   ],
   "source": [
    "class GFG:\n",
    "    def __init__(self, name, company):\n",
    "        self.name = name\n",
    "        self.company = company\n",
    "\n",
    "    def show(self):\n",
    "        print(\"Hello my name is \" + self.name+\" and I\" +\n",
    "              \" work in \"+self.company+\".\")\n",
    "\n",
    "\n",
    "obj = GFG(\"John\", \"GeeksForGeeks\")\n",
    "obj.show()"
   ]
  },
  {
   "cell_type": "markdown",
   "id": "7e3fe402-5820-4cce-8e00-8e376253255c",
   "metadata": {},
   "source": [
    "### The Self Parameter does not call it to be Self, You can use any other name instead of it. Here we change the self to the word someone and the output will be the same."
   ]
  },
  {
   "cell_type": "code",
   "execution_count": 36,
   "id": "7e177d16-2542-4197-8bdb-f6e8d3d50558",
   "metadata": {},
   "outputs": [
    {
     "name": "stdout",
     "output_type": "stream",
     "text": [
      "Hello my name is John and I work in GeeksForGeeks.\n"
     ]
    }
   ],
   "source": [
    "class GFG:\n",
    "    def __init__(sf, name, company):\n",
    "        sf.n = name\n",
    "        sf.c = company\n",
    "\n",
    "    def show(sf):\n",
    "        print(\"Hello my name is \" + sf.n+\" and I\" +\n",
    "              \" work in \"+sf.c+\".\")\n",
    "\n",
    "\n",
    "obj = GFG(\"John\", \"GeeksForGeeks\")\n",
    "obj.show()"
   ]
  },
  {
   "cell_type": "code",
   "execution_count": 37,
   "id": "dbfd04b4-3f03-4ab0-9050-9296837620c7",
   "metadata": {},
   "outputs": [
    {
     "data": {
      "text/plain": [
       "'John'"
      ]
     },
     "execution_count": 37,
     "metadata": {},
     "output_type": "execute_result"
    }
   ],
   "source": [
    "obj.n"
   ]
  },
  {
   "cell_type": "markdown",
   "id": "bb00e238-dda2-4d9f-951a-ca791cc85132",
   "metadata": {},
   "source": [
    "## __ init__() method\n",
    "### The __ init__ method is similar to constructors in C++ and Java. Constructors are used to initializing the object’s state. Like methods, a constructor also contains a collection of statements(i.e. instructions) that are executed at the time of Object creation. It runs as soon as an object of a class is instantiated. The method is useful to do any initialization you want to do with your object."
   ]
  },
  {
   "cell_type": "code",
   "execution_count": 72,
   "id": "4650b23a-e573-4e8d-affc-b6ac5d61c038",
   "metadata": {},
   "outputs": [
    {
     "name": "stdout",
     "output_type": "stream",
     "text": [
      "Hello, my name is Sampad\n"
     ]
    }
   ],
   "source": [
    "# Sample class with init method\n",
    "class Person:\n",
    "\n",
    "    # init method or constructor\n",
    "    def __init__(sf, nm):\n",
    "        sf.name = nm\n",
    "\n",
    "    # Sample Method\n",
    "    def say_hi(sf2):\n",
    "        print('Hello, my name is', sf2.name)\n",
    "\n",
    "\n",
    "p = Person('Sampad')\n",
    "p.say_hi()"
   ]
  },
  {
   "cell_type": "markdown",
   "id": "7ba607c7-6f7d-4a15-8dae-0638f10e6c69",
   "metadata": {
    "tags": []
   },
   "source": [
    "### In this example, we are creating a Person class and we have created a **nm** instance variable in the constructor. We have created a method named as say_hi() which returns the string “Hello, my name is {nm}”. We have created a person class object and we pass the name Sampad to the instance variable. Finally, we are calling the say_hi() of the class."
   ]
  },
  {
   "cell_type": "code",
   "execution_count": 87,
   "id": "f0bd647b-1c9a-4b2e-9568-a1f5f009cf1f",
   "metadata": {},
   "outputs": [
    {
     "ename": "TypeError",
     "evalue": "__init__() should return None, not 'str'",
     "output_type": "error",
     "traceback": [
      "\u001b[1;31m---------------------------------------------------------------------------\u001b[0m",
      "\u001b[1;31mTypeError\u001b[0m                                 Traceback (most recent call last)",
      "Cell \u001b[1;32mIn[87], line 13\u001b[0m\n\u001b[0;32m      9\u001b[0m     \u001b[38;5;28;01mdef\u001b[39;00m \u001b[38;5;21msay_hi\u001b[39m(sf):\n\u001b[0;32m     10\u001b[0m         \u001b[38;5;28mprint\u001b[39m(\u001b[38;5;124m'\u001b[39m\u001b[38;5;124mHello, my name is\u001b[39m\u001b[38;5;124m'\u001b[39m, nm)\n\u001b[1;32m---> 13\u001b[0m p \u001b[38;5;241m=\u001b[39m \u001b[43mPerson\u001b[49m\u001b[43m(\u001b[49m\u001b[38;5;124;43m'\u001b[39;49m\u001b[38;5;124;43mSampad\u001b[39;49m\u001b[38;5;124;43m'\u001b[39;49m\u001b[43m)\u001b[49m\n\u001b[0;32m     14\u001b[0m p\u001b[38;5;241m.\u001b[39msay_hi()\n",
      "\u001b[1;31mTypeError\u001b[0m: __init__() should return None, not 'str'"
     ]
    }
   ],
   "source": [
    "# Sample class with init method\n",
    "class Person:\n",
    "\n",
    "    # init method or constructor\n",
    "    def __init__(sf, nm):\n",
    "        return nm\n",
    "\n",
    "    # Sample Method\n",
    "    def say_hi(sf):\n",
    "        print('Hello, my name is', nm)\n",
    "\n",
    "\n",
    "p = Person('Sampad')\n",
    "p.say_hi()"
   ]
  },
  {
   "cell_type": "markdown",
   "id": "1969dc84-e44a-4fb2-a07e-c68e33bebc71",
   "metadata": {},
   "source": [
    "## __ str__() method\n",
    "### Python has a particular method called __ str__(). that is used to define how a class object should be represented as a string. It is often used to give an object a human-readable textual representation, which is helpful for logging, debugging, or showing users object information. When a class object is used to create a string using the built-in functions print() and str(), the __ str__() function is automatically used. You can alter how objects of a class are represented in strings by defining the __ str__() method."
   ]
  },
  {
   "cell_type": "code",
   "execution_count": 51,
   "id": "282dc80d-31c9-41b2-b34b-4301530a1fac",
   "metadata": {},
   "outputs": [
    {
     "data": {
      "text/plain": [
       "<__main__.Person at 0xe30c3bb250>"
      ]
     },
     "execution_count": 51,
     "metadata": {},
     "output_type": "execute_result"
    }
   ],
   "source": [
    "# Sample class with init method\n",
    "class Person:\n",
    "\n",
    "    # init method or constructor\n",
    "    def __init__(sf, nm):\n",
    "        sf.name = nm\n",
    "\n",
    "    # Sample Method\n",
    "    def __str__(sf):\n",
    "        return f'Hello, my name is {sf.name}'\n",
    "\n",
    "\n",
    "p = Person('Sampad')\n",
    "p"
   ]
  },
  {
   "cell_type": "code",
   "execution_count": 52,
   "id": "d926dd1d-c81b-486f-9498-0a6d48fe9aed",
   "metadata": {},
   "outputs": [
    {
     "name": "stdout",
     "output_type": "stream",
     "text": [
      "Hello, my name is Sampad\n"
     ]
    }
   ],
   "source": [
    "print(p)  # object itself is a string"
   ]
  },
  {
   "cell_type": "markdown",
   "id": "af417f22-34b5-41d0-8da6-16cec79ffb8e",
   "metadata": {},
   "source": [
    "## Class and Instance Variables\n",
    "### Instance variables are for data, unique to each instance and class variables are for attributes and methods shared by all instances of the class. Instance variables are variables whose value is assigned inside a constructor or method with self whereas class variables are variables whose value is assigned in the class."
   ]
  },
  {
   "cell_type": "markdown",
   "id": "37bc97f7-7538-4b51-88cd-1f6ecf52fa83",
   "metadata": {},
   "source": [
    "## Defining instance variables using a constructor. \n",
    "\n",
    "### The variables with a value assigned in the class declaration, are class variables and variables inside methods and constructors are instance variables."
   ]
  },
  {
   "cell_type": "code",
   "execution_count": 59,
   "id": "f1a85b57-f19d-4fb2-817d-d8b5e9675f15",
   "metadata": {},
   "outputs": [],
   "source": [
    "# Class for Dog\n",
    "\n",
    "class Dog:\n",
    "\n",
    "    # Class Variable shared by all the objects\n",
    "    animal = 'dog'\n",
    "\n",
    "    # The init method or constructor\n",
    "    def __init__(self, breed, color):\n",
    "\n",
    "        # Instance Variable\n",
    "        self.breed = breed\n",
    "        self.color = color"
   ]
  },
  {
   "cell_type": "code",
   "execution_count": 54,
   "id": "247e242d-c5bc-412c-9b29-c34d522a99e9",
   "metadata": {},
   "outputs": [],
   "source": [
    "# Objects of Dog class\n",
    "Rodger = Dog(\"Pug\", \"brown\")\n",
    "Buzo = Dog(\"Bulldog\", \"black\")"
   ]
  },
  {
   "cell_type": "code",
   "execution_count": 56,
   "id": "28456f80-4d9b-46ee-bcc5-408179d8ea1b",
   "metadata": {},
   "outputs": [
    {
     "data": {
      "text/plain": [
       "'dog'"
      ]
     },
     "execution_count": 56,
     "metadata": {},
     "output_type": "execute_result"
    }
   ],
   "source": [
    "Dog.animal"
   ]
  },
  {
   "cell_type": "code",
   "execution_count": 70,
   "id": "1fec1160-b998-44bc-9d24-f15b96aa2d22",
   "metadata": {},
   "outputs": [
    {
     "data": {
      "text/plain": [
       "'dog'"
      ]
     },
     "execution_count": 70,
     "metadata": {},
     "output_type": "execute_result"
    }
   ],
   "source": [
    "Rodger.animal"
   ]
  },
  {
   "cell_type": "code",
   "execution_count": 71,
   "id": "0ff7d1e7-1b6e-4a07-a410-16e5ce77f978",
   "metadata": {},
   "outputs": [
    {
     "data": {
      "text/plain": [
       "'dog'"
      ]
     },
     "execution_count": 71,
     "metadata": {},
     "output_type": "execute_result"
    }
   ],
   "source": [
    " Buzo.animal"
   ]
  },
  {
   "cell_type": "code",
   "execution_count": 57,
   "id": "c6212506-4c58-46be-a341-f393f7b5e05e",
   "metadata": {},
   "outputs": [
    {
     "name": "stdout",
     "output_type": "stream",
     "text": [
      "Rodger is a dog\n",
      "Breed:  Pug\n",
      "Color:  brown\n"
     ]
    }
   ],
   "source": [
    "print('Rodger is a', Rodger.animal)\n",
    "print('Breed: ', Rodger.breed)\n",
    "print('Color: ', Rodger.color)"
   ]
  },
  {
   "cell_type": "code",
   "execution_count": 62,
   "id": "4d5d7074-fa36-462a-a727-360db2761f9f",
   "metadata": {},
   "outputs": [
    {
     "name": "stdout",
     "output_type": "stream",
     "text": [
      "Buzo is a dog\n",
      "Breed:  Bulldog\n",
      "Color:  black\n"
     ]
    }
   ],
   "source": [
    "print('Buzo is a', Buzo.animal) # also shared by the object Rodger with assigned value 'dog'\n",
    "print('Breed: ', Buzo.breed)\n",
    "print('Color: ', Buzo.color)"
   ]
  },
  {
   "cell_type": "markdown",
   "id": "c76db932-7131-481a-9f60-868bedc620d1",
   "metadata": {},
   "source": [
    "### A class named Dog is defined with a class variable animal set to the string “dog”. Class variables are shared by all objects of a class and can be accessed using the class name. Dog class has two instance variables breed and color. Later we are creating two objects of the Dog class and we are printing the value of both objects with a class variable named animal."
   ]
  },
  {
   "cell_type": "markdown",
   "id": "3a340797-75d9-4eaf-be48-c63558a54fe7",
   "metadata": {},
   "source": [
    "## Defining instance variables using the normal method:\n",
    "### we can create instance variables inside methods"
   ]
  },
  {
   "cell_type": "code",
   "execution_count": 63,
   "id": "d1b109d7-7973-41c2-b131-8151c0d599fb",
   "metadata": {},
   "outputs": [],
   "source": [
    "# Class for Dog\n",
    "class Dog:\n",
    "\n",
    "    # Class Variable\n",
    "    animal = 'dog'\n",
    "\n",
    "    # The init method or constructor\n",
    "    def __init__(self, breed):\n",
    "\n",
    "        # Instance Variable\n",
    "        self.breed = breed\n",
    "\n",
    "    # Adds an instance variable\n",
    "    def setColor(self, color):\n",
    "        self.color = color\n",
    "\n",
    "    # Retrieves instance variable\n",
    "    def getColor(self):\n",
    "        return self.color\n"
   ]
  },
  {
   "cell_type": "code",
   "execution_count": 69,
   "id": "49cd5e29-1ad6-468b-b41b-e32cf5afd973",
   "metadata": {},
   "outputs": [
    {
     "name": "stdout",
     "output_type": "stream",
     "text": [
      "pug\n",
      "brown\n"
     ]
    }
   ],
   "source": [
    "# Driver Code\n",
    "Rodger = Dog(\"pug\")\n",
    "print(Rodger.breed)\n",
    "Rodger.setColor(\"brown\")\n",
    "print(Rodger.getColor())"
   ]
  },
  {
   "cell_type": "markdown",
   "id": "4eb10c13-4570-4c4a-b133-b84730467751",
   "metadata": {},
   "source": [
    "### In the above example **Dog** is a class with class variable animal assigned value as 'dog'. We have created an instance variable breed in the constructor. The class **Dog** consists of two methods **setColor** and **getColor**, they are used for creating and initializing an instance variable and retrieving the value of the instance variable."
   ]
  },
  {
   "cell_type": "markdown",
   "id": "cd2baf3a-bf46-490f-a69d-1afca8780d56",
   "metadata": {},
   "source": [
    "## self in Python class\n",
    "### Self represents the instance of the class. By using the \"self\"  we can access the attributes and methods of the class in Python. It binds the attributes with the given arguments. \n",
    "### When working with classes in Python, the term \"self\" refers to the instance of the class that is currently being used. It is customary to use \"self\" as the first parameter in instance methods of a class. Whenever you call a method of an object created from a class, the object is automatically passed as the first argument using the “self” parameter. This enables you to modify the object’s properties and execute tasks unique to that particular instance.\n",
    "\n",
    "### \"self\" is not a keyword in Python. Self is just a parameter name used in instance methods to refer to the instance itself."
   ]
  },
  {
   "cell_type": "markdown",
   "id": "18f1922d-5760-47a9-9f52-0d9b89311b7a",
   "metadata": {},
   "source": [
    "### Example: Creating Class with Attributes and Methods\n",
    "\n",
    "### This code defines a Python class car representing cars with attributes ‘model’ and ‘color’. The __ init__ constructor initializes these attributes for each instance. The show method displays model and color, while direct attribute access and method calls demonstrate instance-specific data retrieval."
   ]
  },
  {
   "cell_type": "code",
   "execution_count": 75,
   "id": "071db9d1-4634-40c9-9884-d31f98e46de6",
   "metadata": {},
   "outputs": [],
   "source": [
    "class car():\n",
    "     \n",
    "    # init method or constructor\n",
    "    def __init__(self, model, color):\n",
    "        self.model = model\n",
    "        self.color = color\n",
    "         \n",
    "    def show(self):\n",
    "        print(\"Model is\", self.model )\n",
    "        print(\"color is\", self.color )\n",
    "         \n",
    "# both objects have different self which contain their attributes\n",
    "audi = car(\"audi a4\", \"blue\")\n",
    "ferrari = car(\"ferrari 488\", \"green\")"
   ]
  },
  {
   "cell_type": "code",
   "execution_count": 77,
   "id": "87f0c9f1-9aef-470c-b4b1-67b20cb408d9",
   "metadata": {},
   "outputs": [
    {
     "name": "stdout",
     "output_type": "stream",
     "text": [
      "Model is audi a4\n",
      "color is blue\n"
     ]
    }
   ],
   "source": [
    "audi.show()     # same output as car.show(audi)"
   ]
  },
  {
   "cell_type": "code",
   "execution_count": 79,
   "id": "4d17094b-e075-4fe4-8032-98a43dceb433",
   "metadata": {},
   "outputs": [
    {
     "name": "stdout",
     "output_type": "stream",
     "text": [
      "Model is audi a4\n",
      "color is blue\n"
     ]
    }
   ],
   "source": [
    "car.show(audi)"
   ]
  },
  {
   "cell_type": "code",
   "execution_count": 78,
   "id": "b5f861b7-dc42-4506-9377-6ed4a2ceae9a",
   "metadata": {},
   "outputs": [
    {
     "name": "stdout",
     "output_type": "stream",
     "text": [
      "Model is ferrari 488\n",
      "color is green\n"
     ]
    }
   ],
   "source": [
    "ferrari.show()  # same output as car.show(ferrari)"
   ]
  },
  {
   "cell_type": "code",
   "execution_count": 81,
   "id": "df3808ac-e7f8-4689-b547-3d8af006e4ac",
   "metadata": {},
   "outputs": [
    {
     "name": "stdout",
     "output_type": "stream",
     "text": [
      "Model is ferrari 488\n",
      "color is green\n"
     ]
    }
   ],
   "source": [
    "car.show(ferrari)"
   ]
  },
  {
   "cell_type": "markdown",
   "id": "ebb44119-41fe-43f6-9580-47d066d35e6e",
   "metadata": {},
   "source": [
    "### Self is the first argument to be passed in Constructor and Instance Method. Self must be provided as a First parameter to the Instance method and constructor. If you don’t provide it, it will cause an error."
   ]
  },
  {
   "cell_type": "code",
   "execution_count": 83,
   "id": "90e78820-fd12-4283-b648-d6ea95719d88",
   "metadata": {},
   "outputs": [
    {
     "ename": "TypeError",
     "evalue": "check.__init__() takes 0 positional arguments but 1 was given",
     "output_type": "error",
     "traceback": [
      "\u001b[1;31m---------------------------------------------------------------------------\u001b[0m",
      "\u001b[1;31mTypeError\u001b[0m                                 Traceback (most recent call last)",
      "Cell \u001b[1;32mIn[83], line 6\u001b[0m\n\u001b[0;32m      3\u001b[0m     \u001b[38;5;28;01mdef\u001b[39;00m \u001b[38;5;21m__init__\u001b[39m():\n\u001b[0;32m      4\u001b[0m         \u001b[38;5;28mprint\u001b[39m(\u001b[38;5;124m\"\u001b[39m\u001b[38;5;124mThis is Constructor\u001b[39m\u001b[38;5;124m\"\u001b[39m)\n\u001b[1;32m----> 6\u001b[0m \u001b[38;5;28mobject\u001b[39m \u001b[38;5;241m=\u001b[39m \u001b[43mcheck\u001b[49m\u001b[43m(\u001b[49m\u001b[43m)\u001b[49m\n\u001b[0;32m      7\u001b[0m \u001b[38;5;28mprint\u001b[39m(\u001b[38;5;124m\"\u001b[39m\u001b[38;5;124mWorked fine\u001b[39m\u001b[38;5;124m\"\u001b[39m)\n",
      "\u001b[1;31mTypeError\u001b[0m: check.__init__() takes 0 positional arguments but 1 was given"
     ]
    }
   ],
   "source": [
    "# Self is always required as the first argument\n",
    "class check:\n",
    "    def __init__():\n",
    "        print(\"This is Constructor\")\n",
    " \n",
    "object = check()\n",
    "print(\"Worked fine\")"
   ]
  },
  {
   "cell_type": "markdown",
   "id": "5bc167ef-ac01-4e85-9bea-dbece0a43588",
   "metadata": {},
   "source": [
    "## Self: Convention, Not Keyword\n",
    "### Self is a convention and not a Python keyword. Self is a parameter in Instance Method and the user can use another parameter name in place of it. But it is advisable to use self because it increases the readability of code, and it is also a good programming practice."
   ]
  },
  {
   "cell_type": "code",
   "execution_count": 86,
   "id": "7a82e936-303d-42b6-bd0d-f6534b85fcaf",
   "metadata": {},
   "outputs": [
    {
     "name": "stdout",
     "output_type": "stream",
     "text": [
      "Hello, my name is Sampad\n"
     ]
    }
   ],
   "source": [
    "# Sample class with init method\n",
    "class Person:\n",
    "\n",
    "    # init method or constructor\n",
    "    def __init__(sf, nm):\n",
    "        sf.name = nm\n",
    "\n",
    "    # Sample Method\n",
    "    def say_hi(sf2): # different self\n",
    "        print('Hello, my name is', sf2.name)\n",
    "\n",
    "\n",
    "p = Person('Sampad')\n",
    "p.say_hi()"
   ]
  },
  {
   "cell_type": "code",
   "execution_count": 89,
   "id": "e197f97c-8708-492e-aa5e-4bddfc98ac11",
   "metadata": {},
   "outputs": [],
   "source": [
    "class Dog1:\n",
    "    def __init__(self, nm):\n",
    "        self.name = nm"
   ]
  },
  {
   "cell_type": "code",
   "execution_count": 91,
   "id": "7ade9924-5fdf-4e0f-9eda-ad38b0de6344",
   "metadata": {},
   "outputs": [
    {
     "data": {
      "text/plain": [
       "<__main__.Dog1 at 0xe30e89d5d0>"
      ]
     },
     "execution_count": 91,
     "metadata": {},
     "output_type": "execute_result"
    }
   ],
   "source": [
    "d1 = Dog1('Tom')\n",
    "d1"
   ]
  },
  {
   "cell_type": "code",
   "execution_count": 95,
   "id": "3bcb2c48-403b-4aee-af3f-e68f3de0321c",
   "metadata": {},
   "outputs": [
    {
     "data": {
      "text/plain": [
       "'Tom'"
      ]
     },
     "execution_count": 95,
     "metadata": {},
     "output_type": "execute_result"
    }
   ],
   "source": [
    "d1.name"
   ]
  },
  {
   "cell_type": "code",
   "execution_count": 103,
   "id": "4e98a1fb-3ff6-4937-9b78-4c77edb8e2f8",
   "metadata": {},
   "outputs": [],
   "source": [
    "class Dog2:\n",
    "    \n",
    "    def __init__(self, nm):\n",
    "        self.name = nm\n",
    "        \n",
    "    def get_name(self2):\n",
    "        return self2.name"
   ]
  },
  {
   "cell_type": "code",
   "execution_count": 104,
   "id": "2c0cf16e-4f94-4d3e-ac81-bce502984f98",
   "metadata": {},
   "outputs": [
    {
     "data": {
      "text/plain": [
       "<__main__.Dog2 at 0xe30e893c10>"
      ]
     },
     "execution_count": 104,
     "metadata": {},
     "output_type": "execute_result"
    }
   ],
   "source": [
    "d2 = Dog2('Sasa')\n",
    "d2"
   ]
  },
  {
   "cell_type": "code",
   "execution_count": 106,
   "id": "3a0dcdc0-f1e3-4814-a901-05132bca25d9",
   "metadata": {},
   "outputs": [
    {
     "data": {
      "text/plain": [
       "'Sasa'"
      ]
     },
     "execution_count": 106,
     "metadata": {},
     "output_type": "execute_result"
    }
   ],
   "source": [
    "d2.get_name()"
   ]
  },
  {
   "cell_type": "code",
   "execution_count": 126,
   "id": "b16410d8-5e5a-4ac5-ae29-8f3e9b7028ba",
   "metadata": {},
   "outputs": [],
   "source": [
    "class Dog3:\n",
    "    \n",
    "    def __init__(self, nm):\n",
    "        self.name = nm\n",
    "        \n",
    "    def get_details(self2, color):\n",
    "        return self2.name\n",
    "        return self2.color\n",
    "    "
   ]
  },
  {
   "cell_type": "code",
   "execution_count": 196,
   "id": "d7355e00-aeaf-49bb-8c1a-d70404896dc0",
   "metadata": {},
   "outputs": [],
   "source": [
    "class Dog3:\n",
    "    \n",
    "    def __init__(self, nm): # No color variable\n",
    "        self.name = nm\n",
    "        \n",
    "    def get_name(self2):\n",
    "        return self2.name\n",
    "    \n",
    "    def get_color(self2, color): # Not connected with init method through self as init function has no color variable\n",
    "        return self2.color"
   ]
  },
  {
   "cell_type": "code",
   "execution_count": 197,
   "id": "6ea67ab5-7182-4a29-a495-25e8b5ecef1d",
   "metadata": {},
   "outputs": [
    {
     "data": {
      "text/plain": [
       "<__main__.Dog3 at 0xe31031df90>"
      ]
     },
     "execution_count": 197,
     "metadata": {},
     "output_type": "execute_result"
    }
   ],
   "source": [
    "d3 = Dog3('Nimo')\n",
    "d3"
   ]
  },
  {
   "cell_type": "code",
   "execution_count": 198,
   "id": "210edf0c-b34a-49ac-8737-286e5924635e",
   "metadata": {},
   "outputs": [
    {
     "name": "stdout",
     "output_type": "stream",
     "text": [
      "Nimo\n"
     ]
    }
   ],
   "source": [
    "print(d3.get_name())"
   ]
  },
  {
   "cell_type": "code",
   "execution_count": 199,
   "id": "db9c1e0b-aba6-49a7-8936-512d6ca393e6",
   "metadata": {},
   "outputs": [
    {
     "ename": "AttributeError",
     "evalue": "'Dog3' object has no attribute 'color'",
     "output_type": "error",
     "traceback": [
      "\u001b[1;31m---------------------------------------------------------------------------\u001b[0m",
      "\u001b[1;31mAttributeError\u001b[0m                            Traceback (most recent call last)",
      "Cell \u001b[1;32mIn[199], line 1\u001b[0m\n\u001b[1;32m----> 1\u001b[0m \u001b[38;5;28mprint\u001b[39m(\u001b[43md3\u001b[49m\u001b[38;5;241;43m.\u001b[39;49m\u001b[43mget_color\u001b[49m\u001b[43m(\u001b[49m\u001b[38;5;124;43m'\u001b[39;49m\u001b[38;5;124;43mbrown\u001b[39;49m\u001b[38;5;124;43m'\u001b[39;49m\u001b[43m)\u001b[49m)\n",
      "Cell \u001b[1;32mIn[196], line 10\u001b[0m, in \u001b[0;36mDog3.get_color\u001b[1;34m(self2, color)\u001b[0m\n\u001b[0;32m      9\u001b[0m \u001b[38;5;28;01mdef\u001b[39;00m \u001b[38;5;21mget_color\u001b[39m(self2, color): \u001b[38;5;66;03m# Not connected with init method through self as init function has no color variable\u001b[39;00m\n\u001b[1;32m---> 10\u001b[0m     \u001b[38;5;28;01mreturn\u001b[39;00m \u001b[43mself2\u001b[49m\u001b[38;5;241;43m.\u001b[39;49m\u001b[43mcolor\u001b[49m\n",
      "\u001b[1;31mAttributeError\u001b[0m: 'Dog3' object has no attribute 'color'"
     ]
    }
   ],
   "source": [
    "print(d3.get_color('brown'))"
   ]
  },
  {
   "cell_type": "code",
   "execution_count": 204,
   "id": "2e61ca05-15ca-4d04-b9d5-2e08d0101a3f",
   "metadata": {},
   "outputs": [],
   "source": [
    "class Dog4:\n",
    "    \n",
    "    def __init__(self, nm): # No color variable\n",
    "        self.name = nm\n",
    "        \n",
    "    def get_name(self2):\n",
    "        return self2.name\n",
    "    \n",
    "    def get_color(self2, color): \n",
    "        return color   # does not ask to return anything connected through self to the init method of class"
   ]
  },
  {
   "cell_type": "code",
   "execution_count": 205,
   "id": "c5d4542d-e102-4b70-a32e-28bbd58fecbb",
   "metadata": {},
   "outputs": [
    {
     "data": {
      "text/plain": [
       "<__main__.Dog4 at 0xe30e7124a0>"
      ]
     },
     "execution_count": 205,
     "metadata": {},
     "output_type": "execute_result"
    }
   ],
   "source": [
    "d4 = Dog4('Nimo')\n",
    "d4"
   ]
  },
  {
   "cell_type": "code",
   "execution_count": 206,
   "id": "9c08b80e-3b26-4d91-bd38-13231cb2f585",
   "metadata": {},
   "outputs": [
    {
     "name": "stdout",
     "output_type": "stream",
     "text": [
      "Nimo\n"
     ]
    }
   ],
   "source": [
    "print(d4.get_name())"
   ]
  },
  {
   "cell_type": "code",
   "execution_count": 207,
   "id": "6a6cac32-d821-4928-8536-434bb37f4764",
   "metadata": {},
   "outputs": [
    {
     "name": "stdout",
     "output_type": "stream",
     "text": [
      "brown\n"
     ]
    }
   ],
   "source": [
    "print(d4.get_color('brown'))"
   ]
  },
  {
   "cell_type": "code",
   "execution_count": 218,
   "id": "33515ac3-2553-4502-ab6d-ad6d76fd48ff",
   "metadata": {},
   "outputs": [],
   "source": [
    "class Dog5:\n",
    "    \n",
    "    # def __init__(self, nm): # \n",
    "    #     self.name = nm\n",
    "        \n",
    "    def get_name(self2, name):\n",
    "        return name\n",
    "    \n",
    "    def get_color(self2, color):\n",
    "        return color"
   ]
  },
  {
   "cell_type": "code",
   "execution_count": 219,
   "id": "b42861a0-c1dc-4bf4-9f74-18b556e3a492",
   "metadata": {},
   "outputs": [
    {
     "data": {
      "text/plain": [
       "<__main__.Dog5 at 0xe310330610>"
      ]
     },
     "execution_count": 219,
     "metadata": {},
     "output_type": "execute_result"
    }
   ],
   "source": [
    "d5 = Dog5()\n",
    "d5"
   ]
  },
  {
   "cell_type": "code",
   "execution_count": 220,
   "id": "1c4e96cc-15b8-4b87-bfc5-410308fa0dcc",
   "metadata": {},
   "outputs": [
    {
     "name": "stdout",
     "output_type": "stream",
     "text": [
      "Dodo\n"
     ]
    }
   ],
   "source": [
    "print(d5.get_name('Dodo'))"
   ]
  },
  {
   "cell_type": "code",
   "execution_count": 221,
   "id": "e8f664af-0bac-4b53-b108-7919921c8115",
   "metadata": {},
   "outputs": [
    {
     "name": "stdout",
     "output_type": "stream",
     "text": [
      "Black\n"
     ]
    }
   ],
   "source": [
    "print(d5.get_color('Black'))"
   ]
  },
  {
   "cell_type": "code",
   "execution_count": 240,
   "id": "c6502478-da87-4f9e-b2d4-2df219a9f214",
   "metadata": {},
   "outputs": [],
   "source": [
    "class Dog6:\n",
    "    \n",
    "    def __init__(self, nm, cl):\n",
    "        self.name = nm\n",
    "        self.color = cl\n",
    "        \n",
    "    def get_name(self2):\n",
    "        return self2.name\n",
    "    \n",
    "    def get_color(self3): \n",
    "        return self3.color"
   ]
  },
  {
   "cell_type": "code",
   "execution_count": 241,
   "id": "c4c69eee-2281-4ce9-9023-7d87a1061165",
   "metadata": {},
   "outputs": [
    {
     "data": {
      "text/plain": [
       "<__main__.Dog6 at 0xe30c467310>"
      ]
     },
     "execution_count": 241,
     "metadata": {},
     "output_type": "execute_result"
    }
   ],
   "source": [
    "d6 = Dog6('Kaka', 'White')\n",
    "d6"
   ]
  },
  {
   "cell_type": "code",
   "execution_count": 242,
   "id": "3df3d097-a6af-492e-ba82-c88e208e1646",
   "metadata": {},
   "outputs": [
    {
     "name": "stdout",
     "output_type": "stream",
     "text": [
      "Kaka\n",
      "White\n"
     ]
    }
   ],
   "source": [
    "print(d6.get_name())\n",
    "print(d6.get_color())"
   ]
  },
  {
   "cell_type": "code",
   "execution_count": 244,
   "id": "caeda60a-bbc9-43de-91c8-b15cec7606c5",
   "metadata": {},
   "outputs": [],
   "source": [
    "class Dog7:\n",
    "    \n",
    "    def __init__(self, nm, ag):\n",
    "        self.name = nm\n",
    "        self.age = ag\n",
    "        \n",
    "    def get_name(self):\n",
    "        return self.name\n",
    "    \n",
    "    def get_age(self): \n",
    "        return self.age\n",
    "    \n",
    "    def set_age(self, ae): \n",
    "        self.age = ae"
   ]
  },
  {
   "cell_type": "code",
   "execution_count": 247,
   "id": "bdc76ccf-b818-4756-842a-3c80f34841dc",
   "metadata": {},
   "outputs": [
    {
     "name": "stdout",
     "output_type": "stream",
     "text": [
      "Tommy\n",
      "10\n"
     ]
    }
   ],
   "source": [
    "d7 = Dog7('Tommy', 8)\n",
    "d7.set_age(10)\n",
    "print(d7.get_name())\n",
    "print(d7.get_age())"
   ]
  },
  {
   "cell_type": "code",
   "execution_count": 303,
   "id": "5928023b-5fb7-4d9b-80a9-8fd1449473c9",
   "metadata": {},
   "outputs": [],
   "source": [
    "class Student:\n",
    "    \n",
    "    def __init__(self, name, age, grade):\n",
    "        self.name = name\n",
    "        self.age = age\n",
    "        self.grade = grade\n",
    "        \n",
    "    def get_grade(self):\n",
    "        return self.grade\n",
    "    \n",
    "class Course:\n",
    "    \n",
    "    def __init__(self, course_name, max_std):\n",
    "        self.name = course_name\n",
    "        self.max_std = max_std\n",
    "        self.total_std = []\n",
    "        \n",
    "    def add_std(self, student):\n",
    "        if len(self.total_std) < self.max_std:\n",
    "            self.total_std.append(student)\n",
    "            return \"Added\"\n",
    "        return \"Exceeds maximun value\"\n",
    "            \n",
    "    def average_grade(self):\n",
    "        value = 0\n",
    "        for s in self.total_std:\n",
    "            value += s.get_grade() # use s.get_grade() instead of s.grade to be updated if there is option for changing grade\n",
    "        return value / len(self.total_std)"
   ]
  },
  {
   "cell_type": "code",
   "execution_count": 304,
   "id": "c01d3690-3c70-43fa-af68-b192121419c7",
   "metadata": {},
   "outputs": [],
   "source": [
    "s1 = Student('Rahul', 19, 89)\n",
    "s2 = Student('Rina', 19, 80)\n",
    "s3 = Student('Jahid', 19, 95)"
   ]
  },
  {
   "cell_type": "code",
   "execution_count": 305,
   "id": "fd12350a-ecf2-4cea-8fa5-b05a8b867fa3",
   "metadata": {},
   "outputs": [],
   "source": [
    "course = Course('Science', 2)"
   ]
  },
  {
   "cell_type": "code",
   "execution_count": 306,
   "id": "16e20a7f-5570-41d9-a58b-5530f0b41a3b",
   "metadata": {},
   "outputs": [
    {
     "data": {
      "text/plain": [
       "'Added'"
      ]
     },
     "execution_count": 306,
     "metadata": {},
     "output_type": "execute_result"
    }
   ],
   "source": [
    "course.add_std(s1)"
   ]
  },
  {
   "cell_type": "code",
   "execution_count": 307,
   "id": "9f6402c2-d9af-42a6-a3fb-a34b970a2bb2",
   "metadata": {},
   "outputs": [
    {
     "data": {
      "text/plain": [
       "'Added'"
      ]
     },
     "execution_count": 307,
     "metadata": {},
     "output_type": "execute_result"
    }
   ],
   "source": [
    "course.add_std(s3)"
   ]
  },
  {
   "cell_type": "code",
   "execution_count": 308,
   "id": "7ed90c10-3656-443b-a3cb-f2596513e15d",
   "metadata": {},
   "outputs": [
    {
     "data": {
      "text/plain": [
       "'Exceeds maximun value'"
      ]
     },
     "execution_count": 308,
     "metadata": {},
     "output_type": "execute_result"
    }
   ],
   "source": [
    "course.add_std(s2)"
   ]
  },
  {
   "cell_type": "code",
   "execution_count": 309,
   "id": "1a17ef0e-043b-43f1-b256-1caf4b9af95b",
   "metadata": {},
   "outputs": [
    {
     "name": "stdout",
     "output_type": "stream",
     "text": [
      "Rahul\n",
      "19\n",
      "89\n",
      "89\n"
     ]
    }
   ],
   "source": [
    "print(course.total_std[0].name)            # This is actually s1.name\n",
    "print(course.total_std[0].age)             # s1.age\n",
    "print(course.total_std[0].grade)           # s1.grade\n",
    "print(course.total_std[0].get_grade())     # s1.get_grade()"
   ]
  },
  {
   "cell_type": "code",
   "execution_count": 310,
   "id": "937cca4a-b410-43b7-9b29-1d4c52762bb0",
   "metadata": {},
   "outputs": [
    {
     "name": "stdout",
     "output_type": "stream",
     "text": [
      "Jahid\n",
      "19\n",
      "95\n",
      "95\n"
     ]
    }
   ],
   "source": [
    "print(course.total_std[1].name)           # s3.name\n",
    "print(course.total_std[1].age)            # s3.age\n",
    "print(course.total_std[1].grade)          # s3.grade\n",
    "print(course.total_std[1].get_grade())    # s3.get_grade()"
   ]
  },
  {
   "cell_type": "code",
   "execution_count": 311,
   "id": "c4efa550-c86c-470b-a759-814b05d98d01",
   "metadata": {},
   "outputs": [
    {
     "ename": "IndexError",
     "evalue": "list index out of range",
     "output_type": "error",
     "traceback": [
      "\u001b[1;31m---------------------------------------------------------------------------\u001b[0m",
      "\u001b[1;31mIndexError\u001b[0m                                Traceback (most recent call last)",
      "Cell \u001b[1;32mIn[311], line 1\u001b[0m\n\u001b[1;32m----> 1\u001b[0m \u001b[38;5;28mprint\u001b[39m(\u001b[43mcourse\u001b[49m\u001b[38;5;241;43m.\u001b[39;49m\u001b[43mtotal_std\u001b[49m\u001b[43m[\u001b[49m\u001b[38;5;241;43m2\u001b[39;49m\u001b[43m]\u001b[49m\u001b[38;5;241m.\u001b[39mname)\n",
      "\u001b[1;31mIndexError\u001b[0m: list index out of range"
     ]
    }
   ],
   "source": [
    "print(course.total_std[2].name)   # maximum two "
   ]
  },
  {
   "cell_type": "code",
   "execution_count": 312,
   "id": "49f61325-a8d3-4ca4-8b39-420a60b0abc5",
   "metadata": {},
   "outputs": [
    {
     "data": {
      "text/plain": [
       "92.0"
      ]
     },
     "execution_count": 312,
     "metadata": {},
     "output_type": "execute_result"
    }
   ],
   "source": [
    "course.average_grade() # (89 + 95)/2"
   ]
  },
  {
   "cell_type": "markdown",
   "id": "878c8fff-b56b-46df-8511-d2a888432f3c",
   "metadata": {},
   "source": [
    "# Inheritance\n",
    "* ## Parent class\n",
    "* ## Child class\n",
    "### Inheritance allows us to define a class that inherits all the methods and properties from another class. A child class is inherited from a parent class."
   ]
  },
  {
   "cell_type": "code",
   "execution_count": 353,
   "id": "06b108f8-b9ac-4506-988b-3414780dbcba",
   "metadata": {},
   "outputs": [],
   "source": [
    "class cat:\n",
    "    \n",
    "    def __init__(self, name, age):\n",
    "        self.name = name\n",
    "        self.age = age\n",
    "        \n",
    "    def speak(self):\n",
    "        return \"Meow\"\n",
    "        \n",
    "class dog:\n",
    "    \n",
    "    def __init__(self, name, age):\n",
    "        self.name = name\n",
    "        self.age = age\n",
    "        \n",
    "    def speak(self):\n",
    "        return \"Mark\""
   ]
  },
  {
   "cell_type": "code",
   "execution_count": 354,
   "id": "7b5262d5-20f5-433d-a142-7858c5156faf",
   "metadata": {},
   "outputs": [
    {
     "name": "stdout",
     "output_type": "stream",
     "text": [
      "Newton\n",
      "5\n",
      "Meow\n"
     ]
    }
   ],
   "source": [
    "c1 = cat('Newton', 5)\n",
    "print(c1.name)\n",
    "print(c1.age)\n",
    "print(c1.speak())"
   ]
  },
  {
   "cell_type": "code",
   "execution_count": 355,
   "id": "79fcc2cd-7893-49a2-8b96-2693e219fd88",
   "metadata": {},
   "outputs": [
    {
     "name": "stdout",
     "output_type": "stream",
     "text": [
      "Alexender\n",
      "25\n",
      "Mark\n"
     ]
    }
   ],
   "source": [
    "d1 = dog('Alexender', 25)\n",
    "print(d1.name)\n",
    "print(d1.age)\n",
    "print(d1.speak())"
   ]
  },
  {
   "cell_type": "markdown",
   "id": "ae365b87-50fa-434a-98f9-474e74921775",
   "metadata": {},
   "source": [
    "### Part of above two classes can be generalized by a common class pet as below. "
   ]
  },
  {
   "cell_type": "code",
   "execution_count": 357,
   "id": "9f09bf44-a9ff-4862-89be-cf0bb11ab484",
   "metadata": {},
   "outputs": [],
   "source": [
    "class pet:\n",
    "    \n",
    "    def __init__(self, name, age):\n",
    "        self.name = name\n",
    "        self.age = age\n",
    "        \n",
    "    def show(self):\n",
    "        return f\"This is {self.name} and {self.age} years old\"\n",
    "        \n",
    "class cat(pet):\n",
    "    \n",
    "    def speak(self):\n",
    "        return \"Meow\"\n",
    "        \n",
    "class dog(pet):\n",
    "    \n",
    "    def speak(self):\n",
    "        return \"Bark\""
   ]
  },
  {
   "cell_type": "code",
   "execution_count": 361,
   "id": "5c49aea0-8a50-42a3-ac64-186d53190804",
   "metadata": {},
   "outputs": [
    {
     "name": "stdout",
     "output_type": "stream",
     "text": [
      "Julius\n",
      "6\n",
      "This is Julius and 6 years old\n"
     ]
    }
   ],
   "source": [
    "p1 = pet('Julius', 6)\n",
    "print(p1.name)\n",
    "print(p1.age)\n",
    "print(p1.show())"
   ]
  },
  {
   "cell_type": "code",
   "execution_count": 362,
   "id": "0e381b8a-aafa-47c5-ac57-5635977d37d2",
   "metadata": {},
   "outputs": [
    {
     "name": "stdout",
     "output_type": "stream",
     "text": [
      "Clive\n",
      "15\n",
      "This is Clive and 15 years old\n",
      "Meow\n"
     ]
    }
   ],
   "source": [
    "c2 = cat('Clive', 15)\n",
    "print(c2.name)\n",
    "print(c2.age)\n",
    "print(c2.show())\n",
    "print(c2.speak())"
   ]
  },
  {
   "cell_type": "code",
   "execution_count": 363,
   "id": "9224c4dd-5217-4587-8182-873bec0f4ef9",
   "metadata": {},
   "outputs": [
    {
     "name": "stdout",
     "output_type": "stream",
     "text": [
      "Selucus\n",
      "15\n",
      "This is Selucus and 15 years old\n",
      "Bark\n"
     ]
    }
   ],
   "source": [
    "d2 = dog('Selucus', 15)\n",
    "print(d2.name)\n",
    "print(d2.age)\n",
    "print(d2.show())\n",
    "print(d2.speak())"
   ]
  },
  {
   "cell_type": "code",
   "execution_count": 392,
   "id": "36277e9d-4134-425d-a7ef-4af3d3b00f03",
   "metadata": {},
   "outputs": [],
   "source": [
    "class pet:\n",
    "    \n",
    "    def __init__(self, name, age):\n",
    "        self.name = name\n",
    "        self.age = age\n",
    "        \n",
    "    def show(self):\n",
    "        return f\"This is {self.name} and {self.age} years old\"\n",
    "    \n",
    "    def speak(self):\n",
    "        return \"I don't know what it says\"\n",
    "        \n",
    "class cat(pet):\n",
    "    \n",
    "    def speak(self):\n",
    "        return \"Meow\"\n",
    "        \n",
    "class dog(pet):\n",
    "    \n",
    "    def speak(self):\n",
    "        return \"Bark\"\n",
    "    \n",
    "class fish(pet):\n",
    "    pass             "
   ]
  },
  {
   "cell_type": "code",
   "execution_count": 393,
   "id": "7f04e3fc-8e33-4004-b4c3-400868ede9ab",
   "metadata": {},
   "outputs": [
    {
     "name": "stdout",
     "output_type": "stream",
     "text": [
      "This is Rani and 3 years old\n",
      "I don't know what it says\n"
     ]
    }
   ],
   "source": [
    "f1 = fish('Rani', 3)\n",
    "print(f1.show())\n",
    "print(f1.speak()) # speak is not defined for fish, prints fron super class pet"
   ]
  },
  {
   "cell_type": "code",
   "execution_count": 394,
   "id": "e51ede0a-502f-40ce-bdc8-94cedd20c8b7",
   "metadata": {},
   "outputs": [
    {
     "name": "stdout",
     "output_type": "stream",
     "text": [
      "Selucus\n",
      "15\n",
      "This is Selucus and 15 years old\n",
      "Bark\n"
     ]
    }
   ],
   "source": [
    "d2 = dog('Selucus', 15)\n",
    "print(d2.name)\n",
    "print(d2.age)\n",
    "print(d2.show())\n",
    "print(d2.speak()) "
   ]
  },
  {
   "cell_type": "code",
   "execution_count": 397,
   "id": "47f05932-2477-4d4f-865f-f8c4ef72767c",
   "metadata": {},
   "outputs": [],
   "source": [
    "class pet:\n",
    "    \n",
    "    def __init__(self, name, age):\n",
    "        self.name = name\n",
    "        self.age = age\n",
    "        \n",
    "    def show(self):\n",
    "        return f\"This is {self.name} and {self.age} years old\"\n",
    "    \n",
    "    def speak(self):\n",
    "        return \"I don't know what it says\"\n",
    "        \n",
    "class cat(pet):\n",
    "    \n",
    "    def __init__(self, name, age, color):\n",
    "        super().__init__(name, age)       # name age inherited from super class pet\n",
    "        self.color = color                # color variable is not inherited from super class\n",
    "    \n",
    "    def speak(self):\n",
    "        return \"Meow\"\n",
    "    \n",
    "    def show(self):\n",
    "        return f\"This is {self.name}, {self.age} years old and this is {self.color}\"\n",
    "        \n",
    "class dog(pet):\n",
    "    \n",
    "    def speak(self):\n",
    "        return \"Bark\"\n",
    "    \n",
    "class fish(pet):\n",
    "    pass             "
   ]
  },
  {
   "cell_type": "code",
   "execution_count": 398,
   "id": "8fb9ba66-d108-456b-846f-b896fe30fffb",
   "metadata": {},
   "outputs": [
    {
     "name": "stdout",
     "output_type": "stream",
     "text": [
      "Lara\n",
      "5\n",
      "This is Lara, 5 years old and this is Brown\n",
      "Meow\n"
     ]
    }
   ],
   "source": [
    "c3 = cat('Lara', 5, 'Brown')\n",
    "print(c3.name)\n",
    "print(c3.age)\n",
    "print(c3.show())\n",
    "print(c3.speak())"
   ]
  },
  {
   "cell_type": "markdown",
   "id": "0de18bc6-2fdc-478e-8f6a-de25e0dd0061",
   "metadata": {},
   "source": [
    "## Empty Inherited Class"
   ]
  },
  {
   "cell_type": "code",
   "execution_count": 316,
   "id": "65c3b438-5286-438d-932a-21967d2ced63",
   "metadata": {},
   "outputs": [],
   "source": [
    "# parent class\n",
    "class Five:\n",
    "    \n",
    "    def __init__(self, x, y):\n",
    "        self.x = x\n",
    "        self.y = y\n",
    "        \n",
    "    def add(self):\n",
    "        z = self.x + self.y\n",
    "        return z\n",
    "    \n",
    "    def rms(self):\n",
    "        import math\n",
    "        d = math.sqrt(self.x**2 + self.y**2)\n",
    "        return d"
   ]
  },
  {
   "cell_type": "code",
   "execution_count": 320,
   "id": "02b7703d-03c9-435d-8375-90a61adae6fb",
   "metadata": {},
   "outputs": [],
   "source": [
    "# Child class, empty. Enherits from class Five\n",
    "class Six(Five):\n",
    "    pass"
   ]
  },
  {
   "cell_type": "code",
   "execution_count": 322,
   "id": "1db3daa7-a4cf-4bba-8776-84caee5fe1ff",
   "metadata": {},
   "outputs": [
    {
     "name": "stdout",
     "output_type": "stream",
     "text": [
      "5\n",
      "3.605551275463989\n"
     ]
    }
   ],
   "source": [
    "p = Six(2, 3)\n",
    "print(p.add())\n",
    "print(p.rms())"
   ]
  },
  {
   "cell_type": "code",
   "execution_count": 323,
   "id": "d9b5aca1-1730-4722-99fb-4e51f71618e3",
   "metadata": {},
   "outputs": [
    {
     "name": "stdout",
     "output_type": "stream",
     "text": [
      "5\n",
      "3.605551275463989\n"
     ]
    }
   ],
   "source": [
    "q = Five(2, 3)\n",
    "print(q.add())\n",
    "print(q.rms())"
   ]
  },
  {
   "cell_type": "markdown",
   "id": "3d8a38f6-a862-4c99-8e6c-c56a911cb8aa",
   "metadata": {},
   "source": [
    "## Variable inherited"
   ]
  },
  {
   "cell_type": "code",
   "execution_count": 381,
   "id": "81a52b9e-52ea-47de-8756-3578b579b217",
   "metadata": {},
   "outputs": [],
   "source": [
    "class Six(Five):\n",
    "    \n",
    "    \"This is a child class\"\n",
    "    \n",
    "    def __init__(self, x, y):\n",
    "        Five.__init__(self, x, y)  # from the parent class. we don't need to assign self.x = x etc.\n",
    "        self.u = self.x * self.y  # u is not a argument in the init function but is dependent variable of two init variables"
   ]
  },
  {
   "cell_type": "code",
   "execution_count": 382,
   "id": "325dd7d5-aadd-4f78-a2eb-36da1ce6bc58",
   "metadata": {},
   "outputs": [],
   "source": [
    "p = Six(2, 3)"
   ]
  },
  {
   "cell_type": "code",
   "execution_count": 383,
   "id": "a5b0a0d5-cf35-4dd0-91c1-fbc59b78b173",
   "metadata": {},
   "outputs": [
    {
     "data": {
      "text/plain": [
       "'This is a child class'"
      ]
     },
     "execution_count": 383,
     "metadata": {},
     "output_type": "execute_result"
    }
   ],
   "source": [
    "p.__doc__"
   ]
  },
  {
   "cell_type": "code",
   "execution_count": 384,
   "id": "3a938445-83a5-47fd-9845-47b6790f9364",
   "metadata": {},
   "outputs": [
    {
     "data": {
      "text/plain": [
       "(2, 3, 6)"
      ]
     },
     "execution_count": 384,
     "metadata": {},
     "output_type": "execute_result"
    }
   ],
   "source": [
    "p.x, p.y, p.u"
   ]
  },
  {
   "cell_type": "markdown",
   "id": "9f490e6a-5c5e-45ea-afb1-2a591fda5245",
   "metadata": {},
   "source": [
    "## Method added"
   ]
  },
  {
   "cell_type": "code",
   "execution_count": 385,
   "id": "e9d8b83b-04ac-4da0-af3f-edca3cc70e9b",
   "metadata": {},
   "outputs": [],
   "source": [
    "class Six(Five):\n",
    "    \n",
    "    def __init__(self, x, y, v):\n",
    "        super().__init__(x, y) # x, y inherited through Five (super class). You can also use Five in place of super()\n",
    "        self.v = v                 # v is not inherited\n",
    "        \n",
    "    def square(self):\n",
    "        return self.v**2"
   ]
  },
  {
   "cell_type": "code",
   "execution_count": 386,
   "id": "a6acf5fd-8a94-47cf-9898-061dc1730ea7",
   "metadata": {},
   "outputs": [
    {
     "data": {
      "text/plain": [
       "(2, 3, 4)"
      ]
     },
     "execution_count": 386,
     "metadata": {},
     "output_type": "execute_result"
    }
   ],
   "source": [
    "r = Six(2, 3, 4)\n",
    "r.x, r.y, r.v"
   ]
  },
  {
   "cell_type": "code",
   "execution_count": 387,
   "id": "26b749d4-6635-40f2-bd56-47dc1d8fa79a",
   "metadata": {},
   "outputs": [
    {
     "data": {
      "text/plain": [
       "16"
      ]
     },
     "execution_count": 387,
     "metadata": {},
     "output_type": "execute_result"
    }
   ],
   "source": [
    "r.square()  # squares only v=4"
   ]
  },
  {
   "cell_type": "code",
   "execution_count": null,
   "id": "46aac629-c395-42ca-b375-e01df44b931c",
   "metadata": {},
   "outputs": [],
   "source": []
  }
 ],
 "metadata": {
  "kernelspec": {
   "display_name": "Python 3 (ipykernel)",
   "language": "python",
   "name": "python3"
  },
  "language_info": {
   "codemirror_mode": {
    "name": "ipython",
    "version": 3
   },
   "file_extension": ".py",
   "mimetype": "text/x-python",
   "name": "python",
   "nbconvert_exporter": "python",
   "pygments_lexer": "ipython3",
   "version": "3.10.9"
  }
 },
 "nbformat": 4,
 "nbformat_minor": 5
}
