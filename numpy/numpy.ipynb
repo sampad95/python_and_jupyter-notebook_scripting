{
 "cells": [
  {
   "cell_type": "code",
   "execution_count": 3,
   "id": "2a857a6f-34f6-4766-ab27-4ae4bfa848af",
   "metadata": {},
   "outputs": [
    {
     "name": "stdout",
     "output_type": "stream",
     "text": [
      "['ALLOW_THREADS', 'AxisError', 'BUFSIZE', 'Bytes0', 'CLIP', 'ComplexWarning', 'DataSource', 'Datetime64', 'ERR_CALL', 'ERR_DEFAULT', 'ERR_IGNORE', 'ERR_LOG', 'ERR_PRINT', 'ERR_RAISE', 'ERR_WARN', 'FLOATING_POINT_SUPPORT', 'FPE_DIVIDEBYZERO', 'FPE_INVALID', 'FPE_OVERFLOW', 'FPE_UNDERFLOW', 'False_', 'Inf', 'Infinity', 'MAXDIMS', 'MAY_SHARE_BOUNDS', 'MAY_SHARE_EXACT', 'MachAr', 'ModuleDeprecationWarning', 'NAN', 'NINF', 'NZERO', 'NaN', 'PINF', 'PZERO', 'RAISE', 'RankWarning', 'SHIFT_DIVIDEBYZERO', 'SHIFT_INVALID', 'SHIFT_OVERFLOW', 'SHIFT_UNDERFLOW', 'ScalarType', 'Str0', 'Tester', 'TooHardError', 'True_', 'UFUNC_BUFSIZE_DEFAULT', 'UFUNC_PYVALS_NAME', 'Uint64', 'VisibleDeprecationWarning', 'WRAP', '_NoValue', '_UFUNC_API', '__NUMPY_SETUP__', '__all__', '__builtins__', '__cached__', '__config__', '__deprecated_attrs__', '__dir__', '__doc__', '__expired_functions__', '__file__', '__getattr__', '__git_version__', '__loader__', '__name__', '__package__', '__path__', '__spec__', '__version__', '_add_newdoc_ufunc', '_distributor_init', '_financial_names', '_globals', '_mat', '_pytesttester', '_version', 'abs', 'absolute', 'add', 'add_docstring', 'add_newdoc', 'add_newdoc_ufunc', 'alen', 'all', 'allclose', 'alltrue', 'amax', 'amin', 'angle', 'any', 'append', 'apply_along_axis', 'apply_over_axes', 'arange', 'arccos', 'arccosh', 'arcsin', 'arcsinh', 'arctan', 'arctan2', 'arctanh', 'argmax', 'argmin', 'argpartition', 'argsort', 'argwhere', 'around', 'array', 'array2string', 'array_equal', 'array_equiv', 'array_repr', 'array_split', 'array_str', 'asanyarray', 'asarray', 'asarray_chkfinite', 'ascontiguousarray', 'asfarray', 'asfortranarray', 'asmatrix', 'asscalar', 'atleast_1d', 'atleast_2d', 'atleast_3d', 'average', 'bartlett', 'base_repr', 'binary_repr', 'bincount', 'bitwise_and', 'bitwise_not', 'bitwise_or', 'bitwise_xor', 'blackman', 'block', 'bmat', 'bool8', 'bool_', 'broadcast', 'broadcast_arrays', 'broadcast_shapes', 'broadcast_to', 'busday_count', 'busday_offset', 'busdaycalendar', 'byte', 'byte_bounds', 'bytes0', 'bytes_', 'c_', 'can_cast', 'cast', 'cbrt', 'cdouble', 'ceil', 'cfloat', 'char', 'character', 'chararray', 'choose', 'clip', 'clongdouble', 'clongfloat', 'column_stack', 'common_type', 'compare_chararrays', 'compat', 'complex128', 'complex256', 'complex64', 'complex_', 'complexfloating', 'compress', 'concatenate', 'conj', 'conjugate', 'convolve', 'copy', 'copysign', 'copyto', 'core', 'corrcoef', 'correlate', 'cos', 'cosh', 'count_nonzero', 'cov', 'cross', 'csingle', 'ctypeslib', 'cumprod', 'cumproduct', 'cumsum', 'datetime64', 'datetime_as_string', 'datetime_data', 'deg2rad', 'degrees', 'delete', 'deprecate', 'deprecate_with_doc', 'diag', 'diag_indices', 'diag_indices_from', 'diagflat', 'diagonal', 'diff', 'digitize', 'disp', 'divide', 'divmod', 'dot', 'double', 'dsplit', 'dstack', 'dtype', 'e', 'ediff1d', 'einsum', 'einsum_path', 'emath', 'empty', 'empty_like', 'equal', 'errstate', 'euler_gamma', 'exp', 'exp2', 'expand_dims', 'expm1', 'extract', 'eye', 'fabs', 'fastCopyAndTranspose', 'fft', 'fill_diagonal', 'find_common_type', 'finfo', 'fix', 'flatiter', 'flatnonzero', 'flexible', 'flip', 'fliplr', 'flipud', 'float128', 'float16', 'float32', 'float64', 'float_', 'float_power', 'floating', 'floor', 'floor_divide', 'fmax', 'fmin', 'fmod', 'format_float_positional', 'format_float_scientific', 'format_parser', 'frexp', 'frombuffer', 'fromfile', 'fromfunction', 'fromiter', 'frompyfunc', 'fromregex', 'fromstring', 'full', 'full_like', 'gcd', 'generic', 'genfromtxt', 'geomspace', 'get_array_wrap', 'get_include', 'get_printoptions', 'getbufsize', 'geterr', 'geterrcall', 'geterrobj', 'gradient', 'greater', 'greater_equal', 'half', 'hamming', 'hanning', 'heaviside', 'histogram', 'histogram2d', 'histogram_bin_edges', 'histogramdd', 'hsplit', 'hstack', 'hypot', 'i0', 'identity', 'iinfo', 'imag', 'in1d', 'index_exp', 'indices', 'inexact', 'inf', 'info', 'infty', 'inner', 'insert', 'int0', 'int16', 'int32', 'int64', 'int8', 'int_', 'intc', 'integer', 'interp', 'intersect1d', 'intp', 'invert', 'is_busday', 'isclose', 'iscomplex', 'iscomplexobj', 'isfinite', 'isfortran', 'isin', 'isinf', 'isnan', 'isnat', 'isneginf', 'isposinf', 'isreal', 'isrealobj', 'isscalar', 'issctype', 'issubclass_', 'issubdtype', 'issubsctype', 'iterable', 'ix_', 'kaiser', 'kernel_version', 'kron', 'lcm', 'ldexp', 'left_shift', 'less', 'less_equal', 'lexsort', 'lib', 'linalg', 'linspace', 'little_endian', 'load', 'loads', 'loadtxt', 'log', 'log10', 'log1p', 'log2', 'logaddexp', 'logaddexp2', 'logical_and', 'logical_not', 'logical_or', 'logical_xor', 'logspace', 'longcomplex', 'longdouble', 'longfloat', 'longlong', 'lookfor', 'ma', 'mafromtxt', 'mask_indices', 'mat', 'math', 'matmul', 'matrix', 'matrixlib', 'max', 'maximum', 'maximum_sctype', 'may_share_memory', 'mean', 'median', 'memmap', 'meshgrid', 'mgrid', 'min', 'min_scalar_type', 'minimum', 'mintypecode', 'mod', 'modf', 'moveaxis', 'msort', 'multiply', 'nan', 'nan_to_num', 'nanargmax', 'nanargmin', 'nancumprod', 'nancumsum', 'nanmax', 'nanmean', 'nanmedian', 'nanmin', 'nanpercentile', 'nanprod', 'nanquantile', 'nanstd', 'nansum', 'nanvar', 'nbytes', 'ndarray', 'ndenumerate', 'ndfromtxt', 'ndim', 'ndindex', 'nditer', 'negative', 'nested_iters', 'newaxis', 'nextafter', 'nonzero', 'not_equal', 'numarray', 'number', 'obj2sctype', 'object0', 'object_', 'ogrid', 'oldnumeric', 'ones', 'ones_like', 'os', 'outer', 'packbits', 'pad', 'partition', 'percentile', 'pi', 'piecewise', 'place', 'poly', 'poly1d', 'polyadd', 'polyder', 'polydiv', 'polyfit', 'polyint', 'polymul', 'polynomial', 'polysub', 'polyval', 'positive', 'power', 'printoptions', 'prod', 'product', 'promote_types', 'ptp', 'put', 'put_along_axis', 'putmask', 'quantile', 'r_', 'rad2deg', 'radians', 'random', 'ravel', 'ravel_multi_index', 'real', 'real_if_close', 'rec', 'recarray', 'recfromcsv', 'recfromtxt', 'reciprocal', 'record', 'remainder', 'repeat', 'require', 'reshape', 'resize', 'result_type', 'right_shift', 'rint', 'roll', 'rollaxis', 'roots', 'rot90', 'round', 'round_', 'row_stack', 's_', 'safe_eval', 'save', 'savetxt', 'savez', 'savez_compressed', 'sctype2char', 'sctypeDict', 'sctypes', 'searchsorted', 'select', 'set_numeric_ops', 'set_printoptions', 'set_string_function', 'setbufsize', 'setdiff1d', 'seterr', 'seterrcall', 'seterrobj', 'setxor1d', 'shape', 'shares_memory', 'short', 'show_config', 'sign', 'signbit', 'signedinteger', 'sin', 'sinc', 'single', 'singlecomplex', 'sinh', 'size', 'sometrue', 'sort', 'sort_complex', 'source', 'spacing', 'split', 'sqrt', 'square', 'squeeze', 'stack', 'std', 'str0', 'str_', 'string_', 'subtract', 'sum', 'swapaxes', 'sys', 'take', 'take_along_axis', 'tan', 'tanh', 'tensordot', 'test', 'testing', 'tile', 'timedelta64', 'trace', 'tracemalloc_domain', 'transpose', 'trapz', 'tri', 'tril', 'tril_indices', 'tril_indices_from', 'trim_zeros', 'triu', 'triu_indices', 'triu_indices_from', 'true_divide', 'trunc', 'typecodes', 'typename', 'ubyte', 'ufunc', 'uint', 'uint0', 'uint16', 'uint32', 'uint64', 'uint8', 'uintc', 'uintp', 'ulonglong', 'unicode_', 'union1d', 'unique', 'unpackbits', 'unravel_index', 'unsignedinteger', 'unwrap', 'use_hugepage', 'ushort', 'vander', 'var', 'vdot', 'vectorize', 'version', 'void', 'void0', 'vsplit', 'vstack', 'warnings', 'where', 'who', 'zeros', 'zeros_like']\n"
     ]
    }
   ],
   "source": [
    "import numpy as np\n",
    "print(dir(np))"
   ]
  },
  {
   "cell_type": "markdown",
   "id": "dda2ceac-3eca-444d-b40e-186364604388",
   "metadata": {},
   "source": [
    "# Numpy Arrays"
   ]
  },
  {
   "cell_type": "code",
   "execution_count": 477,
   "id": "89cc39eb-6e0a-461c-be7c-ab40890781d1",
   "metadata": {},
   "outputs": [],
   "source": [
    "#type(np.array)\n",
    "#np.lookfor('array') # Detailed help on array\n",
    "#np.info('array')    # Quick help\n",
    "#help(np.array)      # Help on Numpy array\n",
    "#help(np.asarray)      # Help on Numpy asarray\n",
    "#help(np.ndarray)      # Help on Numpy ndarray"
   ]
  },
  {
   "cell_type": "code",
   "execution_count": 25,
   "id": "880fe9fe-7650-48a0-a2aa-d0d2c28b4c95",
   "metadata": {},
   "outputs": [
    {
     "name": "stdout",
     "output_type": "stream",
     "text": [
      "Help on built-in function array in module numpy:\n",
      "\n",
      "array(...)\n",
      "    array(object, dtype=None, *, copy=True, order='K', subok=False, ndmin=0,\n",
      "          like=None)\n",
      "    \n",
      "    Create an array.\n",
      "    \n",
      "    Parameters\n",
      "    ----------\n",
      "    object : array_like\n",
      "        An array, any object exposing the array interface, an object whose\n",
      "        __array__ method returns an array, or any (nested) sequence.\n",
      "    dtype : data-type, optional\n",
      "        The desired data-type for the array.  If not given, then the type will\n",
      "        be determined as the minimum type required to hold the objects in the\n",
      "        sequence.\n",
      "    copy : bool, optional\n",
      "        If true (default), then the object is copied.  Otherwise, a copy will\n",
      "        only be made if __array__ returns a copy, if obj is a nested sequence,\n",
      "        or if a copy is needed to satisfy any of the other requirements\n",
      "        (`dtype`, `order`, etc.).\n",
      "    order : {'K', 'A', 'C', 'F'}, optional\n",
      "        Specify the memory layout of the array. If object is not an array, the\n",
      "        newly created array will be in C order (row major) unless 'F' is\n",
      "        specified, in which case it will be in Fortran order (column major).\n",
      "        If object is an array the following holds.\n",
      "    \n",
      "        ===== ========= ===================================================\n",
      "        order  no copy                     copy=True\n",
      "        ===== ========= ===================================================\n",
      "        'K'   unchanged F & C order preserved, otherwise most similar order\n",
      "        'A'   unchanged F order if input is F and not C, otherwise C order\n",
      "        'C'   C order   C order\n",
      "        'F'   F order   F order\n",
      "        ===== ========= ===================================================\n",
      "    \n",
      "        When ``copy=False`` and a copy is made for other reasons, the result is\n",
      "        the same as if ``copy=True``, with some exceptions for 'A', see the\n",
      "        Notes section. The default order is 'K'.\n",
      "    subok : bool, optional\n",
      "        If True, then sub-classes will be passed-through, otherwise\n",
      "        the returned array will be forced to be a base-class array (default).\n",
      "    ndmin : int, optional\n",
      "        Specifies the minimum number of dimensions that the resulting\n",
      "        array should have.  Ones will be pre-pended to the shape as\n",
      "        needed to meet this requirement.\n",
      "    like : array_like\n",
      "        Reference object to allow the creation of arrays which are not\n",
      "        NumPy arrays. If an array-like passed in as ``like`` supports\n",
      "        the ``__array_function__`` protocol, the result will be defined\n",
      "        by it. In this case, it ensures the creation of an array object\n",
      "        compatible with that passed in via this argument.\n",
      "    \n",
      "        .. versionadded:: 1.20.0\n",
      "    \n",
      "    Returns\n",
      "    -------\n",
      "    out : ndarray\n",
      "        An array object satisfying the specified requirements.\n",
      "    \n",
      "    See Also\n",
      "    --------\n",
      "    empty_like : Return an empty array with shape and type of input.\n",
      "    ones_like : Return an array of ones with shape and type of input.\n",
      "    zeros_like : Return an array of zeros with shape and type of input.\n",
      "    full_like : Return a new array with shape of input filled with value.\n",
      "    empty : Return a new uninitialized array.\n",
      "    ones : Return a new array setting values to one.\n",
      "    zeros : Return a new array setting values to zero.\n",
      "    full : Return a new array of given shape filled with value.\n",
      "    \n",
      "    \n",
      "    Notes\n",
      "    -----\n",
      "    When order is 'A' and `object` is an array in neither 'C' nor 'F' order,\n",
      "    and a copy is forced by a change in dtype, then the order of the result is\n",
      "    not necessarily 'C' as expected. This is likely a bug.\n",
      "    \n",
      "    Examples\n",
      "    --------\n",
      "    >>> np.array([1, 2, 3])\n",
      "    array([1, 2, 3])\n",
      "    \n",
      "    Upcasting:\n",
      "    \n",
      "    >>> np.array([1, 2, 3.0])\n",
      "    array([ 1.,  2.,  3.])\n",
      "    \n",
      "    More than one dimension:\n",
      "    \n",
      "    >>> np.array([[1, 2], [3, 4]])\n",
      "    array([[1, 2],\n",
      "           [3, 4]])\n",
      "    \n",
      "    Minimum dimensions 2:\n",
      "    \n",
      "    >>> np.array([1, 2, 3], ndmin=2)\n",
      "    array([[1, 2, 3]])\n",
      "    \n",
      "    Type provided:\n",
      "    \n",
      "    >>> np.array([1, 2, 3], dtype=complex)\n",
      "    array([ 1.+0.j,  2.+0.j,  3.+0.j])\n",
      "    \n",
      "    Data-type consisting of more than one element:\n",
      "    \n",
      "    >>> x = np.array([(1,2),(3,4)],dtype=[('a','<i4'),('b','<i4')])\n",
      "    >>> x['a']\n",
      "    array([1, 3])\n",
      "    \n",
      "    Creating an array from sub-classes:\n",
      "    \n",
      "    >>> np.array(np.mat('1 2; 3 4'))\n",
      "    array([[1, 2],\n",
      "           [3, 4]])\n",
      "    \n",
      "    >>> np.array(np.mat('1 2; 3 4'), subok=True)\n",
      "    matrix([[1, 2],\n",
      "            [3, 4]])\n",
      "\n"
     ]
    }
   ],
   "source": [
    "help(np.array)      # Help on Numpy array"
   ]
  },
  {
   "cell_type": "code",
   "execution_count": 31,
   "id": "2b8d2494-4ec8-47b0-90d6-20a0f581a077",
   "metadata": {},
   "outputs": [
    {
     "name": "stdout",
     "output_type": "stream",
     "text": [
      "[1 2 3]\n"
     ]
    },
    {
     "data": {
      "text/plain": [
       "array([1, 2, 3])"
      ]
     },
     "execution_count": 31,
     "metadata": {},
     "output_type": "execute_result"
    }
   ],
   "source": [
    "print(np.array([1, 2, 3])) # list as argument\n",
    "np.array([1, 2, 3])"
   ]
  },
  {
   "cell_type": "markdown",
   "id": "98f00ad4-c4bc-43e8-b8f2-e07cbc5b7e8d",
   "metadata": {},
   "source": [
    "If any one element of the iterable is float-type/string then all elements of numpy array also become float-type/string"
   ]
  },
  {
   "cell_type": "code",
   "execution_count": 29,
   "id": "be1f0fa5-7b8d-4b52-905d-6d8ffd7b2cb9",
   "metadata": {},
   "outputs": [
    {
     "name": "stdout",
     "output_type": "stream",
     "text": [
      "[1. 2. 3.]\n"
     ]
    },
    {
     "data": {
      "text/plain": [
       "array([1., 2., 3.])"
      ]
     },
     "execution_count": 29,
     "metadata": {},
     "output_type": "execute_result"
    }
   ],
   "source": [
    "print(np.array((1, 2, 3.0))) # tuple as argument\n",
    "np.array((1, 2, 3.0))"
   ]
  },
  {
   "cell_type": "code",
   "execution_count": 33,
   "id": "df1d1a43-ea65-4fce-ab63-94417ca96ea1",
   "metadata": {},
   "outputs": [
    {
     "name": "stdout",
     "output_type": "stream",
     "text": [
      "['1' '2' 'str']\n"
     ]
    },
    {
     "data": {
      "text/plain": [
       "array(['1', '2', 'str'], dtype='<U21')"
      ]
     },
     "execution_count": 33,
     "metadata": {},
     "output_type": "execute_result"
    }
   ],
   "source": [
    "print(np.array((1, 2, 'str'))) # tuple as argument\n",
    "np.array((1, 2, 'str'))"
   ]
  },
  {
   "cell_type": "code",
   "execution_count": 15,
   "id": "df49acc1-d6c9-40ba-a3e5-1163ce81fd5c",
   "metadata": {},
   "outputs": [
    {
     "name": "stdout",
     "output_type": "stream",
     "text": [
      "[0 1 2 3 4]\n"
     ]
    }
   ],
   "source": [
    "print(np.array(range(5))) # range as argument"
   ]
  },
  {
   "cell_type": "markdown",
   "id": "a7a7c2c4-51d6-401e-8bc8-af686914a2bd",
   "metadata": {},
   "source": [
    "Conversion of numpy array to list"
   ]
  },
  {
   "cell_type": "code",
   "execution_count": 38,
   "id": "ab76a491-1ae9-46f7-a266-1f7dd6374941",
   "metadata": {},
   "outputs": [
    {
     "name": "stdout",
     "output_type": "stream",
     "text": [
      "[1 2 3]\n",
      "[1, 2, 3]\n"
     ]
    }
   ],
   "source": [
    "x = np.array((1, 2, 3))\n",
    "print(x)\n",
    "\n",
    "print(x.tolist()) # numpy array to list"
   ]
  },
  {
   "cell_type": "markdown",
   "id": "15472437-1f89-4b6a-9839-cb7ba8577d69",
   "metadata": {},
   "source": [
    "## Built-in Functions on Arrays"
   ]
  },
  {
   "cell_type": "markdown",
   "id": "530c9c04-b7d5-444b-9c28-14006e86a9d2",
   "metadata": {},
   "source": [
    "Built-in functions in core python can be applied on numpy arrays: _type(), len(), sum(), max(), min()_"
   ]
  },
  {
   "cell_type": "code",
   "execution_count": 37,
   "id": "095b15e4-9e85-4cf6-a176-7f5861944dce",
   "metadata": {},
   "outputs": [
    {
     "name": "stdout",
     "output_type": "stream",
     "text": [
      "<class 'numpy.ndarray'>\n",
      "3\n",
      "6\n",
      "3\n",
      "1\n"
     ]
    }
   ],
   "source": [
    "x = np.array((1, 2, 3))\n",
    "\n",
    "print(type(x))\n",
    "print(len(x))\n",
    "print(sum(x))\n",
    "print(max(x))\n",
    "print(min(x))"
   ]
  },
  {
   "cell_type": "markdown",
   "id": "0ad2b8ca-564e-4990-b9f3-7268ea437b74",
   "metadata": {},
   "source": [
    "Some basic mathematical operations. The results below do not happen for lists in core python."
   ]
  },
  {
   "cell_type": "code",
   "execution_count": 127,
   "id": "520229c3-7d23-41b9-87db-a900e161f0b0",
   "metadata": {},
   "outputs": [
    {
     "name": "stdout",
     "output_type": "stream",
     "text": [
      "[[1 2 3]\n",
      " [4 5 6]] \n",
      "\n",
      "[[3 4 5]\n",
      " [6 7 8]] \n",
      "\n",
      "[[ 2  4  6]\n",
      " [ 8 10 12]] \n",
      "\n",
      "[[ 2  4  6]\n",
      " [ 8 10 12]] \n",
      "\n",
      "[[ 1  4  9]\n",
      " [16 25 36]] \n",
      "\n",
      "[[ 1  4  9]\n",
      " [16 25 36]] \n",
      "\n"
     ]
    }
   ],
   "source": [
    "x = np.array((1, 2, 3, 4, 5, 6))\n",
    "y = np.array(((1, 2, 3),(4, 5, 6)))\n",
    "\n",
    "print(y, '\\n')\n",
    "print(y+2, '\\n')    # add 2 to each elements\n",
    "print(y*2, '\\n')    # multiply 2 to each elements\n",
    "print(y+y, '\\n')    # add the elements of two arrays from same position\n",
    "print(y*y, '\\n')    # multiply the elements of two arrays from same position\n",
    "print(y**2, '\\n')   # square of each elements"
   ]
  },
  {
   "cell_type": "markdown",
   "id": "13ba1024-819e-447a-95eb-a4e913d5eb68",
   "metadata": {},
   "source": [
    "## Methods and Attributes"
   ]
  },
  {
   "cell_type": "code",
   "execution_count": 63,
   "id": "ceb2fb0f-07a2-4308-a680-648588a23b3e",
   "metadata": {},
   "outputs": [
    {
     "name": "stdout",
     "output_type": "stream",
     "text": [
      "6\n",
      "6\n"
     ]
    }
   ],
   "source": [
    "x = np.array((1, 2, 3.0))\n",
    "y = np.array(((1, 2, 3),(4, 5, 6)))\n",
    "\n",
    "print(np.size(y)) # As method: Size of array: total number of elements\n",
    "print(y.size)     # AS attribute"
   ]
  },
  {
   "cell_type": "code",
   "execution_count": 64,
   "id": "65319913-58ba-408e-846e-05f7511e0311",
   "metadata": {},
   "outputs": [
    {
     "name": "stdout",
     "output_type": "stream",
     "text": [
      "1\n",
      "2\n",
      "2\n"
     ]
    }
   ],
   "source": [
    "print(np.ndim(x))\n",
    "print(np.ndim(y)) # As method: Dimension of array: 1D, 2D, 3D etc.\n",
    "print(y.ndim)     # AS attribute"
   ]
  },
  {
   "cell_type": "code",
   "execution_count": 83,
   "id": "3b7c131a-ed80-4413-a62c-eac05ae31307",
   "metadata": {},
   "outputs": [
    {
     "name": "stdout",
     "output_type": "stream",
     "text": [
      "(3,)\n",
      "(2, 3)\n",
      "(2, 3) \n",
      "\n",
      "(2,)\n",
      "(2, 1)\n",
      "(2, 1) \n",
      "\n",
      "(2,)\n",
      "(2, 1)\n",
      "(2, 1) \n",
      "\n",
      "(3,)\n",
      "(1, 3)\n",
      "(1, 3)\n"
     ]
    }
   ],
   "source": [
    "print(np.shape(x))   # a tuple, 1D array\n",
    "print(np.shape(y)) # As method: Shape of array. a tuple, 2D array. number of rows and columns\n",
    "print(y.shape, '\\n')     # AS attribute\n",
    "\n",
    "print(np.shape(y[:,1]))         # shape of 2nd column as 1D array\n",
    "print(np.shape(y[:,1:2]))       # shape of sliced 2nd column as 2D array\n",
    "print(np.shape(y[:,[1]]), '\\n') # shape of sliced 2nd column as 2D array\n",
    "\n",
    "print(y[:, 1].shape)          # shape of 2nd column as 1D array\n",
    "print(y[:, 1:2].shape)        # shape of sliced 2nd column as 2D array\n",
    "print(y[:, [1]].shape, '\\n')  # shape of sliced 2nd column as 2D array\n",
    "\n",
    "print(y[1, :].shape)       # shape of 2nd row as 1D array\n",
    "print(y[1:, :].shape)      # shape of sliced 2nd row as 2D array\n",
    "print(y[[1], :].shape)     # shape of sliced 2nd row as 2D array"
   ]
  },
  {
   "cell_type": "code",
   "execution_count": 64,
   "id": "3d85a2c3-488b-4297-979f-e139f3b22eb7",
   "metadata": {},
   "outputs": [
    {
     "name": "stdout",
     "output_type": "stream",
     "text": [
      "float64\n",
      "int64\n"
     ]
    }
   ],
   "source": [
    "print(x.dtype) # default data type of the array x is float64 = a 64-bit float\n",
    "print(y.dtype) # default data type of the array y is int64 = a 64-bit integer"
   ]
  },
  {
   "cell_type": "code",
   "execution_count": 63,
   "id": "6f6d09f9-344d-49d1-b888-1b9ff7c128fd",
   "metadata": {},
   "outputs": [
    {
     "name": "stdout",
     "output_type": "stream",
     "text": [
      "8\n",
      "8\n"
     ]
    }
   ],
   "source": [
    "print(x.itemsize) # size of each elemnt in the array is 8 byte (= 64 bit)\n",
    "print(y.itemsize)"
   ]
  },
  {
   "cell_type": "markdown",
   "id": "fccc9c16-04de-472d-8bae-b47b1010c57c",
   "metadata": {},
   "source": [
    "## Higher Dimensional Arrays"
   ]
  },
  {
   "cell_type": "markdown",
   "id": "625ed480-05d4-404e-83ba-f30e14594e21",
   "metadata": {},
   "source": [
    "### # 2D array"
   ]
  },
  {
   "cell_type": "code",
   "execution_count": 75,
   "id": "bfded49a-32a9-40bd-8bc6-cd4042d89023",
   "metadata": {},
   "outputs": [
    {
     "name": "stdout",
     "output_type": "stream",
     "text": [
      "[[1 2 3]\n",
      " [4 5 6]]\n"
     ]
    }
   ],
   "source": [
    "g1 = np.array(((1, 2, 3),(4, 5, 6))) # tuple of tuples as argument\n",
    "print(g1)"
   ]
  },
  {
   "cell_type": "code",
   "execution_count": 76,
   "id": "72570be9-25c9-44d3-9f73-3b8dfe74e715",
   "metadata": {},
   "outputs": [
    {
     "name": "stdout",
     "output_type": "stream",
     "text": [
      "[[1 2 3]\n",
      " [4 5 6]]\n"
     ]
    }
   ],
   "source": [
    "g2 = np.array([(1, 2, 3),(4, 5, 6)]) # list of tuples as argument\n",
    "print(g2)"
   ]
  },
  {
   "cell_type": "code",
   "execution_count": 79,
   "id": "0452cbfc-c3a8-4a04-8aa1-f79db777e666",
   "metadata": {},
   "outputs": [
    {
     "name": "stdout",
     "output_type": "stream",
     "text": [
      "[[1 2 3]\n",
      " [4 5 6]]\n"
     ]
    }
   ],
   "source": [
    "g3 = np.array(([1, 2, 3],[4, 5, 6])) # tuple of lists as argument\n",
    "print(g3)"
   ]
  },
  {
   "cell_type": "code",
   "execution_count": 155,
   "id": "65ecb469-5485-4693-bd02-cbc2a9198b94",
   "metadata": {},
   "outputs": [
    {
     "name": "stdout",
     "output_type": "stream",
     "text": [
      "[[1 2 3]\n",
      " [4 5 6]]\n"
     ]
    }
   ],
   "source": [
    "h1 = np.array([[1, 2, 3],[4, 5, 6]]) # list of lists as argument\n",
    "print(h1)"
   ]
  },
  {
   "cell_type": "code",
   "execution_count": 158,
   "id": "fa102bab-8065-4a94-a3a3-696915d6f029",
   "metadata": {},
   "outputs": [
    {
     "name": "stdout",
     "output_type": "stream",
     "text": [
      "2\n",
      "2\n",
      "6\n",
      "(2, 3)\n"
     ]
    }
   ],
   "source": [
    "print(h1.ndim)\n",
    "print(np.ndim(h1))\n",
    "print(np.size(h1))\n",
    "print(np.shape(h1))"
   ]
  },
  {
   "cell_type": "code",
   "execution_count": 157,
   "id": "d4add765-136c-437e-9f07-b4c4352f0e1a",
   "metadata": {},
   "outputs": [
    {
     "name": "stdout",
     "output_type": "stream",
     "text": [
      "[[[1 2]\n",
      "  [3 4]]\n",
      "\n",
      " [[5 6]\n",
      "  [7 8]]]\n"
     ]
    }
   ],
   "source": [
    "h2 = np.array([[[1, 2],[3, 4]],[[5, 6],[7, 8]]]) # list of lists as argument\n",
    "print(h2)"
   ]
  },
  {
   "cell_type": "code",
   "execution_count": 159,
   "id": "b90577fe-b61b-44b8-8d28-af15cd74ad21",
   "metadata": {},
   "outputs": [
    {
     "name": "stdout",
     "output_type": "stream",
     "text": [
      "3\n",
      "3\n",
      "8\n",
      "(2, 2, 2)\n"
     ]
    }
   ],
   "source": [
    "print(h2.ndim)\n",
    "print(np.ndim(h2))\n",
    "print(np.size(h2))\n",
    "print(np.shape(h2))"
   ]
  },
  {
   "cell_type": "markdown",
   "id": "870b1064-947d-4f67-a3e4-4e275e09c6fa",
   "metadata": {},
   "source": [
    "## Methods for Creation of Arrays"
   ]
  },
  {
   "cell_type": "markdown",
   "id": "a3d263e4-2042-465e-8d9a-bf1c281c2e5a",
   "metadata": {},
   "source": [
    "### Using Numerical Ranges"
   ]
  },
  {
   "cell_type": "markdown",
   "id": "f23f71df-9f58-4e9c-be02-c5a4c7d8bff1",
   "metadata": {},
   "source": [
    "#### # Using range of numbers: _numpy.arange(start, stop, step, dtype)_."
   ]
  },
  {
   "cell_type": "code",
   "execution_count": 210,
   "id": "4ea99ee2-0079-4788-b741-7ac57a8951a8",
   "metadata": {},
   "outputs": [],
   "source": [
    "#help(np.arange)"
   ]
  },
  {
   "cell_type": "markdown",
   "id": "e07b2371-7580-40fa-852b-165141aa014f",
   "metadata": {},
   "source": [
    "#### Default start = 0, default step = 1, default stop = the single value inside the parentheses. take values upto stop-1"
   ]
  },
  {
   "cell_type": "code",
   "execution_count": 128,
   "id": "cdc3819c-a56d-421e-96db-abdbdd32f45e",
   "metadata": {},
   "outputs": [
    {
     "name": "stdout",
     "output_type": "stream",
     "text": [
      "[0 1 2 3 4]\n"
     ]
    }
   ],
   "source": [
    "a1 = np.arange(5) # default start = 0\n",
    "print(a1)"
   ]
  },
  {
   "cell_type": "markdown",
   "id": "027817da-3cd4-4b57-91a2-b175b9f84aec",
   "metadata": {},
   "source": [
    "Unlike built-function _range()_ in core python, the numpy method _arange()_ can create floats."
   ]
  },
  {
   "cell_type": "code",
   "execution_count": 129,
   "id": "30852508-0125-472a-a6ba-399adbaeb5aa",
   "metadata": {},
   "outputs": [
    {
     "name": "stdout",
     "output_type": "stream",
     "text": [
      "[0. 1. 2. 3. 4.]\n"
     ]
    }
   ],
   "source": [
    "a2 = np.arange(5, dtype = float) # default start = 0. As dtype = float the array elements are all float\n",
    "print(a2)"
   ]
  },
  {
   "cell_type": "code",
   "execution_count": 130,
   "id": "c7720eda-d356-4c28-82cc-4975d04c0fc4",
   "metadata": {},
   "outputs": [
    {
     "name": "stdout",
     "output_type": "stream",
     "text": [
      "[2. 3. 4.]\n"
     ]
    }
   ],
   "source": [
    "a3 = np.arange(2, 5, 1.0) # star = 2, step = 0.5 (float), so the array elements are float by default\n",
    "print(a3)"
   ]
  },
  {
   "cell_type": "code",
   "execution_count": 131,
   "id": "765b45d5-bcf3-46bd-bb16-c890570b5789",
   "metadata": {},
   "outputs": [
    {
     "name": "stdout",
     "output_type": "stream",
     "text": [
      "[2 3 4]\n"
     ]
    }
   ],
   "source": [
    "a4 = np.arange(2, 5, 1.0, dtype = int) # step = 0.5 (float). As dtype = int the array elements are all int\n",
    "print(a4)"
   ]
  },
  {
   "cell_type": "code",
   "execution_count": 132,
   "id": "e2068273-bfd1-4e87-8b5f-76007c47f18b",
   "metadata": {},
   "outputs": [
    {
     "name": "stdout",
     "output_type": "stream",
     "text": [
      "[]\n"
     ]
    }
   ],
   "source": [
    "a5 = np.arange(5, 1.0, dtype = int) # 5, 1.0 are default positional arguments as start and stop\n",
    "print(a5)"
   ]
  },
  {
   "cell_type": "code",
   "execution_count": 133,
   "id": "22d6a12c-14c6-47f0-89a8-fd1e1bd292a9",
   "metadata": {},
   "outputs": [
    {
     "name": "stdout",
     "output_type": "stream",
     "text": [
      "[0 1 2 3 4]\n"
     ]
    }
   ],
   "source": [
    "a6 = np.arange(5, step=1.0, dtype = int) # default start = 0\n",
    "print(a6)"
   ]
  },
  {
   "cell_type": "code",
   "execution_count": 134,
   "id": "f491ccee-cbf1-4cc9-b4d7-9e40a6526212",
   "metadata": {},
   "outputs": [
    {
     "name": "stdout",
     "output_type": "stream",
     "text": [
      "[0 0 0 0 0 0 0 0 0 0]\n"
     ]
    }
   ],
   "source": [
    "a7 = np.arange(5, step=0.5, dtype = int) # default start = 0. dtype = int\n",
    "print(a7)"
   ]
  },
  {
   "cell_type": "code",
   "execution_count": 135,
   "id": "5af57805-d4d2-466a-9b6a-aa28b8d5c40b",
   "metadata": {},
   "outputs": [
    {
     "name": "stdout",
     "output_type": "stream",
     "text": [
      "[0.  0.5 1.  1.5 2.  2.5 3.  3.5 4.  4.5]\n"
     ]
    }
   ],
   "source": [
    "a8 = np.arange(5, step=0.5) # default start = 0. dtype = float by default\n",
    "print(a8)"
   ]
  },
  {
   "cell_type": "code",
   "execution_count": 136,
   "id": "c6467ef2-6024-4f5b-a584-2757b5e99302",
   "metadata": {},
   "outputs": [
    {
     "ename": "SyntaxError",
     "evalue": "positional argument follows keyword argument (2653965805.py, line 1)",
     "output_type": "error",
     "traceback": [
      "\u001b[0;36m  File \u001b[0;32m\"/tmp/ipykernel_742407/2653965805.py\"\u001b[0;36m, line \u001b[0;32m1\u001b[0m\n\u001b[0;31m    a9 = np.arange(stop = 5, 1.0, dtype = int) # keyword argument should follow positional arguments\u001b[0m\n\u001b[0m                            ^\u001b[0m\n\u001b[0;31mSyntaxError\u001b[0m\u001b[0;31m:\u001b[0m positional argument follows keyword argument\n"
     ]
    }
   ],
   "source": [
    "a9 = np.arange(stop = 5, 1.0, dtype = int) # keyword argument should follow positional arguments\n",
    "print(a9)"
   ]
  },
  {
   "cell_type": "code",
   "execution_count": 137,
   "id": "d8f800c1-c7bd-4b89-be2c-563b089332c1",
   "metadata": {},
   "outputs": [
    {
     "name": "stdout",
     "output_type": "stream",
     "text": [
      "[1 2 3 4]\n"
     ]
    }
   ],
   "source": [
    "a10 = np.arange(1.0, stop = 5,  dtype = int) \n",
    "print(a10)"
   ]
  },
  {
   "cell_type": "code",
   "execution_count": 138,
   "id": "c3cdb80c-d780-48b0-83a3-cd087e24f247",
   "metadata": {},
   "outputs": [
    {
     "ename": "SyntaxError",
     "evalue": "positional argument follows keyword argument (2381500394.py, line 1)",
     "output_type": "error",
     "traceback": [
      "\u001b[0;36m  File \u001b[0;32m\"/tmp/ipykernel_742407/2381500394.py\"\u001b[0;36m, line \u001b[0;32m1\u001b[0m\n\u001b[0;31m    a11 = np.arange(1.0, stop = 5, 1.0,  dtype = int) # keyword argument should follow positional arguments\u001b[0m\n\u001b[0m                                  ^\u001b[0m\n\u001b[0;31mSyntaxError\u001b[0m\u001b[0;31m:\u001b[0m positional argument follows keyword argument\n"
     ]
    }
   ],
   "source": [
    "a11 = np.arange(1.0, stop = 5, 1.0,  dtype = int) # keyword argument should follow positional arguments\n",
    "print(a11)"
   ]
  },
  {
   "cell_type": "code",
   "execution_count": 139,
   "id": "213bc74e-bb59-4aef-8efa-c63ecd045513",
   "metadata": {},
   "outputs": [
    {
     "ename": "TypeError",
     "evalue": "argument for arange() given by name ('stop') and position (position 1)",
     "output_type": "error",
     "traceback": [
      "\u001b[0;31m---------------------------------------------------------------------------\u001b[0m",
      "\u001b[0;31mTypeError\u001b[0m                                 Traceback (most recent call last)",
      "\u001b[0;32m/tmp/ipykernel_742407/1177881002.py\u001b[0m in \u001b[0;36m<module>\u001b[0;34m\u001b[0m\n\u001b[0;32m----> 1\u001b[0;31m \u001b[0ma12\u001b[0m \u001b[0;34m=\u001b[0m \u001b[0mnp\u001b[0m\u001b[0;34m.\u001b[0m\u001b[0marange\u001b[0m\u001b[0;34m(\u001b[0m\u001b[0;36m1.0\u001b[0m\u001b[0;34m,\u001b[0m \u001b[0;36m1\u001b[0m\u001b[0;34m,\u001b[0m \u001b[0mstop\u001b[0m \u001b[0;34m=\u001b[0m \u001b[0;36m5\u001b[0m\u001b[0;34m,\u001b[0m \u001b[0mdtype\u001b[0m \u001b[0;34m=\u001b[0m \u001b[0mint\u001b[0m\u001b[0;34m)\u001b[0m \u001b[0;31m# keyword argument stop should be at position 1.\u001b[0m\u001b[0;34m\u001b[0m\u001b[0;34m\u001b[0m\u001b[0m\n\u001b[0m\u001b[1;32m      2\u001b[0m \u001b[0mprint\u001b[0m\u001b[0;34m(\u001b[0m\u001b[0ma12\u001b[0m\u001b[0;34m)\u001b[0m\u001b[0;34m\u001b[0m\u001b[0;34m\u001b[0m\u001b[0m\n",
      "\u001b[0;31mTypeError\u001b[0m: argument for arange() given by name ('stop') and position (position 1)"
     ]
    }
   ],
   "source": [
    "a12 = np.arange(1.0, 1, stop = 5, dtype = int) # keyword argument stop should be at position 1.\n",
    "print(a12)"
   ]
  },
  {
   "cell_type": "code",
   "execution_count": 150,
   "id": "d44570d4-d9f9-47e7-bc9a-2b99f3e32931",
   "metadata": {},
   "outputs": [
    {
     "name": "stdout",
     "output_type": "stream",
     "text": [
      "[5. 4. 3. 2.]\n"
     ]
    }
   ],
   "source": [
    "a13 = np.arange(5, 1, -1.0) # negative step\n",
    "print(a13)"
   ]
  },
  {
   "cell_type": "code",
   "execution_count": 149,
   "id": "f71da93b-bf86-4515-bf9b-857f0b474632",
   "metadata": {},
   "outputs": [
    {
     "name": "stdout",
     "output_type": "stream",
     "text": [
      "[5 4 3 2]\n"
     ]
    }
   ],
   "source": [
    "a14 = np.arange(5, 1, -1.0, dtype = int)\n",
    "print(a14)"
   ]
  },
  {
   "cell_type": "markdown",
   "id": "b262458b-8b31-4d8a-8790-8f70d9452abd",
   "metadata": {},
   "source": [
    "#### # Using Linear space: _linspace(start, end, num, endpoint=True/False, retstep=False, dtype=None, axis=0)_"
   ]
  },
  {
   "cell_type": "code",
   "execution_count": 209,
   "id": "e4afcbdc-e6db-4c59-9e6d-9a0f55bd3592",
   "metadata": {},
   "outputs": [],
   "source": [
    "#help(np.linspace)"
   ]
  },
  {
   "cell_type": "markdown",
   "id": "163d63d8-4ca5-4460-bbb3-1cf067ce19b7",
   "metadata": {},
   "source": [
    "#### The method `linspace()` creats a linearly spaced array. The array starts at `start`, ends at `end` and `num` is the number of elements to be ctreated. Step size = $\\frac{end - start}{num-1}$ as there are `num-1` gaps in between `start` and `stop`. The endpoint can be included or excluded through the keyword `endpoint` with boolean `True/False`. The default `endpoint = True`."
   ]
  },
  {
   "cell_type": "code",
   "execution_count": 144,
   "id": "fec8f7da-a087-492c-8153-3452ef7fdb7f",
   "metadata": {},
   "outputs": [
    {
     "name": "stdout",
     "output_type": "stream",
     "text": [
      "[1. 2. 3. 4. 5.]\n"
     ]
    }
   ],
   "source": [
    "l1 = np.linspace(1, 5, 5)\n",
    "print(l1)"
   ]
  },
  {
   "cell_type": "code",
   "execution_count": 168,
   "id": "9e94b4ad-38cc-45c8-b730-e6c52659777b",
   "metadata": {},
   "outputs": [
    {
     "name": "stdout",
     "output_type": "stream",
     "text": [
      "[1.         1.08163265 1.16326531 1.24489796 1.32653061 1.40816327\n",
      " 1.48979592 1.57142857 1.65306122 1.73469388 1.81632653 1.89795918\n",
      " 1.97959184 2.06122449 2.14285714 2.2244898  2.30612245 2.3877551\n",
      " 2.46938776 2.55102041 2.63265306 2.71428571 2.79591837 2.87755102\n",
      " 2.95918367 3.04081633 3.12244898 3.20408163 3.28571429 3.36734694\n",
      " 3.44897959 3.53061224 3.6122449  3.69387755 3.7755102  3.85714286\n",
      " 3.93877551 4.02040816 4.10204082 4.18367347 4.26530612 4.34693878\n",
      " 4.42857143 4.51020408 4.59183673 4.67346939 4.75510204 4.83673469\n",
      " 4.91836735 5.        ]\n"
     ]
    }
   ],
   "source": [
    "l2 = np.linspace(1, 5)  # default num = 50\n",
    "print(l2)"
   ]
  },
  {
   "cell_type": "code",
   "execution_count": 170,
   "id": "b7c7868f-dcf4-46d6-b266-524cab34f0b5",
   "metadata": {},
   "outputs": [
    {
     "name": "stdout",
     "output_type": "stream",
     "text": [
      "[   1.           21.3877551    41.7755102    62.16326531   82.55102041\n",
      "  102.93877551  123.32653061  143.71428571  164.10204082  184.48979592\n",
      "  204.87755102  225.26530612  245.65306122  266.04081633  286.42857143\n",
      "  306.81632653  327.20408163  347.59183673  367.97959184  388.36734694\n",
      "  408.75510204  429.14285714  449.53061224  469.91836735  490.30612245\n",
      "  510.69387755  531.08163265  551.46938776  571.85714286  592.24489796\n",
      "  612.63265306  633.02040816  653.40816327  673.79591837  694.18367347\n",
      "  714.57142857  734.95918367  755.34693878  775.73469388  796.12244898\n",
      "  816.51020408  836.89795918  857.28571429  877.67346939  898.06122449\n",
      "  918.44897959  938.83673469  959.2244898   979.6122449  1000.        ]\n"
     ]
    }
   ],
   "source": [
    "l3 = np.linspace(1, 1000)  # default num = 50\n",
    "print(l3)"
   ]
  },
  {
   "cell_type": "code",
   "execution_count": 171,
   "id": "7a9a2a4d-2209-4837-8420-5c20cc6f4f9a",
   "metadata": {},
   "outputs": [
    {
     "name": "stdout",
     "output_type": "stream",
     "text": [
      "[5. 4. 3. 2. 1.]\n"
     ]
    }
   ],
   "source": [
    "l4 = np.linspace(5, 1, 5)\n",
    "print(l4)"
   ]
  },
  {
   "cell_type": "markdown",
   "id": "f99428df-643f-49f1-a0dc-db8afb4229a4",
   "metadata": {},
   "source": [
    "endpoint = False excludes the stop value."
   ]
  },
  {
   "cell_type": "markdown",
   "id": "f86ff692-1d9d-410d-bf33-d9b095997837",
   "metadata": {},
   "source": [
    "#### `endpoint = False` excludes the stop value in the array. Then step size = $\\frac{stop - start}{num}$ as excluding `stop` there are `num` numbers of elements, but for evaluation of step size `stop` is also considered, and therefore, including `stop` there are `num+1` number of elements and `num` number of gaps."
   ]
  },
  {
   "cell_type": "markdown",
   "id": "874a9520-ef42-423d-8f78-b53451a686e4",
   "metadata": {},
   "source": [
    "Here including stop = 5 there are 6 elemnts among which 5 will be in the arrays. So number of gaps in between 1 and 5 are 6-1 = 5 and step size = (5-1)/(6-1) = 4/5 = 0.8."
   ]
  },
  {
   "cell_type": "code",
   "execution_count": 191,
   "id": "32b937bf-4a43-44fb-846e-b189eb30a3a4",
   "metadata": {},
   "outputs": [
    {
     "name": "stdout",
     "output_type": "stream",
     "text": [
      "[1.  1.8 2.6 3.4 4.2]\n"
     ]
    }
   ],
   "source": [
    "l5 = np.linspace(1, 5, 5, endpoint = False) \n",
    "print(l5)"
   ]
  },
  {
   "cell_type": "markdown",
   "id": "721d6a6f-6ae7-4bc3-8656-51ebe65c52f5",
   "metadata": {},
   "source": [
    "retstep = True returns the step size as float by default. Returns array and step size as tuple. As step size returns as float type the array elements are also float type."
   ]
  },
  {
   "cell_type": "code",
   "execution_count": 190,
   "id": "4c94a654-d43f-44fc-b9e6-a030a5e509cc",
   "metadata": {},
   "outputs": [
    {
     "name": "stdout",
     "output_type": "stream",
     "text": [
      "(array([1., 2., 3., 4., 5.]), 1.0)\n"
     ]
    }
   ],
   "source": [
    "l6 = np.linspace(1, 5, 5, retstep = True) # return step size as float by default as elemets are float also.\n",
    "print(l6)                                 # return array and step size in a tuple."
   ]
  },
  {
   "cell_type": "code",
   "execution_count": 177,
   "id": "60209083-1245-4163-ab2e-7f70367fa12b",
   "metadata": {},
   "outputs": [
    {
     "name": "stdout",
     "output_type": "stream",
     "text": [
      "(array([1. , 1.8, 2.6, 3.4, 4.2]), 0.8)\n"
     ]
    }
   ],
   "source": [
    "l7 = np.linspace(1, 5, 5, endpoint = False, retstep = True) # return step size\n",
    "print(l7)                                                   # return array and step size in a tuple"
   ]
  },
  {
   "cell_type": "code",
   "execution_count": 187,
   "id": "3d29c8af-2653-4ae1-94a8-fd8ce155ba24",
   "metadata": {},
   "outputs": [
    {
     "name": "stdout",
     "output_type": "stream",
     "text": [
      "[1.  1.8 2.6 3.4 4.2]\n",
      "0.8\n"
     ]
    }
   ],
   "source": [
    "array7, step_size7 = l7 # tuple unpacking\n",
    "print(array7)\n",
    "print(step_size7)"
   ]
  },
  {
   "cell_type": "code",
   "execution_count": 188,
   "id": "5a40583b-2359-48be-8b90-831041c09131",
   "metadata": {},
   "outputs": [
    {
     "name": "stdout",
     "output_type": "stream",
     "text": [
      "(array([1, 1, 2, 3, 4]), 0.8)\n"
     ]
    }
   ],
   "source": [
    "l8 = np.linspace(1, 5, 5, endpoint = False, retstep = True, dtype = int) # return step size = float\n",
    "print(l8)                                       # but array elements are integers as dtype = int"
   ]
  },
  {
   "cell_type": "markdown",
   "id": "484b313d-edda-424f-a73c-30097786dbe0",
   "metadata": {},
   "source": [
    "#### # Using Logarithmic space: _logspace(start, end, num, endpoint=True/False, base, dtype=None, axis=0)_"
   ]
  },
  {
   "cell_type": "code",
   "execution_count": 208,
   "id": "ba073263-7b70-4df4-b634-1e84d479f97b",
   "metadata": {},
   "outputs": [],
   "source": [
    "#help(np.logspace)"
   ]
  },
  {
   "cell_type": "code",
   "execution_count": 207,
   "id": "4e769055-39cd-4eaf-afce-40f624374ea7",
   "metadata": {},
   "outputs": [
    {
     "name": "stdout",
     "output_type": "stream",
     "text": [
      "[ 1.58489319  2.92864456  5.41169527 10.        ]\n",
      "[0.2        0.46666667 0.73333333 1.        ]\n",
      "[0.2        0.46666667 0.73333333 1.        ]\n"
     ]
    }
   ],
   "source": [
    "L1 = np.logspace(0.2, 1, 4) # log scale, default base = 10\n",
    "print(L1)\n",
    "\n",
    "print(np.log10(L1))            # log scale to linear scale conversion for comparison\n",
    "print(np.linspace(0.2, 1, 4))"
   ]
  },
  {
   "cell_type": "code",
   "execution_count": 206,
   "id": "34d3bf43-9ef0-4144-b2cb-b972d44ce001",
   "metadata": {},
   "outputs": [
    {
     "name": "stdout",
     "output_type": "stream",
     "text": [
      "[1.14869835 1.38191288 1.66247579 2.        ]\n",
      "[0.2        0.46666667 0.73333333 1.        ]\n",
      "[0.2        0.46666667 0.73333333 1.        ]\n"
     ]
    }
   ],
   "source": [
    "L2 = np.logspace(0.2, 1, 4, base = 2) # log scale, with base = 2\n",
    "print(L2)\n",
    "\n",
    "print(np.log2(L2))              # log scale to linear scale conversion for comparison\n",
    "print(np.linspace(0.2, 1, 4))"
   ]
  },
  {
   "cell_type": "markdown",
   "id": "267e3895-8aea-4cf0-a4ec-30c6bacfd7f3",
   "metadata": {},
   "source": [
    "#### # Using meshgrid"
   ]
  },
  {
   "cell_type": "code",
   "execution_count": 97,
   "id": "39b7af24-5a67-412e-bbd7-4e96c7fe57de",
   "metadata": {},
   "outputs": [
    {
     "name": "stdout",
     "output_type": "stream",
     "text": [
      "[0.  0.5 1. ]\n",
      "[0. 1.] \n",
      "\n",
      "[[0.  0.5 1. ]\n",
      " [0.  0.5 1. ]] \n",
      "\n",
      "[[0. 0. 0.]\n",
      " [1. 1. 1.]] \n",
      "\n"
     ]
    }
   ],
   "source": [
    "nx, ny = (3, 2)\n",
    "\n",
    "x = np.linspace(0, 1, nx)\n",
    "y = np.linspace(0, 1, ny)\n",
    "\n",
    "print(x)\n",
    "print(y, '\\n')\n",
    "\n",
    "x_1, y_1 = np.meshgrid(x, y)\n",
    "\n",
    "print(x_1, '\\n')\n",
    "print(y_1, '\\n')"
   ]
  },
  {
   "cell_type": "code",
   "execution_count": 155,
   "id": "549fbd57-8ff3-4bda-848d-74d8334a407b",
   "metadata": {},
   "outputs": [
    {
     "name": "stdout",
     "output_type": "stream",
     "text": [
      "(11,)\n",
      "(11, 11)\n",
      "(11, 11)\n"
     ]
    },
    {
     "data": {
      "image/png": "[encoded data removed]",
      "text/plain": [
       "<Figure size 432x288 with 2 Axes>"
      ]
     },
     "metadata": {
      "needs_background": "light"
     },
     "output_type": "display_data"
    }
   ],
   "source": [
    "import matplotlib.pyplot as plt\n",
    "\n",
    "x = np.linspace(-5, 5, 11)\n",
    "y = np.linspace(-5, 5, 11)\n",
    "\n",
    "xx, yy = np.meshgrid(x, y)\n",
    "zz = np.sqrt(xx**2 + yy**2)\n",
    "\n",
    "print(np.shape(x))\n",
    "#print(xx)\n",
    "#print(xx**2)\n",
    "# print(np.sqrt((xx[0]**2)+(yy[0]**2)))\n",
    "#print(zz[0])\n",
    "print(np.shape(xx))\n",
    "print(np.shape(zz))\n",
    "\n",
    "plt.contourf(x, y, zz)\n",
    "plt.axis('scaled')\n",
    "plt.colorbar()\n",
    "plt.show()"
   ]
  },
  {
   "cell_type": "markdown",
   "id": "04a18d26-50eb-45f0-bc86-2ed01d1131b7",
   "metadata": {},
   "source": [
    "#### # Using mgrid"
   ]
  },
  {
   "cell_type": "code",
   "execution_count": 161,
   "id": "f38cc982-31b6-49a2-926d-bd53da521653",
   "metadata": {},
   "outputs": [
    {
     "name": "stdout",
     "output_type": "stream",
     "text": [
      "[[[-5.  -5.  -5.  ... -5.  -5.  -5. ]\n",
      "  [-4.9 -4.9 -4.9 ... -4.9 -4.9 -4.9]\n",
      "  [-4.8 -4.8 -4.8 ... -4.8 -4.8 -4.8]\n",
      "  ...\n",
      "  [ 4.8  4.8  4.8 ...  4.8  4.8  4.8]\n",
      "  [ 4.9  4.9  4.9 ...  4.9  4.9  4.9]\n",
      "  [ 5.   5.   5.  ...  5.   5.   5. ]]\n",
      "\n",
      " [[-5.  -4.9 -4.8 ...  4.8  4.9  5. ]\n",
      "  [-5.  -4.9 -4.8 ...  4.8  4.9  5. ]\n",
      "  [-5.  -4.9 -4.8 ...  4.8  4.9  5. ]\n",
      "  ...\n",
      "  [-5.  -4.9 -4.8 ...  4.8  4.9  5. ]\n",
      "  [-5.  -4.9 -4.8 ...  4.8  4.9  5. ]\n",
      "  [-5.  -4.9 -4.8 ...  4.8  4.9  5. ]]]\n"
     ]
    },
    {
     "data": {
      "image/png": "[encoded data removed]",
      "text/plain": [
       "<Figure size 432x288 with 2 Axes>"
      ]
     },
     "metadata": {
      "needs_background": "light"
     },
     "output_type": "display_data"
    }
   ],
   "source": [
    "m = np.mgrid[-5:5.1:0.1, -5:5.1:0.1]\n",
    "print(m)\n",
    "zz = np.sqrt(m[1]**2 + 4*m[0]**2) # equation of elipse\n",
    "#print(zz)\n",
    "\n",
    "plt.contourf(m[1][0], m[0][:, 0], zz)\n",
    "plt.axis('scaled')\n",
    "plt.colorbar()\n",
    "plt.show()"
   ]
  },
  {
   "cell_type": "code",
   "execution_count": 162,
   "id": "3485ed6d-5364-499b-ae13-07b24c65d0e0",
   "metadata": {},
   "outputs": [
    {
     "name": "stdout",
     "output_type": "stream",
     "text": [
      "[[[-5.  -5.  -5.  ... -5.  -5.  -5. ]\n",
      "  [-4.9 -4.9 -4.9 ... -4.9 -4.9 -4.9]\n",
      "  [-4.8 -4.8 -4.8 ... -4.8 -4.8 -4.8]\n",
      "  ...\n",
      "  [ 4.8  4.8  4.8 ...  4.8  4.8  4.8]\n",
      "  [ 4.9  4.9  4.9 ...  4.9  4.9  4.9]\n",
      "  [ 5.   5.   5.  ...  5.   5.   5. ]]\n",
      "\n",
      " [[-5.  -4.9 -4.8 ...  4.8  4.9  5. ]\n",
      "  [-5.  -4.9 -4.8 ...  4.8  4.9  5. ]\n",
      "  [-5.  -4.9 -4.8 ...  4.8  4.9  5. ]\n",
      "  ...\n",
      "  [-5.  -4.9 -4.8 ...  4.8  4.9  5. ]\n",
      "  [-5.  -4.9 -4.8 ...  4.8  4.9  5. ]\n",
      "  [-5.  -4.9 -4.8 ...  4.8  4.9  5. ]]]\n"
     ]
    },
    {
     "data": {
      "image/png": "[encoded data removed]",
      "text/plain": [
       "<Figure size 432x288 with 2 Axes>"
      ]
     },
     "metadata": {
      "needs_background": "light"
     },
     "output_type": "display_data"
    }
   ],
   "source": [
    "m = np.mgrid[-5:5.1:0.1, -5:5.1:0.1]\n",
    "print(m)\n",
    "zz = np.sqrt(m[1]**2*m[0]**2) # equation of elipse\n",
    "#print(zz)\n",
    "\n",
    "plt.contourf(m[1][0], m[0][:, 0], zz)\n",
    "plt.axis('scaled')\n",
    "plt.colorbar()\n",
    "plt.show()"
   ]
  },
  {
   "cell_type": "markdown",
   "id": "7589aff0-14f2-498c-a174-d7be18e69752",
   "metadata": {},
   "source": [
    "#### # Using ogrid"
   ]
  },
  {
   "cell_type": "code",
   "execution_count": null,
   "id": "e3355fdd-65c4-43d9-9be4-54d654ca512b",
   "metadata": {},
   "outputs": [],
   "source": []
  },
  {
   "cell_type": "markdown",
   "id": "2b3556a4-beca-4a74-94c0-0f6c23340b27",
   "metadata": {},
   "source": [
    "### From shape or value"
   ]
  },
  {
   "cell_type": "code",
   "execution_count": 176,
   "id": "fe55cd71-3b90-4eb7-ba81-5ea80c77638d",
   "metadata": {},
   "outputs": [
    {
     "name": "stdout",
     "output_type": "stream",
     "text": [
      "[1. 1.]\n",
      "[[                  0                   0                   0]\n",
      " [4607182418800017408 4607182418800017408                   0]]\n",
      "[[                  0                   0 4607182418800017408]\n",
      " [                  0 4607182418800017408                   0]]\n"
     ]
    }
   ],
   "source": [
    "#help(np.empty)\n",
    "\n",
    "e1 = np.empty(2)\n",
    "print(e1)\n",
    "\n",
    "e2 = np.empty((2,3), dtype = int)\n",
    "print(e2)\n",
    "\n",
    "e3 = np.empty((2,3), dtype = int, order = 'F')\n",
    "print(e3)"
   ]
  },
  {
   "cell_type": "code",
   "execution_count": 180,
   "id": "fa5151b7-3823-43fa-a040-8635c91a6dc1",
   "metadata": {},
   "outputs": [
    {
     "name": "stdout",
     "output_type": "stream",
     "text": [
      "[[1 2 3]\n",
      " [4 5 6]]\n"
     ]
    }
   ],
   "source": [
    "a1 = ([1, 2, 3], [4, 5, 6])\n",
    "print(np.empty_like(a1))"
   ]
  },
  {
   "cell_type": "code",
   "execution_count": 186,
   "id": "412c37a6-1d08-4812-b5ab-bf7eb5d90c75",
   "metadata": {},
   "outputs": [
    {
     "name": "stdout",
     "output_type": "stream",
     "text": [
      "[[4.9e-324 9.9e-324 1.5e-323]\n",
      " [2.0e-323 2.5e-323 3.0e-323]]\n"
     ]
    }
   ],
   "source": [
    "a1 = [[1., 2, 3], [4, 5, 6]]\n",
    "print(np.empty_like(a1))"
   ]
  },
  {
   "cell_type": "code",
   "execution_count": 185,
   "id": "7593183d-35cb-4e57-a7eb-fe4f784990e5",
   "metadata": {},
   "outputs": [
    {
     "name": "stdout",
     "output_type": "stream",
     "text": [
      "[[4.9e-324 9.9e-324 1.5e-323]\n",
      " [2.0e-323 2.5e-323 3.0e-323]]\n"
     ]
    }
   ],
   "source": [
    "a1 = np.array([[1., 2, 3], [4, 5, 6]])\n",
    "print(np.empty_like(a1))"
   ]
  },
  {
   "cell_type": "markdown",
   "id": "b3693cd3-9e37-4f60-8f6a-1f068fbe5285",
   "metadata": {},
   "source": [
    "`np.eye()` return a 2-D array with ones on the diagonal and zeros elsewhere."
   ]
  },
  {
   "cell_type": "code",
   "execution_count": 211,
   "id": "2c790f7b-5eee-4fc9-a9ef-2c51121ff224",
   "metadata": {},
   "outputs": [
    {
     "name": "stdout",
     "output_type": "stream",
     "text": [
      "[[1. 0. 0.]\n",
      " [0. 1. 0.]\n",
      " [0. 0. 1.]] \n",
      "\n",
      "[[0 1 0]\n",
      " [0 0 1]\n",
      " [0 0 0]] \n",
      "\n",
      "[[1. 0.]\n",
      " [0. 1.]\n",
      " [0. 0.]] \n",
      "\n",
      "[[0 0]\n",
      " [1 0]\n",
      " [0 1]] \n",
      "\n",
      "[[0 1]\n",
      " [0 0]\n",
      " [0 0]] \n",
      "\n"
     ]
    }
   ],
   "source": [
    "#help(np.eye)\n",
    "\n",
    "print(np.eye(3), '\\n')                      # default index of diagonal (k) = 0\n",
    "print(np.eye(3, k=1, dtype=int), '\\n')     # index of diagonal = 1\n",
    "\n",
    "print(np.eye(3, 2), '\\n')                   # default index of diagonal (k) = 0\n",
    "print(np.eye(3, 2, k=-1, dtype=int), '\\n')  # index of diagonal = -1\n",
    "print(np.eye(3, 2, k=1, dtype=int), '\\n')  # index of diagonal = 1"
   ]
  },
  {
   "cell_type": "markdown",
   "id": "ca299c06-bc02-4ff4-a2db-3a50710f196d",
   "metadata": {},
   "source": [
    "`np.identity` return a square array with ones on the main diagonal."
   ]
  },
  {
   "cell_type": "code",
   "execution_count": 235,
   "id": "cb041314-edd0-44a8-8697-bcf2ac869f19",
   "metadata": {},
   "outputs": [
    {
     "name": "stdout",
     "output_type": "stream",
     "text": [
      "[[1. 0. 0.]\n",
      " [0. 1. 0.]\n",
      " [0. 0. 1.]] \n",
      "\n",
      "[[1 0]\n",
      " [0 1]] \n",
      "\n"
     ]
    }
   ],
   "source": [
    "#help(np.identity)\n",
    "print(np.identity(3), '\\n')\n",
    "print(np.identity(2, dtype=int), '\\n')"
   ]
  },
  {
   "cell_type": "markdown",
   "id": "79b6da28-9b49-44db-86e1-d82146a50eea",
   "metadata": {},
   "source": [
    "`np.ones`  return a new array (1D, 2D, 3D, or higher dimensional) of given shape and type, filled with ones."
   ]
  },
  {
   "cell_type": "code",
   "execution_count": 231,
   "id": "836b6c39-870c-49c2-b6f3-0b44f39b720d",
   "metadata": {},
   "outputs": [
    {
     "name": "stdout",
     "output_type": "stream",
     "text": [
      "[[1 1 1]\n",
      " [1 1 1]] \n",
      "\n",
      "[1 1 1] \n",
      "\n"
     ]
    }
   ],
   "source": [
    "#help(np.ones)\n",
    "print(np.ones((2,3), dtype = int), '\\n')\n",
    "print(np.ones(3, dtype = int), '\\n')"
   ]
  },
  {
   "cell_type": "markdown",
   "id": "a671dad4-18c3-420c-90af-fde2886d0dfc",
   "metadata": {},
   "source": [
    "`np.zeros` return a new array (1D, 2D, 3D, or higher dimensional) of given shape and type, filled with zeros."
   ]
  },
  {
   "cell_type": "code",
   "execution_count": 247,
   "id": "0567edeb-bf9b-4924-a9bc-3dc380f61915",
   "metadata": {},
   "outputs": [
    {
     "name": "stdout",
     "output_type": "stream",
     "text": [
      "[0 0 0] \n",
      "\n",
      "[[0. 0.]\n",
      " [0. 0.]\n",
      " [0. 0.]] \n",
      "\n"
     ]
    }
   ],
   "source": [
    "#help(np.zeros)\n",
    "print(np.zeros(3, dtype=int), '\\n')\n",
    "\n",
    "print(np.zeros((3,2)), '\\n')"
   ]
  },
  {
   "cell_type": "markdown",
   "id": "91b7fb99-b665-4c6c-85ec-b2d63183e353",
   "metadata": {},
   "source": [
    "`np.full` return a new array (1D, 2D, 3D, or higher dimensional) of given shape and type, filled with `fill_values`."
   ]
  },
  {
   "cell_type": "code",
   "execution_count": 273,
   "id": "7ef63162-2898-413e-91db-adf77305137e",
   "metadata": {},
   "outputs": [
    {
     "name": "stdout",
     "output_type": "stream",
     "text": [
      "[[2 2 2]\n",
      " [2 2 2]] \n",
      "\n",
      "[2 2] \n",
      "\n",
      "[[1. 2.]\n",
      " [1. 2.]\n",
      " [1. 2.]] \n",
      "\n",
      "[[1. 1. 1.]\n",
      " [2. 2. 2.]] \n",
      "\n"
     ]
    }
   ],
   "source": [
    "#help(np.full)\n",
    "print(np.full((2,3), 2), '\\n')\n",
    "\n",
    "print(np.full(2, 2), '\\n')\n",
    "\n",
    "print(np.full((3,2), [1, 2.]), '\\n')     # row wise\n",
    "\n",
    "print(np.full((2,3), [[1], [2.]]), '\\n') # column wise\n",
    "\n",
    "#print(np.full((2,3), [1, 2.]), '\\n')     # could not broadcast input array from shape (2,) into shape (2,3)\n",
    "\n",
    "#print(np.full((3,2), [[1], [2.]]), '\\n') # could not broadcast input array from shape (2,1) into shape (3,2)"
   ]
  },
  {
   "cell_type": "markdown",
   "id": "15bb637c-231e-4fa0-bd7b-dee45f54c95d",
   "metadata": {},
   "source": [
    "### Arrays useful in matrices"
   ]
  },
  {
   "cell_type": "markdown",
   "id": "2ca405ad-1804-4f4f-a77b-8e673a163b12",
   "metadata": {},
   "source": [
    "`np.diag` extract a diagonal or construct a diagonal array. "
   ]
  },
  {
   "cell_type": "code",
   "execution_count": 288,
   "id": "3f4bc3b0-5a04-445e-a2dc-8ab627af37b8",
   "metadata": {},
   "outputs": [
    {
     "name": "stdout",
     "output_type": "stream",
     "text": [
      "[[0 1 2]\n",
      " [3 4 5]\n",
      " [6 7 8]] \n",
      "\n",
      "[0 4 8] \n",
      "\n",
      "[[0 0 0]\n",
      " [0 4 0]\n",
      " [0 0 8]] \n",
      "\n",
      "[[1 0 0]\n",
      " [0 2 0]\n",
      " [0 0 3]] \n",
      "\n",
      "[[1 0 0]\n",
      " [0 2 0]\n",
      " [0 0 3]] \n",
      "\n",
      "[1 4] \n",
      "\n"
     ]
    }
   ],
   "source": [
    "#help(np.diag)\n",
    "x = np.arange(9).reshape((3,3))\n",
    "print(x, '\\n')\n",
    "\n",
    "d = np.diag(x)                                 # extract diagonal array from a 2D array.\n",
    "print(d, '\\n') \n",
    "\n",
    "print(np.diag(d), '\\n')                        # construct a diagonal array from 1D array.\n",
    "\n",
    "print(np.diag(np.array([1, 2, 3])), '\\n')      # construct a diagonal array from 1D array.\n",
    "\n",
    "print(np.diag([1, 2, 3]), '\\n')                # construct a diagonal array from 1D list.\n",
    "\n",
    "print(np.diag([[1, 2], [3, 4]]), '\\n')         # extract diagonal array from a 2D list."
   ]
  },
  {
   "cell_type": "markdown",
   "id": "068f2cc9-027a-48ca-a958-0c72fde75fb2",
   "metadata": {},
   "source": [
    "Create a two-dimensional array with the flattened input as a diagonal."
   ]
  },
  {
   "cell_type": "code",
   "execution_count": 307,
   "id": "5c464105-9242-470e-aced-3cc6be0de8fb",
   "metadata": {},
   "outputs": [
    {
     "name": "stdout",
     "output_type": "stream",
     "text": [
      "[[1 0 0 0]\n",
      " [0 2 0 0]\n",
      " [0 0 3 0]\n",
      " [0 0 0 4]] \n",
      "\n",
      "[[1 0 0 0]\n",
      " [0 2 0 0]\n",
      " [0 0 3 0]\n",
      " [0 0 0 4]] \n",
      "\n",
      "[[0 1 0 0 0]\n",
      " [0 0 2 0 0]\n",
      " [0 0 0 3 0]\n",
      " [0 0 0 0 4]\n",
      " [0 0 0 0 0]] \n",
      "\n",
      "[[0 1 0 0 0]\n",
      " [0 0 2 0 0]\n",
      " [0 0 0 3 0]\n",
      " [0 0 0 0 4]\n",
      " [0 0 0 0 0]] \n",
      "\n",
      "[[0 0 0 0 0 0]\n",
      " [0 0 0 0 0 0]\n",
      " [1 0 0 0 0 0]\n",
      " [0 2 0 0 0 0]\n",
      " [0 0 3 0 0 0]\n",
      " [0 0 0 4 0 0]] \n",
      "\n",
      "[[0 0 0 0 0 0]\n",
      " [0 0 0 0 0 0]\n",
      " [1 0 0 0 0 0]\n",
      " [0 2 0 0 0 0]\n",
      " [0 0 3 0 0 0]\n",
      " [0 0 0 4 0 0]] \n",
      "\n"
     ]
    }
   ],
   "source": [
    "#help(np.diagflat)\n",
    "\n",
    "print(np.diagflat([1,2,3,4]), '\\n')           # default diagonal index (k) = 0\n",
    "\n",
    "print(np.diagflat([[1,2], [3,4]]), '\\n')      # default diagonal index (k) = 0\n",
    "\n",
    "print(np.diagflat([1,2,3,4], 1), '\\n')        # k =1, To fit four values the square array becomes 5x5\n",
    "\n",
    "print(np.diagflat([[1,2], [3,4]], 1), '\\n')   # k =1, To fit four values the square array becomes 5x5\n",
    "\n",
    "print(np.diagflat([1,2,3,4], -2), '\\n')       # k =-2, To fit four values the square array becomes 6x6\n",
    "\n",
    "print(np.diagflat([[[1],[2]], [[3],[4]]], -2), '\\n') # k =-2, To fit four values the square array becomes 6x6"
   ]
  },
  {
   "cell_type": "markdown",
   "id": "c1c5894c-3e0d-4a38-9b6e-388059ed9b77",
   "metadata": {},
   "source": [
    "An array with ones at and below the given diagonal and zeros elsewhere."
   ]
  },
  {
   "cell_type": "code",
   "execution_count": 326,
   "id": "307bfe53-713d-45f9-9af3-61726d102c08",
   "metadata": {},
   "outputs": [
    {
     "name": "stdout",
     "output_type": "stream",
     "text": [
      "[[1. 0. 0.]\n",
      " [1. 1. 0.]\n",
      " [1. 1. 1.]] \n",
      "\n",
      "[[1. 0. 0.]\n",
      " [1. 1. 0.]] \n",
      "\n",
      "[[1. 1. 0.]\n",
      " [1. 1. 1.]] \n",
      "\n",
      "[[1 1 0]\n",
      " [1 1 1]\n",
      " [1 1 1]] \n",
      "\n"
     ]
    }
   ],
   "source": [
    "#help(np.tri)\n",
    "print(np.tri(3), '\\n')                    # default diagonal index (k) = 0\n",
    "\n",
    "print(np.tri(2, 3), '\\n')                 # default diagonal index (k) = 0\n",
    "\n",
    "print(np.tri(2, 3, k=1), '\\n')            # k = 1\n",
    "\n",
    "print(np.tri(3, k=1, dtype=int), '\\n')    # k = 1"
   ]
  },
  {
   "cell_type": "code",
   "execution_count": null,
   "id": "d58a2b9f-4be6-4481-95f3-7a98d8cc7b52",
   "metadata": {},
   "outputs": [],
   "source": []
  },
  {
   "cell_type": "code",
   "execution_count": null,
   "id": "603bf9c1-1a98-445d-8b75-d703c591d979",
   "metadata": {},
   "outputs": [],
   "source": []
  },
  {
   "cell_type": "markdown",
   "id": "ee05c8a7-858a-4fbb-bc7e-c5b192a41185",
   "metadata": {},
   "source": [
    "## Data type"
   ]
  },
  {
   "cell_type": "markdown",
   "id": "be18f94f-5d7a-4a25-b383-999ecf4176f0",
   "metadata": {},
   "source": [
    "### # Convert to specific type with _astype()_. Original array remains unchanged."
   ]
  },
  {
   "cell_type": "code",
   "execution_count": 216,
   "id": "4d0b4dd2-4be6-46c5-970b-4b26ffdf67e4",
   "metadata": {},
   "outputs": [
    {
     "name": "stdout",
     "output_type": "stream",
     "text": [
      "[2 4 5 6]\n"
     ]
    }
   ],
   "source": [
    "a = np.array([2, 4, 5, 6])\n",
    "print(a)"
   ]
  },
  {
   "cell_type": "code",
   "execution_count": 223,
   "id": "c76a9757-7f16-408f-ae7b-71ad57263945",
   "metadata": {},
   "outputs": [
    {
     "name": "stdout",
     "output_type": "stream",
     "text": [
      "[2. 4. 5. 6.]\n",
      "[2. 4. 5. 6.]\n",
      "[2. 4. 5. 6.]\n"
     ]
    }
   ],
   "source": [
    "print(a.astype('f4'))\n",
    "print(a.astype('f8'))\n",
    "print(a.astype(float))"
   ]
  },
  {
   "cell_type": "code",
   "execution_count": 224,
   "id": "d3548836-1da9-4ee2-b7ae-16dfd34df39a",
   "metadata": {},
   "outputs": [
    {
     "name": "stdout",
     "output_type": "stream",
     "text": [
      "[2.+0.j 4.+0.j 5.+0.j 6.+0.j]\n"
     ]
    }
   ],
   "source": [
    "print(a.astype('complex'))"
   ]
  },
  {
   "cell_type": "code",
   "execution_count": 226,
   "id": "ce2cdfca-592f-4fbb-bd30-e39db1f7ba57",
   "metadata": {},
   "outputs": [
    {
     "name": "stdout",
     "output_type": "stream",
     "text": [
      "[2 4 5 6]\n"
     ]
    }
   ],
   "source": [
    "print(a)  # original array remains unchanged"
   ]
  },
  {
   "cell_type": "markdown",
   "id": "fe0b4e13-1245-4cc3-a253-edde35ef96a3",
   "metadata": {},
   "source": [
    "## Properties of Complex Arrays"
   ]
  },
  {
   "cell_type": "code",
   "execution_count": 236,
   "id": "bf028294-e8b0-4539-b9c7-b2379e04ab9c",
   "metadata": {},
   "outputs": [
    {
     "ename": "SyntaxError",
     "evalue": "invalid syntax (1741806980.py, line 1)",
     "output_type": "error",
     "traceback": [
      "\u001b[0;36m  File \u001b[0;32m\"/tmp/ipykernel_742407/1741806980.py\"\u001b[0;36m, line \u001b[0;32m1\u001b[0m\n\u001b[0;31m    z = np.array([2+3i, 5+2i, 3-1i])\u001b[0m\n\u001b[0m                     ^\u001b[0m\n\u001b[0;31mSyntaxError\u001b[0m\u001b[0;31m:\u001b[0m invalid syntax\n"
     ]
    }
   ],
   "source": [
    "z = np.array([2+3i, 5+2i, 3-1i]) "
   ]
  },
  {
   "cell_type": "code",
   "execution_count": 230,
   "id": "78c46444-ee21-4ffd-ab9a-9d708a811180",
   "metadata": {},
   "outputs": [],
   "source": [
    "z = np.array([2+3j, 5+2j, 3-1j]) # only j is allowed"
   ]
  },
  {
   "cell_type": "code",
   "execution_count": 235,
   "id": "76637e9a-37c0-4172-ae0d-eea3b09e6f24",
   "metadata": {},
   "outputs": [
    {
     "name": "stdout",
     "output_type": "stream",
     "text": [
      "[2. 5. 3.]\n",
      "[ 3.  2. -1.]\n",
      "[2.-3.j 5.-2.j 3.+1.j]\n"
     ]
    }
   ],
   "source": [
    "print(z.real)        # Real part\n",
    "print(z.imag)        # Imaginary part\n",
    "print(z.conj())      # Complex conjugate"
   ]
  },
  {
   "cell_type": "markdown",
   "id": "734df5a8-af0a-41b9-b861-119b18fdc3e6",
   "metadata": {},
   "source": [
    "## Indexing and Slicing"
   ]
  },
  {
   "cell_type": "markdown",
   "id": "689bfb4a-e77e-4337-9d14-f2d828a658e9",
   "metadata": {},
   "source": [
    "Indexing and slicing of 1D array are same as 2D list or tuple."
   ]
  },
  {
   "cell_type": "code",
   "execution_count": 244,
   "id": "34ef39cc-8fa5-428f-8c18-3d19a3b5ab73",
   "metadata": {},
   "outputs": [],
   "source": [
    "lst1 = [3, 5, 7, 11, 13, 17]\n",
    "arr1 = np.array(lst1)"
   ]
  },
  {
   "cell_type": "code",
   "execution_count": 258,
   "id": "98dd8234-73a1-4e83-b6dc-55346291f7d2",
   "metadata": {},
   "outputs": [
    {
     "name": "stdout",
     "output_type": "stream",
     "text": [
      "3\n",
      "[3, 5, 7]\n",
      "[17, 13, 11, 7, 5, 3]\n",
      "[3, 5, 7, 11, 13]\n"
     ]
    }
   ],
   "source": [
    "print(lst1[0])\n",
    "print(lst1[:3])\n",
    "print(lst1[::-1]) # Here -1 is step size (positional argument) by position.\n",
    "print(lst1[:-1])  # Here -1 is stop value (positional argument) by position."
   ]
  },
  {
   "cell_type": "code",
   "execution_count": 259,
   "id": "24e0e152-cab2-4da2-87c6-889dd28769e1",
   "metadata": {},
   "outputs": [
    {
     "name": "stdout",
     "output_type": "stream",
     "text": [
      "3\n",
      "[3 5 7]\n",
      "17\n",
      "17\n",
      "[17 13 11  7  5  3]\n",
      "[17 11  5]\n",
      "[ 3  5  7 11 13]\n",
      "3\n"
     ]
    }
   ],
   "source": [
    "print(arr1[0])\n",
    "print(arr1[:3])\n",
    "print(arr1[5])\n",
    "print(arr1[-1])\n",
    "print(arr1[::-1]) # Here -1 is step size (positional argument) by position.\n",
    "print(arr1[::-2])\n",
    "print(arr1[:-1])  # Here -1 is stop value (positional argument) by position.\n",
    "print(arr1[-6])"
   ]
  },
  {
   "cell_type": "markdown",
   "id": "80955090-747e-410e-8302-0ea8ad043a38",
   "metadata": {},
   "source": [
    "The usual way used for indexing or slicing 2D array is different from that used for 2D list or tuple."
   ]
  },
  {
   "cell_type": "code",
   "execution_count": 293,
   "id": "c1a56529-00cb-4399-8144-a8eadef3e5af",
   "metadata": {},
   "outputs": [
    {
     "name": "stdout",
     "output_type": "stream",
     "text": [
      "[[ 3  5  7]\n",
      " [11 13 17]]\n"
     ]
    }
   ],
   "source": [
    "lst2 = [[3, 5, 7], [11, 13, 17]]\n",
    "arr2 = np.array(lst2)\n",
    "print(arr2)"
   ]
  },
  {
   "cell_type": "code",
   "execution_count": 329,
   "id": "d26e51bc-1e0e-40c0-b2ca-989419760aae",
   "metadata": {},
   "outputs": [
    {
     "name": "stdout",
     "output_type": "stream",
     "text": [
      "5\n",
      "[11, 13, 17]\n",
      "[11, 13, 17]\n",
      "11\n"
     ]
    }
   ],
   "source": [
    "print(lst2[0][1])\n",
    "print(lst2[:][1])\n",
    "print(lst2[1][:])\n",
    "print(lst2[1][0])"
   ]
  },
  {
   "cell_type": "code",
   "execution_count": 279,
   "id": "da46b007-c947-468f-9701-532850392a50",
   "metadata": {},
   "outputs": [
    {
     "name": "stdout",
     "output_type": "stream",
     "text": [
      "5\n",
      "5\n"
     ]
    }
   ],
   "source": [
    "print(arr2[0][1])\n",
    "#or\n",
    "print(arr2[0, 1]) # This does not work for 2D list or tuple"
   ]
  },
  {
   "cell_type": "code",
   "execution_count": 288,
   "id": "c9d142d9-6437-4e22-855a-4cc71f46e7cd",
   "metadata": {},
   "outputs": [
    {
     "name": "stdout",
     "output_type": "stream",
     "text": [
      "[11 13 17]\n",
      "[11 13 17]\n",
      "11\n"
     ]
    }
   ],
   "source": [
    "print(arr2[:][1])\n",
    "print(arr2[1][:])\n",
    "\n",
    "print(arr2[1][0])"
   ]
  },
  {
   "cell_type": "code",
   "execution_count": 409,
   "id": "729f05a8-c554-4aff-bd80-c8e3c220dd4e",
   "metadata": {},
   "outputs": [
    {
     "name": "stdout",
     "output_type": "stream",
     "text": [
      "[[11 13 17]]\n",
      "2\n",
      "(1, 3)\n"
     ]
    }
   ],
   "source": [
    "print(arr2[[1],:]) # Slicing 2nd row\n",
    "print(arr2[[1],:].ndim)\n",
    "print(arr2[[1],:].shape) # 1 row 3 columns"
   ]
  },
  {
   "cell_type": "code",
   "execution_count": 410,
   "id": "c275443a-b75c-4d91-963d-f6afe4a23325",
   "metadata": {},
   "outputs": [
    {
     "name": "stdout",
     "output_type": "stream",
     "text": [
      "[11 13 17]\n",
      "1\n",
      "(3,)\n"
     ]
    }
   ],
   "source": [
    "print(arr2[1,:]) # see the difference with previous one\n",
    "print(arr2[1,:].ndim)\n",
    "print(arr2[1,:].shape) # 3 elements"
   ]
  },
  {
   "cell_type": "markdown",
   "id": "3d7e30cd-b320-4214-a9eb-7e0324c88d02",
   "metadata": {},
   "source": [
    "Here two elements of 2nd column of two rows form an array or row. 5 and 13 in the same row."
   ]
  },
  {
   "cell_type": "code",
   "execution_count": 289,
   "id": "eb8c292b-dbb8-4e17-ac68-cd535e40747b",
   "metadata": {},
   "outputs": [
    {
     "name": "stdout",
     "output_type": "stream",
     "text": [
      "[ 5 13]\n"
     ]
    }
   ],
   "source": [
    "print(arr2[:,1])   # Slicing the 2nd column # This does not work for 2D list or tuple"
   ]
  },
  {
   "cell_type": "markdown",
   "id": "2e6634ba-a236-4f54-b173-370baef08231",
   "metadata": {},
   "source": [
    "This is actually slicicng of one column from the 2D array but no rearrangement of the elemnts occurs. 5 and 13 are retained in their rows."
   ]
  },
  {
   "cell_type": "code",
   "execution_count": 298,
   "id": "c43403a9-48c2-4c35-844e-d2c5d6e1def1",
   "metadata": {},
   "outputs": [
    {
     "name": "stdout",
     "output_type": "stream",
     "text": [
      "[[ 5]\n",
      " [13]]\n"
     ]
    }
   ],
   "source": [
    "print(arr2[:,1:2]) # This does not work for 2D list or tuple"
   ]
  },
  {
   "cell_type": "markdown",
   "id": "c29127c5-2498-4c64-b74e-ea50c2f24362",
   "metadata": {},
   "source": [
    "This is actually slicicng of two columns from the 2D array but no rearrangement of the elemnts occurs. 5, 7 and 13, 17 are aretained in their original rows."
   ]
  },
  {
   "cell_type": "code",
   "execution_count": 299,
   "id": "63da9c08-c630-40ae-a4dc-077f4ae25492",
   "metadata": {},
   "outputs": [
    {
     "name": "stdout",
     "output_type": "stream",
     "text": [
      "[[ 5  7]\n",
      " [13 17]]\n"
     ]
    }
   ],
   "source": [
    "print(arr2[:,1:]) # Slicing 2nd and 3rd columns  # This does not work for 2D list or tuple"
   ]
  },
  {
   "cell_type": "code",
   "execution_count": 300,
   "id": "e74ef8de-f156-4426-94f5-37d96d9baee9",
   "metadata": {},
   "outputs": [
    {
     "name": "stdout",
     "output_type": "stream",
     "text": [
      "[[ 3  7]\n",
      " [11 17]]\n"
     ]
    }
   ],
   "source": [
    "print(arr2[:,::2])  # Slicing 1st and 2nd columns  # This does not work for 2D list or tuple"
   ]
  },
  {
   "cell_type": "code",
   "execution_count": 330,
   "id": "b44d8c28-0672-40c4-85f1-872121e34c65",
   "metadata": {},
   "outputs": [
    {
     "name": "stdout",
     "output_type": "stream",
     "text": [
      "[[ 5  7]\n",
      " [13 17]]\n"
     ]
    }
   ],
   "source": [
    "print(arr2[:,[1,2]]) #Slicing 1st and 2nd columns"
   ]
  },
  {
   "cell_type": "code",
   "execution_count": 335,
   "id": "629ca1ef-2243-4075-b1db-6fef0c5efa45",
   "metadata": {},
   "outputs": [
    {
     "name": "stdout",
     "output_type": "stream",
     "text": [
      "[[ 3  7]\n",
      " [11 17]]\n"
     ]
    }
   ],
   "source": [
    "print(arr2[:,[0,2]]) #Slicing 1st and 3rd columns"
   ]
  },
  {
   "cell_type": "code",
   "execution_count": 395,
   "id": "d2ca8982-220d-4e36-8f22-6ba228fa196f",
   "metadata": {},
   "outputs": [
    {
     "name": "stdout",
     "output_type": "stream",
     "text": [
      "[[ 5]\n",
      " [13]]\n"
     ]
    }
   ],
   "source": [
    "print(arr2[:,[1]]) # Slicing 2nd column"
   ]
  },
  {
   "cell_type": "code",
   "execution_count": 411,
   "id": "72c0ec70-b54b-4ae5-a193-913bd04e7a32",
   "metadata": {},
   "outputs": [
    {
     "name": "stdout",
     "output_type": "stream",
     "text": [
      "[ 5 13]\n"
     ]
    }
   ],
   "source": [
    "print(arr2[:,1]) # see the difference with previous one"
   ]
  },
  {
   "cell_type": "code",
   "execution_count": 302,
   "id": "a349c940-74b2-4b12-b6b3-cbed4c5b55c5",
   "metadata": {},
   "outputs": [
    {
     "name": "stdout",
     "output_type": "stream",
     "text": [
      "[[ 3  5  7]\n",
      " [11 13 17]]\n",
      "[[ 7  5  3]\n",
      " [17 13 11]]\n"
     ]
    }
   ],
   "source": [
    "print(arr2)\n",
    "print(arr2[:,::-1]) # Reversing the rows i.e. column swaping between 1st and 3rd columns."
   ]
  },
  {
   "cell_type": "code",
   "execution_count": 304,
   "id": "b45383d1-1b2f-4708-962a-c91fb94d653b",
   "metadata": {},
   "outputs": [
    {
     "name": "stdout",
     "output_type": "stream",
     "text": [
      "[[ 3  5  7]\n",
      " [11 13 17]]\n",
      "[[11 13 17]\n",
      " [ 3  5  7]]\n"
     ]
    }
   ],
   "source": [
    "print(arr2)\n",
    "print(arr2[::-1,:]) # Reversing the columns i.e. row swaping between 1st and 2nd rows."
   ]
  },
  {
   "cell_type": "markdown",
   "id": "c19163cd-5c31-46da-9a7e-2888438a268d",
   "metadata": {},
   "source": [
    "## Swap Two Elements/Rows/Columns"
   ]
  },
  {
   "cell_type": "markdown",
   "id": "94d509f7-c151-460f-9f36-74c0db12de2c",
   "metadata": {},
   "source": [
    "### # Swaping two elements"
   ]
  },
  {
   "cell_type": "code",
   "execution_count": 383,
   "id": "9ec18ce8-9a9a-4962-9f79-a38ec13e2e4c",
   "metadata": {},
   "outputs": [
    {
     "name": "stdout",
     "output_type": "stream",
     "text": [
      "[[ 3  5  7]\n",
      " [11 13 17]\n",
      " [19 23 27]] \n",
      "\n",
      "[[ 3 11  7]\n",
      " [ 5 13 17]\n",
      " [19 23 27]]\n"
     ]
    }
   ],
   "source": [
    "lst3 = [[3, 5, 7], [11, 13, 17], [19, 23, 27]]\n",
    "arr3 = np.array(lst3)\n",
    "print(arr3, '\\n')\n",
    "\n",
    "e01 = arr3[0, 1]\n",
    "e10 = arr3[1, 0]\n",
    "arr3[0, 1] = e10 # e01 is replaced by e10\n",
    "arr3[1, 0] = e01 # e10 is replaced by e01\n",
    "print(arr3)"
   ]
  },
  {
   "cell_type": "code",
   "execution_count": 382,
   "id": "26c915b1-31f0-40aa-87a4-1016bc1f8154",
   "metadata": {},
   "outputs": [
    {
     "name": "stdout",
     "output_type": "stream",
     "text": [
      "[[ 3  5  7]\n",
      " [11 13 17]\n",
      " [19 23 27]] \n",
      "\n",
      "[[ 3 11  7]\n",
      " [ 5 13 17]\n",
      " [19 23 27]]\n"
     ]
    }
   ],
   "source": [
    "lst3 = [[3, 5, 7], [11, 13, 17], [19, 23, 27]]\n",
    "arr3 = np.array(lst3)\n",
    "print(arr3, '\\n')\n",
    "\n",
    "arr3[0, 1], arr3[1, 0] = arr3[1, 0], arr3[0, 1]\n",
    "print(arr3)"
   ]
  },
  {
   "cell_type": "markdown",
   "id": "bfc69059-d349-4fb4-be0c-331dba0af9ac",
   "metadata": {},
   "source": [
    "### # Swaping two rows"
   ]
  },
  {
   "cell_type": "code",
   "execution_count": 393,
   "id": "e0d13339-1c7e-4fe9-9719-ee4672de6f02",
   "metadata": {},
   "outputs": [
    {
     "name": "stdout",
     "output_type": "stream",
     "text": [
      "[[ 3  5  7]\n",
      " [11 13 17]\n",
      " [19 23 27]] \n",
      "\n",
      "[[ 3  5  7]\n",
      " [19 23 27]] \n",
      "\n",
      "[[ 3  5  7]\n",
      " [19 23 27]] \n",
      "\n",
      "[[3 5 7]] \n",
      "\n",
      "[3 5 7]\n"
     ]
    }
   ],
   "source": [
    "lst3 = [[3, 5, 7], [11, 13, 17], [19, 23, 27]]\n",
    "arr3 = np.array(lst3)\n",
    "print(arr3, '\\n')\n",
    "\n",
    "print(arr3[[0,2]], '\\n')       # Slicing 1st and 3rd rows\n",
    "print(arr3[[0,2], :], '\\n')    # Slicing 1st and 3rd rows\n",
    "\n",
    "print(arr3[[0], :], '\\n') # see the difference\n",
    "print(arr3[0, :])"
   ]
  },
  {
   "cell_type": "code",
   "execution_count": 376,
   "id": "2a2dfd71-00c4-43ee-8beb-e812b7a4583a",
   "metadata": {},
   "outputs": [
    {
     "name": "stdout",
     "output_type": "stream",
     "text": [
      "[[ 3  5  7]\n",
      " [11 13 17]\n",
      " [19 23 27]] \n",
      "\n",
      "[[19 23 27]\n",
      " [11 13 17]\n",
      " [ 3  5  7]]\n"
     ]
    }
   ],
   "source": [
    "lst3 = [[3, 5, 7], [11, 13, 17], [19, 23, 27]]\n",
    "arr3 = np.array(lst3)\n",
    "print(arr3, '\\n')\n",
    "\n",
    "arr3[[0,2]] = arr3[[2,0]] # Swaping 1st and 3rd rows\n",
    "print(arr3)"
   ]
  },
  {
   "cell_type": "code",
   "execution_count": 377,
   "id": "9ed62b21-ab34-4b67-8e4f-1317f27d0f0b",
   "metadata": {},
   "outputs": [
    {
     "name": "stdout",
     "output_type": "stream",
     "text": [
      "[[ 3  5  7]\n",
      " [11 13 17]\n",
      " [19 23 27]] \n",
      "\n",
      "[[19 23 27]\n",
      " [11 13 17]\n",
      " [ 3  5  7]]\n"
     ]
    }
   ],
   "source": [
    "lst3 = [[3, 5, 7], [11, 13, 17], [19, 23, 27]]\n",
    "arr3 = np.array(lst3)\n",
    "print(arr3, '\\n')\n",
    "\n",
    "arr3[[0,2], :] = arr3[[2,0], :] # Swaping 1st and 3rd rows\n",
    "print(arr3)"
   ]
  },
  {
   "cell_type": "code",
   "execution_count": 378,
   "id": "9ea57ef0-152e-4445-b396-a367804ff15b",
   "metadata": {},
   "outputs": [
    {
     "name": "stdout",
     "output_type": "stream",
     "text": [
      "[[ 3  5  7]\n",
      " [11 13 17]\n",
      " [19 23 27]] \n",
      "\n",
      "[[19 23 27]\n",
      " [11 13 17]\n",
      " [ 3  5  7]]\n"
     ]
    }
   ],
   "source": [
    "lst3 = [[3, 5, 7], [11, 13, 17], [19, 23, 27]]\n",
    "arr3 = np.array(lst3)\n",
    "print(arr3, '\\n')\n",
    "\n",
    "arr3[[0], :], arr3[[2], :] = arr3[[2], :], arr3[[0], :]    # Swaping 1st and 3rd rows\n",
    "print(arr3)"
   ]
  },
  {
   "cell_type": "markdown",
   "id": "8c32ce3e-bbb9-4ee1-874f-4c760e32e9ae",
   "metadata": {},
   "source": [
    "### # Swaping two columns"
   ]
  },
  {
   "cell_type": "code",
   "execution_count": 388,
   "id": "c5de6080-a113-4ad5-ade8-6f04b49175e0",
   "metadata": {},
   "outputs": [
    {
     "name": "stdout",
     "output_type": "stream",
     "text": [
      "[[ 3  5  7]\n",
      " [11 13 17]\n",
      " [19 23 27]] \n",
      "\n",
      "[[ 3  7]\n",
      " [11 17]\n",
      " [19 27]] \n",
      "\n",
      "[[ 3]\n",
      " [11]\n",
      " [19]] \n",
      "\n",
      "[ 3 11 19]\n"
     ]
    }
   ],
   "source": [
    "lst3 = [[3, 5, 7], [11, 13, 17], [19, 23, 27]]\n",
    "arr3 = np.array(lst3)\n",
    "print(arr3, '\\n')\n",
    "\n",
    "print(arr3[:, [0,2]], '\\n')       # Slicing 1st and 3rd columns\n",
    "\n",
    "print(arr3[:, [0]], '\\n')\n",
    "print(arr3[:, 0])"
   ]
  },
  {
   "cell_type": "code",
   "execution_count": 380,
   "id": "00b95e2c-f657-41fb-b0bb-f9b4ab610876",
   "metadata": {},
   "outputs": [
    {
     "name": "stdout",
     "output_type": "stream",
     "text": [
      "[[ 3  5  7]\n",
      " [11 13 17]\n",
      " [19 23 27]] \n",
      "\n",
      "[[ 7  5  3]\n",
      " [17 13 11]\n",
      " [27 23 19]]\n"
     ]
    }
   ],
   "source": [
    "lst3 = [[3, 5, 7], [11, 13, 17], [19, 23, 27]]\n",
    "arr3 = np.array(lst3)\n",
    "print(arr3, '\\n')\n",
    "\n",
    "arr3[:, [0,2]] = arr3[:, [2,0]]  # Swaping 1st and 3rd columns\n",
    "print(arr3)"
   ]
  },
  {
   "cell_type": "code",
   "execution_count": 386,
   "id": "f87d5c36-a859-428e-b52e-392202670246",
   "metadata": {},
   "outputs": [
    {
     "name": "stdout",
     "output_type": "stream",
     "text": [
      "[[ 3  5  7]\n",
      " [11 13 17]\n",
      " [19 23 27]] \n",
      "\n",
      "[[ 7  5  3]\n",
      " [17 13 11]\n",
      " [27 23 19]]\n"
     ]
    }
   ],
   "source": [
    "lst3 = [[3, 5, 7], [11, 13, 17], [19, 23, 27]]\n",
    "arr3 = np.array(lst3)\n",
    "print(arr3,'\\n')\n",
    "\n",
    "arr3[:, [0]], arr3[:, [2]] = arr3[:, [2]], arr3[:, [0]] # Swaping 1st and 3rd columns\n",
    "print(arr3)"
   ]
  },
  {
   "cell_type": "markdown",
   "id": "d554903d-b0f5-439d-b836-0e83bdb011c8",
   "metadata": {},
   "source": [
    "## Shape, Reshape, Size, Resize"
   ]
  },
  {
   "cell_type": "markdown",
   "id": "6fdcf3d8-ecb4-40e5-a00e-fc18bc0c498c",
   "metadata": {},
   "source": [
    "The `reshape()` function returns a new array with a modified shape whereas the `resize()` function modifies the array itself."
   ]
  },
  {
   "cell_type": "code",
   "execution_count": 44,
   "id": "00673adc-1974-4269-8949-b83345acd5f0",
   "metadata": {},
   "outputs": [
    {
     "ename": "TypeError",
     "evalue": "_reshape_dispatcher() missing 2 required positional arguments: 'a' and 'newshape'",
     "output_type": "error",
     "traceback": [
      "\u001b[0;31m---------------------------------------------------------------------------\u001b[0m",
      "\u001b[0;31mTypeError\u001b[0m                                 Traceback (most recent call last)",
      "\u001b[0;32m/tmp/ipykernel_17858/62298406.py\u001b[0m in \u001b[0;36m<module>\u001b[0;34m\u001b[0m\n\u001b[0;32m----> 1\u001b[0;31m \u001b[0mhelp\u001b[0m\u001b[0;34m(\u001b[0m\u001b[0mnp\u001b[0m\u001b[0;34m.\u001b[0m\u001b[0mreshape\u001b[0m\u001b[0;34m(\u001b[0m\u001b[0;34m)\u001b[0m\u001b[0;34m)\u001b[0m\u001b[0;34m\u001b[0m\u001b[0;34m\u001b[0m\u001b[0m\n\u001b[0m",
      "\u001b[0;32m<__array_function__ internals>\u001b[0m in \u001b[0;36mreshape\u001b[0;34m(*args, **kwargs)\u001b[0m\n",
      "\u001b[0;31mTypeError\u001b[0m: _reshape_dispatcher() missing 2 required positional arguments: 'a' and 'newshape'"
     ]
    }
   ],
   "source": [
    "help(np.reshape())"
   ]
  },
  {
   "cell_type": "code",
   "execution_count": 34,
   "id": "d811447f-7758-4f86-a6e5-48883f45cd2c",
   "metadata": {},
   "outputs": [
    {
     "name": "stdout",
     "output_type": "stream",
     "text": [
      "[ 3  5  7 11 13 17]\n",
      "(6,)\n"
     ]
    }
   ],
   "source": [
    "lst = [3, 5, 7, 11, 13, 17]\n",
    "A = np.array(lst)\n",
    "print(A)\n",
    "print(A.shape)"
   ]
  },
  {
   "cell_type": "code",
   "execution_count": 35,
   "id": "6b9239af-e8fc-4033-bb57-e8dfd403f6ed",
   "metadata": {},
   "outputs": [
    {
     "name": "stdout",
     "output_type": "stream",
     "text": [
      "[[ 3  5  7]\n",
      " [11 13 17]]\n",
      "\n",
      " [ 3  5  7 11 13 17]\n"
     ]
    }
   ],
   "source": [
    "B = A.reshape(2, 3)\n",
    "print(B)\n",
    "\n",
    "print('\\n', A) # Original array remains unchanged"
   ]
  },
  {
   "cell_type": "code",
   "execution_count": 36,
   "id": "1b5b114a-d1a7-4a47-95a1-de3d1e87cce5",
   "metadata": {},
   "outputs": [
    {
     "data": {
      "text/plain": [
       "array([[ 3,  5],\n",
       "       [ 7, 11],\n",
       "       [13, 17]])"
      ]
     },
     "execution_count": 36,
     "metadata": {},
     "output_type": "execute_result"
    }
   ],
   "source": [
    "A.reshape(3, 2) # Original array remains unchanged"
   ]
  },
  {
   "cell_type": "code",
   "execution_count": 37,
   "id": "302b2bed-3ce0-48ce-96bd-9f1fb9b2b02c",
   "metadata": {},
   "outputs": [
    {
     "name": "stdout",
     "output_type": "stream",
     "text": [
      "6\n",
      "6\n"
     ]
    }
   ],
   "source": [
    "print(A.size)\n",
    "print(B.size)"
   ]
  },
  {
   "cell_type": "code",
   "execution_count": 38,
   "id": "58880985-66a9-487a-87db-7cf11114fccd",
   "metadata": {},
   "outputs": [],
   "source": [
    "A.resize(2, 3)    # resize() modifies the original array. Does nor return anything."
   ]
  },
  {
   "cell_type": "code",
   "execution_count": 39,
   "id": "27b38197-ec65-4cd8-93df-83e49a2e6e1c",
   "metadata": {},
   "outputs": [
    {
     "name": "stdout",
     "output_type": "stream",
     "text": [
      "[[ 3  5  7]\n",
      " [11 13 17]]\n"
     ]
    }
   ],
   "source": [
    "print(A)  # resize() modifies the original array"
   ]
  },
  {
   "cell_type": "code",
   "execution_count": 45,
   "id": "fcfc1219-fcb0-4f7e-b694-266e316d6306",
   "metadata": {},
   "outputs": [
    {
     "name": "stdout",
     "output_type": "stream",
     "text": [
      "[ 3  5  7 11 13 17]\n",
      "(6,)\n",
      "[[ 3  5  7]\n",
      " [11 13 17]]\n"
     ]
    }
   ],
   "source": [
    "lst = [3, 5, 7, 11, 13, 17]\n",
    "A = np.array(lst)\n",
    "print(A)\n",
    "print(A.shape)\n",
    "\n",
    "A.shape = (2, 3)   # in-place modification # reassigning the shape\n",
    "print(A)           # original array gets altered"
   ]
  },
  {
   "cell_type": "code",
   "execution_count": 56,
   "id": "a647d337-608e-437e-a7e3-6d84cf33e1c4",
   "metadata": {},
   "outputs": [
    {
     "name": "stdout",
     "output_type": "stream",
     "text": [
      "[ 3  5  7 11 13 17]\n",
      "(6,)\n",
      "[[ 3  5  7]\n",
      " [11 13 17]]\n",
      "[[ 3  7 13]\n",
      " [ 5 11 17]]\n",
      "[[ 3  5  7]\n",
      " [11 13 17]]\n",
      "[[ 3  5]\n",
      " [ 7 11]\n",
      " [13 17]]\n",
      "[ 3  5  7 11 13 17]\n"
     ]
    }
   ],
   "source": [
    "lst = [3, 5, 7, 11, 13, 17]\n",
    "A = np.array(lst)\n",
    "print(A)\n",
    "print(A.shape)\n",
    "\n",
    "print(np.reshape(A, (2, 3))) # row wise distribution\n",
    "print(np.reshape(A, (2, 3), order = 'F'))  # column wise distribution\n",
    "\n",
    "print(np.reshape(A, (2, -1)))  # unspecified value (here -1) is inferred to be justified value (here 3)\n",
    "print(np.reshape(A, (3, -1)))  # unspecified value (here -1) is inferred to be justified value (here 2)\n",
    "\n",
    "\n",
    "print(A)          # original array remains unaltered"
   ]
  },
  {
   "cell_type": "code",
   "execution_count": 59,
   "id": "9b636b69-20b3-4377-94c3-e3a8910338b0",
   "metadata": {},
   "outputs": [
    {
     "name": "stdout",
     "output_type": "stream",
     "text": [
      "[ 3  5  7 11 13 17]\n",
      "(6,)\n",
      "[[ 3  5  7]\n",
      " [11 13 17]]\n",
      "[ 3  5  7 11 13 17]\n"
     ]
    }
   ],
   "source": [
    "lst = [3, 5, 7, 11, 13, 17]\n",
    "A = np.array(lst)\n",
    "print(A)\n",
    "print(A.shape)\n",
    "\n",
    "print(np.resize(A, (2, 3)))\n",
    "#print(np.resize(A, (2, 3), order = 'F'))\n",
    "\n",
    "print(A)          # original array remains unaltered"
   ]
  },
  {
   "cell_type": "code",
   "execution_count": 61,
   "id": "7f6c31e7-8448-4c87-8dc2-23b2efb0ea00",
   "metadata": {},
   "outputs": [
    {
     "name": "stdout",
     "output_type": "stream",
     "text": [
      "[ 3  5  7 11 13 17]\n",
      "(6,)\n"
     ]
    },
    {
     "ename": "ValueError",
     "evalue": "all elements of `new_shape` must be non-negative",
     "output_type": "error",
     "traceback": [
      "\u001b[0;31m---------------------------------------------------------------------------\u001b[0m",
      "\u001b[0;31mValueError\u001b[0m                                Traceback (most recent call last)",
      "\u001b[0;32m/tmp/ipykernel_17858/1120576102.py\u001b[0m in \u001b[0;36m<module>\u001b[0;34m\u001b[0m\n\u001b[1;32m      4\u001b[0m \u001b[0mprint\u001b[0m\u001b[0;34m(\u001b[0m\u001b[0mA\u001b[0m\u001b[0;34m.\u001b[0m\u001b[0mshape\u001b[0m\u001b[0;34m)\u001b[0m\u001b[0;34m\u001b[0m\u001b[0;34m\u001b[0m\u001b[0m\n\u001b[1;32m      5\u001b[0m \u001b[0;34m\u001b[0m\u001b[0m\n\u001b[0;32m----> 6\u001b[0;31m \u001b[0mprint\u001b[0m\u001b[0;34m(\u001b[0m\u001b[0mnp\u001b[0m\u001b[0;34m.\u001b[0m\u001b[0mresize\u001b[0m\u001b[0;34m(\u001b[0m\u001b[0mA\u001b[0m\u001b[0;34m,\u001b[0m \u001b[0;34m(\u001b[0m\u001b[0;36m2\u001b[0m\u001b[0;34m,\u001b[0m \u001b[0;34m-\u001b[0m\u001b[0;36m1\u001b[0m\u001b[0;34m)\u001b[0m\u001b[0;34m)\u001b[0m\u001b[0;34m)\u001b[0m \u001b[0;31m# shows error unlike np.reshape() due to unspecified value\u001b[0m\u001b[0;34m\u001b[0m\u001b[0;34m\u001b[0m\u001b[0m\n\u001b[0m",
      "\u001b[0;32m<__array_function__ internals>\u001b[0m in \u001b[0;36mresize\u001b[0;34m(*args, **kwargs)\u001b[0m\n",
      "\u001b[0;32m/opt/intel/oneapi/intelpython/latest/lib/python3.7/site-packages/numpy/core/fromnumeric.py\u001b[0m in \u001b[0;36mresize\u001b[0;34m(a, new_shape)\u001b[0m\n\u001b[1;32m   1423\u001b[0m         \u001b[0mnew_size\u001b[0m \u001b[0;34m*=\u001b[0m \u001b[0mdim_length\u001b[0m\u001b[0;34m\u001b[0m\u001b[0;34m\u001b[0m\u001b[0m\n\u001b[1;32m   1424\u001b[0m         \u001b[0;32mif\u001b[0m \u001b[0mdim_length\u001b[0m \u001b[0;34m<\u001b[0m \u001b[0;36m0\u001b[0m\u001b[0;34m:\u001b[0m\u001b[0;34m\u001b[0m\u001b[0;34m\u001b[0m\u001b[0m\n\u001b[0;32m-> 1425\u001b[0;31m             \u001b[0;32mraise\u001b[0m \u001b[0mValueError\u001b[0m\u001b[0;34m(\u001b[0m\u001b[0;34m'all elements of `new_shape` must be non-negative'\u001b[0m\u001b[0;34m)\u001b[0m\u001b[0;34m\u001b[0m\u001b[0;34m\u001b[0m\u001b[0m\n\u001b[0m\u001b[1;32m   1426\u001b[0m \u001b[0;34m\u001b[0m\u001b[0m\n\u001b[1;32m   1427\u001b[0m     \u001b[0;32mif\u001b[0m \u001b[0ma\u001b[0m\u001b[0;34m.\u001b[0m\u001b[0msize\u001b[0m \u001b[0;34m==\u001b[0m \u001b[0;36m0\u001b[0m \u001b[0;32mor\u001b[0m \u001b[0mnew_size\u001b[0m \u001b[0;34m==\u001b[0m \u001b[0;36m0\u001b[0m\u001b[0;34m:\u001b[0m\u001b[0;34m\u001b[0m\u001b[0;34m\u001b[0m\u001b[0m\n",
      "\u001b[0;31mValueError\u001b[0m: all elements of `new_shape` must be non-negative"
     ]
    }
   ],
   "source": [
    "lst = [3, 5, 7, 11, 13, 17]\n",
    "A = np.array(lst)\n",
    "print(A)\n",
    "print(A.shape)\n",
    "\n",
    "print(np.resize(A, (2, -1))) # shows error unlike np.reshape() due to unspecified value"
   ]
  },
  {
   "cell_type": "code",
   "execution_count": null,
   "id": "f1bd2523-476c-4ace-a602-fa21ce855985",
   "metadata": {},
   "outputs": [],
   "source": []
  },
  {
   "cell_type": "markdown",
   "id": "f60d9874-009a-427c-b2b4-639c3a7b8572",
   "metadata": {},
   "source": [
    "## Flatten, Ravel"
   ]
  },
  {
   "cell_type": "markdown",
   "id": "281b3892-6323-4594-a7e7-04f152efdc8f",
   "metadata": {},
   "source": [
    "The method `flatten()` returns a copy of the array flattened into 1D array."
   ]
  },
  {
   "cell_type": "code",
   "execution_count": 464,
   "id": "7b1e2933-c4dc-40f2-8160-b78443e51ae6",
   "metadata": {},
   "outputs": [
    {
     "name": "stdout",
     "output_type": "stream",
     "text": [
      "[[ 3  5  7]\n",
      " [11 13 17]\n",
      " [19 23 27]] \n",
      "\n",
      "2 \n",
      "\n",
      "[ 3  5  7 11 13 17 19 23 27] \n",
      "\n",
      "[ 3  5  7 11 13 17 19 23 27] \n",
      "\n",
      "[ 3 11 19  5 13 23  7 17 27] \n",
      "\n",
      "[[ 3  5  7]\n",
      " [11 13 17]\n",
      " [19 23 27]]\n"
     ]
    }
   ],
   "source": [
    "lst = [[3, 5, 7], [11, 13, 17], [19, 23, 27]]\n",
    "A = np.array(lst)\n",
    "print(A, '\\n')\n",
    "\n",
    "print(A.ndim, '\\n')\n",
    "\n",
    "print(A.flatten(), '\\n') # Returns 1D array\n",
    "\n",
    "print(A.flatten(order = 'C'), '\\n') # Flattens like that it does in C i.e., flattens row wise\n",
    "\n",
    "print(A.flatten(order = 'F'), '\\n') # Flattens like that it does in F i.e., flattens column wise\n",
    "\n",
    "print(A)  # The original array remains unchanged"
   ]
  },
  {
   "cell_type": "markdown",
   "id": "e6c9c5ae-83d1-476f-96bc-0fbcb764a71c",
   "metadata": {},
   "source": [
    "The method `ravel()` returns a flattened array. There is a difference between `flatten()` and `ravel()` though they do the same job. \n",
    "- `ravel()` returns only reference/view of the original array.\n",
    "- As we modify the converted array, the original array is also modified. <br>\n",
    "\n",
    "`ravel()` is faster than `flatten()` and it does not occupy any extra memory. `faltten()` is comparatively slower than `ravel()` as it occupies memory."
   ]
  },
  {
   "cell_type": "code",
   "execution_count": 469,
   "id": "49b1667a-6a38-49d0-a9df-0e15688bee75",
   "metadata": {},
   "outputs": [
    {
     "name": "stdout",
     "output_type": "stream",
     "text": [
      "[[ 3  5  7]\n",
      " [11 13 17]\n",
      " [19 23 27]] \n",
      "\n",
      "[ 3  5  7 11 13 17 19 23 27] \n",
      "\n",
      "[ 3  5  7 11 13 17 19 23 27] \n",
      "\n",
      "[ 3 11 19  5 13 23  7 17 27] \n",
      "\n"
     ]
    }
   ],
   "source": [
    "lst = [[3, 5, 7], [11, 13, 17], [19, 23, 27]]\n",
    "B = np.array(lst)\n",
    "print(B, '\\n')\n",
    "\n",
    "print(B.ravel(), '\\n')\n",
    "print(B.ravel(order = 'C'), '\\n')\n",
    "print(B.ravel(order = 'F'), '\\n')"
   ]
  },
  {
   "cell_type": "code",
   "execution_count": 474,
   "id": "be0724f7-0afa-4c71-8a53-e287261ac4b5",
   "metadata": {},
   "outputs": [
    {
     "name": "stdout",
     "output_type": "stream",
     "text": [
      "[ 1  5  7 11 13 17 19 23 27] \n",
      "\n",
      "[ 1  5  7 11 13 17 19 23 27] \n",
      "\n",
      "[[ 1  5  7]\n",
      " [11 13 17]\n",
      " [19 23 27]]\n"
     ]
    }
   ],
   "source": [
    "C = B.ravel()\n",
    "print(C, '\\n')\n",
    "\n",
    "C[0] = 1          # B gets changed\n",
    "\n",
    "print(C, '\\n')\n",
    "print(B)          # B gets changed"
   ]
  },
  {
   "cell_type": "code",
   "execution_count": 479,
   "id": "65c8dcb3-ffb4-4a72-b184-2eca16ff90d5",
   "metadata": {},
   "outputs": [
    {
     "name": "stdout",
     "output_type": "stream",
     "text": [
      "[ 1  5  7 11 13 17 19 23 27] \n",
      "\n"
     ]
    }
   ],
   "source": [
    "E = np.ravel(B)\n",
    "print(E, '\\n')"
   ]
  },
  {
   "cell_type": "code",
   "execution_count": 480,
   "id": "88b1321a-4771-4147-ae6a-20fc0e125c03",
   "metadata": {},
   "outputs": [
    {
     "name": "stdout",
     "output_type": "stream",
     "text": [
      "[[ 3  5  7]\n",
      " [11 13 17]\n",
      " [19 23 27]] \n",
      "\n",
      "[ 3  5  7 11 13 17 19 23 27] \n",
      "\n",
      "[ 1  5  7 11 13 17 19 23 27] \n",
      "\n",
      "[[ 3  5  7]\n",
      " [11 13 17]\n",
      " [19 23 27]]\n"
     ]
    }
   ],
   "source": [
    "lst = [[3, 5, 7], [11, 13, 17], [19, 23, 27]]\n",
    "A = np.array(lst)\n",
    "print(A, '\\n')\n",
    "\n",
    "D = A.flatten()\n",
    "print(D, '\\n')\n",
    "\n",
    "D[0] = 1         # A remains unchanged\n",
    "\n",
    "print(D, '\\n')\n",
    "print(A)        # A remains unchanged"
   ]
  },
  {
   "cell_type": "markdown",
   "id": "8273ad36-87b7-4ee3-a128-c6c8d016f081",
   "metadata": {},
   "source": [
    "## Unique Elements"
   ]
  },
  {
   "cell_type": "code",
   "execution_count": 483,
   "id": "874ea427-8961-43eb-b3a9-d9a9e96a64b7",
   "metadata": {},
   "outputs": [
    {
     "name": "stdout",
     "output_type": "stream",
     "text": [
      "[2.  0.5 1.  2.  1.  0.5] \n",
      "\n",
      "[0.5 1.  2. ]\n"
     ]
    }
   ],
   "source": [
    "X = np.array([2, 0.5, 1, 2.0, 1, 0.50])\n",
    "print(X, '\\n')\n",
    "print(np.unique(X))"
   ]
  },
  {
   "cell_type": "code",
   "execution_count": 494,
   "id": "3cf4329c-72cc-4431-91f1-5b6541da9604",
   "metadata": {},
   "outputs": [
    {
     "name": "stdout",
     "output_type": "stream",
     "text": [
      "[[1 0 1]\n",
      " [0 0 1]\n",
      " [1 1 1]] \n",
      "\n",
      "[0 1] \n",
      "\n",
      "\n",
      "[0 1] \n",
      "\n",
      "[1]\n"
     ]
    }
   ],
   "source": [
    "Y = np.array([[1, 0, 1], [0, 0, 1], [1, 1, 1]])\n",
    "print(Y, '\\n')       # 2D array\n",
    "\n",
    "print(np.unique(Y), '\\n\\n')  # Unique elements returned in 1D array\n",
    "\n",
    "print(np.unique(Y[0]), '\\n') \n",
    "print(np.unique(Y[2])) "
   ]
  },
  {
   "cell_type": "code",
   "execution_count": 496,
   "id": "8e4a9a55-5545-4463-a10c-9e2d28340f4c",
   "metadata": {},
   "outputs": [
    {
     "name": "stdout",
     "output_type": "stream",
     "text": [
      "['a' 'b' 'b' 'c' 'a' 'b'] \n",
      "\n",
      "['a' 'b' 'c']\n"
     ]
    }
   ],
   "source": [
    "S = np.array(['a', 'b', 'b', 'c', 'a', 'b'])\n",
    "print(S, '\\n')\n",
    "\n",
    "print(np.unique(S))"
   ]
  },
  {
   "cell_type": "code",
   "execution_count": 500,
   "id": "04407f41-b68c-4015-94ed-1ce10089aba8",
   "metadata": {},
   "outputs": [
    {
     "name": "stdout",
     "output_type": "stream",
     "text": [
      "[1. 0. 1. 0. 0. 1. 1. 0. 1. 0. 0. 0. 1. 0. 0. 1. 1. 0. 1. 0. 0. 0. 0. 0.\n",
      " 0. 1. 0. 0. 0. 1. 0. 0. 1. 0. 0. 1. 1. 0. 1. 1. 1. 1. 1. 0. 0. 0. 0. 1.\n",
      " 1. 1. 0. 1. 0. 0. 1. 0. 1. 1. 0. 1. 0. 0. 1. 0. 1. 0. 1. 1. 1. 1. 0. 0.\n",
      " 1. 1. 1. 1. 1. 1. 0. 1. 0. 1. 1. 0. 0. 0. 1. 1. 0. 1. 0. 1. 1. 1. 0. 0.\n",
      " 1. 0. 1. 0.] \n",
      "\n",
      "[0. 1.]\n"
     ]
    }
   ],
   "source": [
    "#help(np.random)\n",
    "r = np.round(np.random.random(100), 0)\n",
    "print(r, '\\n')\n",
    "\n",
    "print(np.unique(r))"
   ]
  },
  {
   "cell_type": "markdown",
   "id": "5831e4de-7a6e-4d9a-b13c-d6a7e1d1dff5",
   "metadata": {},
   "source": [
    "## Iterator on Array"
   ]
  },
  {
   "cell_type": "code",
   "execution_count": 13,
   "id": "b2fc4e40-d074-4769-81b3-cf96f65ea183",
   "metadata": {},
   "outputs": [
    {
     "name": "stdout",
     "output_type": "stream",
     "text": [
      "[ 1  3  5  7 11 13] \n",
      "\n",
      "1 3 5 7 11 13 "
     ]
    }
   ],
   "source": [
    "lst = [1, 3, 5, 7, 11, 13]\n",
    "arr = np.array(lst)\n",
    "print(arr, '\\n')\n",
    "\n",
    "for _ in arr:\n",
    "    print(_, end = ' ')"
   ]
  },
  {
   "cell_type": "code",
   "execution_count": 15,
   "id": "c97df295-ccb3-4197-968f-72fefeab9f39",
   "metadata": {},
   "outputs": [
    {
     "name": "stdout",
     "output_type": "stream",
     "text": [
      "[[ 1  3  5]\n",
      " [ 7 11 13]] \n",
      "\n",
      "[1 3 5] [ 7 11 13] "
     ]
    }
   ],
   "source": [
    "lst2 = [[1, 3, 5], [7, 11, 13]]\n",
    "arr2 = np.array(lst2)\n",
    "print(arr2, '\\n')\n",
    "\n",
    "for _ in arr2:\n",
    "    print(_, end = ' ')"
   ]
  },
  {
   "cell_type": "code",
   "execution_count": 24,
   "id": "9b205609-6d98-4db2-86fa-48471fb3f335",
   "metadata": {},
   "outputs": [
    {
     "name": "stdout",
     "output_type": "stream",
     "text": [
      "<numpy.nditer object at 0x150cb00d9e90>\n",
      "1 3 5 7 11 13 "
     ]
    }
   ],
   "source": [
    "print(np.nditer(arr2, order = 'C'))\n",
    "\n",
    "for _ in np.nditer(arr2, order = 'C'):\n",
    "    print(_, end = ' ')"
   ]
  },
  {
   "cell_type": "code",
   "execution_count": 19,
   "id": "ba7a3fae-2bf0-4fd3-8aa6-2837a7ba39d3",
   "metadata": {},
   "outputs": [
    {
     "name": "stdout",
     "output_type": "stream",
     "text": [
      "1 7 3 11 5 13 "
     ]
    }
   ],
   "source": [
    "for _ in np.nditer(arr2, order = 'F'):\n",
    "    print(_, end = ' ')"
   ]
  },
  {
   "cell_type": "markdown",
   "id": "30ddeab5-3349-43bc-aa5a-345cb9b2f238",
   "metadata": {},
   "source": [
    "## Numpy Methods of Array"
   ]
  },
  {
   "cell_type": "markdown",
   "id": "64784d67-99cd-4b3a-9dc4-2a88739b82fe",
   "metadata": {},
   "source": []
  },
  {
   "cell_type": "code",
   "execution_count": null,
   "id": "9a463a6e-c60c-4c38-9d2c-a706469204e0",
   "metadata": {},
   "outputs": [],
   "source": []
  }
 ],
 "metadata": {
  "kernelspec": {
   "display_name": "Python 3 (ipykernel)",
   "language": "python",
   "name": "python3"
  },
  "language_info": {
   "codemirror_mode": {
    "name": "ipython",
    "version": 3
   },
   "file_extension": ".py",
   "mimetype": "text/x-python",
   "name": "python",
   "nbconvert_exporter": "python",
   "pygments_lexer": "ipython3",
   "version": "3.7.9"
  }
 },
 "nbformat": 4,
 "nbformat_minor": 5
}
