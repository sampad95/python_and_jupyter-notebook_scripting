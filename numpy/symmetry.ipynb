{
 "cells": [
  {
   "cell_type": "code",
   "execution_count": 57,
   "id": "4bae1560-0fef-4ae4-9c5b-5632953206e2",
   "metadata": {},
   "outputs": [],
   "source": [
    "import numpy as np\n",
    "from random import *"
   ]
  },
  {
   "cell_type": "code",
   "execution_count": 53,
   "id": "4e96fd3d-308c-4e95-9650-9252fe31ca96",
   "metadata": {},
   "outputs": [],
   "source": [
    "def Cnm(n,m):\n",
    "    Θ = m*(360/n)*(np.pi/180)\n",
    "    Cnm = np.round(np.array([[np.cos(Θ), -np.sin(Θ), 0],\n",
    "                   [np.sin(Θ), np.cos(Θ), 0],\n",
    "                   [0, 0, 1]]), 3)\n",
    "    return Cnm"
   ]
  },
  {
   "cell_type": "code",
   "execution_count": 55,
   "id": "1160ebd5-e620-4105-80d6-7f86e0fc795e",
   "metadata": {},
   "outputs": [
    {
     "name": "stdout",
     "output_type": "stream",
     "text": [
      "[[-0.5   -0.866  0.   ]\n",
      " [ 0.866 -0.5    0.   ]\n",
      " [ 0.     0.     1.   ]]\n"
     ]
    }
   ],
   "source": [
    "print(Cnm(3,1))"
   ]
  },
  {
   "cell_type": "code",
   "execution_count": 73,
   "id": "e7e010e4-6824-495f-9490-e676ecf0a5ff",
   "metadata": {},
   "outputs": [],
   "source": [
    "coordinates = [tuple([randint(1, 10) for _ in range(3)]) for _ in range(5)]"
   ]
  },
  {
   "cell_type": "code",
   "execution_count": 78,
   "id": "f1657a65-d8ca-4a35-8b9a-2e492d0ae832",
   "metadata": {},
   "outputs": [
    {
     "data": {
      "text/plain": [
       "array([[ 1,  8,  1,  4,  6],\n",
       "       [ 2,  5, 10,  8,  7],\n",
       "       [ 8, 10,  3,  5,  1]])"
      ]
     },
     "execution_count": 78,
     "metadata": {},
     "output_type": "execute_result"
    }
   ],
   "source": [
    "np.array(coordinates).T"
   ]
  },
  {
   "cell_type": "code",
   "execution_count": 75,
   "id": "bd3d6803-f162-481d-8bfb-08a2ea649c6a",
   "metadata": {},
   "outputs": [
    {
     "name": "stdout",
     "output_type": "stream",
     "text": [
      "[(1, 2, 8), (8, 5, 10), (1, 10, 3), (4, 8, 5), (6, 7, 1)]\n"
     ]
    }
   ],
   "source": [
    "print(coordinates)"
   ]
  },
  {
   "cell_type": "code",
   "execution_count": 79,
   "id": "82d78b64-cc16-42c5-9736-44b284230829",
   "metadata": {},
   "outputs": [
    {
     "data": {
      "text/plain": [
       "array([[-2.232, -8.33 , -9.16 , -8.928, -9.062],\n",
       "       [-0.134,  4.428, -4.134, -0.536,  1.696],\n",
       "       [ 8.   , 10.   ,  3.   ,  5.   ,  1.   ]])"
      ]
     },
     "execution_count": 79,
     "metadata": {},
     "output_type": "execute_result"
    }
   ],
   "source": [
    "Cnm(3,1)@np.array(coordinates).T"
   ]
  },
  {
   "cell_type": "code",
   "execution_count": 80,
   "id": "ace8ae3d-b512-49de-916c-cc263397dee7",
   "metadata": {},
   "outputs": [
    {
     "data": {
      "text/plain": [
       "array([[-2.232, -8.33 , -9.16 , -8.928, -9.062],\n",
       "       [-0.134,  4.428, -4.134, -0.536,  1.696],\n",
       "       [ 8.   , 10.   ,  3.   ,  5.   ,  1.   ]])"
      ]
     },
     "execution_count": 80,
     "metadata": {},
     "output_type": "execute_result"
    }
   ],
   "source": [
    "np.dot(Cnm(3,1),np.array(coordinates).T)"
   ]
  },
  {
   "cell_type": "code",
   "execution_count": null,
   "id": "4d018403-e5d4-43ef-8b75-81a04428c6b7",
   "metadata": {},
   "outputs": [],
   "source": []
  },
  {
   "cell_type": "code",
   "execution_count": 95,
   "id": "23b420e1-f127-404f-b30c-d54cecf417d6",
   "metadata": {},
   "outputs": [],
   "source": [
    "coor = [[1,1,1],[1,2,3],[2,2,2],[3,6,9]]"
   ]
  },
  {
   "cell_type": "code",
   "execution_count": 97,
   "id": "8f835901-c4ba-4fe8-b1ab-8534cc40db8d",
   "metadata": {},
   "outputs": [
    {
     "name": "stdout",
     "output_type": "stream",
     "text": [
      "[[1 1 2 3]\n",
      " [1 2 2 6]\n",
      " [1 3 2 9]]\n",
      "(Matrix([\n",
      "[1, 0, 2, 0],\n",
      "[0, 1, 0, 3],\n",
      "[0, 0, 0, 0]]), (0, 1))\n"
     ]
    }
   ],
   "source": [
    "print(np.array(coor).T)\n",
    "print(smp.Matrix(np.array(coor).T).rref())"
   ]
  },
  {
   "cell_type": "code",
   "execution_count": 86,
   "id": "8c765454-ef60-4a33-b713-ee5ce67885a1",
   "metadata": {},
   "outputs": [],
   "source": [
    "import sympy as smp"
   ]
  },
  {
   "cell_type": "code",
   "execution_count": null,
   "id": "88c6b5ee-5222-4425-86ac-a3eea57e0792",
   "metadata": {},
   "outputs": [],
   "source": []
  }
 ],
 "metadata": {
  "kernelspec": {
   "display_name": "Python 3 (ipykernel)",
   "language": "python",
   "name": "python3"
  },
  "language_info": {
   "codemirror_mode": {
    "name": "ipython",
    "version": 3
   },
   "file_extension": ".py",
   "mimetype": "text/x-python",
   "name": "python",
   "nbconvert_exporter": "python",
   "pygments_lexer": "ipython3",
   "version": "3.7.9"
  }
 },
 "nbformat": 4,
 "nbformat_minor": 5
}
