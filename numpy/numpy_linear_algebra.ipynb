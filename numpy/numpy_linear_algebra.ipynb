{
 "cells": [
  {
   "cell_type": "markdown",
   "id": "1335dca6-552a-4e34-8f24-2c3d0cdc0763",
   "metadata": {},
   "source": [
    "# Numpy linear algebra"
   ]
  },
  {
   "cell_type": "markdown",
   "id": "b475183e-4c54-4ccd-900a-d8579341c7d5",
   "metadata": {},
   "source": [
    "## Use of `@` operator"
   ]
  },
  {
   "cell_type": "code",
   "execution_count": 43,
   "id": "855c894a-9dbc-452b-a731-d6e3d7e19d63",
   "metadata": {},
   "outputs": [],
   "source": [
    "import numpy as np\n",
    "import numpy.linalg as la"
   ]
  },
  {
   "cell_type": "code",
   "execution_count": 158,
   "id": "d99dd632-12f6-453c-b41d-7264c18a6b8c",
   "metadata": {},
   "outputs": [
    {
     "name": "stdout",
     "output_type": "stream",
     "text": [
      "[1 2 3 4]\n",
      "[2 3 4 5]\n",
      "40\n"
     ]
    }
   ],
   "source": [
    "a = np.arange(1, 5) # 1D array or vector\n",
    "b = np.arange(2, 6) # 1D array or vector\n",
    "c = a@b              # vector dot product or inner product\n",
    "\n",
    "print(a)\n",
    "print(b)\n",
    "print(c)"
   ]
  },
  {
   "cell_type": "code",
   "execution_count": 159,
   "id": "d2670c8a-6a2d-4e45-b8b7-b48db98d13bc",
   "metadata": {},
   "outputs": [
    {
     "name": "stdout",
     "output_type": "stream",
     "text": [
      "[[1 2]\n",
      " [3 4]] \n",
      "\n",
      "[[2 3]\n",
      " [4 5]] \n",
      "\n",
      "[[10 13]\n",
      " [22 29]] \n",
      "\n",
      "[[11 16]\n",
      " [19 28]] \n",
      "\n"
     ]
    }
   ],
   "source": [
    "a = np.arange(1, 5).reshape((2,2)) # 2D array or matrix\n",
    "b = np.arange(2, 6).reshape((2,2)) # 2D array or matrix\n",
    "c = a@b                                # matrix product\n",
    "d = b@a                                # matrix product\n",
    "\n",
    "print(a, '\\n')\n",
    "print(b, '\\n')\n",
    "print(c, '\\n')\n",
    "print(d, '\\n')"
   ]
  },
  {
   "cell_type": "code",
   "execution_count": 180,
   "id": "c12bae1f-d2d0-4f30-a43a-24df895f67d1",
   "metadata": {},
   "outputs": [
    {
     "name": "stdout",
     "output_type": "stream",
     "text": [
      "[[1 2]\n",
      " [3 4]] \n",
      "\n",
      "[[2]\n",
      " [3]] \n",
      "\n",
      "[[ 8]\n",
      " [18]] \n",
      "\n",
      "[[11 16]] \n",
      "\n"
     ]
    }
   ],
   "source": [
    "a = np.arange(1, 5).reshape((2,2)) # 2D array or matrix\n",
    "b = np.arange(2, 4).reshape((2,1)) # 2D array with 2 rows and 1 column or matrix\n",
    "e = np.arange(2, 4).reshape((1,2)) # 2D array with 1 row and 2 columns or matrix\n",
    "c = a@b                                 # matrix product\n",
    "d = e@a                                # matrix product\n",
    "\n",
    "print(a, '\\n')                         # 2D array\n",
    "print(b, '\\n')                         # 2D array\n",
    "print(c, '\\n')                         # 2D array\n",
    "print(d, '\\n')                         # 2D array"
   ]
  },
  {
   "cell_type": "code",
   "execution_count": 181,
   "id": "f7605f30-14b9-46c6-98cf-d7812a6aaf3b",
   "metadata": {},
   "outputs": [
    {
     "name": "stdout",
     "output_type": "stream",
     "text": [
      "[[1 2]\n",
      " [3 4]] \n",
      "\n",
      "[2 3] \n",
      "\n",
      "[ 8 18] \n",
      "\n",
      "[11 16] \n",
      "\n"
     ]
    }
   ],
   "source": [
    "a = np.arange(1, 5).reshape((2,2)) # 2D array or matrix\n",
    "b = np.arange(2, 4)                # 1D array \n",
    "c = a@b                                # matrix product with b acting as 2x1 column matrix\n",
    "d = b@a                                # matrix product with b acting as 1x2 row matrix\n",
    "\n",
    "print(a, '\\n')                    # 2D array\n",
    "print(b, '\\n')                    # 1D array\n",
    "print(c, '\\n')                    # 1D array\n",
    "print(d, '\\n')                    # 1D array "
   ]
  },
  {
   "cell_type": "markdown",
   "id": "c811b1d4-5e85-48c7-beb2-34d226331a18",
   "metadata": {},
   "source": [
    "## Matrix and Vector Products"
   ]
  },
  {
   "cell_type": "markdown",
   "id": "055820ab-3497-460b-bfa2-b6506f93cd47",
   "metadata": {},
   "source": [
    "`dot()` : Dot product of two arrays if both are 1D arrays."
   ]
  },
  {
   "cell_type": "code",
   "execution_count": 24,
   "id": "794727f9-e35d-44f7-9637-9e27b3ea0256",
   "metadata": {},
   "outputs": [
    {
     "name": "stdout",
     "output_type": "stream",
     "text": [
      "6\n",
      "6\n"
     ]
    }
   ],
   "source": [
    "#help(np.dot)\n",
    "\n",
    "a = [1, 0, 0, 1]\n",
    "b = [4, 1, 2, 2]\n",
    "\n",
    "print(np.dot(a, b)) #  Dot product of two 1D arrays (vectors). Returns scallar. \n",
    "print(np.dot(np.array(a), np.array(b)))"
   ]
  },
  {
   "cell_type": "code",
   "execution_count": 209,
   "id": "35865fc0-e943-4e2b-aa8e-5698eafa2ea5",
   "metadata": {},
   "outputs": [
    {
     "name": "stdout",
     "output_type": "stream",
     "text": [
      "[[4, 1], [2, 2]] \n",
      "\n",
      "[[4 1]\n",
      " [2 2]] \n",
      "\n",
      "[6 3] \n",
      "\n",
      "[5 4] \n",
      "\n",
      "[6 3] \n",
      "\n",
      "[5 4]\n"
     ]
    }
   ],
   "source": [
    "#help(np.dot)\n",
    "\n",
    "a = [1, 1]              # 1D\n",
    "b = [[4, 1], [2, 2]]    # 2D\n",
    "\n",
    "\n",
    "print(b, '\\n')            # 2D\n",
    "print(np.array(b), '\\n')  # 2D\n",
    "\n",
    "#  matrix product between 1D and 2D array\n",
    "print(np.dot(a, b), '\\n')                      # a (1D array) is treated as row vector # gives 1D array\n",
    "print(np.dot(b, a), '\\n')                      # a (1D array) is treated as column vector # gives 1D array\n",
    "print(np.dot(np.array(a), np.array(b)),'\\n' )  # a (1D array) is treated as row vector # gives 1D array\n",
    "print(np.dot(np.array(b), np.array(a)))        # a (1D array) is treated as column vector # gives 1D array"
   ]
  },
  {
   "cell_type": "code",
   "execution_count": 210,
   "id": "064d0f4a-58ae-4f2f-8eb5-d9a49faf79a7",
   "metadata": {},
   "outputs": [
    {
     "name": "stdout",
     "output_type": "stream",
     "text": [
      "[[1, 1]] \n",
      "\n",
      "[[1]\n",
      " [1]] \n",
      "\n",
      "[[6 3]] \n",
      "\n",
      "[[5]\n",
      " [4]] \n",
      "\n",
      "[[6 3]] \n",
      "\n",
      "[[5]\n",
      " [4]]\n"
     ]
    }
   ],
   "source": [
    "#help(np.dot)\n",
    "\n",
    "a = [[1, 1]]            # 2D\n",
    "e = [[1], [1]]          # 2D\n",
    "b = [[4, 1], [2, 2]]    # 2D\n",
    "\n",
    "\n",
    "print(a, '\\n')            # 2D\n",
    "print(np.array(e), '\\n')  # 2D\n",
    "\n",
    "#  matrix product between 1D and 2D array\n",
    "print(np.dot(a, b), '\\n')                      # gives 2D array\n",
    "print(np.dot(b, e), '\\n')                      # gives 2D array\n",
    "print(np.dot(np.array(a), np.array(b)),'\\n' )  # gives 2D array\n",
    "print(np.dot(np.array(b), np.array(e)))        # gives 2D array"
   ]
  },
  {
   "cell_type": "code",
   "execution_count": 71,
   "id": "f695e662-fe24-4e2f-8d5f-fc161d516b62",
   "metadata": {},
   "outputs": [
    {
     "name": "stdout",
     "output_type": "stream",
     "text": [
      "(-18+68j)\n"
     ]
    }
   ],
   "source": [
    "a = np.array([1+2j,3+4j])\n",
    "b = np.array([5+6j,7+8j])\n",
    "print(np.dot(a, b))        #  Dot product of two 1D complex arrays (vectors). Returns complex scallar."
   ]
  },
  {
   "cell_type": "code",
   "execution_count": 105,
   "id": "0203d836-ac12-4034-ad6c-6d9cb797811f",
   "metadata": {},
   "outputs": [
    {
     "name": "stdout",
     "output_type": "stream",
     "text": [
      "[[4 1]\n",
      " [2 2]] \n",
      "\n",
      "[[4 1]\n",
      " [2 2]] \n",
      "\n",
      "[[4 1]\n",
      " [2 2]]\n"
     ]
    }
   ],
   "source": [
    "a = [[1, 0], [0, 1]]\n",
    "b = [[4, 1], [2, 2]]\n",
    "\n",
    "print(np.dot(a, b), '\\n')                      # matrix multiplication\n",
    "print(np.dot(np.array(a), np.array(b)), '\\n')  # matrix multiplication\n",
    "print(np.array(a)@np.array(b))   # for 2D-arrays @ or matmul is preferred as matrix multiplication occurs"
   ]
  },
  {
   "cell_type": "code",
   "execution_count": 182,
   "id": "764cabde-febc-4800-8dd0-4c2cf3fdd1d5",
   "metadata": {},
   "outputs": [
    {
     "name": "stdout",
     "output_type": "stream",
     "text": [
      "[[-7.+23.j -8.+16.j]\n",
      " [-5.+25.j -8.+14.j]] \n",
      "\n",
      "[[-7.+23.j -8.+16.j]\n",
      " [-5.+25.j -8.+14.j]]\n"
     ]
    }
   ],
   "source": [
    "a = np.array([[1+2j, 2+3j], [2+3j, 1+2j]])\n",
    "b = np.array([[4+3j, 1+2j], [2+3j, 2+3j]])\n",
    "\n",
    "print(np.dot(a, b), '\\n') # it is just matrix multiplication.\n",
    "print(a@b)"
   ]
  },
  {
   "cell_type": "code",
   "execution_count": 69,
   "id": "21541ea7-a7d2-4197-a0cc-d4ffc237b5dc",
   "metadata": {},
   "outputs": [
    {
     "name": "stdout",
     "output_type": "stream",
     "text": [
      "[[20  5]\n",
      " [10 10]] \n",
      "\n",
      "[[20  5]\n",
      " [10 10]] \n",
      "\n",
      "[[20  5]\n",
      " [10 10]] \n",
      "\n",
      "[[20  5]\n",
      " [10 10]] \n",
      "\n",
      "[[20  5]\n",
      " [10 10]] \n",
      "\n"
     ]
    }
   ],
   "source": [
    "a = 5                    # 0D i.e., scalar\n",
    "b = [[4, 1], [2, 2]]\n",
    "\n",
    "print(np.dot(a, b), '\\n')                      # simple scalar product\n",
    "print(np.dot(np.array(a), np.array(b)), '\\n')  # simple scalar product\n",
    "print(np.array(a)*np.array(b), '\\n')\n",
    "print(np.multiply(a,b), '\\n')                  # * or multiply() is preferred as simple scalar product occurs\n",
    "print(np.multiply(np.array(a), np.array(b)), '\\n') "
   ]
  },
  {
   "cell_type": "markdown",
   "id": "60901e98-2ba8-4471-ac02-0cb8503ddfb5",
   "metadata": {},
   "source": [
    "`linalg.multi_dot()` : "
   ]
  },
  {
   "cell_type": "code",
   "execution_count": 243,
   "id": "99181e29-1171-4618-8020-54406913a045",
   "metadata": {},
   "outputs": [
    {
     "name": "stdout",
     "output_type": "stream",
     "text": [
      "75\n",
      "75\n"
     ]
    }
   ],
   "source": [
    "#help(la.multi_dot)\n",
    "\n",
    "a = np.array([1, 1])              # 1D array will be treated as row vector\n",
    "b = np.array([[4, 1], [2, 2]])    # 2D array\n",
    "c = np.array([[1, 3], [1, 4]])    # 2D array\n",
    "d = np.array([5, 1])              # 1D array will be treated as column vector\n",
    "\n",
    "print(np.dot(np.dot(np.dot(a, b), c), d)) # this can be replaced by below\n",
    "print(la.multi_dot([a, b, c, d]))       # dot prodict. last argument (d) will be considered as column vector "
   ]
  },
  {
   "cell_type": "code",
   "execution_count": 244,
   "id": "a1b9e166-8948-4c2b-bee6-e4442ba6befe",
   "metadata": {},
   "outputs": [
    {
     "name": "stdout",
     "output_type": "stream",
     "text": [
      "[[73 51]\n",
      " [62 42]]\n",
      "[[ 5 16]\n",
      " [ 4 14]]\n"
     ]
    }
   ],
   "source": [
    "a = np.array([[1, 0], [0, 1]])\n",
    "b = np.array([[4, 1], [2, 2]])\n",
    "c = np.array([[1, 3], [1, 4]])\n",
    "d = np.array([[5, 7], [3, 1]])\n",
    "\n",
    "print(np.dot(np.dot(np.dot(a, b), c), d)) # this can be replaced by below\n",
    "print(la.multi_dot([b, c]))         # matrix mutiplication of more than two matrices at a time"
   ]
  },
  {
   "cell_type": "markdown",
   "id": "28ad028e-ea1c-4bd1-b71b-5635eb665172",
   "metadata": {},
   "source": [
    "`vdot()` : Return the dot product of two vectors, whatever the dimensions of the arrays be. If arguments are mutidimensional arrays then they are first converted into vectors by flattening them into 1D arrays and then dot product occurs. Consequently, `vdot()` should only be used for vectors."
   ]
  },
  {
   "cell_type": "code",
   "execution_count": 74,
   "id": "f161eb59-5933-4559-97d9-8dec282f7333",
   "metadata": {},
   "outputs": [
    {
     "name": "stdout",
     "output_type": "stream",
     "text": [
      "6\n"
     ]
    }
   ],
   "source": [
    "a = [1, 0, 0, 1]\n",
    "b = [4, 1, 2, 2]\n",
    "\n",
    "print(np.vdot(a, b)) "
   ]
  },
  {
   "cell_type": "code",
   "execution_count": 86,
   "id": "4e405ab4-7dea-4184-af10-672ce86cdaf3",
   "metadata": {},
   "outputs": [
    {
     "name": "stdout",
     "output_type": "stream",
     "text": [
      "6\n"
     ]
    }
   ],
   "source": [
    "a = np.array([1, 0, 0, 1])\n",
    "b = np.array([4, 1, 2, 2])\n",
    "\n",
    "print(np.vdot(a, b)) "
   ]
  },
  {
   "cell_type": "code",
   "execution_count": 214,
   "id": "c242b642-463e-4bc0-bb5d-9441f7d403d6",
   "metadata": {},
   "outputs": [
    {
     "name": "stdout",
     "output_type": "stream",
     "text": [
      "(70-8j)\n"
     ]
    }
   ],
   "source": [
    "#help(np.vdot)\n",
    "a = np.array([1+2j, 3+4j])\n",
    "b = np.array([5+6j, 7+8j])\n",
    "\n",
    "print(np.vdot(a, b))      # Complex conjugate of the first argument (a) is considered for the dot product."
   ]
  },
  {
   "cell_type": "code",
   "execution_count": 215,
   "id": "cdf0d96f-0569-4ae6-9282-9ade3ed741b3",
   "metadata": {
    "jp-MarkdownHeadingCollapsed": true,
    "tags": []
   },
   "outputs": [
    {
     "name": "stdout",
     "output_type": "stream",
     "text": [
      "6\n"
     ]
    }
   ],
   "source": [
    "a = np.array([[1, 0], [0, 1]])\n",
    "b = np.array([[4, 1], [2, 2]])\n",
    "print(np.vdot(a, b))   # dot product between flattened a and b i.e., 1D of a and b. No matrix multiplication."
   ]
  },
  {
   "cell_type": "code",
   "execution_count": 111,
   "id": "48972aee-251f-4c44-8d7b-f970e5e3fa3f",
   "metadata": {},
   "outputs": [
    {
     "name": "stdout",
     "output_type": "stream",
     "text": [
      "6 \n",
      "\n"
     ]
    }
   ],
   "source": [
    "a = np.array([1, 0, 0, 1])\n",
    "b = np.array([[4, 1], [2, 2]])\n",
    "\n",
    "print(np.vdot(a, b), '\\n')   # np.dot(a, b) not possible."
   ]
  },
  {
   "cell_type": "code",
   "execution_count": 81,
   "id": "cdbab467-44f9-4d05-93ac-99cf4403ec27",
   "metadata": {},
   "outputs": [
    {
     "name": "stdout",
     "output_type": "stream",
     "text": [
      "(39-5j)\n"
     ]
    }
   ],
   "source": [
    "a = np.array([[1+2j, 2+3j], [2+3j, 1+2j]])\n",
    "b = np.array([[4+3j, 1+2j], [2+3j, 2+3j]])\n",
    "print(np.vdot(a, b))   # dot product between complex conjugate of flattened a and flattened b."
   ]
  },
  {
   "cell_type": "markdown",
   "id": "82350c1a-9e8b-49e6-bc1c-fb2867486590",
   "metadata": {},
   "source": [
    "`inner()` : Ordinary inner product of vectors for 1-D arrays (without complex conjugation), in higher dimensions a sum product over the last axes. If any of the array is multidimensional array (dim > 2) `out.shape = (*a.shape[:-1], *b.shape[:-1])`."
   ]
  },
  {
   "cell_type": "code",
   "execution_count": 84,
   "id": "56881b86-6bbf-4d3d-9a7a-591e43ae8e0e",
   "metadata": {},
   "outputs": [
    {
     "name": "stdout",
     "output_type": "stream",
     "text": [
      "6\n"
     ]
    }
   ],
   "source": [
    "#help(np.inner)\n",
    "\n",
    "a = [1, 0, 0, 1]\n",
    "b = [4, 1, 2, 2]\n",
    "\n",
    "print(np.inner(a, b)) "
   ]
  },
  {
   "cell_type": "code",
   "execution_count": 90,
   "id": "75a963bf-fe00-4e51-9c59-8434163dc339",
   "metadata": {},
   "outputs": [
    {
     "name": "stdout",
     "output_type": "stream",
     "text": [
      "6\n",
      "6\n"
     ]
    }
   ],
   "source": [
    "#help(np.inner)\n",
    "\n",
    "a = np.array([1, 0, 0, 1])\n",
    "b = np.array([4, 1, 2, 2])\n",
    "\n",
    "print(np.inner(a, b))  # for 1D arrays this is basically sum(a[:]*b[:]).\n",
    "print(sum(a[:]*b[:]))"
   ]
  },
  {
   "cell_type": "code",
   "execution_count": 93,
   "id": "047b1ac3-c546-4545-84e2-daef2b3d6737",
   "metadata": {},
   "outputs": [
    {
     "name": "stdout",
     "output_type": "stream",
     "text": [
      "(-18+68j)\n",
      "(-18+68j)\n"
     ]
    }
   ],
   "source": [
    "a = np.array([1+2j,3+4j])\n",
    "b = np.array([5+6j,7+8j])\n",
    "\n",
    "print(np.inner(a, b)) # dot product between two complex vectors (1D arrays) without taking complex conjugate like in np.dot()\n",
    "print(np.dot(a, b))"
   ]
  },
  {
   "cell_type": "code",
   "execution_count": 103,
   "id": "87322599-4873-4d9a-b87c-075a3e53ce33",
   "metadata": {},
   "outputs": [
    {
     "name": "stdout",
     "output_type": "stream",
     "text": [
      "[[4 2]\n",
      " [1 2]]\n"
     ]
    }
   ],
   "source": [
    "a = np.array([[1, 0], [0, 1]])\n",
    "b = np.array([[4, 1], [2, 2]])\n",
    "print(np.inner(a, b))"
   ]
  },
  {
   "cell_type": "code",
   "execution_count": 216,
   "id": "71e46b5e-25f6-427f-bae5-0ca3d3937e17",
   "metadata": {},
   "outputs": [
    {
     "name": "stdout",
     "output_type": "stream",
     "text": [
      "[[ 6  6]\n",
      " [13  8]]\n"
     ]
    }
   ],
   "source": [
    "a = np.array([[1, 2], [3, 1]])\n",
    "b = np.array([[4, 1], [2, 2]])\n",
    "print(np.inner(a, b))"
   ]
  },
  {
   "cell_type": "code",
   "execution_count": 116,
   "id": "fbebdd36-700d-4a6f-989f-4f352b3f1d4b",
   "metadata": {},
   "outputs": [
    {
     "name": "stdout",
     "output_type": "stream",
     "text": [
      "[[20  5]\n",
      " [10 10]] \n",
      "\n",
      "[5 0 0 5] \n",
      "\n"
     ]
    }
   ],
   "source": [
    "a = np.array([1, 0, 0, 1])\n",
    "b = np.array([[4, 1], [2, 2]])\n",
    "c=5\n",
    "\n",
    "print(np.inner(c, b), '\\n') # scalar multiplication\n",
    "print(np.inner(c, a), '\\n')\n",
    "#print(np.inner(a, b), '\\n')"
   ]
  },
  {
   "cell_type": "code",
   "execution_count": 137,
   "id": "0ca2a0b4-4358-451a-8dda-9ea36e463d86",
   "metadata": {},
   "outputs": [
    {
     "name": "stdout",
     "output_type": "stream",
     "text": [
      "[[5. 0.]\n",
      " [0. 5.]]\n"
     ]
    }
   ],
   "source": [
    "a = np.eye(2, 2)\n",
    "\n",
    "print(5*a)"
   ]
  },
  {
   "cell_type": "code",
   "execution_count": 130,
   "id": "da0e8c37-6790-4728-9506-03b8dfb5251c",
   "metadata": {},
   "outputs": [
    {
     "name": "stdout",
     "output_type": "stream",
     "text": [
      "[5 4] \n",
      "\n",
      "[5 4] \n",
      "\n",
      "[5 4] \n",
      "\n",
      "(2,) \n",
      "\n",
      "(2,) \n",
      "\n"
     ]
    }
   ],
   "source": [
    "a = np.array([1, 1])\n",
    "b = np.array([[4, 1], [2, 2]])\n",
    "\n",
    "print(np.inner(a, b), '\\n')\n",
    "print(np.dot(a, b.T), '\\n')\n",
    "print(np.inner(b, a), '\\n')\n",
    "print(np.inner(a, b).shape, '\\n')\n",
    "print(np.inner(b, a).shape, '\\n')"
   ]
  },
  {
   "cell_type": "code",
   "execution_count": 132,
   "id": "cfc153b0-59e1-4c70-a0b8-703af55542c6",
   "metadata": {},
   "outputs": [
    {
     "name": "stdout",
     "output_type": "stream",
     "text": [
      "[[ 14  38  62]\n",
      " [ 86 110 134]] \n",
      "\n",
      "[[ 14  38  62]\n",
      " [ 86 110 134]] \n",
      "\n",
      "[[ 14  38  62]\n",
      " [ 86 110 134]] \n",
      "\n",
      "(2, 3) \n",
      "\n",
      "(2, 3) \n",
      "\n"
     ]
    }
   ],
   "source": [
    "a = np.arange(24).reshape((2,3,4))\n",
    "b = np.arange(4)\n",
    "\n",
    "print(np.inner(a, b), '\\n')\n",
    "print(np.dot(a, b.T), '\\n')\n",
    "print(np.inner(b, a), '\\n')\n",
    "print(np.inner(a, b).shape, '\\n')\n",
    "print(np.inner(b, a).shape, '\\n')"
   ]
  },
  {
   "cell_type": "code",
   "execution_count": 258,
   "id": "d444dcc3-2544-4e08-9960-4e513c3cd4dd",
   "metadata": {},
   "outputs": [
    {
     "name": "stdout",
     "output_type": "stream",
     "text": [
      "[[[1 3 5]]]\n",
      "(1, 1, 3)\n"
     ]
    }
   ],
   "source": [
    "a = np.arange(2).reshape((1,1,2))\n",
    "b = np.arange(6).reshape((3,2))\n",
    "\n",
    "print(np.inner(a, b))\n",
    "print(np.inner(a, b).shape)\n",
    "#print((a.shape[:-1], b.shape[:-1]))"
   ]
  },
  {
   "cell_type": "code",
   "execution_count": 118,
   "id": "5589341d-1859-4c1c-8fbe-45e8dfee2a61",
   "metadata": {},
   "outputs": [
    {
     "name": "stdout",
     "output_type": "stream",
     "text": [
      "[[-6.+18.j -9.+19.j]\n",
      " [-4.+22.j -9.+19.j]] \n",
      "\n",
      "[[-6.+18.j -9.+19.j]\n",
      " [-4.+22.j -9.+19.j]] \n",
      "\n",
      "[[-7.+23.j -8.+16.j]\n",
      " [-5.+25.j -8.+14.j]] \n",
      "\n",
      "[[-7.+23.j -8.+16.j]\n",
      " [-5.+25.j -8.+14.j]] \n",
      "\n"
     ]
    }
   ],
   "source": [
    "a = np.array([[1+2j, 2+3j], [2+3j, 1+2j]])\n",
    "b = np.array([[4+3j, 1+2j], [2+3j, 2+3j]])\n",
    "\n",
    "print(np.inner(a, b), '\\n') # this is not matrix multiplication between a and b rather in between a and b.T.\n",
    "print(np.dot(a, b.T), '\\n')\n",
    "print(np.dot(a, b), '\\n')\n",
    "print(a@b, '\\n')"
   ]
  },
  {
   "cell_type": "code",
   "execution_count": 118,
   "id": "cdb97698-a3cf-4a02-a8a2-2c7c74b247db",
   "metadata": {},
   "outputs": [
    {
     "name": "stdout",
     "output_type": "stream",
     "text": [
      "[[-6.+18.j -9.+19.j]\n",
      " [-4.+22.j -9.+19.j]] \n",
      "\n",
      "[[-6.+18.j -9.+19.j]\n",
      " [-4.+22.j -9.+19.j]] \n",
      "\n",
      "[[-7.+23.j -8.+16.j]\n",
      " [-5.+25.j -8.+14.j]] \n",
      "\n",
      "[[-7.+23.j -8.+16.j]\n",
      " [-5.+25.j -8.+14.j]] \n",
      "\n"
     ]
    }
   ],
   "source": [
    "a = np.array([[1+2j, 2+3j], [2+3j, 1+2j]])\n",
    "b = np.array([[4+3j, 1+2j], [2+3j, 2+3j]])\n",
    "\n",
    "print(np.inner(a, b), '\\n') # this is not matrix multiplication between a and b rather in between a and b.T.\n",
    "print(np.dot(a, b.T), '\\n')\n",
    "print(np.dot(a, b), '\\n')\n",
    "print(a@b, '\\n')"
   ]
  },
  {
   "cell_type": "code",
   "execution_count": 133,
   "id": "cbcefd6a-4184-4102-a215-f4406bbb7baf",
   "metadata": {},
   "outputs": [
    {
     "name": "stdout",
     "output_type": "stream",
     "text": [
      "[-6.+18.j -9.+19.j] \n",
      "\n",
      "[-6.+18.j -9.+19.j] \n",
      "\n",
      "[-7.+23.j -8.+16.j] \n",
      "\n",
      "[-7.+23.j -8.+16.j] \n",
      "\n",
      "(2,) \n",
      "\n",
      "(2,) \n",
      "\n"
     ]
    }
   ],
   "source": [
    "a = np.array([1+2j, 2+3j])\n",
    "b = np.array([[4+3j, 1+2j], [2+3j, 2+3j]])\n",
    "\n",
    "print(np.inner(a, b), '\\n') # this is not matrix multiplication between a and b rather in between a and b.T.\n",
    "print(np.dot(a, b.T), '\\n')\n",
    "print(np.dot(a, b), '\\n')\n",
    "print(a@b, '\\n')\n",
    "\n",
    "print(np.inner(a, b).shape, '\\n')\n",
    "print(np.inner(b, a).shape, '\\n')"
   ]
  },
  {
   "cell_type": "markdown",
   "id": "fba3b426-ce4a-4784-8169-829bd5f1ffcc",
   "metadata": {},
   "source": [
    "`outer()`:"
   ]
  },
  {
   "cell_type": "code",
   "execution_count": 221,
   "id": "8f0fba92-393a-4ffa-ac9d-c396f7b8c7bc",
   "metadata": {},
   "outputs": [
    {
     "name": "stdout",
     "output_type": "stream",
     "text": [
      "[[4 1 2 2]\n",
      " [0 0 0 0]\n",
      " [0 0 0 0]\n",
      " [4 1 2 2]]\n"
     ]
    }
   ],
   "source": [
    "#help(np.outer)\n",
    "a = [1, 0, 0, 1]\n",
    "b = [4, 1, 2, 2]\n",
    "\n",
    "print(np.outer(a, b)) "
   ]
  },
  {
   "cell_type": "code",
   "execution_count": 225,
   "id": "df6ed697-78f4-4d63-acf4-f953efa05d15",
   "metadata": {},
   "outputs": [
    {
     "name": "stdout",
     "output_type": "stream",
     "text": [
      "[[4 0 0 4]\n",
      " [1 0 0 1]\n",
      " [2 0 0 2]\n",
      " [2 0 0 2]]\n"
     ]
    }
   ],
   "source": [
    "a = np.array([1, 0, 0, 1])\n",
    "b = np.array([4, 1, 2, 2])\n",
    "\n",
    "print(np.outer(b, a))"
   ]
  },
  {
   "cell_type": "code",
   "execution_count": 233,
   "id": "d3cdf984-b147-49cb-9c78-6803d3276cdf",
   "metadata": {},
   "outputs": [
    {
     "name": "stdout",
     "output_type": "stream",
     "text": [
      "[[4 1 2 2]\n",
      " [0 0 0 0]\n",
      " [0 0 0 0]\n",
      " [4 1 2 2]]\n",
      "[[4 0 0 4]\n",
      " [1 0 0 1]\n",
      " [2 0 0 2]\n",
      " [2 0 0 2]]\n"
     ]
    }
   ],
   "source": [
    "a = np.array([[1, 0], [0, 1]])\n",
    "b = np.array([[4, 1], [2, 2]])\n",
    "\n",
    "print(np.outer(a, b))            # a and b flattened and then outer product\n",
    "print(np.outer(b, a))"
   ]
  },
  {
   "cell_type": "code",
   "execution_count": 228,
   "id": "5452a64e-99b8-48f5-82b4-5ad06a981295",
   "metadata": {},
   "outputs": [
    {
     "name": "stdout",
     "output_type": "stream",
     "text": [
      "[[5.+6.j 7.+8.j]\n",
      " [5.+6.j 7.+8.j]] \n",
      "\n",
      "[[5.+6.j 5.+6.j]\n",
      " [7.+8.j 7.+8.j]]\n"
     ]
    }
   ],
   "source": [
    "a = np.array([1,1])\n",
    "b = np.array([5+6j,7+8j])\n",
    "\n",
    "print(np.outer(a, b), '\\n')\n",
    "print(np.outer(b, a))"
   ]
  },
  {
   "cell_type": "code",
   "execution_count": null,
   "id": "5028a36a-bb14-4778-b79a-979dd1561521",
   "metadata": {},
   "outputs": [],
   "source": []
  },
  {
   "cell_type": "markdown",
   "id": "1b63d9dd-2f14-4fc5-b402-dba46bed7795",
   "metadata": {},
   "source": [
    "`matmul()`: matrix multiplication"
   ]
  },
  {
   "cell_type": "code",
   "execution_count": 259,
   "id": "eb7aebd2-41d2-4dec-94ad-51c91563b6d0",
   "metadata": {},
   "outputs": [
    {
     "name": "stdout",
     "output_type": "stream",
     "text": [
      "[[ 8  5]\n",
      " [14  5]]\n",
      "[[ 8  5]\n",
      " [14  5]]\n"
     ]
    }
   ],
   "source": [
    "#help(np.matmul)\n",
    "\n",
    "a = np.array([[1, 2], [3, 1]])\n",
    "b = np.array([[4, 1], [2, 2]])\n",
    "\n",
    "print(np.matmul(a, b))\n",
    "print(a@b)"
   ]
  },
  {
   "cell_type": "markdown",
   "id": "9e121213-5ec5-4c6f-a12f-6aa1f52e8c27",
   "metadata": {},
   "source": [
    "`tensordot()`:"
   ]
  },
  {
   "cell_type": "code",
   "execution_count": 248,
   "id": "68b9dffc-db35-4237-a64c-f63791038011",
   "metadata": {},
   "outputs": [],
   "source": [
    "#help(np.tensordot)"
   ]
  },
  {
   "cell_type": "code",
   "execution_count": null,
   "id": "c4f225fb-9e96-49fd-a79a-46b03c87200e",
   "metadata": {},
   "outputs": [],
   "source": []
  },
  {
   "cell_type": "code",
   "execution_count": null,
   "id": "50972e90-2843-4dcf-9157-8bcc3bba5919",
   "metadata": {},
   "outputs": [],
   "source": []
  },
  {
   "cell_type": "markdown",
   "id": "5a0cec1f-6e61-4332-8230-b3f80c6f2fe5",
   "metadata": {},
   "source": [
    "`einsum()`:"
   ]
  },
  {
   "cell_type": "code",
   "execution_count": 250,
   "id": "1ab2e0b4-eff5-4c5a-88b4-8d2bfb90ccb5",
   "metadata": {},
   "outputs": [],
   "source": [
    "#help(np.einsum)"
   ]
  },
  {
   "cell_type": "code",
   "execution_count": null,
   "id": "2edbf66d-3426-4e6e-b66e-536503528427",
   "metadata": {},
   "outputs": [],
   "source": []
  },
  {
   "cell_type": "code",
   "execution_count": null,
   "id": "410094f1-c7eb-42ce-9e62-2e813099f345",
   "metadata": {},
   "outputs": [],
   "source": []
  },
  {
   "cell_type": "markdown",
   "id": "d5a62c45-f9de-462e-8c4a-9b2e5f9a63eb",
   "metadata": {},
   "source": [
    "`linalg.matrix_power()`:"
   ]
  },
  {
   "cell_type": "code",
   "execution_count": 255,
   "id": "b3447c79-7e04-4ee0-ae0e-1897f97dcf53",
   "metadata": {},
   "outputs": [
    {
     "name": "stdout",
     "output_type": "stream",
     "text": [
      "[[ 0 -1]\n",
      " [ 1  0]] \n",
      "\n",
      "[[ 0 -1]\n",
      " [ 1  0]]\n"
     ]
    }
   ],
   "source": [
    "i = np.array([[0, 1], [-1, 0]])\n",
    "\n",
    "print(la.matrix_power(i, 3), '\\n')\n",
    "print(la.multi_dot([i, i, i]))"
   ]
  },
  {
   "cell_type": "code",
   "execution_count": null,
   "id": "1aafe200-3a73-403f-ac68-4d26aeaf870e",
   "metadata": {},
   "outputs": [],
   "source": []
  },
  {
   "cell_type": "code",
   "execution_count": null,
   "id": "16d4d275-3de9-4dcb-a77e-f6beea3ed647",
   "metadata": {},
   "outputs": [],
   "source": []
  },
  {
   "cell_type": "markdown",
   "id": "e4bff4d5-b184-4344-8217-885b7e26aab7",
   "metadata": {},
   "source": [
    "## Decompositions"
   ]
  },
  {
   "cell_type": "code",
   "execution_count": null,
   "id": "e007db86-5c47-4d84-9d91-bf2cc3f713a5",
   "metadata": {},
   "outputs": [],
   "source": []
  },
  {
   "cell_type": "markdown",
   "id": "2712cca6-67bc-4670-8507-39f3f51c2e73",
   "metadata": {},
   "source": [
    "## Matrix eigenvalues"
   ]
  },
  {
   "cell_type": "markdown",
   "id": "2c1106c1-f07c-4b1b-be98-aac4a748514a",
   "metadata": {},
   "source": [
    "`la.eig` : Compute the eigenvalues and right eigenvectors of a square array."
   ]
  },
  {
   "cell_type": "code",
   "execution_count": 148,
   "id": "e1a205fe-a6b9-458c-bc17-0eeb09aaedda",
   "metadata": {},
   "outputs": [
    {
     "name": "stdout",
     "output_type": "stream",
     "text": [
      "[[1 0 0]\n",
      " [0 2 0]\n",
      " [0 0 3]] \n",
      "\n",
      "[1. 2. 3.] \n",
      "\n",
      "[[1. 0. 0.]\n",
      " [0. 1. 0.]\n",
      " [0. 0. 1.]] \n",
      "\n"
     ]
    }
   ],
   "source": [
    "#help(la.eig)\n",
    "\n",
    "a = np.diag((1, 2, 3))\n",
    "print(a, '\\n')\n",
    "\n",
    "eigenvalue, eigenvector = la.eig(a)\n",
    "\n",
    "print(eigenvalue, '\\n')\n",
    "print(eigenvector, '\\n')"
   ]
  },
  {
   "cell_type": "code",
   "execution_count": 152,
   "id": "e9cb08cd-a0eb-4320-9d66-a16ed5ab3c3d",
   "metadata": {},
   "outputs": [
    {
     "name": "stdout",
     "output_type": "stream",
     "text": [
      "[[1 2 3]\n",
      " [4 5 6]\n",
      " [7 8 9]] \n",
      "\n",
      "[ 1.61168440e+01 -1.11684397e+00 -1.30367773e-15] \n",
      "\n",
      "[[-0.23197069 -0.78583024  0.40824829]\n",
      " [-0.52532209 -0.08675134 -0.81649658]\n",
      " [-0.8186735   0.61232756  0.40824829]] \n",
      "\n"
     ]
    }
   ],
   "source": [
    "a = np.array([[1, 2, 3], [4, 5, 6], [7, 8, 9]])\n",
    "print(a, '\\n')\n",
    "\n",
    "eigenvalue, eigenvector = la.eig(a)\n",
    "\n",
    "print(eigenvalue, '\\n')\n",
    "print(eigenvector, '\\n')"
   ]
  },
  {
   "cell_type": "code",
   "execution_count": 153,
   "id": "1a8197c9-3511-4daa-b3a8-9f1b2b5f8b72",
   "metadata": {},
   "outputs": [
    {
     "name": "stdout",
     "output_type": "stream",
     "text": [
      "[[2 1]\n",
      " [1 2]] \n",
      "\n",
      "[3. 1.] \n",
      "\n",
      "[[ 0.70710678 -0.70710678]\n",
      " [ 0.70710678  0.70710678]] \n",
      "\n"
     ]
    }
   ],
   "source": [
    "a = np.array([[2, 1], [1, 2]])\n",
    "print(a, '\\n')\n",
    "\n",
    "eigenvalue, eigenvector = la.eig(a)\n",
    "\n",
    "print(eigenvalue, '\\n')\n",
    "print(eigenvector, '\\n')"
   ]
  },
  {
   "cell_type": "markdown",
   "id": "85036b7e-e01a-4099-97ee-bd9a451f6645",
   "metadata": {},
   "source": []
  },
  {
   "cell_type": "code",
   "execution_count": 157,
   "id": "1f66e71e-2ad1-46dd-92b3-e3049cdbdcea",
   "metadata": {},
   "outputs": [],
   "source": [
    "#help(la.eigvals)\n",
    "\n"
   ]
  },
  {
   "cell_type": "code",
   "execution_count": 155,
   "id": "1532e95a-c263-471a-bd50-cc2ce2e727e2",
   "metadata": {},
   "outputs": [
    {
     "name": "stdout",
     "output_type": "stream",
     "text": [
      "[[2 1]\n",
      " [1 2]] \n",
      "\n",
      "[3. 1.] \n",
      "\n"
     ]
    }
   ],
   "source": [
    "a = np.array([[2, 1], [1, 2]])\n",
    "print(a, '\\n')\n",
    "\n",
    "eigenvalue = la.eigvals(a)\n",
    "\n",
    "print(eigenvalue, '\\n')"
   ]
  },
  {
   "cell_type": "markdown",
   "id": "a61a5fd6-4a14-4088-8149-723e1c0aad5b",
   "metadata": {},
   "source": [
    "## Norms and other numbers"
   ]
  },
  {
   "cell_type": "code",
   "execution_count": null,
   "id": "a78b386b-652f-4871-8d7e-d320ee42994b",
   "metadata": {},
   "outputs": [],
   "source": []
  },
  {
   "cell_type": "markdown",
   "id": "35e9b4dd-208a-4d93-88a1-c4d904d3f8ff",
   "metadata": {},
   "source": [
    "## Solving equations and inverting matrices"
   ]
  },
  {
   "cell_type": "code",
   "execution_count": null,
   "id": "632a8d98-19d7-4374-82d4-2222f7bc97a8",
   "metadata": {},
   "outputs": [],
   "source": []
  },
  {
   "cell_type": "markdown",
   "id": "d5939df1-d7e2-49e5-a27f-788c2ae0b87f",
   "metadata": {},
   "source": [
    "## Exceptions"
   ]
  },
  {
   "cell_type": "code",
   "execution_count": null,
   "id": "cbe71691-f505-42f2-b4db-f5e42a05cb2a",
   "metadata": {},
   "outputs": [],
   "source": []
  },
  {
   "cell_type": "markdown",
   "id": "e6081c99-2367-455a-bc2a-014f011733d0",
   "metadata": {},
   "source": [
    "## Linear algebra on several matrices at once"
   ]
  },
  {
   "cell_type": "code",
   "execution_count": null,
   "id": "c7eec574-c697-4f7f-a2a7-c1e27393e0ec",
   "metadata": {},
   "outputs": [],
   "source": []
  }
 ],
 "metadata": {
  "kernelspec": {
   "display_name": "Python 3 (ipykernel)",
   "language": "python",
   "name": "python3"
  },
  "language_info": {
   "codemirror_mode": {
    "name": "ipython",
    "version": 3
   },
   "file_extension": ".py",
   "mimetype": "text/x-python",
   "name": "python",
   "nbconvert_exporter": "python",
   "pygments_lexer": "ipython3",
   "version": "3.7.9"
  }
 },
 "nbformat": 4,
 "nbformat_minor": 5
}
