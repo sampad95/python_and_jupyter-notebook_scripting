{
 "cells": [
  {
   "cell_type": "markdown",
   "id": "e1acb778-eefb-4760-93b1-6c047a2d1e75",
   "metadata": {},
   "source": [
    "# **Tuple**"
   ]
  },
  {
   "cell_type": "markdown",
   "id": "280d2dbc-b84b-4634-b106-042b33b2f3a2",
   "metadata": {},
   "source": [
    "## **Introduction**"
   ]
  },
  {
   "cell_type": "markdown",
   "id": "f6f8f266-7a00-46e0-b134-82153a9a3ce1",
   "metadata": {},
   "source": [
    "**Tuple is collection of numbers, strings or any other iterable (tuple,list,set,dictionary) separated by commas and written between two round brackets or parentheses (), or without parentheses too. Tuple is built-in iterable object like list, string amd is immutable.**  "
   ]
  },
  {
   "cell_type": "code",
   "execution_count": 1,
   "id": "09899012-b776-45ff-832e-eda10e4aae02",
   "metadata": {},
   "outputs": [
    {
     "data": {
      "text/plain": [
       "tuple"
      ]
     },
     "execution_count": 1,
     "metadata": {},
     "output_type": "execute_result"
    }
   ],
   "source": [
    "t1 = ('str',5,7,8,(1,2,3),[1,2,3],{'a':1,'b':2},{1,2,3})\n",
    "type(t1)"
   ]
  },
  {
   "cell_type": "code",
   "execution_count": 2,
   "id": "b9e37d00-3bbf-442d-8b3a-30c899eb9b65",
   "metadata": {},
   "outputs": [
    {
     "data": {
      "text/plain": [
       "tuple"
      ]
     },
     "execution_count": 2,
     "metadata": {},
     "output_type": "execute_result"
    }
   ],
   "source": [
    "t2 = 'str',5,7,8,(1,2,3),[1,2,3],{'a':1,'b':2},{1,2,3}  # does not require parentheses\n",
    "type(t2)"
   ]
  },
  {
   "cell_type": "code",
   "execution_count": 3,
   "id": "c7b791fc-3996-4f73-86ef-70cfbc11c211",
   "metadata": {},
   "outputs": [
    {
     "name": "stdout",
     "output_type": "stream",
     "text": [
      "<class 'tuple'>\n",
      "0\n"
     ]
    }
   ],
   "source": [
    "t3 = ()                 # empty tuple\n",
    "print(type(t3))\n",
    "print(len(t3))"
   ]
  },
  {
   "cell_type": "code",
   "execution_count": 4,
   "id": "8cc20c77-50cb-4891-8b51-3da694e974ec",
   "metadata": {},
   "outputs": [
    {
     "name": "stdout",
     "output_type": "stream",
     "text": [
      "<class 'list'>\n",
      "3\n",
      "<class 'tuple'>\n",
      "1\n"
     ]
    }
   ],
   "source": [
    "t4 = ([1,2,3])   # single element tuple must have comma, without comma it is considered as int/float/string/list/set etc\n",
    "print(type(t4))\n",
    "print(len(t4))\n",
    "\n",
    "\n",
    "t5 = ([1,2,3],)   # tuple must have atleast one comma\n",
    "print(type(t5)) # tuple of a list\n",
    "print(len(t5))"
   ]
  },
  {
   "cell_type": "code",
   "execution_count": 5,
   "id": "4e36dab7-416d-4e2b-92e0-e22793bb5a07",
   "metadata": {},
   "outputs": [
    {
     "name": "stdout",
     "output_type": "stream",
     "text": [
      "<class 'str'>\n",
      "3\n",
      "<class 'tuple'>\n",
      "1\n"
     ]
    }
   ],
   "source": [
    "t6 = 'sam'   # single element tuple must have comma, without comma it is considered as int/float/string/list/set etc\n",
    "print(type(t6))\n",
    "print(len(t6))\n",
    "\n",
    "\n",
    "t7 = 'sam',   # tuple of a string without parentheses\n",
    "print(type(t7))\n",
    "print(len(t7))"
   ]
  },
  {
   "cell_type": "markdown",
   "id": "dfe4239e-d10c-4f00-a90b-fe60956bc99d",
   "metadata": {
    "tags": []
   },
   "source": [
    "## **Built-in Functions on Tuple**"
   ]
  },
  {
   "cell_type": "markdown",
   "id": "189f0ba2-25ca-48d4-b8cb-aefd1e03a835",
   "metadata": {
    "tags": []
   },
   "source": [
    "**type(), len(), sum(), max(), min(), sorted() are the built-in functions on tuple similar to that on list.**"
   ]
  },
  {
   "cell_type": "code",
   "execution_count": 6,
   "id": "0f6dea77-880e-46b2-971c-7b903882344f",
   "metadata": {},
   "outputs": [
    {
     "name": "stdout",
     "output_type": "stream",
     "text": [
      "6\n",
      "6\n",
      "-3\n"
     ]
    }
   ],
   "source": [
    "t8 = 1,2,-3,6\n",
    "\n",
    "print(sum(t8))\n",
    "print(max(t8))\n",
    "print(min(t8))"
   ]
  },
  {
   "cell_type": "code",
   "execution_count": 7,
   "id": "6613e076-da7d-4471-9b33-cd94d8b9d63d",
   "metadata": {},
   "outputs": [
    {
     "name": "stdout",
     "output_type": "stream",
     "text": [
      "<class 'tuple'>\n",
      "[-3, 1, 2, 6]\n",
      "<class 'list'>\n",
      "(1, 2, -3, 6)\n",
      "[6, 2, 1, -3]\n"
     ]
    }
   ],
   "source": [
    "t8 = 1,2,-3,6\n",
    "\n",
    "print(type(t8))\n",
    "print(sorted(t8))          \n",
    "print(type(sorted(t8)))    # sorting tuple by sorted() function results list\n",
    "\n",
    "print(t8)                  # does not  alter the original tuple\n",
    "\n",
    "print(sorted(t8, reverse=True))"
   ]
  },
  {
   "cell_type": "code",
   "execution_count": 8,
   "id": "d2b7da7c-d135-4902-b29f-322df5a59e84",
   "metadata": {},
   "outputs": [
    {
     "name": "stdout",
     "output_type": "stream",
     "text": [
      "['-105', '1000', '236', '925', 'Alex', 'Mita', 'SIMA', 'Sima', 'Zakir', 'sima']\n",
      "['sima', 'Zakir', 'Sima', 'SIMA', 'Mita', 'Alex', '925', '236', '1000', '-105']\n"
     ]
    }
   ],
   "source": [
    "t9 = 'Sima','Zakir','sima','Alex','SIMA','Mita', '236','-105','925','1000'  # minus sign comes first then ascending order of 1st and 2nd digits and so on\n",
    "\n",
    "print(sorted(t9)) # sorts the strings of numbers first and then strings of alphabets\n",
    "\n",
    "print(sorted(t9, reverse=True))"
   ]
  },
  {
   "cell_type": "code",
   "execution_count": 9,
   "id": "605d9fec-76ed-4152-9f44-17f1b7f26805",
   "metadata": {},
   "outputs": [
    {
     "name": "stdout",
     "output_type": "stream",
     "text": [
      "<enumerate object at 0x14ce8d6b8500>\n",
      "[(-1, 1), (0, 2), (1, -3), (2, 6)]\n"
     ]
    }
   ],
   "source": [
    "t8 = 1,2,-3,6\n",
    "en = enumerate(t8, start = -1)\n",
    "print(en)\n",
    "print(list(en))"
   ]
  },
  {
   "cell_type": "markdown",
   "id": "eba577d8-54fc-4b4f-9cca-89a36e0b8b65",
   "metadata": {},
   "source": [
    "## **Indexing**"
   ]
  },
  {
   "cell_type": "markdown",
   "id": "7d221da3-34ee-44b7-b151-c53e2fd5f60f",
   "metadata": {},
   "source": [
    "**Tuple is ordered and so each element of tuple has a definite positional index like in list.** <br>\n",
    "Left to right indexing is 0 to (n-1) and right to left indexing is -1 to -n. Where n is the number of elements in the tuple (length of the tuple)."
   ]
  },
  {
   "cell_type": "code",
   "execution_count": 10,
   "id": "dba79070-16af-488c-96e6-80e2acd1614b",
   "metadata": {},
   "outputs": [
    {
     "name": "stdout",
     "output_type": "stream",
     "text": [
      "8\n",
      "5\n",
      "2\n",
      "2\n",
      "5\n",
      "True\n"
     ]
    }
   ],
   "source": [
    "t = 5, 3, -2, 8, 9, 0, -4, 2\n",
    "\n",
    "print(len(t))\n",
    "print(t[0])\n",
    "print(t[7])\n",
    "print(t[-1])\n",
    "print(t[-8])\n",
    "print(8 in t)   # search an element in tuple"
   ]
  },
  {
   "cell_type": "markdown",
   "id": "8591310a-e7c3-48c8-98fe-181d3ebf468c",
   "metadata": {},
   "source": [
    "## **Mutability**"
   ]
  },
  {
   "cell_type": "markdown",
   "id": "68641708-bef0-46be-a74a-f849a58b27bd",
   "metadata": {},
   "source": [
    "**Tuples are not mutable like list. So easily using index number and assigning we can not replace any element of tuple by another object like we do in list. We can convert tuple in a list and then replace any element.**"
   ]
  },
  {
   "cell_type": "code",
   "execution_count": 11,
   "id": "2e1864c3-996a-4d80-ba79-a3198c7bf2a6",
   "metadata": {},
   "outputs": [
    {
     "ename": "TypeError",
     "evalue": "'tuple' object does not support item assignment",
     "output_type": "error",
     "traceback": [
      "\u001b[0;31m---------------------------------------------------------------------------\u001b[0m",
      "\u001b[0;31mTypeError\u001b[0m                                 Traceback (most recent call last)",
      "\u001b[0;32m/tmp/ipykernel_19419/4240943260.py\u001b[0m in \u001b[0;36m<module>\u001b[0;34m\u001b[0m\n\u001b[1;32m      1\u001b[0m \u001b[0mt\u001b[0m \u001b[0;34m=\u001b[0m \u001b[0;36m5\u001b[0m\u001b[0;34m,\u001b[0m \u001b[0;36m3\u001b[0m\u001b[0;34m,\u001b[0m \u001b[0;34m-\u001b[0m\u001b[0;36m2\u001b[0m\u001b[0;34m,\u001b[0m \u001b[0;36m8\u001b[0m\u001b[0;34m,\u001b[0m \u001b[0;36m9\u001b[0m\u001b[0;34m,\u001b[0m \u001b[0;36m0\u001b[0m\u001b[0;34m,\u001b[0m \u001b[0;34m-\u001b[0m\u001b[0;36m4\u001b[0m\u001b[0;34m,\u001b[0m \u001b[0;36m2\u001b[0m\u001b[0;34m\u001b[0m\u001b[0;34m\u001b[0m\u001b[0m\n\u001b[1;32m      2\u001b[0m \u001b[0;34m\u001b[0m\u001b[0m\n\u001b[0;32m----> 3\u001b[0;31m \u001b[0mt\u001b[0m\u001b[0;34m[\u001b[0m\u001b[0;36m1\u001b[0m\u001b[0;34m]\u001b[0m \u001b[0;34m=\u001b[0m \u001b[0;36m4\u001b[0m\u001b[0;34m\u001b[0m\u001b[0;34m\u001b[0m\u001b[0m\n\u001b[0m",
      "\u001b[0;31mTypeError\u001b[0m: 'tuple' object does not support item assignment"
     ]
    }
   ],
   "source": [
    "t = 5, 3, -2, 8, 9, 0, -4, 2\n",
    "\n",
    "t[1] = 4"
   ]
  },
  {
   "cell_type": "code",
   "execution_count": 12,
   "id": "431bb595-edf4-41d4-a13e-c85df7416b49",
   "metadata": {},
   "outputs": [
    {
     "name": "stdout",
     "output_type": "stream",
     "text": [
      "[5, 3, -2, 8, 9, 0, -4, 2]\n",
      "[5, 4, -2, 8, 9, 0, -4, 2]\n",
      "(5, 4, -2, 8, 9, 0, -4, 2)\n",
      "(5, 3, -2, 8, 9, 0, -4, 2)\n"
     ]
    }
   ],
   "source": [
    "t = 5, 3, -2, 8, 9, 0, -4, 2\n",
    "\n",
    "t_l = list(t)\n",
    "print(t_l)\n",
    "\n",
    "t_l[1] = 4\n",
    "\n",
    "print(t_l)  # T_l gets altered\n",
    "print(tuple(t_l))\n",
    "print(t)"
   ]
  },
  {
   "cell_type": "markdown",
   "id": "bd14ce3f-8a0f-4afb-a56d-aab493e593f2",
   "metadata": {},
   "source": [
    "## **Slicing the Tuple**"
   ]
  },
  {
   "cell_type": "code",
   "execution_count": 13,
   "id": "7cc05364-356e-46c8-8c80-0485ac86ff37",
   "metadata": {},
   "outputs": [
    {
     "name": "stdout",
     "output_type": "stream",
     "text": [
      "(3, -2, 8)\n",
      "(3, -2, 8)\n",
      "(5, 3, -2, 8)\n",
      "(-2, 8, 9, 0, -4, 2)\n",
      "(0, -4, 2)\n",
      "(8, 9)\n",
      "(0, 9, 8, -2, 3, 5)\n",
      "(0, 9, 8, -2)\n",
      "()\n",
      "(0, 9)\n",
      "(-4, 0, 9, 8)\n",
      "()\n",
      "()\n",
      "(-4, 0, 9, 8)\n"
     ]
    }
   ],
   "source": [
    "t = 5, 3, -2, 8, 9, 0, -4, 2\n",
    "\n",
    "print(t[1:4:1]) # upto index 3 (left to right)\n",
    "print(t[1:4])   # Default step size is 1\n",
    "print(t[:4])    # Default start is 0 (left to right) and default step size 1\n",
    "print(t[2:])    # Default stop is n-1 (left to right) and default step size 1. n is the length of the list\n",
    "print(t[-3:])   # Default stop is -n (slicing left to right) and default step size 1.\n",
    "print(t[-5:5])  # Start at -5 and stop at 5-1=4 (slicing left to right) and default step size 1.\n",
    "print(t[-3::-1]) # Slicing right to left as step size is negative which reverses the direction of slicing\n",
    "print(t[-3:-7:-1])\n",
    "print(t[-5:5:-1]) # slicing not possible. Directional conflicts\n",
    "print(t[5:-5:-1])\n",
    "print(t[6:2:-1])\n",
    "print(t[6:2:1])   # slicing not possible. Directional conflicts\n",
    "print(t[-2:2:1])  # slicing not possible. Directional conflicts\n",
    "print(t[-2:2:-1])"
   ]
  },
  {
   "cell_type": "markdown",
   "id": "1317cba3-352f-45c7-adcd-f0cceaff5225",
   "metadata": {},
   "source": [
    "## **Concatenation**"
   ]
  },
  {
   "cell_type": "markdown",
   "id": "133373ae-0d3f-4846-b3bb-7e44c99aca07",
   "metadata": {},
   "source": [
    "**Concatenation is same as for list.**"
   ]
  },
  {
   "cell_type": "code",
   "execution_count": 14,
   "id": "f80c0b68-2bc0-4d7e-b1fb-1bd61ca5030a",
   "metadata": {},
   "outputs": [
    {
     "name": "stdout",
     "output_type": "stream",
     "text": [
      "(1, 5, 9, 5, 3, 8)\n",
      "(1, 5, 9, 1, 5, 9)\n"
     ]
    }
   ],
   "source": [
    "t1 = 1, 5, 9\n",
    "t2 = 5, 3, 8\n",
    "\n",
    "#t1+t2\n",
    "print(t1 + t2) # t1 - t2 subtraction is not possible\n",
    "\n",
    "#2*t1\n",
    "print(2*t1)    # t1/2 division is not possible"
   ]
  },
  {
   "cell_type": "markdown",
   "id": "619b15a5-66a9-4d20-a1c5-f82cb2273f0c",
   "metadata": {},
   "source": [
    "## **Methods on Tuple**"
   ]
  },
  {
   "cell_type": "markdown",
   "id": "d7427532-f406-494e-b4e3-233f0b0df7b8",
   "metadata": {},
   "source": [
    "**There are not many methods found on tuple. However, a tuple can be converted into a list and then the list methods can be applied.**"
   ]
  },
  {
   "cell_type": "code",
   "execution_count": null,
   "id": "56f5aaec-44ee-43af-b3b5-6815a2e66bdf",
   "metadata": {},
   "outputs": [],
   "source": [
    "print(dir(tuple))"
   ]
  },
  {
   "cell_type": "code",
   "execution_count": null,
   "id": "6674be8e-86d3-4dcc-9749-fd0a37874265",
   "metadata": {
    "jp-MarkdownHeadingCollapsed": true,
    "tags": []
   },
   "outputs": [],
   "source": [
    "#help(tuple.__add__)  # This is actually concatenation of tuples\n",
    "t1 = 1, 5, 9\n",
    "t2 = 5, 3, 8\n",
    "\n",
    "#print(t1.__add__(10)) # can only concatenate tuple (not \"int\") to tuple\n",
    "#print(t1.__add__((10))) # sibgle element withing (), without comma considered as int\n",
    "print(t1.__add__((10,)))\n",
    "print(t1.__add__((10,), t2)) # cab concatenate only one tuple at a time"
   ]
  },
  {
   "cell_type": "code",
   "execution_count": null,
   "id": "14a2d546-2574-4d07-b0c5-19240cc2a4aa",
   "metadata": {},
   "outputs": [],
   "source": [
    "#help(tuple.__sizeof__)  # Size of object in memory, in bytes.\n",
    "t1 = 1, 5, 9\n",
    "t = 5, 3, -2, 8, 9, 0, -4, 2\n",
    "\n",
    "print(t1.__sizeof__())\n",
    "print(t.__sizeof__())"
   ]
  },
  {
   "cell_type": "code",
   "execution_count": null,
   "id": "0d4fb70f-8661-4a37-ad5e-c44753f0e42f",
   "metadata": {},
   "outputs": [],
   "source": [
    "#help(tuple.__getitem__)\n",
    "\n",
    "t1 = 1, 5, 9\n",
    "print(t1.__getitem__(0))"
   ]
  },
  {
   "cell_type": "markdown",
   "id": "755952a3-420c-476f-8d50-1be79175fcd8",
   "metadata": {},
   "source": [
    "### **# First index location of element of the tuple**"
   ]
  },
  {
   "cell_type": "code",
   "execution_count": null,
   "id": "a9095b65-83bc-468b-8069-3f16f584661d",
   "metadata": {},
   "outputs": [],
   "source": [
    "#help(tuple.index)\n",
    "\n",
    "del(t)  # delete previously assigned t if any\n",
    "t = 1, 3, 5, 8, 1, 5, 0\n",
    "\n",
    "print(t.index(5))  # prints the index of first 5 from left to right\n",
    "# or\n",
    "print(tuple.index(t, 1)) # prints the index of first 1 from left to right"
   ]
  },
  {
   "cell_type": "markdown",
   "id": "aa244b45-1f3c-4761-a240-830d1b011280",
   "metadata": {},
   "source": [
    "### **# Return number of occurrences of item**"
   ]
  },
  {
   "cell_type": "code",
   "execution_count": null,
   "id": "a5732496-eb6b-4251-a2e0-56404a4ccb64",
   "metadata": {},
   "outputs": [],
   "source": [
    "#help(tuple.count)\n",
    "\n",
    "del(t)  # delete previously assigned t if any\n",
    "t = 1, 3, 5, 8, 1, 5, 0\n",
    "\n",
    "print(t.count(5))\n",
    "#\n",
    "print(tuple.count(t, 1))"
   ]
  },
  {
   "cell_type": "markdown",
   "id": "f1d99396-6cf9-408e-ba43-6334f3bb53bc",
   "metadata": {},
   "source": [
    "## **Exercises on Tuple**"
   ]
  },
  {
   "cell_type": "markdown",
   "id": "5f912ff9-8d33-4a80-a057-49230c393584",
   "metadata": {},
   "source": [
    "**Q1. Make a tuple of lengths for the tuples inside a tuple.**"
   ]
  },
  {
   "cell_type": "code",
   "execution_count": 17,
   "id": "add10fce-0214-4de5-ba05-15a82c7522d9",
   "metadata": {},
   "outputs": [
    {
     "name": "stdout",
     "output_type": "stream",
     "text": [
      "(3, 4, 2, 1)\n",
      "(3, 4, 2, 1)\n",
      "(3, 4, 2, 1)\n"
     ]
    }
   ],
   "source": [
    "del(t)   # delete previously assigned t if any\n",
    "t = ((1, 'sam', 5), (2, 'ram', 3, 'bian'), (7,[2, 5]), (8,))\n",
    "\n",
    "print(tuple([len(i) for i in t])) # tuple from list comprehension\n",
    "\n",
    "print(tuple(len(i) for i in t))  # direct tuple from generator \n",
    "\n",
    "lt=()             # empty tuple\n",
    "for i in t:\n",
    "    lt += (len(i),)  # concatenation of tuples of lengths\n",
    "    \n",
    "print(lt) "
   ]
  },
  {
   "cell_type": "code",
   "execution_count": null,
   "id": "f1f18eda-9fbe-42a9-b679-c119076e0f1e",
   "metadata": {},
   "outputs": [],
   "source": [
    "import time\n",
    "del(t)   # delete previously assigned t if any\n",
    "t = ((1, 'sam', 5), (2, 'ram', 3, 'bian'), (7,[2, 5]), (8,))\n",
    "\n",
    "begin1 = time.time()\n",
    "\n",
    "print([len(i) for i in t])\n",
    "\n",
    "end1 = time.time()\n",
    "run_time1 = (end1 - begin1)*1e3\n",
    "print(run_time1)\n",
    "\n",
    "begin2 = time.time()\n",
    "\n",
    "print(tuple(len(i) for i in t))\n",
    "\n",
    "end2 = time.time()\n",
    "run_time2 = (end2 - begin2)*1e3\n",
    "print(run_time2)\n",
    "\n",
    "begin3 = time.time()\n",
    "\n",
    "print(tuple([len(i) for i in t]))\n",
    "\n",
    "end3 = time.time()\n",
    "run_time3 = (end3 - begin3)*1e3\n",
    "print(run_time3)"
   ]
  },
  {
   "cell_type": "markdown",
   "id": "98766508-9f6b-4212-aaca-464885efce6f",
   "metadata": {},
   "source": [
    "**Q2. Make a tuple of memory sizes for the tuples inside a tuple.**"
   ]
  },
  {
   "cell_type": "code",
   "execution_count": null,
   "id": "481efb8b-1515-4dbb-8fec-5e8706efd3e6",
   "metadata": {},
   "outputs": [],
   "source": [
    "del(t)   # delete previously assigned t if any\n",
    "t = ((1, 'sam', 5), (2, 'ram', 3, 'bian'), (7,[2, 5]), (8,))\n",
    "\n",
    "print(tuple([i.__sizeof__() for i in t])) # tuple from list comprehension\n",
    "\n",
    "print(tuple(i.__sizeof__() for i in t))  # direct tuple from generator \n",
    "\n",
    "st=()             # empty tuple\n",
    "for i in t:\n",
    "    st += (i.__sizeof__(),)  # concatenation of tuples of lengths using for loop\n",
    "    \n",
    "print(st) \n",
    "\n",
    "\n",
    "print(t.__sizeof__())"
   ]
  },
  {
   "cell_type": "markdown",
   "id": "b9ed8faa-d5c6-47fc-a598-dc4e5ab0e830",
   "metadata": {},
   "source": [
    "**Q3. Extract maximum and minimum n elements as tuple from a given tuple.**"
   ]
  },
  {
   "cell_type": "code",
   "execution_count": null,
   "id": "0cbb1258-e003-48d0-a744-90cbd2ecd4c3",
   "metadata": {},
   "outputs": [],
   "source": [
    "k = 2\n",
    "gt = (5, -3, 8, 4, 25, 6)\n",
    "sort_gt = tuple(sorted(gt))\n",
    "#print(sort_gt)\n",
    "new_t = sort_gt[-1:-(k+1):-1] + sort_gt[:k]\n",
    "#new_t = sort_gt[-k:] + sort_gt[:k]\n",
    "new_t"
   ]
  },
  {
   "cell_type": "code",
   "execution_count": null,
   "id": "a7867f29-fc16-4c9c-828f-c2db970547f8",
   "metadata": {},
   "outputs": [],
   "source": [
    "k = 2\n",
    "gt = (5, -3, 8, 4, 25, 6)\n",
    "sort_l = list(gt)\n",
    "sort_l.sort()\n",
    "sort_gt = tuple(sort_l)\n",
    "#print(sort_gt)\n",
    "new_t = sort_gt[-1:-(k+1):-1] + sort_gt[:k]\n",
    "#new_t = sort_gt[-k:] + sort_gt[:k]\n",
    "new_t"
   ]
  },
  {
   "cell_type": "code",
   "execution_count": null,
   "id": "de2001b9-beb3-4777-a491-7f4e0028ba90",
   "metadata": {},
   "outputs": [],
   "source": [
    "k = 2\n",
    "gt = (5, -3, 8, 4, 25, 6)\n",
    "sort_gt = tuple(sorted(gt))\n",
    "#print(sort_gt)\n",
    "new_t = ()\n",
    "\n",
    "for indx, val in enumerate(sort_gt):\n",
    "    if indx < k or indx >= len(sort_gt)-k:\n",
    "        new_t += (val,)\n",
    "tuple(new_t)"
   ]
  },
  {
   "cell_type": "code",
   "execution_count": null,
   "id": "41174994-9936-4aba-976a-3eaaef96ffbe",
   "metadata": {},
   "outputs": [],
   "source": [
    "k = 2\n",
    "gt = (5, -3, 8, 4, 25, 6)\n",
    "sort_l = sorted(gt)\n",
    "#print(sort_gt)\n",
    "new_l = []\n",
    "\n",
    "for indx, val in enumerate(sort_l):\n",
    "    if indx < k or indx >= len(sort_l)-k:\n",
    "        new_l.append(val)\n",
    "tuple(new_l)"
   ]
  },
  {
   "cell_type": "markdown",
   "id": "0a0af18d-2888-4446-94e5-dd7b3a83160e",
   "metadata": {},
   "source": [
    "**Q4. Create a list and tuple of tuples from given list / tuple having number and its cube in each tuple.**"
   ]
  },
  {
   "cell_type": "code",
   "execution_count": null,
   "id": "504d8213-ea1e-46d8-a3be-f9cbc5819c78",
   "metadata": {},
   "outputs": [],
   "source": [
    "from random import *\n",
    "\n",
    "lst = [randint(1,10) for i in range(4)]           # from list\n",
    "print(lst)\n",
    "\n",
    "print([(i, i**3) for i in lst])            # list comprehension\n",
    "print(tuple((i, i**3) for i in lst))       # direct tuple from generator expression\n",
    "print(tuple([(i, i**3) for i in lst]))     # tuple from list comprehension"
   ]
  },
  {
   "cell_type": "code",
   "execution_count": null,
   "id": "17578c4d-d066-44d2-bc9f-a486521e3199",
   "metadata": {},
   "outputs": [],
   "source": [
    "from random import *\n",
    "\n",
    "tup = tuple([randint(1,10) for i in range(4)])     # from tuple\n",
    "print(tup)\n",
    "\n",
    "print([(i, i**3) for i in tup])            # list comprehension\n",
    "print(tuple((i, i**3) for i in tup))       # direct tuple from generator expression\n",
    "print(tuple([(i, i**3) for i in tup]))     # tuple from list comprehension"
   ]
  },
  {
   "cell_type": "code",
   "execution_count": null,
   "id": "cc1d62ea-a209-4413-8d27-f6b3fa035594",
   "metadata": {},
   "outputs": [],
   "source": [
    "from random import *\n",
    "\n",
    "tup = tuple([randint(1,10) for i in range(4)])     # from tuple\n",
    "print(tup)\n",
    "\n",
    "new_l = []\n",
    "for i in tup:\n",
    "    new_l.append((i, pow(i, 3)))\n",
    "print(new_l)                        # list of tuples\n",
    "\n",
    "new_l2 = []\n",
    "for i in tup:\n",
    "    new_l2 += (i, pow(i,3)),\n",
    "print(new_l2)                       # list of tuples\n",
    "\n",
    "new_t = ()\n",
    "for i in tup:\n",
    "    new_t += (i, pow(i,3)),\n",
    "print(new_t)                        # tuple of tuples"
   ]
  },
  {
   "cell_type": "markdown",
   "id": "061eadfd-ebc6-4b7e-9f0b-840876c04761",
   "metadata": {},
   "source": [
    "**Q5. Add elements of a tuple to list or vice-versa.**"
   ]
  },
  {
   "cell_type": "code",
   "execution_count": null,
   "id": "03c98eb0-ab32-465b-aa03-00544b452a5f",
   "metadata": {},
   "outputs": [],
   "source": [
    "from random import *\n",
    "\n",
    "lst = [randint(1,10) for i in range(4)]\n",
    "print(lst)\n",
    "\n",
    "tup = tuple(randint(1,10) for i in range(4))\n",
    "print(tup)\n",
    "\n",
    "new_lst = lst + list(tup)\n",
    "print(new_lst)\n",
    "\n",
    "new_tup = tuple(lst) + tup\n",
    "print(new_tup)"
   ]
  },
  {
   "cell_type": "code",
   "execution_count": null,
   "id": "1d8eac70-8f4a-4dd4-8aec-47727932e4bc",
   "metadata": {},
   "outputs": [],
   "source": [
    "from random import *\n",
    "\n",
    "lst = [randint(1,10) for i in range(4)]\n",
    "print(lst)\n",
    "\n",
    "tup = tuple(randint(1,10) for i in range(4))\n",
    "print(tup)\n",
    "\n",
    "new_lst1 = lst.copy() # if we do new_lst = lst, then original lst will get altered\n",
    "new_lst1.extend(i for i in tup)\n",
    "new_tup1 = tuple(new_lst1)\n",
    "print(lst)\n",
    "print(new_lst1)\n",
    "print(new_tup1)\n",
    "\n",
    "new_lst2 = list(tup).copy()\n",
    "new_lst2.extend(i for i in lst)\n",
    "new_tup2 = tuple(new_lst2)\n",
    "print(new_tup2)"
   ]
  },
  {
   "cell_type": "markdown",
   "id": "b9ecc4b0-0f24-4cf6-88a8-11913987f067",
   "metadata": {},
   "source": [
    "**Q6. "
   ]
  },
  {
   "cell_type": "code",
   "execution_count": null,
   "id": "537f5b7e-a09e-40d3-a426-72b6a08e8d2b",
   "metadata": {},
   "outputs": [],
   "source": [
    "from random import *\n",
    "\n",
    "mat = [[randint(1,20) for _ in range(4)] for _ in range(3)]\n",
    "print(mat)\n",
    "\n",
    "tr_mat1 = [[mat[i][j] for i in range(len(mat))] for j in range(len(mat[0]))]\n",
    "print(tr_mat1)\n",
    "\n",
    "tr_mat2 = [[mat[j][i] for j in range(len(mat))] for i in range(len(mat[0]))]\n",
    "print(tr_mat2)"
   ]
  },
  {
   "cell_type": "code",
   "execution_count": null,
   "id": "cb53a932-55eb-49bf-adc9-4608fee3659f",
   "metadata": {},
   "outputs": [],
   "source": []
  },
  {
   "cell_type": "code",
   "execution_count": null,
   "id": "764081f1-2f27-4674-af23-62c39bf750c5",
   "metadata": {},
   "outputs": [],
   "source": [
    "a=[]\n",
    "for i in range(3):\n",
    "    a.append([i**2 for j in range(2)])\n",
    "a"
   ]
  },
  {
   "cell_type": "code",
   "execution_count": 18,
   "id": "a63e60c5-eb97-4015-a79e-9149e81378c8",
   "metadata": {},
   "outputs": [
    {
     "ename": "AttributeError",
     "evalue": "'tuple' object has no attribute 'append'",
     "output_type": "error",
     "traceback": [
      "\u001b[0;31m---------------------------------------------------------------------------\u001b[0m",
      "\u001b[0;31mAttributeError\u001b[0m                            Traceback (most recent call last)",
      "\u001b[0;32m/tmp/ipykernel_19419/3593570183.py\u001b[0m in \u001b[0;36m<module>\u001b[0;34m\u001b[0m\n\u001b[1;32m      1\u001b[0m \u001b[0ma\u001b[0m\u001b[0;34m=\u001b[0m\u001b[0;34m(\u001b[0m\u001b[0;34m)\u001b[0m\u001b[0;34m\u001b[0m\u001b[0;34m\u001b[0m\u001b[0m\n\u001b[1;32m      2\u001b[0m \u001b[0;32mfor\u001b[0m \u001b[0mi\u001b[0m \u001b[0;32min\u001b[0m \u001b[0mrange\u001b[0m\u001b[0;34m(\u001b[0m\u001b[0;36m3\u001b[0m\u001b[0;34m)\u001b[0m\u001b[0;34m:\u001b[0m\u001b[0;34m\u001b[0m\u001b[0;34m\u001b[0m\u001b[0m\n\u001b[0;32m----> 3\u001b[0;31m     \u001b[0ma\u001b[0m\u001b[0;34m.\u001b[0m\u001b[0mappend\u001b[0m\u001b[0;34m(\u001b[0m\u001b[0mi\u001b[0m\u001b[0;34m**\u001b[0m\u001b[0;36m2\u001b[0m \u001b[0;32mfor\u001b[0m \u001b[0mj\u001b[0m \u001b[0;32min\u001b[0m \u001b[0mrange\u001b[0m\u001b[0;34m(\u001b[0m\u001b[0;36m2\u001b[0m\u001b[0;34m)\u001b[0m\u001b[0;34m)\u001b[0m\u001b[0;34m\u001b[0m\u001b[0;34m\u001b[0m\u001b[0m\n\u001b[0m\u001b[1;32m      4\u001b[0m \u001b[0ma\u001b[0m\u001b[0;34m\u001b[0m\u001b[0;34m\u001b[0m\u001b[0m\n",
      "\u001b[0;31mAttributeError\u001b[0m: 'tuple' object has no attribute 'append'"
     ]
    }
   ],
   "source": [
    "a=()\n",
    "for i in range(3):\n",
    "    a.append(i**2 for j in range(2))\n",
    "a"
   ]
  },
  {
   "cell_type": "code",
   "execution_count": null,
   "id": "d9e43b75-d9d6-46cf-8e37-794e964c9dc5",
   "metadata": {},
   "outputs": [],
   "source": []
  }
 ],
 "metadata": {
  "kernelspec": {
   "display_name": "Python 3 (ipykernel)",
   "language": "python",
   "name": "python3"
  },
  "language_info": {
   "codemirror_mode": {
    "name": "ipython",
    "version": 3
   },
   "file_extension": ".py",
   "mimetype": "text/x-python",
   "name": "python",
   "nbconvert_exporter": "python",
   "pygments_lexer": "ipython3",
   "version": "3.7.9"
  }
 },
 "nbformat": 4,
 "nbformat_minor": 5
}
