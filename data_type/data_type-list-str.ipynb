{
 "cells": [
  {
   "cell_type": "markdown",
   "id": "913cab30-c192-49ef-9e97-a2a6e5ddbdc0",
   "metadata": {},
   "source": [
    "# **List**"
   ]
  },
  {
   "cell_type": "markdown",
   "id": "e5937947-3b28-4092-baff-ffc56e8facda",
   "metadata": {},
   "source": [
    "## **Introduction to list and built-in functions**"
   ]
  },
  {
   "cell_type": "code",
   "execution_count": 69,
   "id": "68f556ef-92d2-47af-a83b-41c25d6653e9",
   "metadata": {},
   "outputs": [
    {
     "name": "stdout",
     "output_type": "stream",
     "text": [
      "[3, 2.5, 4.0, -1, 5, 0]\n",
      "<class 'list'>\n",
      "6\n",
      "13.5\n",
      "[3, 2.5, 4.0, -1, 5, 0, 6]\n",
      "7\n",
      "19.5\n",
      "[3, 2.5, 4.0, -1, 5, 0, 6, (4, 6)]\n",
      "8\n",
      "[3, 2.5, 4.0, -1, 5, 0, 6, (4, 6), {4, 6}]\n",
      "9\n",
      "[3, 2.5, 4.0, -1, 5, 0, 6, (4, 6), {4, 6}, [4, 6]]\n",
      "[3, 2.5, 4.0, -1, 5, 0, 6, (4, 6), {4, 6}, [4, 6], 'str']\n"
     ]
    }
   ],
   "source": [
    "# list\n",
    "A=[3,2.5,4.0,-1,5,0]\n",
    "print(A)\n",
    "print(type(A)) # type() is a built-in function, prints the type of class of the data\n",
    "print(len(A))  # len() is a built-in function, prints the length of the data class i.e. number of elements\n",
    "print(sum(A)) # sum() is a built-in function, makes sum of all the elements of the list\n",
    "\n",
    "A.append(6)  # append() is a built-in function, appends extra element one at a time\n",
    "print(A)\n",
    "print(len(A))\n",
    "print(sum(A))\n",
    "\n",
    "A.append((4,6)) # can append a tuple\n",
    "print(A)\n",
    "print(len(A))\n",
    "\n",
    "A.append({4,6}) # can append a set\n",
    "print(A)\n",
    "print(len(A))\n",
    "\n",
    "A.append([4,6])  # can append list\n",
    "print(A)\n",
    "\n",
    "A.append('str') # can append string\n",
    "print(A)"
   ]
  },
  {
   "cell_type": "markdown",
   "id": "ce037d33-5f91-4fb9-9b1d-befac1c69d07",
   "metadata": {
    "tags": []
   },
   "source": [
    "## **Set to list**"
   ]
  },
  {
   "cell_type": "code",
   "execution_count": 2,
   "id": "0936f77a-8a9a-46ca-a539-88188a3cf6be",
   "metadata": {},
   "outputs": [
    {
     "name": "stdout",
     "output_type": "stream",
     "text": [
      "<class 'set'>\n",
      "4\n",
      "[8, 3.2, 5, 'string']\n"
     ]
    }
   ],
   "source": [
    "a={'string',5,8,3.2,}\n",
    "print(type(a)) # a is a set\n",
    "print(len(a))\n",
    "print(list(a)) # list() is a built-in function that transforms set to list"
   ]
  },
  {
   "cell_type": "markdown",
   "id": "fbc2f531-827c-49e2-8b16-768915901221",
   "metadata": {},
   "source": [
    "## **Dictionary to list**"
   ]
  },
  {
   "cell_type": "code",
   "execution_count": 3,
   "id": "053e4130-dbf7-4fa3-a386-ad4c0c0427ed",
   "metadata": {
    "tags": []
   },
   "outputs": [
    {
     "name": "stdout",
     "output_type": "stream",
     "text": [
      "<class 'dict'>\n",
      "2\n",
      "{'x': 1, 'y': 5}\n",
      "5\n",
      "['x', 'y']\n"
     ]
    }
   ],
   "source": [
    "b={'x':1,'y':5}\n",
    "print(type(b)) # b is a dictionary\n",
    "print(len(b))\n",
    "print(b)\n",
    "print(b['y'])\n",
    "print(list(b)) # list() is a built-in function that transforms dictionary to list"
   ]
  },
  {
   "cell_type": "markdown",
   "id": "7a2ab3e4-9eeb-4fba-80ab-ad003eeea6d6",
   "metadata": {},
   "source": [
    "## **Some built-in functions**"
   ]
  },
  {
   "cell_type": "code",
   "execution_count": 4,
   "id": "7c0252bd-52e3-40ce-be3e-8f531be72980",
   "metadata": {},
   "outputs": [
    {
     "name": "stdout",
     "output_type": "stream",
     "text": [
      "5\n",
      "-1\n",
      "2.25\n",
      "[-1, 0, 2.5, 3, 4.0, 5]\n",
      "[5, 4.0, 3, 2.5, 0, -1]\n",
      "[3, 2.5, 4.0, -1, 5, 0]\n"
     ]
    }
   ],
   "source": [
    "A=[3,2.5,4.0,-1,5,0]\n",
    "print(max(A))           # gives the maximum number\n",
    "print(min(A))           # gives the minimum number\n",
    "print(sum(A)/len(A))    # mean of the elements\n",
    "print(sorted(A))        # sorted in ascending order\n",
    "print(sorted(A, reverse=True))   # sorted in descending order\n",
    "print(A)                         # Original A remains unchanged"
   ]
  },
  {
   "cell_type": "code",
   "execution_count": 6,
   "id": "9c12cb1c-dbab-4c3a-a83d-82970ca5bc67",
   "metadata": {},
   "outputs": [
    {
     "name": "stdout",
     "output_type": "stream",
     "text": [
      "['Alex', 'Mita', 'Sima', 'Zakir', 'sima']\n",
      "['sima', 'Zakir', 'Sima', 'Mita', 'Alex']\n"
     ]
    }
   ],
   "source": [
    "B=['Sima','Zakir','Alex','sima','Mita']   # alpahabetically sorted\n",
    "\n",
    "print(sorted(B))\n",
    "\n",
    "print(sorted(B, reverse=True))"
   ]
  },
  {
   "cell_type": "code",
   "execution_count": 9,
   "id": "8042c29c-edc4-4c1a-86ff-5ce76122e173",
   "metadata": {},
   "outputs": [
    {
     "name": "stdout",
     "output_type": "stream",
     "text": [
      "['-105', '1000', '236', '925', 'Alex', 'Mita', 'Sima', 'Zakir', 'sima']\n",
      "['sima', 'Zakir', 'Sima', 'Mita', 'Alex', '925', '236', '1000', '-105']\n"
     ]
    }
   ],
   "source": [
    "C=['236','-105','925','1000', 'Sima','Zakir','Alex','sima','Mita']  # minus sign comes first then ascending order of 1st and 2nd digits and so on\n",
    "\n",
    "print(sorted(C))  # sorts the strings of numbers first and then strings of alphabets\n",
    "\n",
    "print(sorted(C, reverse=True))"
   ]
  },
  {
   "cell_type": "markdown",
   "id": "5a783579-f86e-45c7-98f3-e0fbd5a971d9",
   "metadata": {},
   "source": [
    "**The built-in function _enumerate(list/string etc, start=n)_ iterates index and the corresponding object.**"
   ]
  },
  {
   "cell_type": "code",
   "execution_count": 211,
   "id": "dafca3b3-e157-45c3-bbfd-0b9d8eb7f5f8",
   "metadata": {},
   "outputs": [
    {
     "name": "stdout",
     "output_type": "stream",
     "text": [
      "<enumerate object at 0x14c02048a780>\n",
      "(0, 3)\n",
      "(1, 2.5)\n",
      "(2, 4.0)\n",
      "(3, -1)\n",
      "(4, 5)\n",
      "(5, 0)\n"
     ]
    }
   ],
   "source": [
    "A=[3,2.5,4.0,-1,5,0]\n",
    "en_A=enumerate(A) # Default start=0\n",
    "print(en_A)\n",
    "for i in en_A:\n",
    "    print(i)"
   ]
  },
  {
   "cell_type": "code",
   "execution_count": 13,
   "id": "4e13ab0e-f988-4ebc-a516-15a242f1fed4",
   "metadata": {},
   "outputs": [
    {
     "name": "stdout",
     "output_type": "stream",
     "text": [
      "<enumerate object at 0x153a89001fa0>\n",
      "<class 'enumerate'>\n",
      "[(-1, 3), (0, 2.5), (1, 4.0), (2, -1), (3, 5), (4, 0)]\n",
      "set()\n"
     ]
    }
   ],
   "source": [
    "A=[3,2.5,4.0,-1,5,0]\n",
    "en_A=enumerate(A, start=-1) \n",
    "             # start from customized index -1 (corresponding to the first object of the list, left to right)\n",
    "print(en_A)\n",
    "print(type(en_A))\n",
    "print(list(en_A))"
   ]
  },
  {
   "cell_type": "markdown",
   "id": "cc82a217-e887-4035-a035-f4ff5a5536db",
   "metadata": {
    "tags": []
   },
   "source": [
    "## **Indexing**"
   ]
  },
  {
   "cell_type": "markdown",
   "id": "18b863c7-2a7d-4016-a667-e4729783acae",
   "metadata": {},
   "source": [
    "**List is ordered and so each element of tuple has a definite positional index.** <br>\n",
    "Left to right indexing is 0 to (n-1) and right to left indexing is -1 to -n. Where n is the number of elements in the list (length of the list)."
   ]
  },
  {
   "cell_type": "code",
   "execution_count": 508,
   "id": "b5d8d476-7174-47ec-bfe0-6dd9e232039c",
   "metadata": {},
   "outputs": [
    {
     "name": "stdout",
     "output_type": "stream",
     "text": [
      "6\n",
      "3\n",
      "0\n",
      "3\n",
      "0\n"
     ]
    }
   ],
   "source": [
    "A=[3,2.5,4.0,-1,5,0]\n",
    "print(len(A))\n",
    "print(A[0])\n",
    "print(A[5])\n",
    "print(A[-6])\n",
    "print(A[-1])"
   ]
  },
  {
   "cell_type": "markdown",
   "id": "46d20bc7-8059-48f0-8b67-c4a292e17fb1",
   "metadata": {},
   "source": [
    "## **Slicing the list**"
   ]
  },
  {
   "cell_type": "markdown",
   "id": "a9d23342-5ae8-4008-b4e3-243a66fe10f2",
   "metadata": {},
   "source": [
    "Positive step size represents the slicing direction left to right and negative step size represents the slicing direction right to left. If the direction represented by the journey start to stop and the direction represented by the sign of the step conflict, then slicing not possible resulting in list with no elements."
   ]
  },
  {
   "cell_type": "code",
   "execution_count": 8,
   "id": "2afdfb7f-edb3-42fc-88b0-b561f3b83133",
   "metadata": {},
   "outputs": [
    {
     "name": "stdout",
     "output_type": "stream",
     "text": [
      "[2.5, 4.0, -1]\n",
      "[2.5, 4.0, -1]\n",
      "[3, 2.5, 4.0, -1]\n",
      "[4.0, -1, 5, 0]\n",
      "[-1, 5, 0]\n",
      "[2.5, 4.0, -1, 5]\n",
      "[-1, 4.0, 2.5, 3]\n",
      "[-1, 4.0, 2.5, 3]\n",
      "[]\n",
      "[0, 5, -1, 4.0]\n",
      "[0, 5, -1]\n",
      "[]\n",
      "[]\n",
      "[5, -1]\n"
     ]
    }
   ],
   "source": [
    "A=[3, 2.5, 4.0, -1, 5, 0]\n",
    "print(A[1:4:1]) # upto index 3 (left to right)\n",
    "print(A[1:4])   # Default step size is 1\n",
    "print(A[:4])    # Default start is 0 (left to right) and default step size 1\n",
    "print(A[2:])    # Default stop is n-1 (left to right) and default step size 1. n is the length of the list\n",
    "print(A[-3:])   # Default stop is -n (slicing left to right) and default step size 1.\n",
    "print(A[-5:5])  # Start at -5 and stop at 5-1=4 (slicing left to right) and default step size 1.\n",
    "print(A[-3::-1]) # Slicing right to left as step size is negative which reverses the direction of slicing\n",
    "print(A[-3:-7:-1])\n",
    "print(A[-5:5:-1]) # slicing not possible. Directional conflicts\n",
    "print(A[5:-5:-1])\n",
    "print(A[6:2:-1])\n",
    "print(A[6:2:1])   # slicing not possible. Directional conflicts\n",
    "print(A[-2:2:1])  # slicing not possible. Directional conflicts\n",
    "print(A[-2:2:-1])"
   ]
  },
  {
   "cell_type": "markdown",
   "id": "82844ab2-61c2-4aaf-94a6-5b4fc342874a",
   "metadata": {},
   "source": [
    "## **List Methods**"
   ]
  },
  {
   "cell_type": "markdown",
   "id": "e701c2a8-50fe-4a7f-aa75-6c081e6ef1bc",
   "metadata": {},
   "source": [
    "Methods are some specific functions designed to apply on object"
   ]
  },
  {
   "cell_type": "markdown",
   "id": "5f9ef58c-e220-4ffd-aae0-99456c040c17",
   "metadata": {},
   "source": [
    "### **# Check the Directory for the methods of list**"
   ]
  },
  {
   "cell_type": "code",
   "execution_count": 9,
   "id": "a67f6fda-2b9a-4125-a470-3b443864a56c",
   "metadata": {},
   "outputs": [
    {
     "name": "stdout",
     "output_type": "stream",
     "text": [
      "['__add__', '__class__', '__contains__', '__delattr__', '__delitem__', '__dir__', '__doc__', '__eq__', '__format__', '__ge__', '__getattribute__', '__getitem__', '__gt__', '__hash__', '__iadd__', '__imul__', '__init__', '__init_subclass__', '__iter__', '__le__', '__len__', '__lt__', '__mul__', '__ne__', '__new__', '__reduce__', '__reduce_ex__', '__repr__', '__reversed__', '__rmul__', '__setattr__', '__setitem__', '__sizeof__', '__str__', '__subclasshook__', 'append', 'clear', 'copy', 'count', 'extend', 'index', 'insert', 'pop', 'remove', 'reverse', 'sort']\n"
     ]
    }
   ],
   "source": [
    "print(dir(list))"
   ]
  },
  {
   "cell_type": "code",
   "execution_count": 10,
   "id": "4f220e56-c216-4bb4-a453-912f429876bd",
   "metadata": {},
   "outputs": [
    {
     "name": "stdout",
     "output_type": "stream",
     "text": [
      "[1, 2, 3, 4]\n"
     ]
    }
   ],
   "source": [
    "#print(help(list.__add__))\n",
    "a=[1,2]\n",
    "b=[3,4]\n",
    "print(a.__add__(b))"
   ]
  },
  {
   "cell_type": "code",
   "execution_count": 11,
   "id": "b8f402a2-d692-4579-b09b-5e0c8dfc0f85",
   "metadata": {},
   "outputs": [
    {
     "name": "stdout",
     "output_type": "stream",
     "text": [
      "<class 'list'>\n"
     ]
    }
   ],
   "source": [
    "#print(help(list.__class__))\n",
    "a=[1,2]\n",
    "print(a.__class__)"
   ]
  },
  {
   "cell_type": "code",
   "execution_count": 12,
   "id": "acff4bff-b17c-48e1-ac69-a0e35cc368c3",
   "metadata": {},
   "outputs": [
    {
     "name": "stdout",
     "output_type": "stream",
     "text": [
      "True\n",
      "False\n"
     ]
    }
   ],
   "source": [
    "#print(help(list.__contains__))\n",
    "a=[1,2]\n",
    "print(a.__contains__(2))\n",
    "print(a.__contains__(3))"
   ]
  },
  {
   "cell_type": "code",
   "execution_count": 13,
   "id": "a258b1eb-649e-432b-9649-91e872dbbd09",
   "metadata": {},
   "outputs": [
    {
     "name": "stdout",
     "output_type": "stream",
     "text": [
      "Help on wrapper_descriptor:\n",
      "\n",
      "__delattr__(self, name, /)\n",
      "    Implement delattr(self, name).\n",
      "\n",
      "None\n"
     ]
    }
   ],
   "source": [
    "print(help(list.__delattr__))"
   ]
  },
  {
   "cell_type": "code",
   "execution_count": 14,
   "id": "b109918f-d8b1-4d5b-b5b9-1eda17b433bc",
   "metadata": {},
   "outputs": [
    {
     "name": "stdout",
     "output_type": "stream",
     "text": [
      "[5, 3, 7]\n"
     ]
    }
   ],
   "source": [
    "#print(help(list.__delitem__))\n",
    "c=[5,3,9,7]\n",
    "c.__delitem__(2)\n",
    "print(c)"
   ]
  },
  {
   "cell_type": "code",
   "execution_count": 16,
   "id": "a733206d-08ed-4630-8cf5-4726bcd4c06c",
   "metadata": {},
   "outputs": [
    {
     "name": "stdout",
     "output_type": "stream",
     "text": [
      "88\n"
     ]
    }
   ],
   "source": [
    "#print(help(list.__sizeof__)) # Return the size of the list in memory, in bytes.\n",
    "A=[3, 2.5, 4.0, -1, 5, 0]\n",
    "\n",
    "print(A.__sizeof__())"
   ]
  },
  {
   "cell_type": "markdown",
   "id": "47938754-84bc-49c3-a6a9-43972cb4fc22",
   "metadata": {},
   "source": [
    "### **# First index location of element of the list**"
   ]
  },
  {
   "cell_type": "code",
   "execution_count": 15,
   "id": "41e38054-99de-4a92-a00d-42680a6f00cb",
   "metadata": {},
   "outputs": [
    {
     "name": "stdout",
     "output_type": "stream",
     "text": [
      "1\n",
      "1\n",
      "3\n",
      "3\n"
     ]
    }
   ],
   "source": [
    "#print(help(list.index))\n",
    "A=[3, 2.5, 4.0, -1, 5, 0, 2.5]\n",
    "print(A.index(2.5))         # Finds the first index location of the element 2.5 in A\n",
    "# or\n",
    "print(list.index(A,2.5))\n",
    "\n",
    "\n",
    "B=['Sima','Zakir','Alex','Mita']\n",
    "print(B.index('Mita'))      # Finds the index location of the element 'Mita' in B\n",
    "# or\n",
    "print(list.index(B, 'Mita'))"
   ]
  },
  {
   "cell_type": "code",
   "execution_count": 16,
   "id": "7e8149bc-4546-4acb-8ff0-4b6381fce566",
   "metadata": {},
   "outputs": [
    {
     "name": "stdout",
     "output_type": "stream",
     "text": [
      "4\n",
      "3\n"
     ]
    }
   ],
   "source": [
    "X=[3, 2.5, 4.0, -1, 5, 0, 4.0, -1]\n",
    "print(X.index(max(X)))    # Finds the first index location of the maximum element in A\n",
    "print(X.index(min(X)))    # Finds the first index location of the minimum element in A"
   ]
  },
  {
   "cell_type": "markdown",
   "id": "9392bb9c-71a0-4f86-8056-f1aa0c818720",
   "metadata": {
    "tags": []
   },
   "source": [
    "### **# Reverse the list in place**"
   ]
  },
  {
   "cell_type": "code",
   "execution_count": 17,
   "id": "bd62848f-ae36-48a0-b9d6-f372636aca07",
   "metadata": {},
   "outputs": [
    {
     "name": "stdout",
     "output_type": "stream",
     "text": [
      "[2.5, 0, 5, -1, 4.0, 2.5, 3]\n"
     ]
    }
   ],
   "source": [
    "#print(help(list.reverse))\n",
    "A=[3, 2.5, 4.0, -1, 5, 0, 2.5]\n",
    "A.reverse()\n",
    "print(A)      # Original list gets reversed"
   ]
  },
  {
   "cell_type": "markdown",
   "id": "889018a6-bd03-4c32-a84a-f0a51b8032f5",
   "metadata": {},
   "source": [
    "### **# Sorting**"
   ]
  },
  {
   "cell_type": "markdown",
   "id": "cc9053e3-74b9-4122-824b-0711dd0737d9",
   "metadata": {},
   "source": [
    "The built-in function **_sorted(list)_** returns a sorted list and leaves the original list unchanged. But the list method **_sort()_** return no new list but alter the original list."
   ]
  },
  {
   "cell_type": "code",
   "execution_count": 58,
   "id": "3f0581a0-8b16-4b24-b9c2-8e5026fbabc4",
   "metadata": {},
   "outputs": [
    {
     "name": "stdout",
     "output_type": "stream",
     "text": [
      "[-1, 0, 2.5, 2.5, 3, 4.0, 5]\n",
      "[5, 4.0, 3, 2.5, 2.5, 0, -1]\n",
      "['Alex', 'Mita', 'Sima', 'Zakir']\n",
      "['-105', '1000', '236', '925']\n"
     ]
    }
   ],
   "source": [
    "#print(help(list.sort))\n",
    "A=[3, 2.5, 4.0, -1, 5, 0, 2.5]\n",
    "A.sort()                                # Sort in ascending order\n",
    "print(A)\n",
    "\n",
    "A.sort(reverse=True)                    # Sort in descending order\n",
    "print(A)\n",
    "\n",
    "B=['Sima','Zakir','Alex','Mita']\n",
    "B.sort()\n",
    "print(B)\n",
    "\n",
    "C=['236','-105','925','1000']\n",
    "C.sort()\n",
    "print(C)"
   ]
  },
  {
   "cell_type": "code",
   "execution_count": 67,
   "id": "3aacbbab-4da1-4f9c-8509-c3b44945f467",
   "metadata": {},
   "outputs": [
    {
     "name": "stdout",
     "output_type": "stream",
     "text": [
      "[[5, 9], [35, 70], [48, 2]]\n",
      "[[48, 2], [5, 9], [35, 70]]\n"
     ]
    }
   ],
   "source": [
    "A=[[5,9],[48,2],[35,70]]\n",
    "\n",
    "def f(x):\n",
    "    return x[0]\n",
    "A.sort(key=f)    # sorting with respect to the first element of lists of the list A\n",
    "print(A)\n",
    "\n",
    "def g(x):\n",
    "    return x[1] \n",
    "A.sort(key=g)   # sorting with respect to the second element of lists of the list A\n",
    "print(A)\n",
    "\n",
    "#list(A.index(j) for j in A)"
   ]
  },
  {
   "cell_type": "markdown",
   "id": "ba4fd03b-c80d-46eb-b0ac-2d293fed4a19",
   "metadata": {},
   "source": [
    "### **# Append object to the end of the list**"
   ]
  },
  {
   "cell_type": "markdown",
   "id": "45604380-14b5-47c3-ae38-c8a4e80c8da9",
   "metadata": {},
   "source": [
    "Returns new list changing the original one."
   ]
  },
  {
   "cell_type": "code",
   "execution_count": 70,
   "id": "6b23e7e2-67d4-42b3-bec0-1941b334b534",
   "metadata": {},
   "outputs": [
    {
     "name": "stdout",
     "output_type": "stream",
     "text": [
      "[3, 2.5, 4.0, -1, 5, 0, 6]\n",
      "[3, 2.5, 4.0, -1, 5, 0, 6, (4, 6)]\n",
      "8\n",
      "[3, 2.5, 4.0, -1, 5, 0, 6, (4, 6), {4, 6}]\n",
      "9\n",
      "[3, 2.5, 4.0, -1, 5, 0, 6, (4, 6), {4, 6}, [4, 6]]\n",
      "[3, 2.5, 4.0, -1, 5, 0, 6, (4, 6), {4, 6}, [4, 6], 'str']\n"
     ]
    }
   ],
   "source": [
    "#print(help(list.append))\n",
    "A=[3,2.5,4.0,-1,5,0]\n",
    "A.append(6)        \n",
    "print(A)             \n",
    "\n",
    "A.append((4,6)) # can append a tuple\n",
    "print(A)\n",
    "print(len(A))\n",
    "\n",
    "A.append({4,6}) # can append a set\n",
    "print(A)\n",
    "print(len(A))\n",
    "\n",
    "A.append([4,6])  # can append list\n",
    "print(A)\n",
    "\n",
    "A.append('str') # can append string\n",
    "print(A)"
   ]
  },
  {
   "cell_type": "code",
   "execution_count": 20,
   "id": "cba43325-122b-4b63-98e2-ca8b97099096",
   "metadata": {},
   "outputs": [
    {
     "name": "stdin",
     "output_type": "stream",
     "text": [
      "Enter the number of elements you want in the sequence 12\n"
     ]
    },
    {
     "name": "stdout",
     "output_type": "stream",
     "text": [
      "[0, 1, 1, 2, 3, 5, 8, 13, 21, 34, 55, 89]\n"
     ]
    },
    {
     "name": "stdin",
     "output_type": "stream",
     "text": [
      "Enter the position of the number which you want to see (starting from 1st) 12\n"
     ]
    },
    {
     "name": "stdout",
     "output_type": "stream",
     "text": [
      "89\n"
     ]
    }
   ],
   "source": [
    "# Fibonacci Sequence using append()\n",
    "F=[0,1]\n",
    "n=eval(input('Enter the number of elements you want in the sequence'))\n",
    "for i in range(n-2):\n",
    "    F.append(F[-2]+F[-1])\n",
    "print(F)\n",
    "m=eval(input('Enter the position of the number which you want to see (starting from 1st)'))\n",
    "print(F[m-1])"
   ]
  },
  {
   "cell_type": "markdown",
   "id": "65a7a3f7-56a1-48c9-b9ad-b39f29f9aec7",
   "metadata": {
    "tags": []
   },
   "source": [
    "### **# Insert object before index.**"
   ]
  },
  {
   "cell_type": "markdown",
   "id": "f9432d6b-0c00-47ed-bf35-cdd273e9a13c",
   "metadata": {},
   "source": [
    "#### ## **_.insert(index position, object)_**, object can be number, string, list, tuple, set etc."
   ]
  },
  {
   "cell_type": "markdown",
   "id": "e12a7ebc-fa16-4d48-97b5-af2a99bc2071",
   "metadata": {},
   "source": [
    "**_A.insert(x,y)_** inserts y before xth index position in the original list A. After the operation the original list gets changed and in the new list the index position of the new object y becomes x."
   ]
  },
  {
   "cell_type": "code",
   "execution_count": 21,
   "id": "ef2fce29-765f-4c6d-bc30-0e63514cbeb9",
   "metadata": {},
   "outputs": [
    {
     "name": "stdout",
     "output_type": "stream",
     "text": [
      "[3, 2.5, 3, 4.0, -1, 5, 0, 2.5]\n"
     ]
    }
   ],
   "source": [
    "#print(help(list.insert))\n",
    "A=[3, 2.5, 4.0, -1, 5, 0, 2.5]\n",
    "A.insert(2,3)               \n",
    "print(A)"
   ]
  },
  {
   "cell_type": "code",
   "execution_count": 22,
   "id": "a9a44953-786b-4816-86cd-b8617e80d8bc",
   "metadata": {},
   "outputs": [
    {
     "name": "stdout",
     "output_type": "stream",
     "text": [
      "[3, 2.5, [5, 9], 4.0, -1, 5, 0, 2.5]\n"
     ]
    }
   ],
   "source": [
    "A=[3, 2.5, 4.0, -1, 5, 0, 2.5]\n",
    "A.insert(2,[5,9])\n",
    "print(A)"
   ]
  },
  {
   "cell_type": "code",
   "execution_count": 23,
   "id": "ce9e34df-0400-4169-a878-6f87185d08f8",
   "metadata": {},
   "outputs": [
    {
     "name": "stdout",
     "output_type": "stream",
     "text": [
      "[3, 2.5, 'str', 4.0, -1, 5, 0, 2.5]\n"
     ]
    }
   ],
   "source": [
    "A=[3, 2.5, 4.0, -1, 5, 0, 2.5]\n",
    "A.insert(2,'str')\n",
    "print(A)"
   ]
  },
  {
   "cell_type": "markdown",
   "id": "126bfb0f-30a3-4d38-b1b3-30d508c16502",
   "metadata": {},
   "source": [
    "### **# Remove and return item at index (default last)**"
   ]
  },
  {
   "cell_type": "markdown",
   "id": "55f632b9-3490-4121-b81a-81a3b574555a",
   "metadata": {},
   "source": [
    "#### **_.pop(index position of the object)_**. Can remove only one object at a time"
   ]
  },
  {
   "cell_type": "code",
   "execution_count": 24,
   "id": "3abbf491-f45e-4ad2-830c-1a766ea53b5c",
   "metadata": {},
   "outputs": [
    {
     "name": "stdout",
     "output_type": "stream",
     "text": [
      "[3, 2.5, 4.0, -1, 5, 0]\n",
      "[3, 2.5, 4.0, -1, 5]\n"
     ]
    }
   ],
   "source": [
    "#print(help(list.pop))\n",
    "A=[3, 2.5, 4.0, -1, 5, 0, 2.5]\n",
    "A.pop()\n",
    "print(A)\n",
    "A.pop()\n",
    "print(A)"
   ]
  },
  {
   "cell_type": "code",
   "execution_count": 25,
   "id": "52fcd5da-d990-4639-99b0-6bfba23a27de",
   "metadata": {},
   "outputs": [
    {
     "name": "stdout",
     "output_type": "stream",
     "text": [
      "[3, 4.0, -1, 5, 0, 2.5]\n",
      "[3, 4.0, -1, 5, 0]\n",
      "['Sima', 'Zakir', 'Mita']\n"
     ]
    }
   ],
   "source": [
    "A=[3, 2.5, 4.0, -1, 5, 0, 2.5]\n",
    "A.pop(1)\n",
    "print(A)\n",
    "A.pop(-1)\n",
    "print(A)\n",
    "\n",
    "B=['Sima','Zakir','Alex','Mita']\n",
    "B.pop(2)\n",
    "print(B)"
   ]
  },
  {
   "cell_type": "markdown",
   "id": "89ed1790-563c-4189-8297-c23efe5b3188",
   "metadata": {},
   "source": [
    "#### **List as stack with combination of _.append()_ and _.pop()_**"
   ]
  },
  {
   "cell_type": "code",
   "execution_count": 150,
   "id": "9dfaa1d6-8c21-4fd0-a422-985f07edea7e",
   "metadata": {},
   "outputs": [
    {
     "name": "stdout",
     "output_type": "stream",
     "text": [
      "7\n"
     ]
    },
    {
     "name": "stdin",
     "output_type": "stream",
     "text": [
      "Enter the value 12\n"
     ]
    },
    {
     "name": "stdout",
     "output_type": "stream",
     "text": [
      "[2.5, 4.0, -1, 5, 0, 2.5, 12]\n",
      "7\n"
     ]
    }
   ],
   "source": [
    "A=[3, 2.5, 4.0, -1, 5, 0, 2.5]\n",
    "print(len(A))\n",
    "n=eval(input('Enter the value'))\n",
    "A.append(n)          # Object enters at the end\n",
    "A.pop(0)             # And object gets removed from begining. \n",
    "print(A)             # Combination of .append() and .pop() makes the list a stack.\n",
    "print(len(A))"
   ]
  },
  {
   "cell_type": "markdown",
   "id": "40b7c3a2-2b1f-4010-b0aa-b6121c1c5894",
   "metadata": {},
   "source": [
    "### **# Remove first occurrence of object**"
   ]
  },
  {
   "cell_type": "markdown",
   "id": "4fc9de44-9799-45de-8636-9ef7a4dfc5b8",
   "metadata": {},
   "source": [
    "#### **_.remove(object)_**. Notice **_.pop()_** vs **_.remove()_**."
   ]
  },
  {
   "cell_type": "code",
   "execution_count": 1,
   "id": "a09c8deb-c30e-44ae-8305-4e77e0c01dd2",
   "metadata": {},
   "outputs": [
    {
     "name": "stdout",
     "output_type": "stream",
     "text": [
      "[3, 2.5, -1, 5, 0, 2.5, 4.0]\n",
      "['Sima', 'Zakir', 'Mita']\n"
     ]
    }
   ],
   "source": [
    "#print(help(list.remove))\n",
    "A=[3, 2.5, 4.0, -1, 5, 0, 2.5, 4.0]\n",
    "A.remove(4.0)\n",
    "print(A)\n",
    "\n",
    "B=['Sima','Zakir','Alex','Mita']\n",
    "B.remove('Alex')\n",
    "print(B)"
   ]
  },
  {
   "cell_type": "markdown",
   "id": "401f6105-1010-40cf-92f9-6c23592dab57",
   "metadata": {},
   "source": [
    "### **# Delete a segment**"
   ]
  },
  {
   "cell_type": "markdown",
   "id": "25512602-fb6a-4d3c-8c3b-9c68c72131fa",
   "metadata": {},
   "source": [
    "**_del_** is a built-in function but not a list method."
   ]
  },
  {
   "cell_type": "code",
   "execution_count": 38,
   "id": "073cf511-3a4c-4348-a89b-9bd9971e72c5",
   "metadata": {},
   "outputs": [
    {
     "name": "stdout",
     "output_type": "stream",
     "text": [
      "[3, -1, 5, 0, 2.5]\n"
     ]
    }
   ],
   "source": [
    "A=[3, 2.5, 4.0, -1, 5, 0, 2.5]\n",
    "del A[1:3]                       # Delete the sliced elements.\n",
    "print(A)                         # Original list gets altered."
   ]
  },
  {
   "cell_type": "code",
   "execution_count": 154,
   "id": "63cd8ce2-c09a-4781-bd05-0e9c9832eb75",
   "metadata": {},
   "outputs": [
    {
     "name": "stdout",
     "output_type": "stream",
     "text": [
      "[]\n"
     ]
    }
   ],
   "source": [
    "A=[3, 2.5, 4.0, -1, 5, 0, 2.5]\n",
    "del A[:]                       # Delete the sliced elements.\n",
    "print(A) "
   ]
  },
  {
   "cell_type": "code",
   "execution_count": 153,
   "id": "1f74ad79-04e6-4c5f-a911-8a8f4b31fca6",
   "metadata": {},
   "outputs": [
    {
     "ename": "NameError",
     "evalue": "name 'A' is not defined",
     "output_type": "error",
     "traceback": [
      "\u001b[0;31m---------------------------------------------------------------------------\u001b[0m",
      "\u001b[0;31mNameError\u001b[0m                                 Traceback (most recent call last)",
      "\u001b[0;32m/tmp/ipykernel_901543/2321445252.py\u001b[0m in \u001b[0;36m<module>\u001b[0;34m\u001b[0m\n\u001b[1;32m      1\u001b[0m \u001b[0mA\u001b[0m\u001b[0;34m=\u001b[0m\u001b[0;34m[\u001b[0m\u001b[0;36m3\u001b[0m\u001b[0;34m,\u001b[0m \u001b[0;36m2.5\u001b[0m\u001b[0;34m,\u001b[0m \u001b[0;36m4.0\u001b[0m\u001b[0;34m,\u001b[0m \u001b[0;34m-\u001b[0m\u001b[0;36m1\u001b[0m\u001b[0;34m,\u001b[0m \u001b[0;36m5\u001b[0m\u001b[0;34m,\u001b[0m \u001b[0;36m0\u001b[0m\u001b[0;34m,\u001b[0m \u001b[0;36m2.5\u001b[0m\u001b[0;34m]\u001b[0m\u001b[0;34m\u001b[0m\u001b[0;34m\u001b[0m\u001b[0m\n\u001b[1;32m      2\u001b[0m \u001b[0;32mdel\u001b[0m \u001b[0mA\u001b[0m                       \u001b[0;31m# Can delete the entire variable\u001b[0m\u001b[0;34m\u001b[0m\u001b[0;34m\u001b[0m\u001b[0m\n\u001b[0;32m----> 3\u001b[0;31m \u001b[0mprint\u001b[0m\u001b[0;34m(\u001b[0m\u001b[0mA\u001b[0m\u001b[0;34m)\u001b[0m\u001b[0;34m\u001b[0m\u001b[0;34m\u001b[0m\u001b[0m\n\u001b[0m",
      "\u001b[0;31mNameError\u001b[0m: name 'A' is not defined"
     ]
    }
   ],
   "source": [
    "A=[3, 2.5, 4.0, -1, 5, 0, 2.5]\n",
    "del A                       # Can delete the entire list (or other variables)\n",
    "print(A) "
   ]
  },
  {
   "cell_type": "markdown",
   "id": "0582b2f4-dab7-44ef-848a-e48eee7dc0b6",
   "metadata": {},
   "source": [
    "### **# Replace an item**"
   ]
  },
  {
   "cell_type": "code",
   "execution_count": 40,
   "id": "2b223ed9-9f2c-4b6e-bdc4-6758902e6a22",
   "metadata": {},
   "outputs": [
    {
     "name": "stdout",
     "output_type": "stream",
     "text": [
      "[3, 2.5, 4.0, 10, 5, 0, 2.5]\n"
     ]
    }
   ],
   "source": [
    "A=[3, 2.5, 4.0, -1, 5, 0, 2.5]\n",
    "A[3]=10                        # The item at position 3 is replaced by 10.\n",
    "print(A)                       # Original list gets altered."
   ]
  },
  {
   "cell_type": "markdown",
   "id": "a557647a-07b1-4d48-991d-4db18cca9cbf",
   "metadata": {},
   "source": [
    "### **# Return number of occurrences of item.**"
   ]
  },
  {
   "cell_type": "code",
   "execution_count": 139,
   "id": "fa9c38f5-0f3d-4f8e-bc81-55538f9624cf",
   "metadata": {},
   "outputs": [
    {
     "name": "stdout",
     "output_type": "stream",
     "text": [
      "2\n",
      "2\n",
      "0\n"
     ]
    }
   ],
   "source": [
    "#print(help(list.count))\n",
    "X=[3, 2.5, 4.0, -1, 5, 0, 4.0, -1]\n",
    "print(X.count(4.0))\n",
    "print(X.count(X[2]))\n",
    "print(X.count(6))"
   ]
  },
  {
   "cell_type": "markdown",
   "id": "67a193cb-0a61-4914-9978-439148e94ade",
   "metadata": {},
   "source": [
    "### **# Return a shallow copy of the list.**"
   ]
  },
  {
   "cell_type": "code",
   "execution_count": 52,
   "id": "3cad53be-6b13-4409-9712-0dd9f6d8dc9c",
   "metadata": {},
   "outputs": [
    {
     "name": "stdout",
     "output_type": "stream",
     "text": [
      "[3, 2.5, 4.0, -1, 5, 0, 2.5]\n"
     ]
    }
   ],
   "source": [
    "#print(help(list.copy))\n",
    "A=[3, 2.5, 4.0, -1, 5, 0, 2.5]\n",
    "B=A.copy()\n",
    "print(B)"
   ]
  },
  {
   "cell_type": "markdown",
   "id": "11d0a7ec-e597-4899-9cab-72223fd6cb97",
   "metadata": {},
   "source": [
    "### **# Remove all items from list.**"
   ]
  },
  {
   "cell_type": "code",
   "execution_count": 58,
   "id": "bd7fa636-1678-4574-9186-46088213d7eb",
   "metadata": {},
   "outputs": [
    {
     "name": "stdout",
     "output_type": "stream",
     "text": [
      "None\n"
     ]
    }
   ],
   "source": [
    "#print(help(list.clear))\n",
    "A=[3, 2.5, 4.0, -1, 5, 0, 2.5]\n",
    "print(A.clear())"
   ]
  },
  {
   "cell_type": "markdown",
   "id": "171c270a-93b9-4cd7-85f3-2efb9ccd6830",
   "metadata": {},
   "source": [
    "### **# Extend list by appending elements from the iterable.**"
   ]
  },
  {
   "cell_type": "markdown",
   "id": "301df767-263e-47bc-ae77-5fe2c01c76eb",
   "metadata": {},
   "source": [
    "Append more than one item at the end of the list."
   ]
  },
  {
   "cell_type": "code",
   "execution_count": 65,
   "id": "87b7cd05-9f37-454f-8e55-4169883c92cf",
   "metadata": {},
   "outputs": [
    {
     "name": "stdout",
     "output_type": "stream",
     "text": [
      "[3, 2.5, 4.0, -1, 5, 0, 2.5, 0, 1, 2, 3]\n"
     ]
    }
   ],
   "source": [
    "#print(help(list.extend))\n",
    "A=[3, 2.5, 4.0, -1, 5, 0, 2.5]\n",
    "A.extend(i for i in range(4))\n",
    "print(A)                            # Original list gets altered."
   ]
  },
  {
   "cell_type": "markdown",
   "id": "9bdedcea-1aca-41f7-a629-1be4c7a00a0a",
   "metadata": {},
   "source": [
    "### **# Concatenation of lists.**"
   ]
  },
  {
   "cell_type": "markdown",
   "id": "6d9d99a8-5ec9-46f1-a743-1455184ff336",
   "metadata": {},
   "source": [
    "The operator **+** concatenates the lists. **_integer*list_** means the list gets concatenated integer times."
   ]
  },
  {
   "cell_type": "code",
   "execution_count": 67,
   "id": "5b69c7de-cbb7-40a6-8007-54769e40dc2e",
   "metadata": {},
   "outputs": [
    {
     "name": "stdout",
     "output_type": "stream",
     "text": [
      "[3, 2.5, 4.0, -1, 5, 0, 2.5, 'Sima', 'Zakir', 'Alex', 'Mita']\n",
      "[2, 3, 5, 2, 3, 5, 2, 3, 5, 'a', 'b', 'a', 'b']\n"
     ]
    }
   ],
   "source": [
    "A=[3, 2.5, 4.0, -1, 5, 0, 2.5]\n",
    "B=['Sima','Zakir','Alex','Mita']\n",
    "\n",
    "print(A+B)\n",
    "\n",
    "x=[2,3,5]\n",
    "y=['a','b']\n",
    "\n",
    "print(3*x+2*y)"
   ]
  },
  {
   "cell_type": "markdown",
   "id": "42cdefdd-e34b-4729-8adb-9950387a2056",
   "metadata": {},
   "source": [
    "## **List Comprehension**"
   ]
  },
  {
   "cell_type": "markdown",
   "id": "56485af9-3f5a-43e2-abdb-efab32a59094",
   "metadata": {},
   "source": [
    "### **# Create a list of the squares of the numbers of a given list**"
   ]
  },
  {
   "cell_type": "code",
   "execution_count": 76,
   "id": "31b433aa-54b4-4868-9eea-54944a6ec8d8",
   "metadata": {},
   "outputs": [
    {
     "name": "stdout",
     "output_type": "stream",
     "text": [
      "[1, 4, 9, 16, 25]\n",
      "[1, 4, 9, 16, 25]\n"
     ]
    }
   ],
   "source": [
    "x=[1,2,3,4,5]\n",
    "y=[i**2 for i in x]   # list comprehension\n",
    "print(y)\n",
    "\n",
    "# vs\n",
    "\n",
    "x=[1,2,3,4,5]\n",
    "y=[]\n",
    "for i in x:           # for loop\n",
    "    y.append(i**2)\n",
    "print(y)"
   ]
  },
  {
   "cell_type": "markdown",
   "id": "eae982ef-e12f-4606-9794-8a427fc41079",
   "metadata": {},
   "source": [
    "### **# From a list of positive and negatives, create a list of absolute values of all the numbers**"
   ]
  },
  {
   "cell_type": "code",
   "execution_count": 214,
   "id": "5dec197d-4654-4d55-9e12-a79ee6f011f7",
   "metadata": {},
   "outputs": [
    {
     "name": "stdout",
     "output_type": "stream",
     "text": [
      "[1, 2, 3, 4]\n"
     ]
    }
   ],
   "source": [
    "x=[-1,2,-3,-4]\n",
    "y=[abs(i) for i in x]\n",
    "print(y)"
   ]
  },
  {
   "cell_type": "markdown",
   "id": "2b4c5fa5-609b-48f3-b8de-3925df1db1bd",
   "metadata": {},
   "source": [
    "### **# Separate out positive numbers**"
   ]
  },
  {
   "cell_type": "code",
   "execution_count": 93,
   "id": "48260128-f126-4395-aa81-1f3ad69e7699",
   "metadata": {},
   "outputs": [
    {
     "name": "stdout",
     "output_type": "stream",
     "text": [
      "[1, 2, 5]\n",
      "[1, 2, 5]\n"
     ]
    }
   ],
   "source": [
    "x=[-1,0,1,2,-3,5,-6]\n",
    "y=[i for i in x if i>0]        # With logical if\n",
    "print(y)\n",
    "\n",
    "#vs\n",
    "\n",
    "z=[]\n",
    "for i in x:\n",
    "    if i>0:\n",
    "        z.append(i)\n",
    "print(z)"
   ]
  },
  {
   "cell_type": "markdown",
   "id": "01d221da-3150-435e-94e6-146d0b208fa8",
   "metadata": {},
   "source": [
    "### **# Separate out even or odd numbers**"
   ]
  },
  {
   "cell_type": "code",
   "execution_count": 70,
   "id": "1e9541da-9820-4216-81f2-f6d3ac4e0f94",
   "metadata": {},
   "outputs": [
    {
     "name": "stdout",
     "output_type": "stream",
     "text": [
      "[2, 12, 46, 78, 94]\n",
      "[2, 12, 46, 78, 94]\n",
      "[9, 23, 45]\n",
      "[9, 23, 45]\n"
     ]
    }
   ],
   "source": [
    "L=[2,9,12,23,46,78,45,94]\n",
    "e=[i for i in L if i%2==0]     # List comprehension with logical if\n",
    "print(e)                       # even numbers\n",
    "\n",
    "# vs\n",
    "\n",
    "E=[]\n",
    "for i in L:                    # for loop\n",
    "    if i%2==0:\n",
    "        E.append(i)\n",
    "print(E)\n",
    "\n",
    "\n",
    "o=[i for i in L if i%2==1]     # List comprehension with logical if\n",
    "print(o)                       # odd numbers\n",
    "\n",
    "#vs\n",
    "\n",
    "O=[]\n",
    "for i in L:                    # for loop\n",
    "    if i%2==1:\n",
    "        O.append(i)\n",
    "print(O)"
   ]
  },
  {
   "cell_type": "markdown",
   "id": "be02dc63-fdcf-421b-8020-37ee130dcced",
   "metadata": {},
   "source": [
    "### **# Addition of each elements of one list to the each elements of other list**"
   ]
  },
  {
   "cell_type": "code",
   "execution_count": 88,
   "id": "3f3947d9-9e66-4fe2-8da8-d0f4d29c36bb",
   "metadata": {},
   "outputs": [
    {
     "name": "stdout",
     "output_type": "stream",
     "text": [
      "[11, 25, 47, 21, 35, 57, 55, 69, 91, 87, 101, 123, 103, 117, 139]\n",
      "[11, 21, 55, 87, 103, 25, 35, 69, 101, 117, 47, 57, 91, 123, 139]\n",
      "[25, 21, 57, 87, 123]\n"
     ]
    }
   ],
   "source": [
    "a=[2, 12, 46, 78, 94]\n",
    "b=[9, 23, 45]\n",
    "print([i+j for i in a for j in b]) # one by one take element from 'a' and add with each elemnts of the 'b'\n",
    "# vs\n",
    "print([i+j for j in b for i in a]) # one by one take element from 'b' and add with each elemnts of the 'a'\n",
    "print([i+j for i in a for j in b if (i-j)%3==0])"
   ]
  },
  {
   "cell_type": "markdown",
   "id": "7dbd2fb1-e9ee-479a-8760-a9eb98addc5e",
   "metadata": {},
   "source": [
    "### **# Making pairs of the elements taken from two different lists**"
   ]
  },
  {
   "cell_type": "code",
   "execution_count": 93,
   "id": "273a7403-d880-472b-9672-f038458bd7b9",
   "metadata": {},
   "outputs": [
    {
     "name": "stdout",
     "output_type": "stream",
     "text": [
      "[[2, 9], [2, 23], [2, 45], [12, 9], [12, 23], [12, 45], [46, 9], [46, 23], [46, 45], [78, 9], [78, 23], [78, 45], [94, 9], [94, 23], [94, 45]]\n",
      "[[2, 9], [12, 9], [46, 9], [78, 9], [94, 9], [2, 23], [12, 23], [46, 23], [78, 23], [94, 23], [2, 45], [12, 45], [46, 45], [78, 45], [94, 45]]\n",
      "[(2, 9), (2, 23), (2, 45), (12, 9), (12, 23), (12, 45), (46, 9), (46, 23), (46, 45), (78, 9), (78, 23), (78, 45), (94, 9), (94, 23), (94, 45)]\n",
      "[(2, 9), (12, 9), (46, 9), (78, 9), (94, 9), (2, 23), (12, 23), (46, 23), (78, 23), (94, 23), (2, 45), (12, 45), (46, 45), (78, 45), (94, 45)]\n"
     ]
    }
   ],
   "source": [
    "print([[i,j] for i in a for j in b]) # list of lists of pair\n",
    "# vs\n",
    "print([[i,j] for j in b for i in a])\n",
    "\n",
    "print([(i,j) for i in a for j in b]) # list of tuples of pair\n",
    "# vs\n",
    "print([(i,j) for j in b for i in a])"
   ]
  },
  {
   "cell_type": "code",
   "execution_count": 104,
   "id": "ec9560d3-cee6-466e-9cef-59b56afbddd4",
   "metadata": {},
   "outputs": [
    {
     "name": "stdout",
     "output_type": "stream",
     "text": [
      "[0.0, 1.5707963267948966, 3.141592653589793, 4.71238898038469, 6.283185307179586, 7.853981633974483]\n",
      "[0.0, 1.0, 1.2246467991473532e-16, -1.0, -2.4492935982947064e-16, 1.0]\n"
     ]
    }
   ],
   "source": [
    "from math import pi, sin\n",
    "theta=[i*pi/2 for i in range(6)]    # theta in radian\n",
    "print(theta)\n",
    "\n",
    "sin_theta=[sin(j) for j in theta]\n",
    "print(sin_theta)"
   ]
  },
  {
   "cell_type": "markdown",
   "id": "c9e6f6f6-7cae-43e3-91a6-840b304b71c5",
   "metadata": {},
   "source": [
    "## **Nested List**"
   ]
  },
  {
   "cell_type": "markdown",
   "id": "ffd6addc-3f42-473e-87a2-2c63b804cdfd",
   "metadata": {},
   "source": [
    "#### **Nested list is the list of lists.** "
   ]
  },
  {
   "cell_type": "code",
   "execution_count": 145,
   "id": "c0e47e4f-36a8-49b0-85cb-50fc4b5cb0c0",
   "metadata": {},
   "outputs": [
    {
     "name": "stdout",
     "output_type": "stream",
     "text": [
      "3\n",
      "[1, 2, 3]\n",
      "[4, 5]\n",
      "[6, 7, 8, 9]\n",
      "2\n",
      "[[1, 2, 3], [4, 5, 6]]\n",
      "2\n",
      "[[1 2 3]\n",
      " [4 5 6]]\n",
      "2\n",
      "[list([1, 2, 3]) list([4, 5]) list([6, 7, 8, 9])]\n"
     ]
    },
    {
     "name": "stderr",
     "output_type": "stream",
     "text": [
      "/opt/intel/oneapi/intelpython/latest/lib/python3.7/site-packages/ipykernel_launcher.py:15: VisibleDeprecationWarning: Creating an ndarray from ragged nested sequences (which is a list-or-tuple of lists-or-tuples-or ndarrays with different lengths or shapes) is deprecated. If you meant to do this, you must specify 'dtype=object' when creating the ndarray.\n",
      "  from ipykernel import kernelapp as app\n"
     ]
    }
   ],
   "source": [
    "N=[[1,2,3],[4,5],[6,7,8,9]]  # N is a nested list\n",
    "print(len(N))\n",
    "print(N[0])\n",
    "print(N[1])\n",
    "print(N[2])\n",
    "print(N[0][1])\n",
    "\n",
    "M=[[1,2,3],[4,5,6]]          # M is a nested list\n",
    "print(M)\n",
    "print(M[0][1])\n",
    "import numpy as np\n",
    "print(np.array(M))           # Nested list having equal lengths for all the elemntary lists, \n",
    "                             # can be converted into numpy array.\n",
    "print(np.array(M)[0,1])\n",
    "print(np.array(N))           # Nested list M vs N"
   ]
  },
  {
   "cell_type": "markdown",
   "id": "8f9bf3c0-dd81-4b9f-aa0e-652fca9bd7fb",
   "metadata": {
    "tags": []
   },
   "source": [
    "# **Sring**"
   ]
  },
  {
   "cell_type": "markdown",
   "id": "7f35c29c-15c3-442d-aa11-b2a8e75a4504",
   "metadata": {},
   "source": [
    "**Anything inside single quotes or double quotes. Any input that the computer takes through the _input()_ function is a _string_.**"
   ]
  },
  {
   "cell_type": "markdown",
   "id": "e95d4837-a7a3-4d6b-925d-cd2b15943bde",
   "metadata": {},
   "source": [
    "## **Introduction to string and some built-in functions.**"
   ]
  },
  {
   "cell_type": "code",
   "execution_count": 240,
   "id": "db4b37d3-0b96-4323-ac75-973f434cc151",
   "metadata": {},
   "outputs": [
    {
     "name": "stdout",
     "output_type": "stream",
     "text": [
      "<class 'str'>\n",
      "<class 'str'>\n",
      "<class 'str'>\n",
      "13\n",
      "3.14\n",
      "29\n",
      "1234\n",
      "1234.0\n",
      "3.14\n",
      "3\n",
      "3\n",
      "3\n",
      "<class 'int'>\n"
     ]
    }
   ],
   "source": [
    "a='3.14'\n",
    "b='Sampad Mandal'\n",
    "c=\" @A58%c\"\n",
    "print(type(a))\n",
    "print(type(b))\n",
    "print(type(c))   # type() is a buit-in function\n",
    "\n",
    "print(len(b))    # space is also an element in the string.\n",
    "\n",
    "\n",
    "print(eval(a))    # the buit-in function eval() can evaluate the string of digits or string of sum of digits.\n",
    "d='19 + 10'\n",
    "print(eval(d))\n",
    "\n",
    "\n",
    "e='1234'\n",
    "print(int(e))     # buit-in function int() returns the string of integer (not float) as integer.\n",
    "\n",
    "print(float(e))   # buit-in function float() returns the string of integer or float as float.\n",
    "print(float(a))\n",
    "\n",
    "# But \n",
    "\n",
    "print(int(3.14))  # converts the floating point number to integer one.\n",
    "# or\n",
    "print(int(eval(a))) # because eval() converts a='3.14' string to 3.14 floating point number.\n",
    "# or\n",
    "print(int(float(a))) # because float() converts a='3.14' string to 3.14 floating point number.\n",
    "print(type(int(float(a))))\n"
   ]
  },
  {
   "cell_type": "code",
   "execution_count": 239,
   "id": "bc5a9b94-bab5-4c5b-8f95-4c5486e2819c",
   "metadata": {},
   "outputs": [
    {
     "name": "stdout",
     "output_type": "stream",
     "text": [
      "132\n",
      "<class 'str'>\n"
     ]
    },
    {
     "data": {
      "text/plain": [
       "'132'"
      ]
     },
     "execution_count": 239,
     "metadata": {},
     "output_type": "execute_result"
    }
   ],
   "source": [
    "n=132\n",
    "print(str(n))  # built function str() makes the number string\n",
    "print(type(str(n)))\n",
    "str(n)           "
   ]
  },
  {
   "cell_type": "code",
   "execution_count": 238,
   "id": "99586c24-ff41-40d3-99ee-be9a59f8f97c",
   "metadata": {},
   "outputs": [
    {
     "name": "stdout",
     "output_type": "stream",
     "text": [
      "[1, 3, 2]\n",
      "<class 'str'>\n"
     ]
    },
    {
     "data": {
      "text/plain": [
       "'[1, 3, 2]'"
      ]
     },
     "execution_count": 238,
     "metadata": {},
     "output_type": "execute_result"
    }
   ],
   "source": [
    "l=[1,3,2]\n",
    "L=str([1,3,2]) # built function str() makes the list string\n",
    "print(L)\n",
    "print(type(L))\n",
    "L"
   ]
  },
  {
   "cell_type": "markdown",
   "id": "bebd4fce-8912-4e99-b331-5ef2fc5f692b",
   "metadata": {},
   "source": [
    "**The built-in function _enumerate(list/string etc, start=n)_ iterates index and the corresponding object.**"
   ]
  },
  {
   "cell_type": "code",
   "execution_count": 218,
   "id": "97bb6571-1119-4239-8313-d4a1915f74f1",
   "metadata": {},
   "outputs": [
    {
     "name": "stdout",
     "output_type": "stream",
     "text": [
      "<enumerate object at 0x14c020496230>\n",
      "(0, 'S')\n",
      "(1, 'a')\n",
      "(2, 'm')\n",
      "(3, 'p')\n",
      "(4, 'a')\n",
      "(5, 'd')\n",
      "(6, ' ')\n",
      "(7, '1')\n",
      "(8, '9')\n",
      "(9, '@')\n"
     ]
    }
   ],
   "source": [
    "s='Sampad 19@'\n",
    "s_en=enumerate(s) # Default start=0\n",
    "print(s_en)\n",
    "for i in s_en:\n",
    "    print(i)"
   ]
  },
  {
   "cell_type": "code",
   "execution_count": 220,
   "id": "59c263d7-b2ae-466c-ae8c-18a401e7a2eb",
   "metadata": {},
   "outputs": [
    {
     "name": "stdout",
     "output_type": "stream",
     "text": [
      "<enumerate object at 0x14c020496aa0>\n",
      "(-2, 'S')\n",
      "(-1, 'a')\n",
      "(0, 'm')\n",
      "(1, 'p')\n",
      "(2, 'a')\n",
      "(3, 'd')\n",
      "(4, ' ')\n",
      "(5, '1')\n",
      "(6, '9')\n",
      "(7, '@')\n"
     ]
    }
   ],
   "source": [
    "s='Sampad 19@'\n",
    "s_en=enumerate(s, start=-2) \n",
    "                  # Start from the customized index number -2 corresponding to the 1st object, left to right\n",
    "print(s_en)\n",
    "for i in s_en:\n",
    "    print(i)"
   ]
  },
  {
   "cell_type": "markdown",
   "id": "159d61fd-33f1-4a49-a5a2-102b978d4b19",
   "metadata": {},
   "source": [
    "## **Iteration over a string**"
   ]
  },
  {
   "cell_type": "code",
   "execution_count": 206,
   "id": "f4a011a0-a4ff-4fbe-8817-b6286530a99d",
   "metadata": {},
   "outputs": [
    {
     "name": "stdout",
     "output_type": "stream",
     "text": [
      "a\n",
      "b\n",
      "c\n",
      "1\n",
      "2\n",
      "3\n"
     ]
    }
   ],
   "source": [
    "for i in 'abc123':\n",
    "    print(i)\n",
    "#    print(i, end = '')"
   ]
  },
  {
   "cell_type": "markdown",
   "id": "1a05307d-1c03-4870-928d-53571b29d678",
   "metadata": {},
   "source": [
    "## **Indexing**"
   ]
  },
  {
   "cell_type": "code",
   "execution_count": 241,
   "id": "8cfc2f2d-532a-4a5f-944b-7697c3fa01be",
   "metadata": {},
   "outputs": [
    {
     "name": "stdout",
     "output_type": "stream",
     "text": [
      "P\n",
      "<class 'str'>\n"
     ]
    },
    {
     "data": {
      "text/plain": [
       "'P'"
      ]
     },
     "execution_count": 241,
     "metadata": {},
     "output_type": "execute_result"
    }
   ],
   "source": [
    "w='Python'\n",
    "print(w[0])  \n",
    "print(type(w[0]))\n",
    "w[0]          # see the difference"
   ]
  },
  {
   "cell_type": "markdown",
   "id": "8f9c927e-874b-46ca-8aaf-b6b4bb47a43d",
   "metadata": {},
   "source": [
    "## **Slicing**"
   ]
  },
  {
   "cell_type": "code",
   "execution_count": 242,
   "id": "e47044fc-aa65-4941-9465-d91d5b5f5c52",
   "metadata": {},
   "outputs": [
    {
     "name": "stdout",
     "output_type": "stream",
     "text": [
      "nh\n",
      "nohtyP\n",
      "<class 'str'>\n"
     ]
    },
    {
     "data": {
      "text/plain": [
       "'nohtyP'"
      ]
     },
     "execution_count": 242,
     "metadata": {},
     "output_type": "execute_result"
    }
   ],
   "source": [
    "# Slicing\n",
    "print(w[-1:-4:-2])\n",
    "print(w[::-1])    # just reversing the string\n",
    "print(type(w[::-1]))\n",
    "w[::-1]\n",
    "#w[-1:-4:-2]"
   ]
  },
  {
   "cell_type": "markdown",
   "id": "40ca66d7-e982-482d-83d0-1708980b030e",
   "metadata": {},
   "source": [
    "**Checking a sequence (string or number) _palindrome_ or not.**"
   ]
  },
  {
   "cell_type": "code",
   "execution_count": 231,
   "id": "7a904e0b-6311-4cce-a547-bb60acc37533",
   "metadata": {},
   "outputs": [
    {
     "name": "stdin",
     "output_type": "stream",
     "text": [
      "Enter a number 12321\n"
     ]
    },
    {
     "name": "stdout",
     "output_type": "stream",
     "text": [
      "12321 is Palindrome\n"
     ]
    },
    {
     "data": {
      "text/plain": [
       "'12321'"
      ]
     },
     "execution_count": 231,
     "metadata": {},
     "output_type": "execute_result"
    }
   ],
   "source": [
    "n=input('Enter a number') # Do not use eval() function before input() because n has to be a string.\n",
    "if n==n[::-1]:\n",
    "    print(eval(n),'is Palindrome')\n",
    "else:\n",
    "    print(eval(n), 'is not Palindrome')\n",
    "n"
   ]
  },
  {
   "cell_type": "code",
   "execution_count": 237,
   "id": "7f89b523-7e9b-4a4c-8264-c4045377946e",
   "metadata": {},
   "outputs": [
    {
     "name": "stdin",
     "output_type": "stream",
     "text": [
      "Enter a string p o p\n"
     ]
    },
    {
     "name": "stdout",
     "output_type": "stream",
     "text": [
      "p o p is Palindrome\n"
     ]
    },
    {
     "data": {
      "text/plain": [
       "'p o p'"
      ]
     },
     "execution_count": 237,
     "metadata": {},
     "output_type": "execute_result"
    }
   ],
   "source": [
    "w=input('Enter a string') # \n",
    "if w==w[::-1]:\n",
    "    print(w,'is Palindrome')\n",
    "else:\n",
    "    print(w, 'is not Palindrome')\n",
    "w"
   ]
  },
  {
   "cell_type": "markdown",
   "id": "f2958253-5beb-40e6-9c33-65b3da5ff565",
   "metadata": {},
   "source": [
    "**String is ordered but unlike list, it is _immutable_**"
   ]
  },
  {
   "cell_type": "code",
   "execution_count": 243,
   "id": "8a6a9273-99f4-4bb7-9c58-3967602c3050",
   "metadata": {},
   "outputs": [
    {
     "ename": "TypeError",
     "evalue": "'str' object does not support item assignment",
     "output_type": "error",
     "traceback": [
      "\u001b[0;31m---------------------------------------------------------------------------\u001b[0m",
      "\u001b[0;31mTypeError\u001b[0m                                 Traceback (most recent call last)",
      "\u001b[0;32m/tmp/ipykernel_901543/3110521560.py\u001b[0m in \u001b[0;36m<module>\u001b[0;34m\u001b[0m\n\u001b[0;32m----> 1\u001b[0;31m \u001b[0mw\u001b[0m\u001b[0;34m[\u001b[0m\u001b[0;36m0\u001b[0m\u001b[0;34m]\u001b[0m\u001b[0;34m=\u001b[0m\u001b[0;34m'C'\u001b[0m\u001b[0;34m\u001b[0m\u001b[0;34m\u001b[0m\u001b[0m\n\u001b[0m",
      "\u001b[0;31mTypeError\u001b[0m: 'str' object does not support item assignment"
     ]
    }
   ],
   "source": [
    "w[0]='C'"
   ]
  },
  {
   "cell_type": "markdown",
   "id": "17ac2d88-ddac-463e-b755-6ac14faae83c",
   "metadata": {
    "tags": []
   },
   "source": [
    "## **Concatenation**"
   ]
  },
  {
   "cell_type": "code",
   "execution_count": 246,
   "id": "3ba257c9-1439-4059-899b-23153cd88d9e",
   "metadata": {},
   "outputs": [
    {
     "name": "stdout",
     "output_type": "stream",
     "text": [
      "abc123abc123abc123\n",
      "<class 'str'>\n"
     ]
    },
    {
     "data": {
      "text/plain": [
       "'abc123abc123abc123'"
      ]
     },
     "execution_count": 246,
     "metadata": {},
     "output_type": "execute_result"
    }
   ],
   "source": [
    "s='abc123'\n",
    "print(s+s+s)\n",
    "print(type(s+s+s))\n",
    "s+s+s"
   ]
  },
  {
   "cell_type": "code",
   "execution_count": 249,
   "id": "16cbb1b6-9763-4603-a930-65f555de5d97",
   "metadata": {},
   "outputs": [
    {
     "name": "stdout",
     "output_type": "stream",
     "text": [
      "RRR\n",
      "<class 'str'>\n"
     ]
    },
    {
     "data": {
      "text/plain": [
       "'RRR'"
      ]
     },
     "execution_count": 249,
     "metadata": {},
     "output_type": "execute_result"
    }
   ],
   "source": [
    "s='R'\n",
    "print(3*s)\n",
    "print(type(3*s))\n",
    "3*s"
   ]
  },
  {
   "cell_type": "code",
   "execution_count": 251,
   "id": "4f79934c-01ac-4a5a-8514-5af152e189f9",
   "metadata": {},
   "outputs": [
    {
     "name": "stdout",
     "output_type": "stream",
     "text": [
      "Sampad Mandal\n"
     ]
    },
    {
     "data": {
      "text/plain": [
       "'Sampad Mandal'"
      ]
     },
     "execution_count": 251,
     "metadata": {},
     "output_type": "execute_result"
    }
   ],
   "source": [
    "s1='Sampad'\n",
    "s2=' '\n",
    "s3='Mandal'\n",
    "print(s1+s2+s3)\n",
    "s1+s2+s3"
   ]
  },
  {
   "cell_type": "markdown",
   "id": "f2258f81-28f9-41dd-b795-587e215f8592",
   "metadata": {},
   "source": [
    "**concatenation and evaluation**"
   ]
  },
  {
   "cell_type": "code",
   "execution_count": 258,
   "id": "03a25e30-d425-406e-a4c2-6881b9ae59ab",
   "metadata": {},
   "outputs": [
    {
     "data": {
      "text/plain": [
       "123456"
      ]
     },
     "execution_count": 258,
     "metadata": {},
     "output_type": "execute_result"
    }
   ],
   "source": [
    "eval('123'+'456') # 1st concatenate '123' & '456' and then evaluate the value of the concatenated string"
   ]
  },
  {
   "cell_type": "code",
   "execution_count": 259,
   "id": "9ec0632d-2deb-4e0e-9584-e3955e26f770",
   "metadata": {},
   "outputs": [
    {
     "data": {
      "text/plain": [
       "57.900000000000006"
      ]
     },
     "execution_count": 259,
     "metadata": {},
     "output_type": "execute_result"
    }
   ],
   "source": [
    "eval('12.3')+eval('45.6') # 1st evaluate the individual strings to digits and then operate the sum"
   ]
  },
  {
   "cell_type": "code",
   "execution_count": 256,
   "id": "4d4cff2d-5a54-44a2-b599-993013921e39",
   "metadata": {},
   "outputs": [
    {
     "data": {
      "text/plain": [
       "57.900000000000006"
      ]
     },
     "execution_count": 256,
     "metadata": {},
     "output_type": "execute_result"
    }
   ],
   "source": [
    "eval('12.3+45.6') # 1st evaluate the string to digit and then operate the sum"
   ]
  },
  {
   "cell_type": "markdown",
   "id": "1997a368-da9b-41ec-a0b7-268042b12f92",
   "metadata": {},
   "source": [
    "## **Methods on String**"
   ]
  },
  {
   "cell_type": "markdown",
   "id": "e83084d6-5257-48bc-9437-a53c3e10dcfe",
   "metadata": {},
   "source": [
    "### **# Check the Directory for the methods of string**"
   ]
  },
  {
   "cell_type": "code",
   "execution_count": 261,
   "id": "cea52590-0df7-4f0f-86e8-12b6959eadd6",
   "metadata": {},
   "outputs": [
    {
     "name": "stdout",
     "output_type": "stream",
     "text": [
      "['__add__', '__class__', '__contains__', '__delattr__', '__dir__', '__doc__', '__eq__', '__format__', '__ge__', '__getattribute__', '__getitem__', '__getnewargs__', '__gt__', '__hash__', '__init__', '__init_subclass__', '__iter__', '__le__', '__len__', '__lt__', '__mod__', '__mul__', '__ne__', '__new__', '__reduce__', '__reduce_ex__', '__repr__', '__rmod__', '__rmul__', '__setattr__', '__sizeof__', '__str__', '__subclasshook__', 'capitalize', 'casefold', 'center', 'count', 'encode', 'endswith', 'expandtabs', 'find', 'format', 'format_map', 'index', 'isalnum', 'isalpha', 'isascii', 'isdecimal', 'isdigit', 'isidentifier', 'islower', 'isnumeric', 'isprintable', 'isspace', 'istitle', 'isupper', 'join', 'ljust', 'lower', 'lstrip', 'maketrans', 'partition', 'replace', 'rfind', 'rindex', 'rjust', 'rpartition', 'rsplit', 'rstrip', 'split', 'splitlines', 'startswith', 'strip', 'swapcase', 'title', 'translate', 'upper', 'zfill']\n"
     ]
    }
   ],
   "source": [
    "print(dir(str))"
   ]
  },
  {
   "cell_type": "code",
   "execution_count": null,
   "id": "1729d50b-10f6-4b43-a930-72dffc06b291",
   "metadata": {},
   "outputs": [],
   "source": [
    "print(help(str.capitalize))"
   ]
  },
  {
   "cell_type": "markdown",
   "id": "13cbbf29-18fe-4678-995b-3135debf896f",
   "metadata": {},
   "source": [
    "### **# Capitalization**"
   ]
  },
  {
   "cell_type": "markdown",
   "id": "bdcdf624-2542-4d6a-b9f6-e4942fc75775",
   "metadata": {},
   "source": [
    "**Make the first character(any albhabet) have upper case and the rest lower. If the 1st caharacter is a digit any symbol having no upper case then it's remain unchanged.**"
   ]
  },
  {
   "cell_type": "code",
   "execution_count": 269,
   "id": "a0e8cd70-0303-487b-8852-50acab616316",
   "metadata": {},
   "outputs": [
    {
     "name": "stdout",
     "output_type": "stream",
     "text": [
      "Abc123\n"
     ]
    },
    {
     "data": {
      "text/plain": [
       "'Abc123'"
      ]
     },
     "execution_count": 269,
     "metadata": {},
     "output_type": "execute_result"
    }
   ],
   "source": [
    "#print(help(str.capitalize))\n",
    "s='abc123'\n",
    "print(s.capitalize())\n",
    "s.capitalize()"
   ]
  },
  {
   "cell_type": "code",
   "execution_count": 273,
   "id": "9e948749-5bf5-4760-909e-cf2aba3ce55d",
   "metadata": {},
   "outputs": [
    {
     "name": "stdout",
     "output_type": "stream",
     "text": [
      "Γ23abc\n"
     ]
    },
    {
     "data": {
      "text/plain": [
       "'Γ23abc'"
      ]
     },
     "execution_count": 273,
     "metadata": {},
     "output_type": "execute_result"
    }
   ],
   "source": [
    "s='γ23abc' # γ is typed by Ctrl+Shift+u and then 03b3 and then Sheft+Enter\n",
    "print(s.capitalize())\n",
    "s.capitalize()"
   ]
  },
  {
   "cell_type": "code",
   "execution_count": 275,
   "id": "7622ac37-4dc0-4058-bd71-fcea23d7e848",
   "metadata": {},
   "outputs": [
    {
     "name": "stdout",
     "output_type": "stream",
     "text": [
      "123abc\n"
     ]
    },
    {
     "data": {
      "text/plain": [
       "'123abc'"
      ]
     },
     "execution_count": 275,
     "metadata": {},
     "output_type": "execute_result"
    }
   ],
   "source": [
    "s='123abc'\n",
    "print(s.capitalize())\n",
    "s.capitalize()"
   ]
  },
  {
   "cell_type": "code",
   "execution_count": 281,
   "id": "08c4791e-649c-4eaf-873b-3e1c2d992a5d",
   "metadata": {},
   "outputs": [
    {
     "name": "stdout",
     "output_type": "stream",
     "text": [
      "@23abc\n"
     ]
    },
    {
     "data": {
      "text/plain": [
       "'@23abc'"
      ]
     },
     "execution_count": 281,
     "metadata": {},
     "output_type": "execute_result"
    }
   ],
   "source": [
    "s='@23abc'\n",
    "print(s.capitalize())\n",
    "s.capitalize()"
   ]
  },
  {
   "cell_type": "code",
   "execution_count": 279,
   "id": "fef4607e-de69-4566-b8f9-6a3ebde5fefe",
   "metadata": {},
   "outputs": [
    {
     "name": "stdout",
     "output_type": "stream",
     "text": [
      "Α23abc\n"
     ]
    },
    {
     "data": {
      "text/plain": [
       "'Α23abc'"
      ]
     },
     "execution_count": 279,
     "metadata": {},
     "output_type": "execute_result"
    }
   ],
   "source": [
    "s='α23abc' # α is typed by Ctrl+Shift+u and then 03b1 and then Sheft+Enter\n",
    "print(s.capitalize()) # upper case of both α and a is A\n",
    "s.capitalize()"
   ]
  },
  {
   "cell_type": "code",
   "execution_count": 505,
   "id": "4f518acd-fdc0-4dee-9251-fb2fd1ffd73a",
   "metadata": {},
   "outputs": [
    {
     "name": "stdout",
     "output_type": "stream",
     "text": [
      "This is the first line\n"
     ]
    },
    {
     "data": {
      "text/plain": [
       "'This is the first line'"
      ]
     },
     "execution_count": 505,
     "metadata": {},
     "output_type": "execute_result"
    }
   ],
   "source": [
    "s='tHis is thE fiRST liNe'\n",
    "print(s.capitalize()) \n",
    "s.capitalize()"
   ]
  },
  {
   "cell_type": "markdown",
   "id": "826d413d-fb94-40ac-842f-a3d45fd961c0",
   "metadata": {},
   "source": [
    "### **# Converting the string to lowercase for which it is possible**"
   ]
  },
  {
   "cell_type": "code",
   "execution_count": 499,
   "id": "1331d1ef-0252-49e0-af0b-20dac6b0b8be",
   "metadata": {},
   "outputs": [
    {
     "name": "stdout",
     "output_type": "stream",
     "text": [
      "abc123#a\n"
     ]
    },
    {
     "data": {
      "text/plain": [
       "'abc123#a'"
      ]
     },
     "execution_count": 499,
     "metadata": {},
     "output_type": "execute_result"
    }
   ],
   "source": [
    "#print(help(str.lower))\n",
    "s='Abc123#A'\n",
    "print(s.lower())\n",
    "s.lower()"
   ]
  },
  {
   "cell_type": "markdown",
   "id": "7e7e3745-f9e6-478b-9abb-7b1bb64490ba",
   "metadata": {},
   "source": [
    "### **# Return True if the string is a lowercase string i.e., all cased characters in the string are lowercase, False otherwise.**"
   ]
  },
  {
   "cell_type": "code",
   "execution_count": 5,
   "id": "5a566833-1909-449f-b283-03e6e4c6b4e8",
   "metadata": {},
   "outputs": [
    {
     "name": "stdout",
     "output_type": "stream",
     "text": [
      "False\n",
      "True\n"
     ]
    }
   ],
   "source": [
    "#print(help(str.islower))\n",
    "s1='abc123#A'\n",
    "print(s1.islower())\n",
    "s2='abc123#a'\n",
    "print(s2.islower())"
   ]
  },
  {
   "cell_type": "markdown",
   "id": "db5c3a78-65e0-41a2-9ba1-32fdb0714829",
   "metadata": {},
   "source": [
    "### **# Converting the string to uppercase for which it is possible**"
   ]
  },
  {
   "cell_type": "code",
   "execution_count": 492,
   "id": "ab104b76-98c3-412a-826e-a6600528a23d",
   "metadata": {},
   "outputs": [
    {
     "name": "stdout",
     "output_type": "stream",
     "text": [
      "ABC123#Α\n"
     ]
    },
    {
     "data": {
      "text/plain": [
       "'ABC123#Α'"
      ]
     },
     "execution_count": 492,
     "metadata": {},
     "output_type": "execute_result"
    }
   ],
   "source": [
    "#print(help(str.upper))\n",
    "s='Abc123#α'\n",
    "print(s.upper())   \n",
    "s.upper()"
   ]
  },
  {
   "cell_type": "markdown",
   "id": "a34860d6-44c8-40de-bf06-bdc91e17b614",
   "metadata": {},
   "source": [
    "### **#  Return True if the string is an uppercase string i.e., all cased characters in the string are uppercase, False otherwise.**"
   ]
  },
  {
   "cell_type": "code",
   "execution_count": 140,
   "id": "ef221cd2-e888-415c-b2e7-8a0d5b7c76e3",
   "metadata": {},
   "outputs": [
    {
     "name": "stdout",
     "output_type": "stream",
     "text": [
      "False\n",
      "True\n",
      "True\n"
     ]
    }
   ],
   "source": [
    "#print(help(str.isupper))\n",
    "s1='abc123#A'\n",
    "print(s1.isupper())\n",
    "print(s1[-1].isupper())\n",
    "s2='ABC123#A'\n",
    "print(s2.isupper())"
   ]
  },
  {
   "cell_type": "markdown",
   "id": "75b20df2-f5ae-4430-86a3-fc5907dcd79a",
   "metadata": {},
   "source": [
    "### **# Converting the string to titlecase i.e. each word starts with uppercase and the rest lower**"
   ]
  },
  {
   "cell_type": "code",
   "execution_count": 504,
   "id": "dc02de7d-7def-4781-9e83-b96a0c2d71d5",
   "metadata": {},
   "outputs": [
    {
     "name": "stdout",
     "output_type": "stream",
     "text": [
      "This Is The First Line\n"
     ]
    },
    {
     "data": {
      "text/plain": [
       "'This Is The First Line'"
      ]
     },
     "execution_count": 504,
     "metadata": {},
     "output_type": "execute_result"
    }
   ],
   "source": [
    "#print(help(str.title))\n",
    "s='tHis is thE fiRST liNe'\n",
    "print(s.title()) \n",
    "s.title()"
   ]
  },
  {
   "cell_type": "markdown",
   "id": "74eda495-3139-4580-a5c2-0f197e0dc88e",
   "metadata": {},
   "source": [
    "### **# Return True if the string is a title-cased string, False otherwise.**"
   ]
  },
  {
   "cell_type": "code",
   "execution_count": 17,
   "id": "6daa81b4-3bc6-460b-ba0c-bb33894acac5",
   "metadata": {},
   "outputs": [
    {
     "name": "stdout",
     "output_type": "stream",
     "text": [
      "False\n",
      "True\n"
     ]
    }
   ],
   "source": [
    "#print(help(str.istitle))\n",
    "s1='tHis is thE fiRST liNe'\n",
    "print(s1.istitle()) \n",
    "s2='This Is The First Line'\n",
    "print(s2.istitle()) "
   ]
  },
  {
   "cell_type": "markdown",
   "id": "5c7a5dd3-075a-4404-83a3-0dc319b76c5f",
   "metadata": {},
   "source": [
    "### **# Return a copy of the string with leading and trailing whitespace removed.**"
   ]
  },
  {
   "cell_type": "code",
   "execution_count": 33,
   "id": "a3e4eebe-b074-4f0e-80ef-3b0110955aa9",
   "metadata": {},
   "outputs": [
    {
     "name": "stdout",
     "output_type": "stream",
     "text": [
      "This Is The First Line\n"
     ]
    },
    {
     "data": {
      "text/plain": [
       "'This Is The First Line'"
      ]
     },
     "execution_count": 33,
     "metadata": {},
     "output_type": "execute_result"
    }
   ],
   "source": [
    "#print(help(str.strip))\n",
    "s=' This Is The First Line  '\n",
    "print(s.strip()) \n",
    "s.strip()          # removes the leading and trailing whitespaces"
   ]
  },
  {
   "cell_type": "markdown",
   "id": "13427997-7dee-4973-b6b7-a87734edd4d7",
   "metadata": {},
   "source": [
    "### **#   Return a copy of the string with leading whitespace removed.**"
   ]
  },
  {
   "cell_type": "code",
   "execution_count": 39,
   "id": "fe71f923-5fb1-46de-849c-3988308328ab",
   "metadata": {},
   "outputs": [
    {
     "name": "stdout",
     "output_type": "stream",
     "text": [
      "This Is The First Line  \n"
     ]
    },
    {
     "data": {
      "text/plain": [
       "'This Is The First Line  '"
      ]
     },
     "execution_count": 39,
     "metadata": {},
     "output_type": "execute_result"
    }
   ],
   "source": [
    "#print(help(str.lstrip))\n",
    "s=' This Is The First Line  '\n",
    "print(s.lstrip()) \n",
    "s.lstrip()        # removes only the leading whitespaces"
   ]
  },
  {
   "cell_type": "markdown",
   "id": "5129405b-ef31-496f-9a4a-2f5722884d2c",
   "metadata": {},
   "source": [
    "### **# Return a copy of the string with trailing whitespace removed.**"
   ]
  },
  {
   "cell_type": "code",
   "execution_count": 42,
   "id": "da2e8dc6-10e3-47a8-a5ad-b12c11bc0c96",
   "metadata": {},
   "outputs": [
    {
     "name": "stdout",
     "output_type": "stream",
     "text": [
      " This Is The First Line\n"
     ]
    },
    {
     "data": {
      "text/plain": [
       "' This Is The First Line'"
      ]
     },
     "execution_count": 42,
     "metadata": {},
     "output_type": "execute_result"
    }
   ],
   "source": [
    "#print(help(str.rstrip))\n",
    "s=' This Is The First Line  '\n",
    "print(s.rstrip()) \n",
    "s.rstrip()        # removes only the trailing whitespaces"
   ]
  },
  {
   "cell_type": "markdown",
   "id": "6c6e5449-9822-4ab4-a3a6-46671f4d5f17",
   "metadata": {},
   "source": [
    "### **# Return True if the string is a whitespace string, False otherwise.**"
   ]
  },
  {
   "cell_type": "code",
   "execution_count": 98,
   "id": "2af530e5-2808-4314-90c1-d69f2248b831",
   "metadata": {},
   "outputs": [
    {
     "name": "stdout",
     "output_type": "stream",
     "text": [
      "Help on method_descriptor:\n",
      "\n",
      "isspace(self, /)\n",
      "    Return True if the string is a whitespace string, False otherwise.\n",
      "    \n",
      "    A string is whitespace if all characters in the string are whitespace and there\n",
      "    is at least one character in the string.\n",
      "\n",
      "None\n",
      "False\n",
      "False\n"
     ]
    }
   ],
   "source": [
    "print(help(str.isspace))\n",
    "s=' This Is The First Line  '\n",
    "print(s.isspace())\n",
    "s2='s a m p a d'\n",
    "print(s2.isspace())"
   ]
  },
  {
   "cell_type": "markdown",
   "id": "9c5a9a2f-2bfc-44f8-b899-2183abcac8ed",
   "metadata": {},
   "source": [
    "### **# Return a list of the words in the string, using sep as the delimiter string.**"
   ]
  },
  {
   "cell_type": "markdown",
   "id": "c8f81825-45e1-46da-8dcb-f1e0a29e2787",
   "metadata": {},
   "source": [
    "**_.split('separator',maxsplit=number of splitting attempts starting from left to right)_, default separator is whitespace and default maxsplit is the maximum numbers of splitting possible with respect to the separator.** "
   ]
  },
  {
   "cell_type": "code",
   "execution_count": 14,
   "id": "226d51c4-246f-4e27-b0a8-29356f6df59e",
   "metadata": {},
   "outputs": [
    {
     "name": "stdout",
     "output_type": "stream",
     "text": [
      "['This', 'Is', 'The', 'First', 'Line']\n",
      "['This', 'Is', 'The First     Line  ']\n",
      "['This', 'Is', 'The', 'First', 'Line  ']\n",
      "['This', 'Is', 'The', 'First', 'Line']\n",
      "[' ', 'This', ' Is', ' The', ' First', ' Line', '  ']\n",
      "[' ', 'This', ' Is', ' The', ' First', ' Line,  ']\n",
      "[' ', 'This', ' Is', ' The', ' First', ' Line', '  ']\n"
     ]
    }
   ],
   "source": [
    "#print(help(str.split))\n",
    "s=' This Is The First     Line  '\n",
    "print(s.split())\n",
    "print(s.split(maxsplit=2)) \n",
    "print(s.split(maxsplit=4)) \n",
    "print(s.split(maxsplit=5))\n",
    "\n",
    "s2=' ,This, Is, The, First, Line,  '\n",
    "print(s2.split(sep=','))\n",
    "print(s2.split(',',5))\n",
    "print(s2.split(',',maxsplit=6))"
   ]
  },
  {
   "cell_type": "markdown",
   "id": "ed03c6a4-4001-4720-b72f-3fa1793c1a2d",
   "metadata": {},
   "source": [
    "**_.rsplit('separator',maxsplit=number of splitting attempts starting from right to left)_, default separator is whitespace and default maxsplit is the maximum numbers of splitting possible with respect to the separator.** "
   ]
  },
  {
   "cell_type": "code",
   "execution_count": 132,
   "id": "968a1f42-1ae8-4770-8cac-3c70c663ec4b",
   "metadata": {},
   "outputs": [
    {
     "name": "stdout",
     "output_type": "stream",
     "text": [
      "['This', 'Is', 'The', 'First', 'Line']\n",
      "[' This Is The', 'First', 'Line']\n",
      "[' This', 'Is', 'The', 'First', 'Line']\n",
      "['This', 'Is', 'The', 'First', 'Line']\n",
      "[' ', 'This', ' Is', ' The', ' First', ' Line', '  ']\n",
      "[' ,This', ' Is', ' The', ' First', ' Line', '  ']\n",
      "[' ', 'This', ' Is', ' The', ' First', ' Line', '  ']\n"
     ]
    }
   ],
   "source": [
    "#print(help(str.rsplit))\n",
    "s=' This Is The First     Line  '\n",
    "print(s.rsplit())\n",
    "print(s.rsplit(maxsplit=2)) \n",
    "print(s.rsplit(maxsplit=4)) \n",
    "print(s.rsplit(maxsplit=5))\n",
    "\n",
    "s2=' ,This, Is, The, First, Line,  '\n",
    "print(s2.rsplit(sep=','))\n",
    "print(s2.rsplit(',',5))\n",
    "print(s2.rsplit(',',maxsplit=6))"
   ]
  },
  {
   "cell_type": "code",
   "execution_count": 136,
   "id": "03eab0a5-4101-4553-bbad-351f861adc39",
   "metadata": {},
   "outputs": [
    {
     "name": "stdout",
     "output_type": "stream",
     "text": [
      "Help on method_descriptor:\n",
      "\n",
      "splitlines(self, /, keepends=False)\n",
      "    Return a list of the lines in the string, breaking at line boundaries.\n",
      "    \n",
      "    Line breaks are not included in the resulting list unless keepends is given and\n",
      "    true.\n",
      "\n",
      "None\n",
      "['My name is Sampad. I am currently pursuing my Ph.D. in Comp. Mat. Science. My area of interest is the searching for efficient thermoelectric materials.']\n"
     ]
    }
   ],
   "source": [
    "print(help(str.splitlines))\n",
    "s='My name is Sampad. I am currently pursuing my Ph.D. in Comp. Mat. Science.\\\n",
    " My area of interest is the searching for efficient thermoelectric materials.'\n",
    "print(s.splitlines(True))"
   ]
  },
  {
   "cell_type": "code",
   "execution_count": 12,
   "id": "6bf66281-9ac1-483e-9590-8aa8711b4810",
   "metadata": {},
   "outputs": [
    {
     "name": "stdout",
     "output_type": "stream",
     "text": [
      "Help on method_descriptor:\n",
      "\n",
      "join(self, iterable, /)\n",
      "    Concatenate any number of strings.\n",
      "    \n",
      "    The string whose method is called is inserted in between each given string.\n",
      "    The result is returned as a new string.\n",
      "    \n",
      "    Example: '.'.join(['ab', 'pq', 'rs']) -> 'ab.pq.rs'\n",
      "\n",
      "None\n"
     ]
    }
   ],
   "source": [
    "print(help(str.join))"
   ]
  },
  {
   "cell_type": "code",
   "execution_count": 11,
   "id": "e46e5e42-c3e4-464a-af3a-111e4e2ac67d",
   "metadata": {},
   "outputs": [
    {
     "name": "stdout",
     "output_type": "stream",
     "text": [
      "Help on method_descriptor:\n",
      "\n",
      "ljust(self, width, fillchar=' ', /)\n",
      "    Return a left-justified string of length width.\n",
      "    \n",
      "    Padding is done using the specified fill character (default is a space).\n",
      "\n",
      "None\n"
     ]
    }
   ],
   "source": [
    "print(help(str.ljust))"
   ]
  },
  {
   "cell_type": "markdown",
   "id": "1b5027f7-858d-4482-bac9-33a118c21d29",
   "metadata": {},
   "source": [
    "### **# Counting**"
   ]
  },
  {
   "cell_type": "markdown",
   "id": "565b1248-f3be-48f9-87d7-c712e42151e6",
   "metadata": {},
   "source": [
    "**_.count('substring', start_index_position_of_counting, stop_index_position_of_counting)_. Return the number of non-overlapping occurrences of substring**"
   ]
  },
  {
   "cell_type": "code",
   "execution_count": 374,
   "id": "4df118fd-58ff-4222-921d-57b6d9f97b6b",
   "metadata": {},
   "outputs": [
    {
     "name": "stdout",
     "output_type": "stream",
     "text": [
      "1\n",
      "2\n",
      "1\n",
      "1\n",
      "1\n"
     ]
    }
   ],
   "source": [
    "#print(help(str.count))\n",
    "s='The Beautiful Mind'\n",
    "print(s.count('T'))\n",
    "print(s.count('i'))  # Default start at s[0]='T' and default stop s[18] i.e takes upto 'd' of the word 'Mind'\n",
    "print(s.count('i',4,13)) # Stop=s[13] i.e. takes upto s[12]='l' of 'Beautiful' start=s[4]='B' of 'Beautiful'\n",
    "print(s.count('in'))\n",
    "print(s.count('ful'))"
   ]
  },
  {
   "cell_type": "markdown",
   "id": "38077f57-994c-4403-aca9-1e4966fa2a3b",
   "metadata": {},
   "source": [
    "### **# Encoding String**"
   ]
  },
  {
   "cell_type": "code",
   "execution_count": 332,
   "id": "040f4d30-0f10-4a88-988a-286c103a8a25",
   "metadata": {},
   "outputs": [
    {
     "name": "stdout",
     "output_type": "stream",
     "text": [
      "b'The Beautiful Mind'\n"
     ]
    }
   ],
   "source": [
    "#print(help(str.encode))\n",
    "s='The Beautiful Mind'\n",
    "print(s.encode())"
   ]
  },
  {
   "cell_type": "markdown",
   "id": "a74e6d0c-a04b-4ea2-bcfc-fe7d24df73bd",
   "metadata": {},
   "source": [
    "### **# Checking whether the string starts with the specified prefix or not**"
   ]
  },
  {
   "cell_type": "markdown",
   "id": "de9c9bf5-9fdb-4ecc-81ca-f5dec1545a5d",
   "metadata": {},
   "source": [
    "**_.startswith('prefix', start_index_position_of_counting, stop_index_position_of_counting)_. Prefix may be any substring. Returns in boolean**"
   ]
  },
  {
   "cell_type": "code",
   "execution_count": 138,
   "id": "cdbab9b9-1942-4a59-aafd-e075c1592411",
   "metadata": {},
   "outputs": [
    {
     "name": "stdout",
     "output_type": "stream",
     "text": [
      "True\n"
     ]
    }
   ],
   "source": [
    "#print(help(str.startswith))\n",
    "s='The Beautiful Mind'\n",
    "print(s.startswith('T')) # Default start at s[0]='T' and default stop s[18] i.e takes upto 'd' of the word 'Mind'\n"
   ]
  },
  {
   "cell_type": "markdown",
   "id": "8692df94-5834-42a0-b7d9-b5e49fdf2f47",
   "metadata": {
    "tags": []
   },
   "source": [
    "### **# Checking whether the string ends with the specified suffix or not**"
   ]
  },
  {
   "cell_type": "markdown",
   "id": "155b45bf-40f4-4a48-b255-eed30899ca92",
   "metadata": {},
   "source": [
    "**_.endswith('suffix', start_index_position_of_counting, stop_index_position_of_counting)_. Suffix may be any substring. Returns in boolean**"
   ]
  },
  {
   "cell_type": "code",
   "execution_count": 494,
   "id": "79716394-fa2f-486f-a3ca-907bf517a922",
   "metadata": {},
   "outputs": [
    {
     "name": "stdout",
     "output_type": "stream",
     "text": [
      "True\n",
      "False\n",
      "True\n",
      "True\n",
      "False\n",
      "True\n"
     ]
    }
   ],
   "source": [
    "#print(help(str.endswith))\n",
    "s='The Beautiful Mind'\n",
    "print(s.endswith('d')) # Default start at s[0]='T' and default stop s[18] i.e takes upto 'd' of the word 'Mind'\n",
    "print(s.endswith('d',0,17)) # Stop s[17] i.e. takes upto 'n' of the word 'Mind' starting from s[0]='T' of 'The'\n",
    "print(s.endswith('l',0,13)) # Stop=s[13] i.e. takes upto s[12]='l' of 'Beautiful' \n",
    "print(s.endswith('l',4,13)) # Start=s[4]='B' of the word 'Beautiful'\n",
    "print(s.endswith('ll',4,13)) # Start=s[4]='B' of the word 'Beautiful'\n",
    "print(s.endswith('ful',4,13))"
   ]
  },
  {
   "cell_type": "markdown",
   "id": "4b554801-9b3f-404c-ae12-e3ca12e10b77",
   "metadata": {},
   "source": [
    "### **# Expanding the tab caharcters using spaces in a copy of the string**"
   ]
  },
  {
   "cell_type": "markdown",
   "id": "14b3dc01-03c7-4437-9c73-d2fc0258e609",
   "metadata": {},
   "source": [
    "**_.expandtabs(integer)_, where integeris the tab size. Default tab size is the space of 8 characters. Original string remains unaltered**"
   ]
  },
  {
   "cell_type": "code",
   "execution_count": 361,
   "id": "83574124-263a-4a8d-861c-bf21d46e84f0",
   "metadata": {},
   "outputs": [
    {
     "name": "stdout",
     "output_type": "stream",
     "text": [
      "Sampad  Mandal\n",
      "Sampad          Mandal\n",
      "Sampad\tMandal\n"
     ]
    },
    {
     "data": {
      "text/plain": [
       "'Sampad          Mandal'"
      ]
     },
     "execution_count": 361,
     "metadata": {},
     "output_type": "execute_result"
    }
   ],
   "source": [
    "#print(help(str.expandtabs))\n",
    "s='Sampad\\tMandal' # '\\t' is the tab character\n",
    "print(s.expandtabs())  # Default tab size is the space of 8 characters.\n",
    "print(s.expandtabs(16)) # Tab size is the space of 16 characters.\n",
    "print(s)                # Original string remains unaltered\n",
    "s.expandtabs(16)"
   ]
  },
  {
   "cell_type": "markdown",
   "id": "5564753f-095a-4239-a291-bd21640d5a5d",
   "metadata": {},
   "source": [
    "### **# Finding the lowest index in string where substring is found**"
   ]
  },
  {
   "cell_type": "markdown",
   "id": "45fe2fcb-46e6-42ac-842f-d3cac06996c7",
   "metadata": {},
   "source": [
    "**_.find('substring', start_index_position_of_counting, stop_index_position_of_counting)_ and <br> _.index('substring', start_index_position_of_counting, stop_index_position_of_counting)_**"
   ]
  },
  {
   "cell_type": "code",
   "execution_count": 396,
   "id": "be7d784d-1cab-4201-acd3-b2e4ff5b127c",
   "metadata": {},
   "outputs": [
    {
     "name": "stdout",
     "output_type": "stream",
     "text": [
      "17\n",
      "9\n",
      "9\n",
      "15\n"
     ]
    }
   ],
   "source": [
    "#print(help(str.find))\n",
    "s='The Beautiful Mind'\n",
    "print(s.find('d'))\n",
    "print(s.find('i')) # 1st 'i' between default start=s[0]='T' and s[17]='d' i.e. default stop=s[18]\n",
    "print(s.find('ifu'))\n",
    "print(s.find('i',14)) # 1st 'i' between start=s[14]='M' and s[17]='d' i.e. default stop=s[18]"
   ]
  },
  {
   "cell_type": "markdown",
   "id": "17bb959e-4ba5-44fb-a30f-3a7f6c3f7d5f",
   "metadata": {},
   "source": []
  },
  {
   "cell_type": "code",
   "execution_count": 564,
   "id": "79d1e213-c8f4-4fd2-8aff-90b83b721dc1",
   "metadata": {},
   "outputs": [
    {
     "name": "stdout",
     "output_type": "stream",
     "text": [
      "15\n",
      "15\n",
      "9\n"
     ]
    }
   ],
   "source": [
    "#print(help(str.rfind))\n",
    "s='The Beautiful Mind'\n",
    "print(s.rfind('i'))\n",
    "print(s.rfind('i',14))\n",
    "print(s.rfind('i',9,14))"
   ]
  },
  {
   "cell_type": "code",
   "execution_count": 395,
   "id": "7372ea6b-ceb8-4581-b772-6df57aa67659",
   "metadata": {},
   "outputs": [
    {
     "name": "stdout",
     "output_type": "stream",
     "text": [
      "17\n",
      "9\n",
      "9\n",
      "15\n"
     ]
    }
   ],
   "source": [
    "#print(help(str.index))\n",
    "s='The Beautiful Mind'\n",
    "print(s.index('d'))\n",
    "print(s.index('i'))\n",
    "print(s.index('ifu'))\n",
    "print(s.index('i',14))"
   ]
  },
  {
   "cell_type": "code",
   "execution_count": 565,
   "id": "f8a42238-aba8-4716-8657-938504393173",
   "metadata": {},
   "outputs": [
    {
     "name": "stdout",
     "output_type": "stream",
     "text": [
      "15\n",
      "15\n",
      "9\n"
     ]
    }
   ],
   "source": [
    "#print(help(str.rindex))\n",
    "s='The Beautiful Mind'\n",
    "print(s.rindex('i'))\n",
    "print(s.rindex('i',14))\n",
    "print(s.rindex('i',9,14))"
   ]
  },
  {
   "cell_type": "code",
   "execution_count": 403,
   "id": "6e06d6b3-f3dc-4165-8f7b-693c67134a46",
   "metadata": {},
   "outputs": [
    {
     "name": "stdout",
     "output_type": "stream",
     "text": [
      "Help on method_descriptor:\n",
      "\n",
      "format(...)\n",
      "    S.format(*args, **kwargs) -> str\n",
      "    \n",
      "    Return a formatted version of S, using substitutions from args and kwargs.\n",
      "    The substitutions are identified by braces ('{' and '}').\n",
      "\n",
      "None\n"
     ]
    },
    {
     "data": {
      "text/plain": [
       "'The Beautiful Mind'"
      ]
     },
     "execution_count": 403,
     "metadata": {},
     "output_type": "execute_result"
    }
   ],
   "source": [
    "print(help(str.format))\n",
    "s='The Beautiful Mind'\n",
    "s.format('{Heart}')"
   ]
  },
  {
   "cell_type": "markdown",
   "id": "ffa84e75-ae6b-48cb-b6aa-dc330abc279a",
   "metadata": {},
   "source": [
    "### **# Whether the string is alpha-numeric or not.**"
   ]
  },
  {
   "cell_type": "markdown",
   "id": "785e867f-4b0e-4f2f-aba1-343850109455",
   "metadata": {},
   "source": [
    "**Presence of any special chrater (like !,@,#,$,%,>,^,&,*,(,_,-,+,=,.,: etc.) which is not alphbet nor numerical value, or space makes the string non-alpha-numeric. String with no element is not a alpha-numeric.**"
   ]
  },
  {
   "cell_type": "code",
   "execution_count": 439,
   "id": "8169aa7b-789d-4f0f-9d56-d3aedc799696",
   "metadata": {},
   "outputs": [
    {
     "name": "stdout",
     "output_type": "stream",
     "text": [
      "True\n",
      "False\n",
      "True\n",
      "False\n",
      "False\n",
      "True\n",
      "True\n",
      "False\n",
      "False\n"
     ]
    }
   ],
   "source": [
    "#print(help(str.isalnum))\n",
    "s1='γ526s'      # γ is greek albhabet\n",
    "print(s1.isalnum())\n",
    "s2='γ526s@'     # @ is a special character\n",
    "print(s2.isalnum())\n",
    "s3='sampad'     # All are alphabets\n",
    "print(s3.isalnum())\n",
    "s4='sampad.'    # . is a special charater\n",
    "print(s4.isalnum())\n",
    "s5='3.14'       # . is a special charater\n",
    "print(s5.isalnum())\n",
    "s6='314'        # All are numeriacal\n",
    "print(s6.isalnum())\n",
    "s7='αβγ'        # All are greek alphabets \n",
    "print(s7.isalnum())\n",
    "s8='sampad '    # Presence of space makes the string non-alpha-numeric\n",
    "print(s8.isalnum())\n",
    "s9=''           # No charater in the string\n",
    "print(s9.isalnum())"
   ]
  },
  {
   "cell_type": "markdown",
   "id": "23946999-2d76-43b8-8c0f-f4aabd879a53",
   "metadata": {},
   "source": [
    "### **# Whether the string is alphabetic or not.**"
   ]
  },
  {
   "cell_type": "code",
   "execution_count": 141,
   "id": "4a06b17a-c97a-4ef2-8006-e32e643649d6",
   "metadata": {},
   "outputs": [
    {
     "name": "stdout",
     "output_type": "stream",
     "text": [
      "False\n",
      "True\n",
      "False\n",
      "False\n"
     ]
    }
   ],
   "source": [
    "#print(help(str.isalpha))\n",
    "s1='γ526s'      \n",
    "print(s1.isalpha())\n",
    "s2='γs'         # γ is greek albhabet.\n",
    "print(s2.isalpha())\n",
    "s3='γs.'\n",
    "print(s3.isalpha())\n",
    "s4=''           # No charater in the string\n",
    "print(s4.isalpha())"
   ]
  },
  {
   "cell_type": "markdown",
   "id": "5f889899-a9fc-4814-9a0a-8f480c99f409",
   "metadata": {},
   "source": [
    "### **# Whether the string is numeric or not.**"
   ]
  },
  {
   "cell_type": "code",
   "execution_count": 454,
   "id": "6314638e-54d0-4918-af43-937721a65687",
   "metadata": {},
   "outputs": [
    {
     "name": "stdout",
     "output_type": "stream",
     "text": [
      "False\n",
      "True\n",
      "False\n",
      "False\n"
     ]
    }
   ],
   "source": [
    "#print(help(str.isnumeric))\n",
    "s1='γ526s'      \n",
    "print(s1.isnumeric())\n",
    "s2='526'\n",
    "print(s2.isnumeric())\n",
    "s3='526.'\n",
    "print(s3.isnumeric())\n",
    "s4=''           # No charater in the string\n",
    "print(s4.isnumeric())"
   ]
  },
  {
   "cell_type": "markdown",
   "id": "4c705da4-fe6e-46c3-826f-d9d3aab51ac9",
   "metadata": {},
   "source": [
    "### **# Whether the string is ASCII or not.**"
   ]
  },
  {
   "cell_type": "code",
   "execution_count": 469,
   "id": "9b405842-d68a-4eb7-829c-789a52b08950",
   "metadata": {},
   "outputs": [
    {
     "name": "stdout",
     "output_type": "stream",
     "text": [
      "False\n",
      "False\n",
      "True\n",
      "True\n",
      "True\n",
      "True\n"
     ]
    }
   ],
   "source": [
    "#print(help(str.isascii))\n",
    "s1='γ526s'      \n",
    "print(s1.isascii())\n",
    "s2='γs'\n",
    "print(s2.isascii())\n",
    "s3='ab'\n",
    "print(s3.isascii())\n",
    "s4='ab#. '            # Special charaters and spaces are ASCII too.\n",
    "print(s4.isascii())   \n",
    "s5='3.14'             # Numeric are also ASCII\n",
    "print(s5.isascii())\n",
    "s6=''                 # No charater is also ASCII\n",
    "print(s6.isascii())"
   ]
  },
  {
   "cell_type": "markdown",
   "id": "7eeeaff8-bc1f-4da4-81e3-4fb6d408eaeb",
   "metadata": {},
   "source": [
    "### **# Whether the string is of all digits or not.**"
   ]
  },
  {
   "cell_type": "code",
   "execution_count": 473,
   "id": "2e102866-c442-491f-bb1b-2856787a69d3",
   "metadata": {},
   "outputs": [
    {
     "name": "stdout",
     "output_type": "stream",
     "text": [
      "False\n",
      "True\n"
     ]
    }
   ],
   "source": [
    "#print(help(str.isdigit))\n",
    "s1='3.14'             \n",
    "print(s1.isdigit())\n",
    "s2='314'             \n",
    "print(s2.isdigit())"
   ]
  },
  {
   "cell_type": "markdown",
   "id": "3e2867a9-ec4c-4968-a5c0-5e119d521575",
   "metadata": {},
   "source": [
    "### **# Whether the string is decimal or not.**"
   ]
  },
  {
   "cell_type": "code",
   "execution_count": 21,
   "id": "10c8bf58-5b21-4026-95d1-36452b0d57c7",
   "metadata": {},
   "outputs": [
    {
     "name": "stdout",
     "output_type": "stream",
     "text": [
      "False\n",
      "True\n"
     ]
    }
   ],
   "source": [
    "#print(help(str.isdecimal))\n",
    "s1='3.0'             \n",
    "print(s1.isdecimal())\n",
    "s2='314'             \n",
    "print(s2.isdecimal())"
   ]
  },
  {
   "cell_type": "markdown",
   "id": "e6585283-582a-46d1-be52-fec2bfe67214",
   "metadata": {
    "tags": []
   },
   "source": [
    "# **Operators Other Than Arithmetic Operators**"
   ]
  },
  {
   "cell_type": "markdown",
   "id": "c42a6b6c-ebbf-476b-8840-b8fb2df897c4",
   "metadata": {},
   "source": [
    "## **# Logical Operators**"
   ]
  },
  {
   "cell_type": "markdown",
   "id": "6c6fb8d2-2d76-41b1-b3fb-63ed895cfb6b",
   "metadata": {},
   "source": [
    "| Operators || Descriptions |\n",
    "|-----------||--------------|\n",
    "| and       || True if all statements are true |\n",
    "| or        || True if any one of the statements is true|\n",
    "| not       ||Just reveses the result. False if the result is true|                                      |"
   ]
  },
  {
   "cell_type": "markdown",
   "id": "35b73a74-abc0-45db-b767-b17cc837f4a4",
   "metadata": {},
   "source": [
    "**Precedence _not > and > or_**"
   ]
  },
  {
   "cell_type": "code",
   "execution_count": 521,
   "id": "437f2f64-2787-46ce-a4d8-661aebb469f5",
   "metadata": {},
   "outputs": [
    {
     "name": "stdout",
     "output_type": "stream",
     "text": [
      "False\n",
      "False\n",
      "True\n",
      "True\n"
     ]
    }
   ],
   "source": [
    "x=6\n",
    "print(x<5 and x<10) # First statement is false \n",
    "print(x>5 and x>10) # Second statement is false\n",
    "print(x>5 and x<10) # Both statements are true\n",
    "print(x>5 and x<10 and x<8) # All statements are true"
   ]
  },
  {
   "cell_type": "code",
   "execution_count": 546,
   "id": "7b048e5b-e577-45a2-b6ad-235c5c16d8e3",
   "metadata": {},
   "outputs": [
    {
     "name": "stdout",
     "output_type": "stream",
     "text": [
      "True\n",
      "True\n",
      "False\n",
      "False\n"
     ]
    }
   ],
   "source": [
    "x=6\n",
    "print(not(x<5 and x<10)) # First statement is false \n",
    "print(not(x>5 and x>10)) # Second statement is false\n",
    "print(not(x>5 and x<10)) # Both statements are true\n",
    "print(not(x>5 and x<10 and x<8)) # All statements are true"
   ]
  },
  {
   "cell_type": "code",
   "execution_count": 525,
   "id": "d6fb3ca1-6674-4bc5-831e-9b99402f93a2",
   "metadata": {},
   "outputs": [
    {
     "name": "stdout",
     "output_type": "stream",
     "text": [
      "True\n",
      "True\n",
      "True\n",
      "False\n",
      "True\n",
      "False\n"
     ]
    }
   ],
   "source": [
    "x=6\n",
    "print(x<5 or x<10)      # Second statement is true\n",
    "print(x>5 or x>10)      # First statement is true\n",
    "print(x>5 or x<10)      # Both statements are true\n",
    "print(x<5 or x>10)      # Both statements are false\n",
    "print(x<5 or x<10 or x<4) # Second statement is true\n",
    "print(x<5 or x>10 or x<4) # # All statements are false"
   ]
  },
  {
   "cell_type": "code",
   "execution_count": 547,
   "id": "7c97a65f-9e90-42e9-8580-9901ec049c36",
   "metadata": {},
   "outputs": [
    {
     "name": "stdout",
     "output_type": "stream",
     "text": [
      "False\n",
      "False\n",
      "False\n",
      "True\n",
      "False\n",
      "True\n"
     ]
    }
   ],
   "source": [
    "x=6\n",
    "print(not(x<5 or x<10))      # Second statement is true\n",
    "print(not(x>5 or x>10))      # First statement is true\n",
    "print(not(x>5 or x<10))      # Both statements are true\n",
    "print(not(x<5 or x>10))      # Both statements are false\n",
    "print(not(x<5 or x<10 or x<4)) # Second statement is true\n",
    "print(not(x<5 or x>10 or x<4)) # # All statements are false"
   ]
  },
  {
   "cell_type": "code",
   "execution_count": 536,
   "id": "c23f0db5-b7e8-42cc-a644-03152a827474",
   "metadata": {},
   "outputs": [
    {
     "name": "stdout",
     "output_type": "stream",
     "text": [
      "True\n",
      "False\n",
      "True\n",
      "False\n"
     ]
    }
   ],
   "source": [
    "x=6\n",
    "print(x>5 or x>10 and x<4)    # Precedence 'and' > 'or'. So 'and' operates first and the 'or'.\n",
    "print((x>5 or x>10) and x<4)  # Due to parenthesis 'or' operates first and then 'and'.\n",
    "print(x>5 or x<10 and x<4)    # Precedence 'and' > 'or'. So 'and' operates first and the 'or'.\n",
    "print((x>5 or x<10) and x<4)  # Due to parenthesis 'or' operates first and then 'and'."
   ]
  },
  {
   "cell_type": "code",
   "execution_count": 544,
   "id": "92898631-c713-485d-91ec-93e0da3aa7d7",
   "metadata": {},
   "outputs": [
    {
     "name": "stdout",
     "output_type": "stream",
     "text": [
      "True\n"
     ]
    }
   ],
   "source": [
    "x=6\n",
    "print(x>5 and x>10 or x>4)"
   ]
  },
  {
   "cell_type": "markdown",
   "id": "a3f3ca0d-be57-4d57-b14b-2b7e04478911",
   "metadata": {},
   "source": [
    "## **# Comparison Operators**"
   ]
  },
  {
   "cell_type": "markdown",
   "id": "61b3b7f2-75a2-4f4f-a052-db2948f6403c",
   "metadata": {},
   "source": [
    "| Operator || Name |\n",
    "|----------||------|\n",
    "| == || equal |\n",
    "| != || not equal |\n",
    "| >  || greater than |\n",
    "| <  || less than |\n",
    "| >= || greater than or equal to |\n",
    "| <= || less than or equal to |"
   ]
  },
  {
   "cell_type": "code",
   "execution_count": 556,
   "id": "bf2635c4-2ee5-476b-9f91-7c1914f1c38d",
   "metadata": {},
   "outputs": [
    {
     "name": "stdout",
     "output_type": "stream",
     "text": [
      "False\n",
      "True\n"
     ]
    }
   ],
   "source": [
    "x='s'\n",
    "y=5\n",
    "print(x==y)\n",
    "print(x!=y)"
   ]
  },
  {
   "cell_type": "markdown",
   "id": "32de56e2-b734-42d9-9e70-8862d93c81e0",
   "metadata": {},
   "source": [
    "# **# Identity Operators**"
   ]
  },
  {
   "cell_type": "markdown",
   "id": "d13549e0-6898-453f-8252-c87b3ed0b141",
   "metadata": {},
   "source": [
    "| Operators || Descriptions |\n",
    "|-----------||--------------|\n",
    "| is        || True if both variable are the same object |\n",
    "| is not    || True if both variables are not the same object |"
   ]
  },
  {
   "cell_type": "code",
   "execution_count": 552,
   "id": "d1e6993e-39d9-4057-a85f-83dd6b7ef06f",
   "metadata": {},
   "outputs": [
    {
     "name": "stdout",
     "output_type": "stream",
     "text": [
      "False\n",
      "True\n"
     ]
    }
   ],
   "source": [
    "x='s'\n",
    "y=5\n",
    "print(x is y)\n",
    "print(x is not y)"
   ]
  },
  {
   "cell_type": "markdown",
   "id": "14a8cb09-8dbb-47f7-9edd-be59eab3a0b4",
   "metadata": {
    "tags": []
   },
   "source": [
    "# **List vs Tuple vs Set vs Dictionary in terms of order and mutability**"
   ]
  },
  {
   "cell_type": "markdown",
   "id": "9be763f6-9bfa-40e9-9537-1d03a7ef4c77",
   "metadata": {},
   "source": [
    "## **# List**"
   ]
  },
  {
   "cell_type": "markdown",
   "id": "c597f9ad-36b9-4a02-87d5-dac1d895b39d",
   "metadata": {},
   "source": [
    "### **## Order**"
   ]
  },
  {
   "cell_type": "code",
   "execution_count": 108,
   "id": "5a950fde-c8f5-4729-adc2-47aaf8e266d1",
   "metadata": {},
   "outputs": [
    {
     "name": "stdout",
     "output_type": "stream",
     "text": [
      "2\n",
      "4\n",
      "6\n"
     ]
    }
   ],
   "source": [
    "L=[1,5,9.5,'str',{1,8},[9,6],(2,0.5),1e2,6.8]\n",
    "print(L.index(9.5))\n",
    "print(L.index({1,8}))\n",
    "print(L.index((2,0.5)))"
   ]
  },
  {
   "cell_type": "markdown",
   "id": "5d0227c5-726d-4e38-bae1-464b007ba31c",
   "metadata": {},
   "source": [
    "### **## Mutability**"
   ]
  },
  {
   "cell_type": "code",
   "execution_count": 46,
   "id": "4ef8ebed-1227-4f71-ba20-c2b3589399b6",
   "metadata": {},
   "outputs": [
    {
     "name": "stdout",
     "output_type": "stream",
     "text": [
      "22736937357952\n",
      "22736937357952\n",
      "[1, 5, 9.5, 'str', {8, 1}, [9, 6], (0.2, 5), 100.0, 6.8]\n"
     ]
    }
   ],
   "source": [
    "L=[1,5,9.5,'str',{1,8},[9,6],(2,0.5),1e2,6.8]\n",
    "print(id(L))\n",
    "L[6]=(0.2,5)\n",
    "print(id(L))\n",
    "print(L)"
   ]
  },
  {
   "cell_type": "markdown",
   "id": "75eed3cb-1c90-4e61-9d14-3552dfd0240a",
   "metadata": {},
   "source": [
    "## **# Tuple**"
   ]
  },
  {
   "cell_type": "markdown",
   "id": "78868fdf-84ce-4e8b-8129-79d54241681a",
   "metadata": {},
   "source": [
    "### **## Order**"
   ]
  },
  {
   "cell_type": "code",
   "execution_count": 117,
   "id": "eda2d366-9ba1-4628-a866-599268a84a21",
   "metadata": {},
   "outputs": [
    {
     "name": "stdout",
     "output_type": "stream",
     "text": [
      "2\n",
      "4\n",
      "6\n"
     ]
    }
   ],
   "source": [
    "T=(1,5,9.5,'str',{1,8},[9,6],(2,0.5),1e2,6.8)\n",
    "print(T.index(9.5))\n",
    "print(T.index({1,8}))\n",
    "print(T.index((2,0.5)))"
   ]
  },
  {
   "cell_type": "markdown",
   "id": "670605f9-dba3-45a4-bace-5862f2c38a7c",
   "metadata": {},
   "source": [
    "### **## Mutability**"
   ]
  },
  {
   "cell_type": "code",
   "execution_count": 119,
   "id": "37a39b72-2ef5-4886-a56a-61d416420c90",
   "metadata": {},
   "outputs": [
    {
     "ename": "TypeError",
     "evalue": "'tuple' object does not support item assignment",
     "output_type": "error",
     "traceback": [
      "\u001b[0;31m---------------------------------------------------------------------------\u001b[0m",
      "\u001b[0;31mTypeError\u001b[0m                                 Traceback (most recent call last)",
      "\u001b[0;32m/tmp/ipykernel_901543/169875986.py\u001b[0m in \u001b[0;36m<module>\u001b[0;34m\u001b[0m\n\u001b[1;32m      1\u001b[0m \u001b[0mT\u001b[0m\u001b[0;34m=\u001b[0m\u001b[0;34m(\u001b[0m\u001b[0;36m1\u001b[0m\u001b[0;34m,\u001b[0m\u001b[0;36m5\u001b[0m\u001b[0;34m,\u001b[0m\u001b[0;36m9.5\u001b[0m\u001b[0;34m,\u001b[0m\u001b[0;34m'str'\u001b[0m\u001b[0;34m,\u001b[0m\u001b[0;34m{\u001b[0m\u001b[0;36m1\u001b[0m\u001b[0;34m,\u001b[0m\u001b[0;36m8\u001b[0m\u001b[0;34m}\u001b[0m\u001b[0;34m,\u001b[0m\u001b[0;34m[\u001b[0m\u001b[0;36m9\u001b[0m\u001b[0;34m,\u001b[0m\u001b[0;36m6\u001b[0m\u001b[0;34m]\u001b[0m\u001b[0;34m,\u001b[0m\u001b[0;34m(\u001b[0m\u001b[0;36m2\u001b[0m\u001b[0;34m,\u001b[0m\u001b[0;36m0.5\u001b[0m\u001b[0;34m)\u001b[0m\u001b[0;34m,\u001b[0m\u001b[0;36m1e2\u001b[0m\u001b[0;34m,\u001b[0m\u001b[0;36m6.8\u001b[0m\u001b[0;34m)\u001b[0m\u001b[0;34m\u001b[0m\u001b[0;34m\u001b[0m\u001b[0m\n\u001b[0;32m----> 2\u001b[0;31m \u001b[0mT\u001b[0m\u001b[0;34m[\u001b[0m\u001b[0;36m6\u001b[0m\u001b[0;34m]\u001b[0m\u001b[0;34m=\u001b[0m\u001b[0;34m(\u001b[0m\u001b[0;36m0.2\u001b[0m\u001b[0;34m,\u001b[0m\u001b[0;36m5\u001b[0m\u001b[0;34m)\u001b[0m\u001b[0;34m\u001b[0m\u001b[0;34m\u001b[0m\u001b[0m\n\u001b[0m\u001b[1;32m      3\u001b[0m \u001b[0mprint\u001b[0m\u001b[0;34m(\u001b[0m\u001b[0mT\u001b[0m\u001b[0;34m)\u001b[0m\u001b[0;34m\u001b[0m\u001b[0;34m\u001b[0m\u001b[0m\n",
      "\u001b[0;31mTypeError\u001b[0m: 'tuple' object does not support item assignment"
     ]
    }
   ],
   "source": [
    "T=(1,5,9.5,'str',{1,8},[9,6],(2,0.5),1e2,6.8)\n",
    "T[6]=(0.2,5)\n",
    "print(T)"
   ]
  },
  {
   "cell_type": "markdown",
   "id": "18aece4e-6c5a-4cd5-bd49-f4253ef690d2",
   "metadata": {},
   "source": [
    "## **# Set**"
   ]
  },
  {
   "cell_type": "markdown",
   "id": "7d5b21da-8e29-495f-9ad9-21ab36d380e0",
   "metadata": {},
   "source": [
    "### **## Order**"
   ]
  },
  {
   "cell_type": "code",
   "execution_count": 122,
   "id": "1c11e948-7e0a-4316-8faf-26bf18a29e5b",
   "metadata": {},
   "outputs": [
    {
     "ename": "TypeError",
     "evalue": "unhashable type: 'set'",
     "output_type": "error",
     "traceback": [
      "\u001b[0;31m---------------------------------------------------------------------------\u001b[0m",
      "\u001b[0;31mTypeError\u001b[0m                                 Traceback (most recent call last)",
      "\u001b[0;32m/tmp/ipykernel_901543/2700120062.py\u001b[0m in \u001b[0;36m<module>\u001b[0;34m\u001b[0m\n\u001b[0;32m----> 1\u001b[0;31m \u001b[0mO\u001b[0m\u001b[0;34m=\u001b[0m\u001b[0;34m{\u001b[0m\u001b[0;36m1\u001b[0m\u001b[0;34m,\u001b[0m\u001b[0;36m5\u001b[0m\u001b[0;34m,\u001b[0m\u001b[0;36m9.5\u001b[0m\u001b[0;34m,\u001b[0m\u001b[0;34m'str'\u001b[0m\u001b[0;34m,\u001b[0m\u001b[0;34m{\u001b[0m\u001b[0;36m1\u001b[0m\u001b[0;34m,\u001b[0m\u001b[0;36m8\u001b[0m\u001b[0;34m}\u001b[0m\u001b[0;34m,\u001b[0m\u001b[0;34m[\u001b[0m\u001b[0;36m9\u001b[0m\u001b[0;34m,\u001b[0m\u001b[0;36m6\u001b[0m\u001b[0;34m]\u001b[0m\u001b[0;34m,\u001b[0m\u001b[0;34m(\u001b[0m\u001b[0;36m2\u001b[0m\u001b[0;34m,\u001b[0m\u001b[0;36m0.5\u001b[0m\u001b[0;34m)\u001b[0m\u001b[0;34m,\u001b[0m\u001b[0;36m1e2\u001b[0m\u001b[0;34m,\u001b[0m\u001b[0;36m6.8\u001b[0m\u001b[0;34m}\u001b[0m\u001b[0;34m\u001b[0m\u001b[0;34m\u001b[0m\u001b[0m\n\u001b[0m\u001b[1;32m      2\u001b[0m \u001b[0mprint\u001b[0m\u001b[0;34m(\u001b[0m\u001b[0mO\u001b[0m\u001b[0;34m.\u001b[0m\u001b[0mindex\u001b[0m\u001b[0;34m(\u001b[0m\u001b[0;36m9.5\u001b[0m\u001b[0;34m)\u001b[0m\u001b[0;34m)\u001b[0m\u001b[0;34m\u001b[0m\u001b[0;34m\u001b[0m\u001b[0m\n",
      "\u001b[0;31mTypeError\u001b[0m: unhashable type: 'set'"
     ]
    }
   ],
   "source": [
    "O={1,5,9.5,'str',{1,8},[9,6],(2,0.5),1e2,6.8}\n",
    "print(O.index(9.5))"
   ]
  },
  {
   "cell_type": "markdown",
   "id": "ebb832f5-c15f-4387-b51d-5952674418e5",
   "metadata": {},
   "source": [
    "## **# Dictionary**"
   ]
  },
  {
   "cell_type": "markdown",
   "id": "d1900b29-a7d1-44b6-8d7a-ffaeb4ec3245",
   "metadata": {},
   "source": [
    "### **## Order**"
   ]
  },
  {
   "cell_type": "code",
   "execution_count": null,
   "id": "255eb31f-73a0-4b79-8924-6f673ea9ac1e",
   "metadata": {},
   "outputs": [],
   "source": []
  },
  {
   "cell_type": "markdown",
   "id": "81a670ba-fce9-4564-905a-12123ace6559",
   "metadata": {},
   "source": [
    "# **Matrix multiplication**"
   ]
  },
  {
   "cell_type": "code",
   "execution_count": 27,
   "id": "77c379da-ccc0-4968-88af-cf0207c647fc",
   "metadata": {},
   "outputs": [
    {
     "name": "stdout",
     "output_type": "stream",
     "text": [
      "3\n",
      "3\n",
      "4\n",
      "[[114, 160, 60, 27], [74, 97, 73, 14], [119, 157, 112, 23]]\n",
      "[[114 160  60  27]\n",
      " [ 74  97  73  14]\n",
      " [119 157 112  23]]\n"
     ]
    }
   ],
   "source": [
    "A=[[12, 7, 3],\n",
    "    [4, 5, 6],\n",
    "    [7, 8, 9]]\n",
    "\n",
    "print(len(A))\n",
    "\n",
    "B = [[5, 8, 1, 2],\n",
    "     [6, 7, 3, 0],\n",
    "     [4, 5, 9, 1]]\n",
    "\n",
    "print(len(B))\n",
    "print(len(B[1]))\n",
    "\n",
    "C=[[0,0,0,0],\n",
    "   [0,0,0,0],\n",
    "   [0,0,0,0]]\n",
    "\n",
    "# iterating by row of A\n",
    "for i in range(len(A)):\n",
    " \n",
    "    # iterating by column by B\n",
    "    for j in range(len(B[1])):\n",
    " \n",
    "        # iterating by rows of B\n",
    "        for k in range(len(B)):\n",
    "            C[i][j] += A[i][k] * B[k][j]\n",
    "\n",
    "            \n",
    "print(C)\n",
    "import numpy as np\n",
    "print(np.array(C))"
   ]
  },
  {
   "cell_type": "code",
   "execution_count": 8,
   "id": "8bb745fd-5af1-42e3-a1c1-8c0ca4f890ad",
   "metadata": {},
   "outputs": [
    {
     "name": "stdout",
     "output_type": "stream",
     "text": [
      "[[114, 160, 60, 27], [74, 97, 73, 14], [119, 157, 112, 23]]\n",
      "[[114 160  60  27]\n",
      " [ 74  97  73  14]\n",
      " [119 157 112  23]]\n"
     ]
    }
   ],
   "source": [
    "A = [[12, 7, 3],\n",
    "     [4, 5, 6],        # 3x3 matrix\n",
    "     [7, 8, 9]]\n",
    "\n",
    "# print(len(A))\n",
    "\n",
    "B = [[5, 8, 1, 2],\n",
    "     [6, 7, 3, 0],     # 3x4 matrix\n",
    "     [4, 5, 9, 1]]\n",
    "\n",
    "# print(len(B))\n",
    "# print(len(B[1]))\n",
    "\n",
    "if len(A[0])==len(B):    # for AB (not BA)\n",
    "    C=[[0 for c in range(len(B[0]))] for r in range(len(A))]   # for AB (not BA)\n",
    "    \n",
    "    # iterating by column by B\n",
    "    for j in range(len(B[1])): \n",
    "\n",
    "        # iterating by row of A\n",
    "        for i in range(len(A)):\n",
    " \n",
    "            # iterating by rows of B\n",
    "            for k in range(len(B)):\n",
    "                C[i][j] += A[i][k] * B[k][j]   # for AB (not BA)\n",
    "\n",
    "            \n",
    "    print(C)\n",
    "    import numpy as np\n",
    "    print(np.array(C))\n",
    "else:\n",
    "    print('AB multiplication is not possible')"
   ]
  },
  {
   "cell_type": "code",
   "execution_count": 29,
   "id": "b01c32e4-8e9b-47e3-8405-54dc8585d406",
   "metadata": {},
   "outputs": [
    {
     "name": "stdout",
     "output_type": "stream",
     "text": [
      "[[114 160  60  27]\n",
      " [ 74  97  73  14]\n",
      " [119 157 112  23]]\n",
      "[matrix([[114, 160,  60,  27]]), matrix([[74, 97, 73, 14]]), matrix([[119, 157, 112,  23]])]\n"
     ]
    }
   ],
   "source": [
    "import numpy as np\n",
    "A=np.matrix([[12, 7, 3],\n",
    "             [4, 5, 6],\n",
    "             [7, 8, 9]])\n",
    "#print(A)\n",
    "B=np.matrix([[5, 8, 1, 2],\n",
    "             [6, 7, 3, 0],\n",
    "             [4, 5, 9, 1]])\n",
    "\n",
    "C=A*B\n",
    "print(C)\n",
    "print(list(C))"
   ]
  },
  {
   "cell_type": "markdown",
   "id": "4481bf33-a082-4320-8947-26060373cf58",
   "metadata": {},
   "source": [
    "# Matrix summation (addition and subtrction)"
   ]
  },
  {
   "cell_type": "code",
   "execution_count": 30,
   "id": "1f40bf39-5124-4303-9fe4-3881582f4bf7",
   "metadata": {},
   "outputs": [
    {
     "name": "stdout",
     "output_type": "stream",
     "text": [
      "[[17, 15, 4], [10, 12, 9], [11, 13, 18]]\n",
      "[[17 15  4]\n",
      " [10 12  9]\n",
      " [11 13 18]]\n"
     ]
    }
   ],
   "source": [
    "A=[[12, 7, 3],\n",
    "    [4, 5, 6],\n",
    "    [7, 8, 9]]\n",
    "\n",
    "\n",
    "D = [[5, 8, 1],\n",
    "     [6, 7, 3],\n",
    "     [4, 5, 9]]\n",
    "\n",
    "S=[[0,0,0],\n",
    "   [0,0,0],\n",
    "   [0,0,0]]\n",
    "\n",
    "for i in range(len(A)):\n",
    "    for j in range(len(D)):\n",
    "        S[i][j] += A[i][j]+D[i][j]\n",
    "        \n",
    "print(S)\n",
    "import numpy as np\n",
    "print(np.array(S))"
   ]
  },
  {
   "cell_type": "code",
   "execution_count": 31,
   "id": "bab9b9ed-007e-43a6-b384-c70b9f772156",
   "metadata": {},
   "outputs": [
    {
     "name": "stdout",
     "output_type": "stream",
     "text": [
      "[17, 15, 4, 10, 12, 9, 11, 13, 18]\n",
      "[17 15  4 10 12  9 11 13 18]\n"
     ]
    }
   ],
   "source": [
    "A=[[12, 7, 3],\n",
    "    [4, 5, 6],\n",
    "    [7, 8, 9]]\n",
    "\n",
    "\n",
    "D=[[5, 8, 1],\n",
    "   [6, 7, 3],\n",
    "   [4, 5, 9]]\n",
    "\n",
    "S=[]\n",
    "\n",
    "for i in range(len(A)):\n",
    "    for j in range(len(D)):\n",
    "        S.append(A[i][j]+D[i][j])\n",
    "        \n",
    "print(S)\n",
    "import numpy as np\n",
    "print(np.array(S))"
   ]
  },
  {
   "cell_type": "code",
   "execution_count": 32,
   "id": "6147fadc-9835-4acd-9501-100e3b78f46d",
   "metadata": {},
   "outputs": [
    {
     "name": "stdout",
     "output_type": "stream",
     "text": [
      "[[17 15  4]\n",
      " [10 12  9]\n",
      " [11 13 18]]\n"
     ]
    }
   ],
   "source": [
    "import numpy as np\n",
    "A=np.matrix([[12, 7, 3],\n",
    "             [4, 5, 6],\n",
    "    [7, 8, 9]])\n",
    "\n",
    "\n",
    "D=np.matrix([[5, 8, 1],\n",
    "             [6, 7, 3],\n",
    "             [4, 5, 9]])\n",
    "\n",
    "S=A+D\n",
    "print(S)"
   ]
  },
  {
   "cell_type": "code",
   "execution_count": null,
   "id": "665ef619-73dc-46a7-84b2-9edf9ea54326",
   "metadata": {},
   "outputs": [],
   "source": []
  }
 ],
 "metadata": {
  "kernelspec": {
   "display_name": "Python 3 (ipykernel)",
   "language": "python",
   "name": "python3"
  },
  "language_info": {
   "codemirror_mode": {
    "name": "ipython",
    "version": 3
   },
   "file_extension": ".py",
   "mimetype": "text/x-python",
   "name": "python",
   "nbconvert_exporter": "python",
   "pygments_lexer": "ipython3",
   "version": "3.7.9"
  }
 },
 "nbformat": 4,
 "nbformat_minor": 5
}
