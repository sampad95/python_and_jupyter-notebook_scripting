{
 "cells": [
  {
   "cell_type": "code",
   "execution_count": 1,
   "id": "208ae59d-6deb-4889-96c7-5c0b2d0fa61c",
   "metadata": {},
   "outputs": [],
   "source": [
    "def func_name(args):  # args i.e., argument can be a variable or parameter, a string or any other iterable\n",
    "    instructions\n",
    "    return value"
   ]
  },
  {
   "cell_type": "code",
   "execution_count": 2,
   "id": "170eb890-b9c1-45f3-afb7-b0a5a29070e0",
   "metadata": {},
   "outputs": [
    {
     "data": {
      "text/plain": [
       "'Hello!'"
      ]
     },
     "execution_count": 2,
     "metadata": {},
     "output_type": "execute_result"
    }
   ],
   "source": [
    "def fun():             # function without any arguments\n",
    "    return 'Hello!'\n",
    "\n",
    "fun()                  # calling the defined function"
   ]
  },
  {
   "cell_type": "markdown",
   "id": "3a08c20d-258d-48c1-9b8d-44a31aecc37b",
   "metadata": {},
   "source": [
    "### **String as argument**"
   ]
  },
  {
   "cell_type": "code",
   "execution_count": 3,
   "id": "a7a88f2e-8504-40d3-8ed2-813ed057c352",
   "metadata": {},
   "outputs": [
    {
     "name": "stdout",
     "output_type": "stream",
     "text": [
      "('Hello!', 'Roy')\n",
      "<class 'tuple'>\n"
     ]
    }
   ],
   "source": [
    "def fun(name):             # function with string as argumnet\n",
    "    return 'Hello!', name\n",
    "\n",
    "print(fun('Roy'))          # gives tuple as two strings with comma is a tuple\n",
    "print(type(fun('Roy')))"
   ]
  },
  {
   "cell_type": "code",
   "execution_count": 4,
   "id": "8c5e1e52-04c3-4740-805c-a0a6af73cc1c",
   "metadata": {},
   "outputs": [
    {
     "name": "stdout",
     "output_type": "stream",
     "text": [
      "Roy\n",
      "<class 'str'>\n"
     ]
    }
   ],
   "source": [
    "def fun(name):             # function with string as argumnet\n",
    "    return name\n",
    "\n",
    "print(fun('Roy'))          # gives string\n",
    "print(type(fun('Roy')))"
   ]
  },
  {
   "cell_type": "markdown",
   "id": "97fe6b66-8b95-42ee-84ea-5be21a9d1890",
   "metadata": {},
   "source": [
    "### **Integer as argument**"
   ]
  },
  {
   "cell_type": "code",
   "execution_count": 5,
   "id": "9d799b4d-d6b7-4a34-8fa7-9dc024c86511",
   "metadata": {},
   "outputs": [
    {
     "name": "stdout",
     "output_type": "stream",
     "text": [
      "25\n",
      "<class 'int'>\n"
     ]
    }
   ],
   "source": [
    "def fun_sq(x):              # function with int as argumnet\n",
    "    return x**2\n",
    "    \n",
    "print(fun_sq(5))            # int\n",
    "print(type(fun_sq(5)))      "
   ]
  },
  {
   "cell_type": "markdown",
   "id": "cd98d4ec-d94c-4568-856d-92cdaebcdf8d",
   "metadata": {},
   "source": [
    "### **List as argument**"
   ]
  },
  {
   "cell_type": "code",
   "execution_count": 6,
   "id": "9633ac11-ee74-4075-9e67-2da0c53f1627",
   "metadata": {},
   "outputs": [
    {
     "name": "stdout",
     "output_type": "stream",
     "text": [
      "[1, 4, 9, 16, 25]\n",
      "<class 'list'>\n"
     ]
    }
   ],
   "source": [
    "def fun_sq_cub(lst):              # function with list as argumnet\n",
    "    n = []\n",
    "    m = []\n",
    "    for i in lst:\n",
    "        n = n + [i**2]\n",
    "        m = m + [i**3]\n",
    "    return n                         # return only n, m becomes useless\n",
    "    \n",
    "my_lst = [1, 2, 3, 4, 5]\n",
    "print(fun_sq_cub(my_lst))            # list\n",
    "print(type(fun_sq_cub(my_lst)))"
   ]
  },
  {
   "cell_type": "code",
   "execution_count": 7,
   "id": "ae48f3b6-db81-4dcb-80a5-7a7551cae552",
   "metadata": {},
   "outputs": [
    {
     "name": "stdout",
     "output_type": "stream",
     "text": [
      "[1, 8, 27, 64, 125]\n",
      "<class 'list'>\n"
     ]
    }
   ],
   "source": [
    "def fun_sq_cub(lst):              # function with list as argumnet\n",
    "    n = []\n",
    "    m = []\n",
    "    for i in lst:\n",
    "        n = n + [i**2]\n",
    "        m = m + [i**3]\n",
    "    return m                      # return only m, n becomes useless\n",
    "    \n",
    "my_lst = [1, 2, 3, 4, 5]\n",
    "print(fun_sq_cub(my_lst))         # list\n",
    "print(type(fun_sq_cub(my_lst)))"
   ]
  },
  {
   "cell_type": "code",
   "execution_count": 8,
   "id": "2aa02ed6-a4e4-401d-9d9f-6a9ef3a88ffb",
   "metadata": {},
   "outputs": [
    {
     "name": "stdout",
     "output_type": "stream",
     "text": [
      "[1, 4, 9, 16, 25, 1, 8, 27, 64, 125]\n",
      "<class 'list'>\n"
     ]
    }
   ],
   "source": [
    "def fun_sq_cub(lst):              # function with list as argumnet\n",
    "    n = []\n",
    "    m = []\n",
    "    for i in lst:\n",
    "        n = n + [i**2]\n",
    "        m = m + [i**3]\n",
    "    return n + m                  # return concatenation of n and m, which is also a list\n",
    "    \n",
    "my_lst = [1, 2, 3, 4, 5]\n",
    "print(fun_sq_cub(my_lst))         # list\n",
    "print(type(fun_sq_cub(my_lst)))"
   ]
  },
  {
   "cell_type": "code",
   "execution_count": 9,
   "id": "0e3a7101-2660-4222-a6df-feff087506f4",
   "metadata": {},
   "outputs": [
    {
     "name": "stdout",
     "output_type": "stream",
     "text": [
      "([1, 4, 9, 16, 25], [1, 8, 27, 64, 125])\n",
      "<class 'tuple'>\n"
     ]
    }
   ],
   "source": [
    "def fun_sq_cub(lst):              # function with list as argumnet\n",
    "    n = []\n",
    "    m = []\n",
    "    for i in lst:\n",
    "        n = n + [i**2]\n",
    "        m = m + [i**3]\n",
    "    return n, m                   # return n and m two lists, separated by comma: gives tuple of two lists\n",
    "    \n",
    "my_lst = [1, 2, 3, 4, 5]\n",
    "print(fun_sq_cub(my_lst))         # tuple\n",
    "print(type(fun_sq_cub(my_lst)))"
   ]
  },
  {
   "cell_type": "code",
   "execution_count": 10,
   "id": "1d3ac19a-056f-4104-b956-a2ab0eb4cdaf",
   "metadata": {},
   "outputs": [
    {
     "name": "stdout",
     "output_type": "stream",
     "text": [
      "([1, 4, 9, 16, 25], [1, 8, 27, 64, 125])\n",
      "<class 'tuple'>\n"
     ]
    }
   ],
   "source": [
    "def fun_sq_cub(lst):              # function with list as argumnet\n",
    "    n = [i**2 for i in lst]\n",
    "    m = [j**3 for j in lst]\n",
    "    return n, m                   # return n and m two lists, separated by comma: gives tuple of two lists\n",
    "    \n",
    "my_lst = [1, 2, 3, 4, 5]\n",
    "print(fun_sq_cub(my_lst))         # tuple\n",
    "print(type(fun_sq_cub(my_lst)))"
   ]
  },
  {
   "cell_type": "markdown",
   "id": "535b687c-ac2b-443f-bba4-731591f1d444",
   "metadata": {},
   "source": [
    "### **Tuple as argument**"
   ]
  },
  {
   "cell_type": "code",
   "execution_count": 20,
   "id": "e651785a-3210-428b-86d7-2bc884a10a0e",
   "metadata": {},
   "outputs": [
    {
     "name": "stdout",
     "output_type": "stream",
     "text": [
      "[1, 4, 9, 16, 25, 1, 8, 27, 64, 125]\n",
      "<class 'list'>\n"
     ]
    }
   ],
   "source": [
    "def fun_sq_cub(tpl):              # function with tuple as argumnet\n",
    "    n = [i**2 for i in tpl]\n",
    "    m = [j**3 for j in tpl]\n",
    "    return n + m                  # return concatenation of two lists n and m, which is also a list \n",
    "    \n",
    "my_tpl = (1, 2, 3, 4, 5)\n",
    "print(fun_sq_cub(my_tpl))         # list\n",
    "print(type(fun_sq_cub(my_tpl)))"
   ]
  },
  {
   "cell_type": "code",
   "execution_count": 11,
   "id": "5558fd87-a9d4-4f78-93f7-47a660c0f17b",
   "metadata": {},
   "outputs": [
    {
     "name": "stdout",
     "output_type": "stream",
     "text": [
      "([1, 4, 9, 16, 25], [1, 8, 27, 64, 125])\n",
      "<class 'tuple'>\n"
     ]
    }
   ],
   "source": [
    "def fun_sq_cub(tpl):              # function with tuple as argumnet\n",
    "    n = [i**2 for i in tpl]\n",
    "    m = [j**3 for j in tpl]\n",
    "    return n, m                   # return n and m two lists, separated by comma: gives tuple of two lists\n",
    "    \n",
    "my_tpl = (1, 2, 3, 4, 5)\n",
    "print(fun_sq_cub(my_tpl))         # tuple\n",
    "print(type(fun_sq_cub(my_tpl)))"
   ]
  },
  {
   "cell_type": "code",
   "execution_count": 12,
   "id": "764e7456-b84b-4f76-98d2-8c000aaa47fd",
   "metadata": {},
   "outputs": [
    {
     "name": "stdout",
     "output_type": "stream",
     "text": [
      "((1, 4, 9, 16, 25), (1, 8, 27, 64, 125))\n",
      "<class 'tuple'>\n"
     ]
    }
   ],
   "source": [
    "def fun_sq_cub(tpl):              # function with tuple as argumnet\n",
    "    n = tuple(i**2 for i in tpl)\n",
    "    m = tuple(j**3 for j in tpl)\n",
    "    return n, m                   # return n and m two tuples, separated by comma: gives tuple of two tuples\n",
    "    \n",
    "my_tpl = (1, 2, 3, 4, 5)\n",
    "print(fun_sq_cub(my_tpl))         # tuple\n",
    "print(type(fun_sq_cub(my_tpl)))"
   ]
  },
  {
   "cell_type": "code",
   "execution_count": 13,
   "id": "d1e67376-9186-401b-89f2-871c3968275e",
   "metadata": {},
   "outputs": [
    {
     "name": "stdout",
     "output_type": "stream",
     "text": [
      "((1, 4, 9, 16, 25), (1, 8, 27, 64, 125))\n",
      "<class 'tuple'>\n"
     ]
    }
   ],
   "source": [
    "def fun_sq_cub(tpl):              # function with tuple as argumnet\n",
    "    n = ()\n",
    "    m = ()\n",
    "    for i in tpl:\n",
    "        n = n + (i**2,)           # comma is necessary to make i**2 terms tuple\n",
    "        m = m + (i**3,)           # comma is necessary to make i**2 terms tuple\n",
    "    return n, m                   # return n and m two tuples, separated by comma: gives tuple of two tuples\n",
    "    \n",
    "my_tpl = (1, 2, 3, 4, 5)\n",
    "print(fun_sq_cub(my_tpl))         # tuple\n",
    "print(type(fun_sq_cub(my_tpl)))"
   ]
  },
  {
   "cell_type": "markdown",
   "id": "06229263-2c9b-4e45-8d4e-ae2cb04d4941",
   "metadata": {},
   "source": [
    "### **Dictionary as argument**"
   ]
  },
  {
   "cell_type": "code",
   "execution_count": null,
   "id": "175d8307-c983-4462-a802-12874239dc98",
   "metadata": {},
   "outputs": [],
   "source": []
  },
  {
   "cell_type": "markdown",
   "id": "6ec75717-75c2-4588-a7ee-179755d41941",
   "metadata": {},
   "source": [
    "### **Void Functions: Functions without _return_ statement**"
   ]
  },
  {
   "cell_type": "code",
   "execution_count": 14,
   "id": "62cb47fc-3ad1-4c26-b2a9-f5f4b3c124ea",
   "metadata": {},
   "outputs": [
    {
     "name": "stdout",
     "output_type": "stream",
     "text": [
      "None\n"
     ]
    }
   ],
   "source": [
    "def fun(name):             # function without return statement \n",
    "    'Hello!', name\n",
    "\n",
    "print(fun('Roy'))         # Falling off the end of a function returns \"None\""
   ]
  },
  {
   "cell_type": "code",
   "execution_count": 15,
   "id": "27df817b-9e64-4ec0-800c-3580ddb3ff06",
   "metadata": {},
   "outputs": [
    {
     "name": "stdout",
     "output_type": "stream",
     "text": [
      "Hello! Roy\n",
      "None\n"
     ]
    }
   ],
   "source": [
    "def fun(name):             # function without return statement \n",
    "    print('Hello!', name)\n",
    "\n",
    "print(fun('Roy'))          # returns \"None\"\n",
    "# print(type(fun('Roy')))  # <class 'NoneType'>"
   ]
  },
  {
   "cell_type": "code",
   "execution_count": 16,
   "id": "6da622a9-0f46-494d-b667-58f7f488618f",
   "metadata": {},
   "outputs": [
    {
     "name": "stdout",
     "output_type": "stream",
     "text": [
      "25\n",
      "None\n"
     ]
    }
   ],
   "source": [
    "def fun_sq(x):              # function without return statement \n",
    "    print(x**2)\n",
    "    \n",
    "print(fun_sq(5))            # returns \"None\""
   ]
  },
  {
   "cell_type": "code",
   "execution_count": 17,
   "id": "ee10bc5c-e4f4-4f6a-8d0e-276705160561",
   "metadata": {},
   "outputs": [
    {
     "name": "stdout",
     "output_type": "stream",
     "text": [
      "Hello! Roy\n"
     ]
    }
   ],
   "source": [
    "def fun(name):             # function without return statement \n",
    "    print('Hello!', name)\n",
    "\n",
    "fun('Roy')                 # does not return \"None\""
   ]
  },
  {
   "cell_type": "code",
   "execution_count": 18,
   "id": "afb5fc3d-2363-4618-81d0-df5245519467",
   "metadata": {},
   "outputs": [
    {
     "name": "stdout",
     "output_type": "stream",
     "text": [
      "25\n"
     ]
    }
   ],
   "source": [
    "def fun_sq(x):             # function without return statement \n",
    "    print(x**2)\n",
    "    \n",
    "fun_sq(5)                  # does not return \"None\""
   ]
  },
  {
   "cell_type": "code",
   "execution_count": 23,
   "id": "be21eeb2-112b-4279-868e-8cf1b9e291f7",
   "metadata": {},
   "outputs": [
    {
     "name": "stdout",
     "output_type": "stream",
     "text": [
      "None\n",
      "<class 'NoneType'>\n"
     ]
    }
   ],
   "source": [
    "def fun_sq_cub(tpl):              # function with tuple as argumnet\n",
    "    n = ()\n",
    "    m = ()\n",
    "    for i in tpl:\n",
    "        n = n + (i**2,)           # comma is necessary to make i**2 terms tuple\n",
    "        m = m + (i**3,)           # comma is necessary to make i**2 terms tuple\n",
    "    print(n, m)                   # return n and m two tuples with None\n",
    "    \n",
    "my_tpl = (1, 2, 3, 4, 5)\n",
    "print(fun_sq_cub(my_tpl))         # <class 'NoneType'>\n",
    "print(type(fun_sq_cub(my_tpl)))"
   ]
  },
  {
   "cell_type": "code",
   "execution_count": 32,
   "id": "36f0ecae-8f36-4a7f-8c34-83572f68ea11",
   "metadata": {},
   "outputs": [
    {
     "ename": "NameError",
     "evalue": "name 'l' is not defined",
     "output_type": "error",
     "traceback": [
      "\u001b[0;31m---------------------------------------------------------------------------\u001b[0m",
      "\u001b[0;31mNameError\u001b[0m                                 Traceback (most recent call last)",
      "\u001b[0;32m/tmp/ipykernel_26635/1565901083.py\u001b[0m in \u001b[0;36m<module>\u001b[0;34m\u001b[0m\n\u001b[1;32m      5\u001b[0m \u001b[0;34m\u001b[0m\u001b[0m\n\u001b[1;32m      6\u001b[0m \u001b[0mmy_tpl\u001b[0m \u001b[0;34m=\u001b[0m \u001b[0;34m(\u001b[0m\u001b[0;36m1\u001b[0m\u001b[0;34m,\u001b[0m \u001b[0;36m2\u001b[0m\u001b[0;34m,\u001b[0m \u001b[0;36m3\u001b[0m\u001b[0;34m,\u001b[0m \u001b[0;36m4\u001b[0m\u001b[0;34m,\u001b[0m \u001b[0;36m5\u001b[0m\u001b[0;34m)\u001b[0m\u001b[0;34m\u001b[0m\u001b[0;34m\u001b[0m\u001b[0m\n\u001b[0;32m----> 7\u001b[0;31m \u001b[0mfun_sq_cub\u001b[0m\u001b[0;34m(\u001b[0m\u001b[0mmy_tpl\u001b[0m\u001b[0;34m,\u001b[0m\u001b[0ml\u001b[0m\u001b[0;34m,\u001b[0m\u001b[0ms\u001b[0m\u001b[0;34m)\u001b[0m\u001b[0;34m\u001b[0m\u001b[0;34m\u001b[0m\u001b[0m\n\u001b[0m\u001b[1;32m      8\u001b[0m \u001b[0mprint\u001b[0m\u001b[0;34m(\u001b[0m\u001b[0ml\u001b[0m\u001b[0;34m)\u001b[0m\u001b[0;34m\u001b[0m\u001b[0;34m\u001b[0m\u001b[0m\n",
      "\u001b[0;31mNameError\u001b[0m: name 'l' is not defined"
     ]
    }
   ],
   "source": [
    "def fun_sq_cub(tpl,m,n):              # function with tuple as argumnet\n",
    "    n = tuple(i**2 for i in tpl)           \n",
    "    m = tuple(j**3 for j in tpl)          \n",
    "                 #\n",
    "    \n",
    "my_tpl = (1, 2, 3, 4, 5)\n",
    "fun_sq_cub(my_tpl,l,s)        \n",
    "print(l)"
   ]
  },
  {
   "cell_type": "markdown",
   "id": "4449dfcd-b035-49be-8fe7-c5784a01bd4d",
   "metadata": {},
   "source": [
    "## **Types of Python Function Arguments**"
   ]
  },
  {
   "cell_type": "markdown",
   "id": "db40d13f-c5fd-4e0d-80d9-6c2c6fcfc4d1",
   "metadata": {},
   "source": [
    "### **# Default argument**"
   ]
  },
  {
   "cell_type": "code",
   "execution_count": null,
   "id": "ef5b9a1c-29f6-4dce-9d17-37a4cf87ff71",
   "metadata": {},
   "outputs": [],
   "source": []
  }
 ],
 "metadata": {
  "kernelspec": {
   "display_name": "Python 3 (ipykernel)",
   "language": "python",
   "name": "python3"
  },
  "language_info": {
   "codemirror_mode": {
    "name": "ipython",
    "version": 3
   },
   "file_extension": ".py",
   "mimetype": "text/x-python",
   "name": "python",
   "nbconvert_exporter": "python",
   "pygments_lexer": "ipython3",
   "version": "3.7.9"
  }
 },
 "nbformat": 4,
 "nbformat_minor": 5
}
