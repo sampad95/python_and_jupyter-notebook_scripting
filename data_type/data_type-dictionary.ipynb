{
 "cells": [
  {
   "cell_type": "markdown",
   "id": "de42f2d5-41b7-46e3-b82e-ab2bc595ad16",
   "metadata": {},
   "source": [
    "# **Dictionary**"
   ]
  },
  {
   "cell_type": "markdown",
   "id": "5d022b5b-7069-4bf5-82fd-3f5608f5e9c7",
   "metadata": {},
   "source": [
    "## **Introduction**"
   ]
  },
  {
   "cell_type": "markdown",
   "id": "d170d510-b952-4566-b1fc-bac248195254",
   "metadata": {},
   "source": [
    "**Unordered collection od _key:value_ pairs separate by commas, placed inside a pair of curly brackets {}. If we call through a _key_, it will return us the corresponding _value_ stored against that _key_. Thus, we can store values against _keys_ and later we can extract a value by giving a key. Unlike sequences, which are indexed by a range of numbers, dictionaries are indexed by _keys_, which can be any _immutable_ type; _strings_ and _numbers_ can always be _keys_. _Tuples_ can be used as _keys_ if they contain only _strings_, _numbers_, or _tuples_; if a _tuple_ contains any _mutable_ object either directly or indirectly, it cannot be used as a _key_. You can’t use _lists_ as _keys_, since _lists_ can be modified in place using index assignments, slice assignments, or methods like _append()_ and _extend()_. Dictionaries are _mutable_**. "
   ]
  },
  {
   "cell_type": "code",
   "execution_count": 1,
   "id": "5ec4d7eb-44a5-4e2d-bddb-df9ca79daa59",
   "metadata": {},
   "outputs": [
    {
     "name": "stdout",
     "output_type": "stream",
     "text": [
      "<class 'dict'>\n",
      "str\n"
     ]
    }
   ],
   "source": [
    "d1 = {'s':'str', 'i':5, 'l': [3,5,7], 't':(9,11,13), 'd':{'a':2}}\n",
    "print(type(d1))\n",
    "print(d1['s'])      # value corresponding to the key 's'. Indexing by positional rank not possible like list or tuple."
   ]
  },
  {
   "cell_type": "code",
   "execution_count": 2,
   "id": "c5d569b7-63c6-46c5-bd3f-a3f23ff01f76",
   "metadata": {},
   "outputs": [
    {
     "name": "stdout",
     "output_type": "stream",
     "text": [
      "<class 'dict'>\n",
      "3\n"
     ]
    }
   ],
   "source": [
    "d2 = {1:5, (2,3,4):3, 'r':(7,6,4)} # number, tuple, and string as keys\n",
    "print(type(d2))\n",
    "print(len(d2))"
   ]
  },
  {
   "cell_type": "code",
   "execution_count": 3,
   "id": "da7be74d-5af5-470b-b4fd-7506bbfda332",
   "metadata": {},
   "outputs": [
    {
     "ename": "TypeError",
     "evalue": "unhashable type: 'list'",
     "output_type": "error",
     "traceback": [
      "\u001b[0;31m---------------------------------------------------------------------------\u001b[0m",
      "\u001b[0;31mTypeError\u001b[0m                                 Traceback (most recent call last)",
      "\u001b[0;32m/tmp/ipykernel_37456/3806077143.py\u001b[0m in \u001b[0;36m<module>\u001b[0;34m\u001b[0m\n\u001b[0;32m----> 1\u001b[0;31m \u001b[0md3\u001b[0m \u001b[0;34m=\u001b[0m \u001b[0;34m{\u001b[0m\u001b[0;36m1\u001b[0m\u001b[0;34m:\u001b[0m\u001b[0;36m5\u001b[0m\u001b[0;34m,\u001b[0m \u001b[0;34m[\u001b[0m\u001b[0;36m2\u001b[0m\u001b[0;34m,\u001b[0m\u001b[0;36m3\u001b[0m\u001b[0;34m,\u001b[0m\u001b[0;36m4\u001b[0m\u001b[0;34m]\u001b[0m\u001b[0;34m:\u001b[0m\u001b[0;36m3\u001b[0m\u001b[0;34m,\u001b[0m \u001b[0;34m'r'\u001b[0m\u001b[0;34m:\u001b[0m\u001b[0;34m(\u001b[0m\u001b[0;36m7\u001b[0m\u001b[0;34m,\u001b[0m\u001b[0;36m6\u001b[0m\u001b[0;34m,\u001b[0m\u001b[0;36m4\u001b[0m\u001b[0;34m)\u001b[0m\u001b[0;34m}\u001b[0m \u001b[0;31m# list or any mutable object can not be a key\u001b[0m\u001b[0;34m\u001b[0m\u001b[0;34m\u001b[0m\u001b[0m\n\u001b[0m\u001b[1;32m      2\u001b[0m \u001b[0mprint\u001b[0m\u001b[0;34m(\u001b[0m\u001b[0mtype\u001b[0m\u001b[0;34m(\u001b[0m\u001b[0md3\u001b[0m\u001b[0;34m)\u001b[0m\u001b[0;34m)\u001b[0m\u001b[0;34m\u001b[0m\u001b[0;34m\u001b[0m\u001b[0m\n\u001b[1;32m      3\u001b[0m \u001b[0mprint\u001b[0m\u001b[0;34m(\u001b[0m\u001b[0mlen\u001b[0m\u001b[0;34m(\u001b[0m\u001b[0md3\u001b[0m\u001b[0;34m)\u001b[0m\u001b[0;34m)\u001b[0m\u001b[0;34m\u001b[0m\u001b[0;34m\u001b[0m\u001b[0m\n",
      "\u001b[0;31mTypeError\u001b[0m: unhashable type: 'list'"
     ]
    }
   ],
   "source": [
    "d3 = {1:5, [2,3,4]:3, 'r':(7,6,4)} # list or any mutable object can not be a key\n",
    "print(type(d3))\n",
    "print(len(d3))"
   ]
  },
  {
   "cell_type": "code",
   "execution_count": 87,
   "id": "965110ec-18ec-4603-9c98-6c14db742916",
   "metadata": {},
   "outputs": [
    {
     "ename": "TypeError",
     "evalue": "unhashable type: 'set'",
     "output_type": "error",
     "traceback": [
      "\u001b[0;31m---------------------------------------------------------------------------\u001b[0m",
      "\u001b[0;31mTypeError\u001b[0m                                 Traceback (most recent call last)",
      "\u001b[0;32m/tmp/ipykernel_37456/2903868214.py\u001b[0m in \u001b[0;36m<module>\u001b[0;34m\u001b[0m\n\u001b[0;32m----> 1\u001b[0;31m \u001b[0md2\u001b[0m \u001b[0;34m=\u001b[0m \u001b[0;34m{\u001b[0m\u001b[0;36m1\u001b[0m\u001b[0;34m:\u001b[0m\u001b[0;36m5\u001b[0m\u001b[0;34m,\u001b[0m \u001b[0;34m(\u001b[0m\u001b[0;36m2\u001b[0m\u001b[0;34m,\u001b[0m\u001b[0;36m3\u001b[0m\u001b[0;34m,\u001b[0m\u001b[0;34m{\u001b[0m\u001b[0;36m4\u001b[0m\u001b[0;34m,\u001b[0m\u001b[0;36m5\u001b[0m\u001b[0;34m}\u001b[0m\u001b[0;34m)\u001b[0m\u001b[0;34m:\u001b[0m\u001b[0;34m(\u001b[0m\u001b[0;36m3\u001b[0m\u001b[0;34m,\u001b[0m\u001b[0;36m9\u001b[0m\u001b[0;34m)\u001b[0m\u001b[0;34m,\u001b[0m \u001b[0;34m'r'\u001b[0m\u001b[0;34m:\u001b[0m\u001b[0;34m(\u001b[0m\u001b[0;36m7\u001b[0m\u001b[0;34m,\u001b[0m\u001b[0;36m6\u001b[0m\u001b[0;34m,\u001b[0m\u001b[0;36m4\u001b[0m\u001b[0;34m)\u001b[0m\u001b[0;34m}\u001b[0m \u001b[0;31m# the tuple key contains mutable set, which is not allowed\u001b[0m\u001b[0;34m\u001b[0m\u001b[0;34m\u001b[0m\u001b[0m\n\u001b[0m\u001b[1;32m      2\u001b[0m \u001b[0mprint\u001b[0m\u001b[0;34m(\u001b[0m\u001b[0mtype\u001b[0m\u001b[0;34m(\u001b[0m\u001b[0md2\u001b[0m\u001b[0;34m)\u001b[0m\u001b[0;34m)\u001b[0m\u001b[0;34m\u001b[0m\u001b[0;34m\u001b[0m\u001b[0m\n\u001b[1;32m      3\u001b[0m \u001b[0mprint\u001b[0m\u001b[0;34m(\u001b[0m\u001b[0mlen\u001b[0m\u001b[0;34m(\u001b[0m\u001b[0md2\u001b[0m\u001b[0;34m)\u001b[0m\u001b[0;34m)\u001b[0m\u001b[0;34m\u001b[0m\u001b[0;34m\u001b[0m\u001b[0m\n",
      "\u001b[0;31mTypeError\u001b[0m: unhashable type: 'set'"
     ]
    }
   ],
   "source": [
    "d2 = {1:5, (2,3,{4,5}):(3,9), 'r':(7,6,4)} # the tuple key contains mutable set, which is not allowed\n",
    "print(type(d2))\n",
    "print(len(d2))"
   ]
  },
  {
   "cell_type": "code",
   "execution_count": 5,
   "id": "80e1326d-02d4-43bc-837e-a6a9593fffb3",
   "metadata": {},
   "outputs": [
    {
     "name": "stdout",
     "output_type": "stream",
     "text": [
      "<class 'dict'>\n",
      "3\n"
     ]
    }
   ],
   "source": [
    "d4 = {1:5, (2,3,4):3, 'r':[7,6,4]} # number, tuple, and string as keys\n",
    "print(type(d4))                    # values can be list or any mutable\n",
    "print(len(d4))"
   ]
  },
  {
   "cell_type": "code",
   "execution_count": 6,
   "id": "28d73691-3cbf-431e-b1e2-bf4eea48fcb5",
   "metadata": {},
   "outputs": [
    {
     "name": "stdout",
     "output_type": "stream",
     "text": [
      "<class 'dict'>\n",
      "0\n"
     ]
    }
   ],
   "source": [
    "d5 = {}      # empty dictionary\n",
    "print(type(d5))\n",
    "print(len(d5))"
   ]
  },
  {
   "cell_type": "code",
   "execution_count": 7,
   "id": "98d76568-3b1e-4cfa-9b4a-3d497f39690d",
   "metadata": {},
   "outputs": [
    {
     "name": "stdout",
     "output_type": "stream",
     "text": [
      "<class 'dict'>\n",
      "1\n"
     ]
    }
   ],
   "source": [
    "d6 = {'t':(9,11,13)}# dictionary with single key:value pair, no comma is required unlike in one element tuple\n",
    "print(type(d6))\n",
    "print(len(d6))"
   ]
  },
  {
   "cell_type": "code",
   "execution_count": 8,
   "id": "f73efd5a-c80f-429f-b97f-c5ab24e1f99f",
   "metadata": {},
   "outputs": [
    {
     "name": "stdout",
     "output_type": "stream",
     "text": [
      "s i l t d "
     ]
    }
   ],
   "source": [
    "d1 = {'s':'str', 'i':5, 'l': [3,5,7], 't':(9,11,13), 'd':{'a':2}}\n",
    "for i in d1:               # iteration is possible like in list and tuple\n",
    "    print(i, end = ' ')    # print keys"
   ]
  },
  {
   "cell_type": "code",
   "execution_count": 9,
   "id": "b0a00da2-0c39-4bd2-9c51-7b8f4e2f7746",
   "metadata": {},
   "outputs": [
    {
     "name": "stdout",
     "output_type": "stream",
     "text": [
      "str 5 [3, 5, 7] (9, 11, 13) {'a': 2} "
     ]
    }
   ],
   "source": [
    "d1 = {'s':'str', 'i':5, 'l': [3,5,7], 't':(9,11,13), 'd':{'a':2}}\n",
    "for i in d1:               # iteration is possible like in list and tuple\n",
    "    print(d1[i], end = ' ')    # print corresponding values"
   ]
  },
  {
   "cell_type": "markdown",
   "id": "7ed0b045-36a1-4150-9cdc-256ccad4d327",
   "metadata": {},
   "source": [
    "## **Built-in Functions on Dictionary**"
   ]
  },
  {
   "cell_type": "markdown",
   "id": "50283942-8612-4989-80e0-7a7c75a24c37",
   "metadata": {},
   "source": [
    "**type(), len(), max(), min(), sorted()**"
   ]
  },
  {
   "cell_type": "code",
   "execution_count": 19,
   "id": "f735d80d-5f10-4c70-a40b-c1b35eadf878",
   "metadata": {},
   "outputs": [
    {
     "name": "stdout",
     "output_type": "stream",
     "text": [
      "d\n",
      "a\n"
     ]
    }
   ],
   "source": [
    "d7 = {'a':5, 'b':3, 'd':9, 'c':-1}  # keys are only strings\n",
    "print(max(d7))\n",
    "print(min(d7))"
   ]
  },
  {
   "cell_type": "code",
   "execution_count": 20,
   "id": "cf34dedf-4a6f-4d2c-8df1-ef56611c8c29",
   "metadata": {},
   "outputs": [
    {
     "name": "stdout",
     "output_type": "stream",
     "text": [
      "t\n",
      "d\n"
     ]
    }
   ],
   "source": [
    "d1 = {'s':'str', 'i':5, 'l': [3,5,7], 't':(9,11,13), 'd':{'a':2}} # keys are only strings\n",
    "print(max(d1))\n",
    "print(min(d1))"
   ]
  },
  {
   "cell_type": "code",
   "execution_count": 21,
   "id": "a68654aa-4d9c-48a8-8237-8b2d7ce6ff27",
   "metadata": {},
   "outputs": [
    {
     "name": "stdout",
     "output_type": "stream",
     "text": [
      "5\n",
      "-1\n"
     ]
    }
   ],
   "source": [
    "d8 = {2:10, 5:12, 4:14, -1:6}           # keys are only numbers\n",
    "print(max(d8))        # max and min with respect to keys\n",
    "print(min(d8))"
   ]
  },
  {
   "cell_type": "code",
   "execution_count": 22,
   "id": "59812066-b255-4488-9d61-e5af7309d58a",
   "metadata": {},
   "outputs": [
    {
     "ename": "TypeError",
     "evalue": "'>' not supported between instances of 'str' and 'int'",
     "output_type": "error",
     "traceback": [
      "\u001b[0;31m---------------------------------------------------------------------------\u001b[0m",
      "\u001b[0;31mTypeError\u001b[0m                                 Traceback (most recent call last)",
      "\u001b[0;32m/tmp/ipykernel_37456/488929850.py\u001b[0m in \u001b[0;36m<module>\u001b[0;34m\u001b[0m\n\u001b[1;32m      1\u001b[0m \u001b[0md9\u001b[0m \u001b[0;34m=\u001b[0m \u001b[0;34m{\u001b[0m\u001b[0;36m2\u001b[0m\u001b[0;34m:\u001b[0m\u001b[0;36m10\u001b[0m\u001b[0;34m,\u001b[0m \u001b[0;34m'name'\u001b[0m\u001b[0;34m:\u001b[0m \u001b[0;34m'sam'\u001b[0m\u001b[0;34m,\u001b[0m \u001b[0;36m5\u001b[0m\u001b[0;34m:\u001b[0m\u001b[0;36m14\u001b[0m\u001b[0;34m,\u001b[0m \u001b[0;34m'tpl'\u001b[0m\u001b[0;34m:\u001b[0m\u001b[0;34m(\u001b[0m\u001b[0;36m9\u001b[0m\u001b[0;34m,\u001b[0m\u001b[0;36m11\u001b[0m\u001b[0;34m,\u001b[0m\u001b[0;36m13\u001b[0m\u001b[0;34m)\u001b[0m\u001b[0;34m}\u001b[0m \u001b[0;31m# keys are mix of int and str\u001b[0m\u001b[0;34m\u001b[0m\u001b[0;34m\u001b[0m\u001b[0m\n\u001b[0;32m----> 2\u001b[0;31m \u001b[0mprint\u001b[0m\u001b[0;34m(\u001b[0m\u001b[0mmax\u001b[0m\u001b[0;34m(\u001b[0m\u001b[0md9\u001b[0m\u001b[0;34m)\u001b[0m\u001b[0;34m)\u001b[0m       \u001b[0;31m# can not determine if keys are mix of int and str\u001b[0m\u001b[0;34m\u001b[0m\u001b[0;34m\u001b[0m\u001b[0m\n\u001b[0m\u001b[1;32m      3\u001b[0m \u001b[0mprint\u001b[0m\u001b[0;34m(\u001b[0m\u001b[0mmin\u001b[0m\u001b[0;34m(\u001b[0m\u001b[0md9\u001b[0m\u001b[0;34m)\u001b[0m\u001b[0;34m)\u001b[0m\u001b[0;34m\u001b[0m\u001b[0;34m\u001b[0m\u001b[0m\n",
      "\u001b[0;31mTypeError\u001b[0m: '>' not supported between instances of 'str' and 'int'"
     ]
    }
   ],
   "source": [
    "d9 = {2:10, 'name': 'sam', 5:14, 'tpl':(9,11,13)} # keys are mix of int and str\n",
    "print(max(d9))       # can not determine if keys are mix of int and str\n",
    "print(min(d9))"
   ]
  },
  {
   "cell_type": "code",
   "execution_count": 23,
   "id": "9b1f0ef6-8142-405a-a78d-359aae0e6836",
   "metadata": {},
   "outputs": [
    {
     "name": "stdout",
     "output_type": "stream",
     "text": [
      "['d', 'i', 'l', 's', 't']\n",
      "{'s': 'str', 'i': 5, 'l': [3, 5, 7], 't': (9, 11, 13), 'd': {'a': 2}}\n"
     ]
    }
   ],
   "source": [
    "d1 = {'s':'str', 'i':5, 'l': [3,5,7], 't':(9,11,13), 'd':{'a':2}} # keys are only strings\n",
    "print(sorted(d1))  # sorting of keys, by default. alphabetically sorts the keys as list\n",
    "print(d1)"
   ]
  },
  {
   "cell_type": "code",
   "execution_count": 53,
   "id": "40d12997-879d-493b-b83f-ced35b9cdc79",
   "metadata": {},
   "outputs": [
    {
     "name": "stdout",
     "output_type": "stream",
     "text": [
      "<class 'dict'>\n",
      "[-1, 2, 4, 5]\n"
     ]
    }
   ],
   "source": [
    "d8 = {2:10, 5:12, 4:14, -1:6}           # keys are only numbers\n",
    "print(type(d8))\n",
    "print(sorted(d8))       # sort with respect to the magnitude of the keys in a list"
   ]
  },
  {
   "cell_type": "code",
   "execution_count": 25,
   "id": "71a0853b-8da2-4d3b-ba56-befbe1fb92eb",
   "metadata": {},
   "outputs": [
    {
     "ename": "TypeError",
     "evalue": "'<' not supported between instances of 'str' and 'int'",
     "output_type": "error",
     "traceback": [
      "\u001b[0;31m---------------------------------------------------------------------------\u001b[0m",
      "\u001b[0;31mTypeError\u001b[0m                                 Traceback (most recent call last)",
      "\u001b[0;32m/tmp/ipykernel_37456/1269368116.py\u001b[0m in \u001b[0;36m<module>\u001b[0;34m\u001b[0m\n\u001b[1;32m      1\u001b[0m \u001b[0md9\u001b[0m \u001b[0;34m=\u001b[0m \u001b[0;34m{\u001b[0m\u001b[0;36m2\u001b[0m\u001b[0;34m:\u001b[0m\u001b[0;36m10\u001b[0m\u001b[0;34m,\u001b[0m \u001b[0;34m'name'\u001b[0m\u001b[0;34m:\u001b[0m \u001b[0;34m'sam'\u001b[0m\u001b[0;34m,\u001b[0m \u001b[0;36m5\u001b[0m\u001b[0;34m:\u001b[0m\u001b[0;36m14\u001b[0m\u001b[0;34m,\u001b[0m \u001b[0;34m'tpl'\u001b[0m\u001b[0;34m:\u001b[0m\u001b[0;34m(\u001b[0m\u001b[0;36m9\u001b[0m\u001b[0;34m,\u001b[0m\u001b[0;36m11\u001b[0m\u001b[0;34m,\u001b[0m\u001b[0;36m13\u001b[0m\u001b[0;34m)\u001b[0m\u001b[0;34m}\u001b[0m\u001b[0;34m\u001b[0m\u001b[0;34m\u001b[0m\u001b[0m\n\u001b[0;32m----> 2\u001b[0;31m \u001b[0mprint\u001b[0m\u001b[0;34m(\u001b[0m\u001b[0msorted\u001b[0m\u001b[0;34m(\u001b[0m\u001b[0md9\u001b[0m\u001b[0;34m)\u001b[0m\u001b[0;34m)\u001b[0m       \u001b[0;31m# can not sort if keys are mix of int and str\u001b[0m\u001b[0;34m\u001b[0m\u001b[0;34m\u001b[0m\u001b[0m\n\u001b[0m",
      "\u001b[0;31mTypeError\u001b[0m: '<' not supported between instances of 'str' and 'int'"
     ]
    }
   ],
   "source": [
    "d9 = {2:10, 'name': 'sam', 5:14, 'tpl':(9,11,13)}\n",
    "print(sorted(d9))       # can not sort if keys are mix of int and str"
   ]
  },
  {
   "cell_type": "code",
   "execution_count": 27,
   "id": "1b086060-c88e-4c46-b25a-3a1d456cece1",
   "metadata": {},
   "outputs": [
    {
     "data": {
      "text/plain": [
       "[2, 'name', 5, 'tpl']"
      ]
     },
     "execution_count": 27,
     "metadata": {},
     "output_type": "execute_result"
    }
   ],
   "source": [
    "d9 = {2:10, 'name': 'sam', 5:14, 'tpl':(9,11,13)}\n",
    "list(d9)    # returns th list of the keys only"
   ]
  },
  {
   "cell_type": "code",
   "execution_count": 34,
   "id": "19c91ea0-d5df-4ebc-bd2f-9dc3d08cbe33",
   "metadata": {},
   "outputs": [
    {
     "name": "stdout",
     "output_type": "stream",
     "text": [
      "{'s': 'str', 'i': 5, 't': (9, 11, 13), 'd': {'a': 2}}\n"
     ]
    }
   ],
   "source": [
    "d1 = {'s':'str', 'i':5, 'l': [3,5,7], 't':(9,11,13), 'd':{'a':2}}\n",
    "del(d1['l'])       # delete the key:value pair\n",
    "print(d1)          # original dictionary gets altered"
   ]
  },
  {
   "cell_type": "code",
   "execution_count": 35,
   "id": "5f29a10b-ea1e-4dfc-94d9-5510c9fba096",
   "metadata": {},
   "outputs": [
    {
     "ename": "KeyError",
     "evalue": "('s', 'i')",
     "output_type": "error",
     "traceback": [
      "\u001b[0;31m---------------------------------------------------------------------------\u001b[0m",
      "\u001b[0;31mKeyError\u001b[0m                                  Traceback (most recent call last)",
      "\u001b[0;32m/tmp/ipykernel_37456/3735846612.py\u001b[0m in \u001b[0;36m<module>\u001b[0;34m\u001b[0m\n\u001b[1;32m      1\u001b[0m \u001b[0md1\u001b[0m \u001b[0;34m=\u001b[0m \u001b[0;34m{\u001b[0m\u001b[0;34m's'\u001b[0m\u001b[0;34m:\u001b[0m\u001b[0;34m'str'\u001b[0m\u001b[0;34m,\u001b[0m \u001b[0;34m'i'\u001b[0m\u001b[0;34m:\u001b[0m\u001b[0;36m5\u001b[0m\u001b[0;34m,\u001b[0m \u001b[0;34m'l'\u001b[0m\u001b[0;34m:\u001b[0m \u001b[0;34m[\u001b[0m\u001b[0;36m3\u001b[0m\u001b[0;34m,\u001b[0m\u001b[0;36m5\u001b[0m\u001b[0;34m,\u001b[0m\u001b[0;36m7\u001b[0m\u001b[0;34m]\u001b[0m\u001b[0;34m,\u001b[0m \u001b[0;34m't'\u001b[0m\u001b[0;34m:\u001b[0m\u001b[0;34m(\u001b[0m\u001b[0;36m9\u001b[0m\u001b[0;34m,\u001b[0m\u001b[0;36m11\u001b[0m\u001b[0;34m,\u001b[0m\u001b[0;36m13\u001b[0m\u001b[0;34m)\u001b[0m\u001b[0;34m,\u001b[0m \u001b[0;34m'd'\u001b[0m\u001b[0;34m:\u001b[0m\u001b[0;34m{\u001b[0m\u001b[0;34m'a'\u001b[0m\u001b[0;34m:\u001b[0m\u001b[0;36m2\u001b[0m\u001b[0;34m}\u001b[0m\u001b[0;34m}\u001b[0m\u001b[0;34m\u001b[0m\u001b[0;34m\u001b[0m\u001b[0m\n\u001b[0;32m----> 2\u001b[0;31m \u001b[0;32mdel\u001b[0m\u001b[0;34m(\u001b[0m\u001b[0md1\u001b[0m\u001b[0;34m[\u001b[0m\u001b[0;34m's'\u001b[0m\u001b[0;34m,\u001b[0m\u001b[0;34m'i'\u001b[0m\u001b[0;34m]\u001b[0m\u001b[0;34m)\u001b[0m       \u001b[0;31m# delete the key:value pair\u001b[0m\u001b[0;34m\u001b[0m\u001b[0;34m\u001b[0m\u001b[0m\n\u001b[0m\u001b[1;32m      3\u001b[0m \u001b[0mprint\u001b[0m\u001b[0;34m(\u001b[0m\u001b[0md1\u001b[0m\u001b[0;34m)\u001b[0m\u001b[0;34m\u001b[0m\u001b[0;34m\u001b[0m\u001b[0m\n",
      "\u001b[0;31mKeyError\u001b[0m: ('s', 'i')"
     ]
    }
   ],
   "source": [
    "d1 = {'s':'str', 'i':5, 'l': [3,5,7], 't':(9,11,13), 'd':{'a':2}}\n",
    "del(d1['s','i'])       # can't delete more than one pair at a time\n",
    "print(d1)"
   ]
  },
  {
   "cell_type": "code",
   "execution_count": 37,
   "id": "7165ca96-91c0-45c6-8627-d30e8beb3744",
   "metadata": {},
   "outputs": [
    {
     "ename": "TypeError",
     "evalue": "unhashable type: 'slice'",
     "output_type": "error",
     "traceback": [
      "\u001b[0;31m---------------------------------------------------------------------------\u001b[0m",
      "\u001b[0;31mTypeError\u001b[0m                                 Traceback (most recent call last)",
      "\u001b[0;32m/tmp/ipykernel_37456/3207562927.py\u001b[0m in \u001b[0;36m<module>\u001b[0;34m\u001b[0m\n\u001b[1;32m      1\u001b[0m \u001b[0md1\u001b[0m \u001b[0;34m=\u001b[0m \u001b[0;34m{\u001b[0m\u001b[0;34m's'\u001b[0m\u001b[0;34m:\u001b[0m\u001b[0;34m'str'\u001b[0m\u001b[0;34m,\u001b[0m \u001b[0;34m'i'\u001b[0m\u001b[0;34m:\u001b[0m\u001b[0;36m5\u001b[0m\u001b[0;34m,\u001b[0m \u001b[0;34m'l'\u001b[0m\u001b[0;34m:\u001b[0m \u001b[0;34m[\u001b[0m\u001b[0;36m3\u001b[0m\u001b[0;34m,\u001b[0m\u001b[0;36m5\u001b[0m\u001b[0;34m,\u001b[0m\u001b[0;36m7\u001b[0m\u001b[0;34m]\u001b[0m\u001b[0;34m,\u001b[0m \u001b[0;34m't'\u001b[0m\u001b[0;34m:\u001b[0m\u001b[0;34m(\u001b[0m\u001b[0;36m9\u001b[0m\u001b[0;34m,\u001b[0m\u001b[0;36m11\u001b[0m\u001b[0;34m,\u001b[0m\u001b[0;36m13\u001b[0m\u001b[0;34m)\u001b[0m\u001b[0;34m,\u001b[0m \u001b[0;34m'd'\u001b[0m\u001b[0;34m:\u001b[0m\u001b[0;34m{\u001b[0m\u001b[0;34m'a'\u001b[0m\u001b[0;34m:\u001b[0m\u001b[0;36m2\u001b[0m\u001b[0;34m}\u001b[0m\u001b[0;34m}\u001b[0m\u001b[0;34m\u001b[0m\u001b[0;34m\u001b[0m\u001b[0m\n\u001b[0;32m----> 2\u001b[0;31m \u001b[0;32mdel\u001b[0m\u001b[0;34m(\u001b[0m\u001b[0md1\u001b[0m\u001b[0;34m[\u001b[0m\u001b[0;34m's'\u001b[0m\u001b[0;34m:\u001b[0m\u001b[0;34m'i'\u001b[0m\u001b[0;34m]\u001b[0m\u001b[0;34m)\u001b[0m       \u001b[0;31m# slicing not possible\u001b[0m\u001b[0;34m\u001b[0m\u001b[0;34m\u001b[0m\u001b[0m\n\u001b[0m\u001b[1;32m      3\u001b[0m \u001b[0mprint\u001b[0m\u001b[0;34m(\u001b[0m\u001b[0md1\u001b[0m\u001b[0;34m)\u001b[0m\u001b[0;34m\u001b[0m\u001b[0;34m\u001b[0m\u001b[0m\n",
      "\u001b[0;31mTypeError\u001b[0m: unhashable type: 'slice'"
     ]
    }
   ],
   "source": [
    "d1 = {'s':'str', 'i':5, 'l': [3,5,7], 't':(9,11,13), 'd':{'a':2}}\n",
    "del(d1['s':'i'])       # slicing not possible\n",
    "print(d1)"
   ]
  },
  {
   "cell_type": "markdown",
   "id": "f4f45c96-9d12-4dff-9dd3-d2b448c2df2e",
   "metadata": {},
   "source": [
    "## **Indexing**"
   ]
  },
  {
   "cell_type": "markdown",
   "id": "ff9ed0dd-a0e4-423f-a2d0-ecefd2025e4d",
   "metadata": {},
   "source": [
    "**Indexing by positional rank not possible like in list or tuple. Here in the dictionary the key is used as an index.**"
   ]
  },
  {
   "cell_type": "code",
   "execution_count": 45,
   "id": "ae7a68a8-8433-43f5-bcd3-e5f5607914c1",
   "metadata": {},
   "outputs": [
    {
     "name": "stdout",
     "output_type": "stream",
     "text": [
      "(7, 6, 4)\n",
      "3\n",
      "5\n"
     ]
    }
   ],
   "source": [
    "d2 = {1:5, (2,3,4):3, 'r':(7,6,4)}\n",
    "#print(len(d2))\n",
    "print(d2['r'])            # value corresponding to the key 'r'.\n",
    "print(d2[(2,   3,  4  )])  # value corresponding to the key tuple (2,3,4). Notice the spaces added.\n",
    "print(d2[1])              # value corresponding to the key 1."
   ]
  },
  {
   "cell_type": "markdown",
   "id": "6274855b-e7f0-472e-94b5-15489832719c",
   "metadata": {},
   "source": [
    "## **Mutability**"
   ]
  },
  {
   "cell_type": "markdown",
   "id": "a2fc984f-fdaa-4ab7-b579-d98f74501585",
   "metadata": {},
   "source": [
    "**Dictionaries are mutable like list and unlike tuple.**"
   ]
  },
  {
   "cell_type": "code",
   "execution_count": 39,
   "id": "a336928e-bbc4-4bd2-8346-03aff0c93a33",
   "metadata": {},
   "outputs": [
    {
     "name": "stdout",
     "output_type": "stream",
     "text": [
      "{'s': 'str', 'i': 5, 'l': [5, 7, 3], 't': (9, 11, 13), 'd': {'a': 2}}\n"
     ]
    }
   ],
   "source": [
    "d1 = {'s':'str', 'i':5, 'l': [3,5,7], 't':(9,11,13), 'd':{'a':2}}\n",
    "d1['l'] = [5,7,3]\n",
    "print(d1)"
   ]
  },
  {
   "cell_type": "markdown",
   "id": "f34884a9-7f2b-45a7-a9b6-f8f240350ba3",
   "metadata": {},
   "source": [
    "## **Create a Dictionary**"
   ]
  },
  {
   "cell_type": "markdown",
   "id": "ef8e14df-b0fd-4ac1-8c94-c35370389774",
   "metadata": {},
   "source": [
    "### **# using _dict($^{**}$kwargs)_. We can pass keyword arguments as a parameter with the required values that will be keys and values of the dictionary. keyword arguments have the form _\"key = value\"_.**"
   ]
  },
  {
   "cell_type": "code",
   "execution_count": 66,
   "id": "1442a9dc-185e-41a3-8bf5-cbe855271744",
   "metadata": {},
   "outputs": [
    {
     "data": {
      "text/plain": [
       "{'s': 'str', 'i': 5, 'l': [3, 5, 7], 't': (9, 11, 13), 'd': {'a': 2}}"
      ]
     },
     "execution_count": 66,
     "metadata": {},
     "output_type": "execute_result"
    }
   ],
   "source": [
    "dict(s='str', i=5, l=[3,5,7], t=(9,11,13), d={'a':2}) # keys of keyword arguments can't be strings"
   ]
  },
  {
   "cell_type": "code",
   "execution_count": 62,
   "id": "3760d9aa-83a2-4476-92f3-d9ec9e46ad07",
   "metadata": {},
   "outputs": [
    {
     "ename": "SyntaxError",
     "evalue": "keyword can't be an expression (3347199275.py, line 1)",
     "output_type": "error",
     "traceback": [
      "\u001b[0;36m  File \u001b[0;32m\"/tmp/ipykernel_37456/3347199275.py\"\u001b[0;36m, line \u001b[0;32m1\u001b[0m\n\u001b[0;31m    dict(1=5, (2,3,4)=3, r=(7,6,4))\u001b[0m\n\u001b[0m        ^\u001b[0m\n\u001b[0;31mSyntaxError\u001b[0m\u001b[0;31m:\u001b[0m keyword can't be an expression\n"
     ]
    }
   ],
   "source": [
    "dict(1=5, (2,3,4)=3, r=(7,6,4))"
   ]
  },
  {
   "cell_type": "markdown",
   "id": "071e70c9-1c6d-41d7-8fa0-b7b5c9c4ab2a",
   "metadata": {},
   "source": [
    "### **# using _dict(iterable, $^{**}$kwargs)_. Elements of iterable should be (key, value) pairs in the form of tuple or list or set, but iterable itself can't be set. If the key of the dictionary is string then the key of the pair in the iterable should also be string unlike the keyword arguments.** "
   ]
  },
  {
   "cell_type": "code",
   "execution_count": 105,
   "id": "58ac3378-851c-4fd7-91eb-3afb8c17107b",
   "metadata": {},
   "outputs": [
    {
     "data": {
      "text/plain": [
       "{1: 5, (2, 3, 4): 3, 'r': (7, 6, 4)}"
      ]
     },
     "execution_count": 105,
     "metadata": {},
     "output_type": "execute_result"
    }
   ],
   "source": [
    "dict([(1,5), ((2,3,4),3)], r=(7,6,4))"
   ]
  },
  {
   "cell_type": "code",
   "execution_count": 106,
   "id": "6d2a9cac-51c6-47a2-80a4-d29d59080526",
   "metadata": {},
   "outputs": [
    {
     "data": {
      "text/plain": [
       "{1: 5, (2, 3, 4): 3, 'r': (7, 6, 4)}"
      ]
     },
     "execution_count": 106,
     "metadata": {},
     "output_type": "execute_result"
    }
   ],
   "source": [
    "dict(((1,5), ((2,3,4),3)), r=(7,6,4))"
   ]
  },
  {
   "cell_type": "code",
   "execution_count": 107,
   "id": "be93aae8-9b00-44d0-922c-abc46c287a44",
   "metadata": {},
   "outputs": [
    {
     "data": {
      "text/plain": [
       "{1: 5, (2, 3, 4): 3, 'r': (7, 6, 4)}"
      ]
     },
     "execution_count": 107,
     "metadata": {},
     "output_type": "execute_result"
    }
   ],
   "source": [
    "dict(((1,5), ((2,3,4),3), ('r',(7,6,4))))"
   ]
  },
  {
   "cell_type": "code",
   "execution_count": 108,
   "id": "f10e74c4-afb0-4f4d-bdfe-22e0d033dfd3",
   "metadata": {},
   "outputs": [
    {
     "data": {
      "text/plain": [
       "{1: 5, (2, 3, 4): 3, 'r': (7, 6, 4)}"
      ]
     },
     "execution_count": 108,
     "metadata": {},
     "output_type": "execute_result"
    }
   ],
   "source": [
    "tt = ((1,5), ((2,3,4),3), ('r',(7,6,4))) \n",
    "dict(tt)"
   ]
  },
  {
   "cell_type": "code",
   "execution_count": 109,
   "id": "b20f9439-d8ff-4850-bfc2-5e1c9aadec80",
   "metadata": {},
   "outputs": [
    {
     "data": {
      "text/plain": [
       "{1: 5, (2, 3, 4): 3, 'r': (7, 6, 4)}"
      ]
     },
     "execution_count": 109,
     "metadata": {},
     "output_type": "execute_result"
    }
   ],
   "source": [
    "tl = ([1,5], [(2,3,4),3], ['r',(7,6,4)])\n",
    "dict(tl)"
   ]
  },
  {
   "cell_type": "code",
   "execution_count": 110,
   "id": "581631f2-f7af-4d61-a421-875643a75e59",
   "metadata": {},
   "outputs": [
    {
     "data": {
      "text/plain": [
       "{1: 5, (2, 3, 4): 3, 'r': (7, 6, 4)}"
      ]
     },
     "execution_count": 110,
     "metadata": {},
     "output_type": "execute_result"
    }
   ],
   "source": [
    "lt = [(1,5), ((2,3,4),3), ('r',(7,6,4))] \n",
    "dict(lt)"
   ]
  },
  {
   "cell_type": "code",
   "execution_count": 111,
   "id": "3a4af238-2c69-4639-8607-29c305c7f972",
   "metadata": {},
   "outputs": [
    {
     "data": {
      "text/plain": [
       "{1: 5, (2, 3, 4): 3, 'r': (7, 6, 4)}"
      ]
     },
     "execution_count": 111,
     "metadata": {},
     "output_type": "execute_result"
    }
   ],
   "source": [
    "ll = [[1,5], [(2,3,4),3], ['r',(7,6,4)]]\n",
    "dict(ll)"
   ]
  },
  {
   "cell_type": "code",
   "execution_count": 112,
   "id": "0641be66-08b5-45ed-9546-aaa26ec952f0",
   "metadata": {},
   "outputs": [
    {
     "data": {
      "text/plain": [
       "{1: 5, (2, 3, 4): 3, (7, 6, 4): 'r'}"
      ]
     },
     "execution_count": 112,
     "metadata": {},
     "output_type": "execute_result"
    }
   ],
   "source": [
    "ts = ({1,5}, {(2,3,4),3}, {'r',(7,6,4)}) \n",
    "dict(ts)"
   ]
  },
  {
   "cell_type": "code",
   "execution_count": 113,
   "id": "d70dd55e-b4eb-46e1-bcca-5fd35ccadbf5",
   "metadata": {},
   "outputs": [
    {
     "data": {
      "text/plain": [
       "{1: 5, (2, 3, 4): 3, 'r': (7, 6, 4)}"
      ]
     },
     "execution_count": 113,
     "metadata": {},
     "output_type": "execute_result"
    }
   ],
   "source": [
    "st = {(1,5), ((2,3,4),3), ('r',(7,6,4))} \n",
    "dict(st)"
   ]
  },
  {
   "cell_type": "code",
   "execution_count": 114,
   "id": "e85699dd-6359-45a4-aa1b-4c1325ff0680",
   "metadata": {},
   "outputs": [
    {
     "data": {
      "text/plain": [
       "{1: 5, (2, 3, 4): 3, (7, 6, 4): 'r'}"
      ]
     },
     "execution_count": 114,
     "metadata": {},
     "output_type": "execute_result"
    }
   ],
   "source": [
    "ls = [{1,5}, {(2,3,4),3}, {'r',(7,6,4)}]\n",
    "dict(ls)"
   ]
  },
  {
   "cell_type": "code",
   "execution_count": 115,
   "id": "831cc635-cd8d-40ab-8b84-28f684815fe2",
   "metadata": {},
   "outputs": [
    {
     "ename": "TypeError",
     "evalue": "unhashable type: 'list'",
     "output_type": "error",
     "traceback": [
      "\u001b[0;31m---------------------------------------------------------------------------\u001b[0m",
      "\u001b[0;31mTypeError\u001b[0m                                 Traceback (most recent call last)",
      "\u001b[0;32m/tmp/ipykernel_37456/3080004438.py\u001b[0m in \u001b[0;36m<module>\u001b[0;34m\u001b[0m\n\u001b[0;32m----> 1\u001b[0;31m \u001b[0msl\u001b[0m \u001b[0;34m=\u001b[0m \u001b[0;34m{\u001b[0m\u001b[0;34m[\u001b[0m\u001b[0;36m1\u001b[0m\u001b[0;34m,\u001b[0m\u001b[0;36m5\u001b[0m\u001b[0;34m]\u001b[0m\u001b[0;34m,\u001b[0m \u001b[0;34m[\u001b[0m\u001b[0;34m(\u001b[0m\u001b[0;36m2\u001b[0m\u001b[0;34m,\u001b[0m\u001b[0;36m3\u001b[0m\u001b[0;34m,\u001b[0m\u001b[0;36m4\u001b[0m\u001b[0;34m)\u001b[0m\u001b[0;34m,\u001b[0m\u001b[0;36m3\u001b[0m\u001b[0;34m]\u001b[0m\u001b[0;34m,\u001b[0m \u001b[0;34m[\u001b[0m\u001b[0;34m'r'\u001b[0m\u001b[0;34m,\u001b[0m\u001b[0;34m(\u001b[0m\u001b[0;36m7\u001b[0m\u001b[0;34m,\u001b[0m\u001b[0;36m6\u001b[0m\u001b[0;34m,\u001b[0m\u001b[0;36m4\u001b[0m\u001b[0;34m)\u001b[0m\u001b[0;34m]\u001b[0m\u001b[0;34m}\u001b[0m \u001b[0;31m# iterable can't be set\u001b[0m\u001b[0;34m\u001b[0m\u001b[0;34m\u001b[0m\u001b[0m\n\u001b[0m\u001b[1;32m      2\u001b[0m \u001b[0mdict\u001b[0m\u001b[0;34m(\u001b[0m\u001b[0msl\u001b[0m\u001b[0;34m)\u001b[0m\u001b[0;34m\u001b[0m\u001b[0;34m\u001b[0m\u001b[0m\n",
      "\u001b[0;31mTypeError\u001b[0m: unhashable type: 'list'"
     ]
    }
   ],
   "source": [
    "sl = {[1,5], [(2,3,4),3], ['r',(7,6,4)]} # iterable can't be set\n",
    "dict(sl)"
   ]
  },
  {
   "cell_type": "code",
   "execution_count": 116,
   "id": "1e20793e-fe09-4a1c-bd10-dcfde0521e98",
   "metadata": {},
   "outputs": [
    {
     "ename": "TypeError",
     "evalue": "unhashable type: 'set'",
     "output_type": "error",
     "traceback": [
      "\u001b[0;31m---------------------------------------------------------------------------\u001b[0m",
      "\u001b[0;31mTypeError\u001b[0m                                 Traceback (most recent call last)",
      "\u001b[0;32m/tmp/ipykernel_37456/180175661.py\u001b[0m in \u001b[0;36m<module>\u001b[0;34m\u001b[0m\n\u001b[0;32m----> 1\u001b[0;31m \u001b[0mss\u001b[0m \u001b[0;34m=\u001b[0m \u001b[0;34m{\u001b[0m\u001b[0;34m{\u001b[0m\u001b[0;36m1\u001b[0m\u001b[0;34m,\u001b[0m\u001b[0;36m5\u001b[0m\u001b[0;34m}\u001b[0m\u001b[0;34m,\u001b[0m \u001b[0;34m{\u001b[0m\u001b[0;34m(\u001b[0m\u001b[0;36m2\u001b[0m\u001b[0;34m,\u001b[0m\u001b[0;36m3\u001b[0m\u001b[0;34m,\u001b[0m\u001b[0;36m4\u001b[0m\u001b[0;34m)\u001b[0m\u001b[0;34m,\u001b[0m\u001b[0;36m3\u001b[0m\u001b[0;34m}\u001b[0m\u001b[0;34m,\u001b[0m \u001b[0;34m{\u001b[0m\u001b[0;34m'r'\u001b[0m\u001b[0;34m,\u001b[0m\u001b[0;34m(\u001b[0m\u001b[0;36m7\u001b[0m\u001b[0;34m,\u001b[0m\u001b[0;36m6\u001b[0m\u001b[0;34m,\u001b[0m\u001b[0;36m4\u001b[0m\u001b[0;34m)\u001b[0m\u001b[0;34m}\u001b[0m\u001b[0;34m}\u001b[0m \u001b[0;31m# iterable can't be set\u001b[0m\u001b[0;34m\u001b[0m\u001b[0;34m\u001b[0m\u001b[0m\n\u001b[0m\u001b[1;32m      2\u001b[0m \u001b[0mdict\u001b[0m\u001b[0;34m(\u001b[0m\u001b[0mss\u001b[0m\u001b[0;34m)\u001b[0m\u001b[0;34m\u001b[0m\u001b[0;34m\u001b[0m\u001b[0m\n",
      "\u001b[0;31mTypeError\u001b[0m: unhashable type: 'set'"
     ]
    }
   ],
   "source": [
    "ss = {{1,5}, {(2,3,4),3}, {'r',(7,6,4)}} # iterable can't be set\n",
    "dict(ss)"
   ]
  },
  {
   "cell_type": "code",
   "execution_count": 117,
   "id": "4acfe84f-e57a-458e-8e45-7ca531e5900a",
   "metadata": {},
   "outputs": [
    {
     "ename": "TypeError",
     "evalue": "unhashable type: 'set'",
     "output_type": "error",
     "traceback": [
      "\u001b[0;31m---------------------------------------------------------------------------\u001b[0m",
      "\u001b[0;31mTypeError\u001b[0m                                 Traceback (most recent call last)",
      "\u001b[0;32m/tmp/ipykernel_37456/200522706.py\u001b[0m in \u001b[0;36m<module>\u001b[0;34m\u001b[0m\n\u001b[1;32m      1\u001b[0m \u001b[0mll\u001b[0m \u001b[0;34m=\u001b[0m \u001b[0;34m[\u001b[0m\u001b[0;34m[\u001b[0m\u001b[0;36m1\u001b[0m\u001b[0;34m,\u001b[0m\u001b[0;36m5\u001b[0m\u001b[0;34m]\u001b[0m\u001b[0;34m,\u001b[0m \u001b[0;34m[\u001b[0m\u001b[0;34m{\u001b[0m\u001b[0;36m2\u001b[0m\u001b[0;34m,\u001b[0m\u001b[0;36m3\u001b[0m\u001b[0;34m,\u001b[0m\u001b[0;36m4\u001b[0m\u001b[0;34m}\u001b[0m\u001b[0;34m,\u001b[0m\u001b[0;36m3\u001b[0m\u001b[0;34m]\u001b[0m\u001b[0;34m,\u001b[0m \u001b[0;34m[\u001b[0m\u001b[0;34m'r'\u001b[0m\u001b[0;34m,\u001b[0m\u001b[0;34m(\u001b[0m\u001b[0;36m7\u001b[0m\u001b[0;34m,\u001b[0m\u001b[0;36m6\u001b[0m\u001b[0;34m,\u001b[0m\u001b[0;36m4\u001b[0m\u001b[0;34m)\u001b[0m\u001b[0;34m]\u001b[0m\u001b[0;34m]\u001b[0m \u001b[0;31m# key can't be set or any mutable object\u001b[0m\u001b[0;34m\u001b[0m\u001b[0;34m\u001b[0m\u001b[0m\n\u001b[0;32m----> 2\u001b[0;31m \u001b[0mdict\u001b[0m\u001b[0;34m(\u001b[0m\u001b[0mll\u001b[0m\u001b[0;34m)\u001b[0m\u001b[0;34m\u001b[0m\u001b[0;34m\u001b[0m\u001b[0m\n\u001b[0m",
      "\u001b[0;31mTypeError\u001b[0m: unhashable type: 'set'"
     ]
    }
   ],
   "source": [
    "ll = [[1,5], [{2,3,4},3], ['r',(7,6,4)]] # key can't be set or any mutable object\n",
    "dict(ll)"
   ]
  },
  {
   "cell_type": "code",
   "execution_count": 118,
   "id": "ab68012a-93b5-419c-96cd-e27a973b8bc9",
   "metadata": {},
   "outputs": [
    {
     "data": {
      "text/plain": [
       "{1: 5, (2, 3, 4): 3, 'r': {4, 6, 7}}"
      ]
     },
     "execution_count": 118,
     "metadata": {},
     "output_type": "execute_result"
    }
   ],
   "source": [
    "ll = [[1,5], [(2,3,4),3], ['r',{7,6,4}]] # value can be set or any mutable object\n",
    "dict(ll)"
   ]
  },
  {
   "cell_type": "markdown",
   "id": "1e1cf45a-767b-4336-8cf3-fedf70acd4d0",
   "metadata": {},
   "source": [
    "### **# using _dict(mapping, $^{**}$kwargs)_.**"
   ]
  },
  {
   "cell_type": "code",
   "execution_count": 124,
   "id": "16584141-6268-4eab-af79-daa1d581612d",
   "metadata": {},
   "outputs": [
    {
     "data": {
      "text/plain": [
       "{1: 5, (2, 3, 4): 3, 'r': (4, 6, 7), 'i': 5, 'l': [3, 5, 7], 'd': {'a': 2}}"
      ]
     },
     "execution_count": 124,
     "metadata": {},
     "output_type": "execute_result"
    }
   ],
   "source": [
    "dict({1: 5, (2, 3, 4): 3, 'r': (4, 6, 7)}, i=5, l=[3,5,7], d={'a':2}, )"
   ]
  },
  {
   "cell_type": "markdown",
   "id": "1daa7bc4-862d-4b7c-8493-49d6f86b3fa4",
   "metadata": {},
   "source": [
    "## **Methods on Dictionary**"
   ]
  },
  {
   "cell_type": "code",
   "execution_count": 126,
   "id": "b69be586-a1b9-4371-ad59-e95eaef2a243",
   "metadata": {},
   "outputs": [
    {
     "name": "stdout",
     "output_type": "stream",
     "text": [
      "['__class__', '__contains__', '__delattr__', '__delitem__', '__dir__', '__doc__', '__eq__', '__format__', '__ge__', '__getattribute__', '__getitem__', '__gt__', '__hash__', '__init__', '__init_subclass__', '__iter__', '__le__', '__len__', '__lt__', '__ne__', '__new__', '__reduce__', '__reduce_ex__', '__repr__', '__setattr__', '__setitem__', '__sizeof__', '__str__', '__subclasshook__', 'clear', 'copy', 'fromkeys', 'get', 'items', 'keys', 'pop', 'popitem', 'setdefault', 'update', 'values']\n"
     ]
    }
   ],
   "source": [
    "print(dir(dict))"
   ]
  },
  {
   "cell_type": "markdown",
   "id": "b91c9399-07c4-49aa-a8af-a2484399d800",
   "metadata": {},
   "source": [
    "### **# Items, keys, and values of the dictionary**"
   ]
  },
  {
   "cell_type": "code",
   "execution_count": 139,
   "id": "39722ea5-6e8f-48a3-b9fd-ead79cae3aad",
   "metadata": {},
   "outputs": [
    {
     "data": {
      "text/plain": [
       "dict_items([(1, 5), ((2, 3, 4), 3), ('r', (7, 6, 4))])"
      ]
     },
     "execution_count": 139,
     "metadata": {},
     "output_type": "execute_result"
    }
   ],
   "source": [
    "#help(dict.items)\n",
    "d2 = {1:5, (2,3,4):3, 'r':(7,6,4)}\n",
    "d2.items()         # gives pair of keys and values of the dictionary as iterable "
   ]
  },
  {
   "cell_type": "code",
   "execution_count": 140,
   "id": "76ffdcf9-cfe2-464a-ae6d-cf0aa02ff62e",
   "metadata": {},
   "outputs": [
    {
     "data": {
      "text/plain": [
       "dict_keys([1, (2, 3, 4), 'r'])"
      ]
     },
     "execution_count": 140,
     "metadata": {},
     "output_type": "execute_result"
    }
   ],
   "source": [
    "#help(dict.keys)\n",
    "d2 = {1:5, (2,3,4):3, 'r':(7,6,4)}\n",
    "d2.keys()                   # gives keys of the dictionary only as iterable       "
   ]
  },
  {
   "cell_type": "code",
   "execution_count": 141,
   "id": "9e49e8c7-d0b7-421a-8f0a-074eac010ba2",
   "metadata": {},
   "outputs": [
    {
     "data": {
      "text/plain": [
       "dict_values([5, 3, (7, 6, 4)])"
      ]
     },
     "execution_count": 141,
     "metadata": {},
     "output_type": "execute_result"
    }
   ],
   "source": [
    "#help(dict.values)\n",
    "d2 = {1:5, (2,3,4):3, 'r':(7,6,4)}\n",
    "d2.values()                 # gives values of the dictionary only as iterable "
   ]
  },
  {
   "cell_type": "code",
   "execution_count": null,
   "id": "fad72ce9-a657-4d16-9441-0f11d352473f",
   "metadata": {},
   "outputs": [],
   "source": []
  }
 ],
 "metadata": {
  "kernelspec": {
   "display_name": "Python 3 (ipykernel)",
   "language": "python",
   "name": "python3"
  },
  "language_info": {
   "codemirror_mode": {
    "name": "ipython",
    "version": 3
   },
   "file_extension": ".py",
   "mimetype": "text/x-python",
   "name": "python",
   "nbconvert_exporter": "python",
   "pygments_lexer": "ipython3",
   "version": "3.7.9"
  }
 },
 "nbformat": 4,
 "nbformat_minor": 5
}
