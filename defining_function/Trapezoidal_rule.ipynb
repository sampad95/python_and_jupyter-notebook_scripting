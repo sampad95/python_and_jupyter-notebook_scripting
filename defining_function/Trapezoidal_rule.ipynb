{
 "cells": [
  {
   "cell_type": "code",
   "execution_count": 11,
   "id": "7a6828ad-3bcd-47b0-9071-1a0a166cdb69",
   "metadata": {
    "tags": []
   },
   "outputs": [],
   "source": [
    "def Trapezoidal(a, b, n):\n",
    "    h = (b-a)/n\n",
    "    s = 0\n",
    "    for i in range(1,n+1):\n",
    "        s += h*(f(a+(i-1)*h) + f(a + i*h))/2\n",
    "        \n",
    "    return s"
   ]
  },
  {
   "cell_type": "code",
   "execution_count": 12,
   "id": "47d8fc77-afbc-4b31-8f01-e5cabafc9087",
   "metadata": {
    "tags": []
   },
   "outputs": [],
   "source": [
    "def f(x):\n",
    "    return (x-8)**2"
   ]
  },
  {
   "cell_type": "code",
   "execution_count": 13,
   "id": "9c25f1b4-d827-4547-b70d-1cbe58915060",
   "metadata": {
    "tags": []
   },
   "outputs": [
    {
     "data": {
      "text/plain": [
       "114.00360000000005"
      ]
     },
     "execution_count": 13,
     "metadata": {},
     "output_type": "execute_result"
    }
   ],
   "source": [
    "Trapezoidal(1, 7, 100)"
   ]
  },
  {
   "cell_type": "code",
   "execution_count": null,
   "id": "24e93d7a-254c-4ea6-ac4e-c2ccfee57462",
   "metadata": {},
   "outputs": [],
   "source": []
  }
 ],
 "metadata": {
  "kernelspec": {
   "display_name": "Python 3 (ipykernel)",
   "language": "python",
   "name": "python3"
  },
  "language_info": {
   "codemirror_mode": {
    "name": "ipython",
    "version": 3
   },
   "file_extension": ".py",
   "mimetype": "text/x-python",
   "name": "python",
   "nbconvert_exporter": "python",
   "pygments_lexer": "ipython3",
   "version": "3.7.9"
  }
 },
 "nbformat": 4,
 "nbformat_minor": 5
}
