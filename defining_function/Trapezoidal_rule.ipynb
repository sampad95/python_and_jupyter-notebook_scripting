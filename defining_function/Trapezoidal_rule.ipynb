{
 "cells": [
  {
   "cell_type": "code",
   "execution_count": 1,
   "id": "7a6828ad-3bcd-47b0-9071-1a0a166cdb69",
   "metadata": {
    "tags": []
   },
   "outputs": [],
   "source": [
    "def Trapezoidal(a, b, n):\n",
    "    h = (b-a)/n\n",
    "    s = 0\n",
    "    for i in range(1,n+1):\n",
    "        s += h*(f(a+(i-1)*h) + f(a + i*h))/2\n",
    "        \n",
    "    return s"
   ]
  },
  {
   "cell_type": "code",
   "execution_count": 2,
   "id": "8f8c1d58-e048-439b-8fa9-55b1ea2c8933",
   "metadata": {
    "tags": []
   },
   "outputs": [],
   "source": [
    "def Trapezoidal2(a, b, n):\n",
    "    import numpy as np\n",
    "    h = (b-a)/n\n",
    "    y = np.linspace(a, b, n+1)\n",
    "    s = h*(f(a) + 2*sum(f(y[1:n:1])) + f(b))/2\n",
    "    \n",
    "    return s"
   ]
  },
  {
   "cell_type": "code",
   "execution_count": 3,
   "id": "47d8fc77-afbc-4b31-8f01-e5cabafc9087",
   "metadata": {
    "tags": []
   },
   "outputs": [],
   "source": [
    "def f(x):\n",
    "    return (x-8)**2"
   ]
  },
  {
   "cell_type": "code",
   "execution_count": 4,
   "id": "9c25f1b4-d827-4547-b70d-1cbe58915060",
   "metadata": {
    "tags": []
   },
   "outputs": [
    {
     "data": {
      "text/plain": [
       "114.00000000000601"
      ]
     },
     "execution_count": 4,
     "metadata": {},
     "output_type": "execute_result"
    }
   ],
   "source": [
    "Trapezoidal2(1, 7, 100000000)"
   ]
  },
  {
   "cell_type": "code",
   "execution_count": 5,
   "id": "ac977110-9598-4c37-8e59-8bc771605e67",
   "metadata": {
    "tags": []
   },
   "outputs": [
    {
     "data": {
      "text/plain": [
       "113.99999999998636"
      ]
     },
     "execution_count": 5,
     "metadata": {},
     "output_type": "execute_result"
    }
   ],
   "source": [
    "Trapezoidal(1, 7, 100000000)"
   ]
  },
  {
   "cell_type": "code",
   "execution_count": 7,
   "id": "6587dfb6-6f88-4f94-83d9-b87f96c5954d",
   "metadata": {
    "tags": []
   },
   "outputs": [],
   "source": [
    "import numpy as np"
   ]
  },
  {
   "cell_type": "code",
   "execution_count": 8,
   "id": "cd8ca3b0-5ad5-4f71-827d-6a61b8b174ca",
   "metadata": {
    "tags": []
   },
   "outputs": [],
   "source": [
    "p = np.linspace(1, 7, 100+1)"
   ]
  },
  {
   "cell_type": "code",
   "execution_count": 10,
   "id": "304c8ac3-5ce6-4d16-afd4-addb79309204",
   "metadata": {
    "tags": []
   },
   "outputs": [
    {
     "name": "stdout",
     "output_type": "stream",
     "text": [
      "[1.   1.06 1.12 1.18 1.24 1.3  1.36 1.42 1.48 1.54 1.6  1.66 1.72 1.78\n",
      " 1.84 1.9  1.96 2.02 2.08 2.14 2.2  2.26 2.32 2.38 2.44 2.5  2.56 2.62\n",
      " 2.68 2.74 2.8  2.86 2.92 2.98 3.04 3.1  3.16 3.22 3.28 3.34 3.4  3.46\n",
      " 3.52 3.58 3.64 3.7  3.76 3.82 3.88 3.94 4.   4.06 4.12 4.18 4.24 4.3\n",
      " 4.36 4.42 4.48 4.54 4.6  4.66 4.72 4.78 4.84 4.9  4.96 5.02 5.08 5.14\n",
      " 5.2  5.26 5.32 5.38 5.44 5.5  5.56 5.62 5.68 5.74 5.8  5.86 5.92 5.98\n",
      " 6.04 6.1  6.16 6.22 6.28 6.34 6.4  6.46 6.52 6.58 6.64 6.7  6.76 6.82\n",
      " 6.88 6.94 7.  ]\n"
     ]
    }
   ],
   "source": [
    "type(p)\n",
    "print(p)"
   ]
  },
  {
   "cell_type": "code",
   "execution_count": 13,
   "id": "3590b9d7-b661-4872-9aee-13c85dfe3868",
   "metadata": {
    "tags": []
   },
   "outputs": [
    {
     "ename": "TypeError",
     "evalue": "'float' object cannot be interpreted as an integer",
     "output_type": "error",
     "traceback": [
      "\u001b[0;31m---------------------------------------------------------------------------\u001b[0m",
      "\u001b[0;31mTypeError\u001b[0m                                 Traceback (most recent call last)",
      "\u001b[0;32m/tmp/ipykernel_682116/2335807957.py\u001b[0m in \u001b[0;36m<module>\u001b[0;34m\u001b[0m\n\u001b[0;32m----> 1\u001b[0;31m \u001b[0my\u001b[0m \u001b[0;34m=\u001b[0m \u001b[0mrange\u001b[0m\u001b[0;34m(\u001b[0m\u001b[0;36m1.0\u001b[0m\u001b[0;34m,\u001b[0m \u001b[0;36m7.0\u001b[0m\u001b[0;34m,\u001b[0m \u001b[0;36m0.6\u001b[0m\u001b[0;34m)\u001b[0m\u001b[0;34m\u001b[0m\u001b[0;34m\u001b[0m\u001b[0m\n\u001b[0m",
      "\u001b[0;31mTypeError\u001b[0m: 'float' object cannot be interpreted as an integer"
     ]
    }
   ],
   "source": [
    "y = range(1.0, 7.0, 0.6)"
   ]
  },
  {
   "cell_type": "code",
   "execution_count": null,
   "id": "4b2735e8-f9fd-4050-b717-caeb0d5cb798",
   "metadata": {},
   "outputs": [],
   "source": []
  }
 ],
 "metadata": {
  "kernelspec": {
   "display_name": "Python 3 (ipykernel)",
   "language": "python",
   "name": "python3"
  },
  "language_info": {
   "codemirror_mode": {
    "name": "ipython",
    "version": 3
   },
   "file_extension": ".py",
   "mimetype": "text/x-python",
   "name": "python",
   "nbconvert_exporter": "python",
   "pygments_lexer": "ipython3",
   "version": "3.7.9"
  }
 },
 "nbformat": 4,
 "nbformat_minor": 5
}
