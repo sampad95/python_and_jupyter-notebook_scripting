{
 "cells": [
  {
   "cell_type": "code",
   "execution_count": 1,
   "id": "8f8c1d58-e048-439b-8fa9-55b1ea2c8933",
   "metadata": {
    "tags": []
   },
   "outputs": [],
   "source": [
    "def Trapezoidal(f, a, b, n):\n",
    "    import numpy as np\n",
    "    h = (b-a)/n\n",
    "    # y = np.linspace(a, b, n+1)\n",
    "    # s = h*(f(a) + 2*sum(f(y[1:n:1])) + f(b))/2   # faster\n",
    "    y = np.arange(a, b, h)\n",
    "    s = h*(f(a) + 2*sum(f(y[1::])) + f(b))/2    # faster\n",
    "    \n",
    "    return s"
   ]
  },
  {
   "cell_type": "code",
   "execution_count": 2,
   "id": "7a6828ad-3bcd-47b0-9071-1a0a166cdb69",
   "metadata": {
    "tags": []
   },
   "outputs": [],
   "source": [
    "# def Trapezoidal2(f, a, b, n):\n",
    "#     h = (b-a)/n\n",
    "#     s = 0\n",
    "#     for i in range(1,n+1):\n",
    "#         s += h*(f(a+(i-1)*h) + f(a + i*h))/2     # slower\n",
    "        \n",
    "#     return s"
   ]
  },
  {
   "cell_type": "code",
   "execution_count": 3,
   "id": "47d8fc77-afbc-4b31-8f01-e5cabafc9087",
   "metadata": {
    "tags": []
   },
   "outputs": [],
   "source": [
    "def g(x):\n",
    "    return (x-8)**2"
   ]
  },
  {
   "cell_type": "code",
   "execution_count": 4,
   "id": "9c25f1b4-d827-4547-b70d-1cbe58915060",
   "metadata": {
    "tags": []
   },
   "outputs": [
    {
     "data": {
      "text/plain": [
       "114.0000359999999"
      ]
     },
     "execution_count": 4,
     "metadata": {},
     "output_type": "execute_result"
    }
   ],
   "source": [
    "Trapezoidal(g, 1, 7, 1000)"
   ]
  },
  {
   "cell_type": "code",
   "execution_count": 5,
   "id": "ac977110-9598-4c37-8e59-8bc771605e67",
   "metadata": {
    "tags": []
   },
   "outputs": [
    {
     "data": {
      "text/plain": [
       "114.00000000369198"
      ]
     },
     "execution_count": 5,
     "metadata": {},
     "output_type": "execute_result"
    }
   ],
   "source": [
    "Trapezoidal(g, 1, 7, 100000)"
   ]
  },
  {
   "cell_type": "code",
   "execution_count": null,
   "id": "4b2735e8-f9fd-4050-b717-caeb0d5cb798",
   "metadata": {},
   "outputs": [],
   "source": []
  }
 ],
 "metadata": {
  "kernelspec": {
   "display_name": "Python 3 (ipykernel)",
   "language": "python",
   "name": "python3"
  },
  "language_info": {
   "codemirror_mode": {
    "name": "ipython",
    "version": 3
   },
   "file_extension": ".py",
   "mimetype": "text/x-python",
   "name": "python",
   "nbconvert_exporter": "python",
   "pygments_lexer": "ipython3",
   "version": "3.10.9"
  }
 },
 "nbformat": 4,
 "nbformat_minor": 5
}
