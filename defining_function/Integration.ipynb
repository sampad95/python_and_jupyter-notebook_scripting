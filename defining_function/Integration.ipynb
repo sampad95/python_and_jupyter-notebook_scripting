{
 "cells": [
  {
   "cell_type": "code",
   "execution_count": 18,
   "id": "52c49a21-1a13-45ba-90d0-aca167914b78",
   "metadata": {
    "tags": []
   },
   "outputs": [],
   "source": [
    "class integration:\n",
    "    \n",
    "    \"Sum rules for integration of a function\"\n",
    "    \n",
    "    def __init__(self, a, b, n):\n",
    "        self.a = a\n",
    "        self.b = b\n",
    "        self.n = n\n",
    "        self.h = (self.b - self.a)/self.n\n",
    "        self.s = 0\n",
    "        \n",
    "    def Riemann(self, method=None):\n",
    "        if method == None:\n",
    "            for i in range(1,self.n+1):\n",
    "                self.s += self.h*f(self.a + ((2*i-1)/2)*self.h)\n",
    "        elif method == 'left':\n",
    "            for i in range(self.n):\n",
    "                self.s += self.h*f(self.a + i*self.h)\n",
    "        elif method == 'right':\n",
    "            for i in range(1,self.n+1):\n",
    "                self.s += self.h*f(self.a + i*self.h)\n",
    "        elif method == 'mid':\n",
    "            for i in range(1,self.n+1):\n",
    "                self.s += self.h*f(self.a + ((2*i-1)/2)*self.h)\n",
    "                \n",
    "        return self.s\n",
    "                \n",
    "    def Trapezoidal(self):\n",
    "        \n",
    "        import numpy as np\n",
    "        # for i in range(1,self.n+1):\n",
    "        #     self.s += self.h*(f(self.a+(i-1)*self.h) + f(self.a + i*self.h))/2\n",
    "            \n",
    "        self.y = np.linspace(self.a, self.b, self.n+1)\n",
    "        self.s = self.h*(f(self.a) + 2*sum(f(self.y[1:self.n:1])) + f(self.b))/2      \n",
    "        \n",
    "        return self.s"
   ]
  },
  {
   "cell_type": "code",
   "execution_count": 19,
   "id": "a5ed5ee6-ffa7-4d82-88cc-1503bb9d2cc1",
   "metadata": {
    "tags": []
   },
   "outputs": [],
   "source": [
    "def f(x):\n",
    "    return (x-8)**2"
   ]
  },
  {
   "cell_type": "code",
   "execution_count": 3,
   "id": "974e7e97-622b-487e-97dd-0ea8bbd35f70",
   "metadata": {
    "tags": []
   },
   "outputs": [
    {
     "data": {
      "text/plain": [
       "'Sum rules for integration of a function'"
      ]
     },
     "execution_count": 3,
     "metadata": {},
     "output_type": "execute_result"
    }
   ],
   "source": [
    "integration.__doc__"
   ]
  },
  {
   "cell_type": "code",
   "execution_count": 20,
   "id": "45a3ee2a-44c3-47c1-bd08-8e7914bbf222",
   "metadata": {
    "tags": []
   },
   "outputs": [
    {
     "data": {
      "text/plain": [
       "113.99820000000001"
      ]
     },
     "execution_count": 20,
     "metadata": {},
     "output_type": "execute_result"
    }
   ],
   "source": [
    "integration(1, 7, 100).Riemann()"
   ]
  },
  {
   "cell_type": "code",
   "execution_count": 21,
   "id": "efaae09c-6761-4eb0-ad38-00b2bb1f3ba5",
   "metadata": {
    "tags": []
   },
   "outputs": [
    {
     "data": {
      "text/plain": [
       "115.44359999999996"
      ]
     },
     "execution_count": 21,
     "metadata": {},
     "output_type": "execute_result"
    }
   ],
   "source": [
    "integration(1, 7, 100).Riemann(method = \"left\")"
   ]
  },
  {
   "cell_type": "code",
   "execution_count": 30,
   "id": "d5fee9a4-19f8-417c-b11f-f829a207fbab",
   "metadata": {
    "tags": []
   },
   "outputs": [
    {
     "data": {
      "text/plain": [
       "113.99999855993661"
      ]
     },
     "execution_count": 30,
     "metadata": {},
     "output_type": "execute_result"
    }
   ],
   "source": [
    "integration(1, 7, 100000000).Riemann(method = \"right\")"
   ]
  },
  {
   "cell_type": "code",
   "execution_count": 29,
   "id": "cfd3a1ce-2a7d-4431-abd6-a9559f824027",
   "metadata": {
    "tags": []
   },
   "outputs": [
    {
     "data": {
      "text/plain": [
       "113.99999999998637"
      ]
     },
     "execution_count": 29,
     "metadata": {},
     "output_type": "execute_result"
    }
   ],
   "source": [
    "integration(1, 7, 100000000).Riemann(method = \"mid\")"
   ]
  },
  {
   "cell_type": "code",
   "execution_count": 28,
   "id": "cf5d4039-1f5a-4123-81f2-816e695946ae",
   "metadata": {
    "tags": []
   },
   "outputs": [
    {
     "data": {
      "text/plain": [
       "114.00000000000601"
      ]
     },
     "execution_count": 28,
     "metadata": {},
     "output_type": "execute_result"
    }
   ],
   "source": [
    "integration(1, 7, 100000000).Trapezoidal()"
   ]
  },
  {
   "cell_type": "code",
   "execution_count": null,
   "id": "b1094ed7-fb06-45a8-8016-69c49539b222",
   "metadata": {},
   "outputs": [],
   "source": []
  }
 ],
 "metadata": {
  "kernelspec": {
   "display_name": "Python 3 (ipykernel)",
   "language": "python",
   "name": "python3"
  },
  "language_info": {
   "codemirror_mode": {
    "name": "ipython",
    "version": 3
   },
   "file_extension": ".py",
   "mimetype": "text/x-python",
   "name": "python",
   "nbconvert_exporter": "python",
   "pygments_lexer": "ipython3",
   "version": "3.7.9"
  }
 },
 "nbformat": 4,
 "nbformat_minor": 5
}
