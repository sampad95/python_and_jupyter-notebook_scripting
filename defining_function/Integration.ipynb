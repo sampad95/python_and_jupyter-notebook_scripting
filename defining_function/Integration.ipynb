{
 "cells": [
  {
   "cell_type": "code",
   "execution_count": 1,
   "id": "9818355b-2156-4bd0-90b3-a34bcdc6132d",
   "metadata": {
    "tags": []
   },
   "outputs": [],
   "source": [
    "# class integration:\n",
    "    \n",
    "#     \"Sum rules for integration of a function\"\n",
    "    \n",
    "#     def __init__(self):\n",
    "#         \"This is a class of integration\"\n",
    "        \n",
    "#     def Riemann(self, f, a, b, n, method=None):\n",
    "#         import numpy as np\n",
    "#         h = (b-a)/n\n",
    "        \n",
    "#         if method == None:\n",
    "#             y = np.arange(a, b, h)\n",
    "#             s = h*sum(f(y+h/2))              # faster\n",
    "#         elif method == 'left':\n",
    "#             y = np.arange(a, b-h, h)\n",
    "#             s = h*(f(a) + sum(self.f(y+h)))       # faster\n",
    "#         elif method == 'right':\n",
    "#             y = np.arange(a, b, h)\n",
    "#             s = h*sum(f(y+h))                # faster\n",
    "#         elif method == 'mid':\n",
    "#             y = np.arange(a, b, h)\n",
    "#             s = h*sum(f(y+h/2))              # faster\n",
    "                \n",
    "#         return s\n",
    "                \n",
    "#     def Trapezoidal(self, f, a, b, n):\n",
    "        \n",
    "#         import numpy as np\n",
    "        \n",
    "#         h = (b-a)/n\n",
    "        \n",
    "#         # y = np.linspace(a, b, n+1)\n",
    "#         # s = h*(f(a) + 2*sum(f(y[1:n:1])) + f(.b))/2  # faster\n",
    "        \n",
    "#         y = np.arange(a, b, h)\n",
    "#         s = h*(f(a) + 2*sum(f(y[1::])) + f(b))/2    # faster\n",
    "        \n",
    "#         return s\n",
    "    \n",
    "#     def Simpson1_3(self, f, a, b, n):\n",
    "        \n",
    "#         import numpy as np\n",
    "        \n",
    "#         h = (b-a)/n\n",
    "        \n",
    "#         # y = np.linspace(a, b, n+1)\n",
    "#         y = np.arange(a, b, h)\n",
    "#         s = (h/3)*(f(a) + 4*sum(f(y[1:n:2])) + 2*sum(f(y[2:n-1:2])) + f(b))\n",
    "    \n",
    "#         return s\n",
    "    "
   ]
  },
  {
   "cell_type": "code",
   "execution_count": 2,
   "id": "52c49a21-1a13-45ba-90d0-aca167914b78",
   "metadata": {
    "tags": []
   },
   "outputs": [],
   "source": [
    "# class integration2:\n",
    "    \n",
    "#     \"Sum rules for integration of a function\"\n",
    "    \n",
    "#     def __init__(self, f):\n",
    "#         self.f = f\n",
    "        \n",
    "#     def Riemann(self, a, b, n, method=None):\n",
    "#         import numpy as np\n",
    "#         h = (b-a)/n\n",
    "        \n",
    "#         if method == None:\n",
    "#             y = np.arange(a, b, h)\n",
    "#             s = h*sum(self.f(y+h/2))              # faster\n",
    "#         elif method == 'left':\n",
    "#             y = np.arange(a, b-h, h)\n",
    "#             s = h*(self.f(a) + sum(self.f(y+h)))       # faster\n",
    "#         elif method == 'right':\n",
    "#             y = np.arange(a, b, h)\n",
    "#             s = h*sum(self.f(y+h))                # faster\n",
    "#         elif method == 'mid':\n",
    "#             y = np.arange(a, b, h)\n",
    "#             s = h*sum(self.f(y+h/2))              # faster\n",
    "                \n",
    "#         return s\n",
    "                \n",
    "#     def Trapezoidal(self, a, b, n):\n",
    "        \n",
    "#         import numpy as np\n",
    "        \n",
    "#         h = (b-a)/n\n",
    "        \n",
    "#         # y = np.linspace(a, b, n+1)\n",
    "#         # s = h*(self.f(a) + 2*sum(self.f(y[1:n:1])) + self.f(.b))/2  # faster\n",
    "        \n",
    "#         y = np.arange(a, b, h)\n",
    "#         s = h*(self.f(a) + 2*sum(self.f(y[1::])) + self.f(b))/2    # faster\n",
    "        \n",
    "#         return s\n",
    "    \n",
    "#     def Simpson1_3(self, a, b, n):\n",
    "        \n",
    "#         import numpy as np\n",
    "        \n",
    "#         h = (b-a)/n\n",
    "        \n",
    "#         # y = np.linspace(a, b, n+1)\n",
    "#         y = np.arange(a, b, h)\n",
    "#         s = (h/3)*(self.f(a) + 4*sum(self.f(y[1:n:2])) + 2*sum(self.f(y[2:n-1:2])) + self.f(b))\n",
    "    \n",
    "#         return s"
   ]
  },
  {
   "cell_type": "code",
   "execution_count": 3,
   "id": "382ef2de-9558-41e9-9ccf-41699f06179d",
   "metadata": {
    "tags": []
   },
   "outputs": [],
   "source": [
    "# class integration3:\n",
    "    \n",
    "#     \"Sum rules for integration of a function\"\n",
    "    \n",
    "#     def __init__(self, f, a, b, n):\n",
    "#         self.f = f\n",
    "#         self.a = a\n",
    "#         self.b = b\n",
    "#         self.n = n\n",
    "#         self.h = (self.b - self.a)/self.n\n",
    "        \n",
    "#     def Riemann(self, method=None):\n",
    "#         import numpy as np\n",
    "        \n",
    "#         if method == None:\n",
    "#             self.y = np.arange(self.a, self.b, self.h)\n",
    "#             self.s = self.h*sum(self.f(self.y+self.h/2))              # faster\n",
    "#         elif method == 'left':\n",
    "#             self.y = np.arange(self.a, self.b-self.h, self.h)\n",
    "#             self.s = self.h*(self.f(self.a) + sum(self.f(self.y+self.h)))       # faster\n",
    "#         elif method == 'right':\n",
    "#             self.y = np.arange(self.a, self.b, self.h)\n",
    "#             self.s = self.h*sum(self.f(self.y+self.h))                # faster\n",
    "#         elif method == 'mid':\n",
    "#             self.y = np.arange(self.a, self.b, self.h)\n",
    "#             self.s = self.h*sum(self.f(self.y+self.h/2))              # faster\n",
    "                \n",
    "#         return self.s\n",
    "                \n",
    "#     def Trapezoidal(self):\n",
    "        \n",
    "#         import numpy as np\n",
    "        \n",
    "#         # self.y = np.linspace(self.a, self.b, self.n+1)\n",
    "#         # self.s = self.h*(self.f(self.a) + 2*sum(self.f(self.y[1:self.n:1])) + self.f(self.b))/2  # faster\n",
    "        \n",
    "#         self.y = np.arange(self.a, self.b, self.h)\n",
    "#         self.s = self.h*(self.f(self.a) + 2*sum(self.f(self.y[1::])) + self.f(self.b))/2    # faster\n",
    "        \n",
    "#         return self.s\n",
    "    \n",
    "#     def Simpson1_3(self):\n",
    "        \n",
    "#         import numpy as np\n",
    "        \n",
    "#         # self.y = np.linspace(self.a, self.b, self.n+1)\n",
    "#         self.y = np.arange(self.a, self.b, self.h)\n",
    "#         self.s = (self.h/3)*(self.f(self.a) + 4*sum(self.f(self.y[1:self.n:2])) + \n",
    "#                              2*sum(self.f(self.y[2:self.n-1:2])) + self.f(self.b))\n",
    "    \n",
    "#         return self.s"
   ]
  },
  {
   "cell_type": "code",
   "execution_count": 4,
   "id": "06d2810c-0c9f-4a8c-9c28-863b48f08f37",
   "metadata": {
    "tags": []
   },
   "outputs": [],
   "source": [
    "class integration:\n",
    "    \n",
    "    \"Sum rules for integration of a function\"\n",
    "    \n",
    "    def __init__(self):\n",
    "        \"This is a class for integration\"\n",
    "\n",
    "        \n",
    "    def Riemann(self, f, a, b, n, method=None):\n",
    "\n",
    "        h = (b-a)/n\n",
    "        s = 0\n",
    "        \n",
    "        if method == None:\n",
    "            for i in range(1,n+1):\n",
    "                s += h*f(a + ((2*i-1)/2)*h)\n",
    "        elif method == 'left':\n",
    "            for i in range(n):\n",
    "                s += h*f(a + i*h)                # slower\n",
    "        elif method == 'right':\n",
    "            for i in range(1,n+1):\n",
    "                s += h*f(a + i*h)                # slower\n",
    "        elif method == 'mid':\n",
    "            for i in range(1,n+1):\n",
    "                s += h*f(a + ((2*i-1)/2)*h)      # slower\n",
    "                \n",
    "        return s\n",
    "                \n",
    "    def Trapezoidal(self, f, a, b, n):\n",
    "        \n",
    "        h = (b-a)/n\n",
    "        s = 0\n",
    "        \n",
    "        import numpy as np\n",
    "        for i in range(1,n+1):\n",
    "            s += h*(f(a+(i-1)*h) + f(a + i*h))/2 # slower\n",
    "                  \n",
    "        \n",
    "        return s\n",
    "    \n",
    "    "
   ]
  },
  {
   "cell_type": "code",
   "execution_count": 5,
   "id": "6b9657bf-6a39-47b7-a274-00765de82f93",
   "metadata": {
    "tags": []
   },
   "outputs": [],
   "source": [
    "class integration2:\n",
    "    \n",
    "    \"Sum rules for integration of a function\"\n",
    "    \n",
    "    def __init__(self, f):\n",
    "        self.f = f\n",
    "\n",
    "        \n",
    "    def Riemann(self, a, b, n, method=None):\n",
    "\n",
    "        h = (b-a)/n\n",
    "        s = 0\n",
    "        \n",
    "        if method == None:\n",
    "            for i in range(1,n+1):\n",
    "                s += h*self.f(a + ((2*i-1)/2)*h)\n",
    "        elif method == 'left':\n",
    "            for i in range(n):\n",
    "                s += h*self.f(a + i*h)                # slower\n",
    "        elif method == 'right':\n",
    "            for i in range(1,n+1):\n",
    "                s += h*self.f(a + i*h)                # slower\n",
    "        elif method == 'mid':\n",
    "            for i in range(1,n+1):\n",
    "                s += h*self.f(a + ((2*i-1)/2)*h)      # slower\n",
    "                \n",
    "        return s\n",
    "                \n",
    "    def Trapezoidal(self, a, b, n):\n",
    "        \n",
    "        h = (b-a)/n\n",
    "        s = 0\n",
    "        \n",
    "        import numpy as np\n",
    "        for i in range(1,n+1):\n",
    "            s += h*(self.f(a+(i-1)*h) + self.f(a + i*h))/2 # slower\n",
    "                  \n",
    "        \n",
    "        return s"
   ]
  },
  {
   "cell_type": "code",
   "execution_count": 6,
   "id": "9ceac044-f2dc-4ea9-b5af-3066b46dc23a",
   "metadata": {
    "tags": []
   },
   "outputs": [],
   "source": [
    "class integration3:\n",
    "    \n",
    "    \"Sum rules for integration of a function\"\n",
    "    \n",
    "    def __init__(self, f, a, b, n):\n",
    "        self.f = f\n",
    "        self.a = a\n",
    "        self.b = b\n",
    "        self.n = n\n",
    "        self.h = (self.b - self.a)/self.n\n",
    "        \n",
    "    def Riemann(self, method=None):\n",
    "        \n",
    "        self.s = 0\n",
    "        \n",
    "        if method == None:\n",
    "            for i in range(1,self.n+1):\n",
    "                self.s += self.h*self.f(self.a + ((2*i-1)/2)*self.h)\n",
    "        elif method == 'left':\n",
    "            for i in range(self.n):\n",
    "                self.s += self.h*self.f(self.a + i*self.h)                # slower\n",
    "        elif method == 'right':\n",
    "            for i in range(1,self.n+1):\n",
    "                self.s += self.h*self.f(self.a + i*self.h)                # slower\n",
    "        elif method == 'mid':\n",
    "            for i in range(1,self.n+1):\n",
    "                self.s += self.h*self.f(self.a + ((2*i-1)/2)*self.h)      # slower\n",
    "                \n",
    "        return self.s\n",
    "                \n",
    "    def Trapezoidal(self):\n",
    "        \n",
    "        self.s =0\n",
    "        \n",
    "        import numpy as np\n",
    "        for i in range(1,self.n+1):\n",
    "            self.s += self.h*(self.f(self.a+(i-1)*self.h) + self.f(self.a + i*self.h))/2 # slower\n",
    "                  \n",
    "        \n",
    "        return self.s"
   ]
  },
  {
   "cell_type": "code",
   "execution_count": 7,
   "id": "a5ed5ee6-ffa7-4d82-88cc-1503bb9d2cc1",
   "metadata": {
    "tags": []
   },
   "outputs": [],
   "source": [
    "def g(x):\n",
    "    return (x-8)**2"
   ]
  },
  {
   "cell_type": "code",
   "execution_count": 8,
   "id": "974e7e97-622b-487e-97dd-0ea8bbd35f70",
   "metadata": {
    "tags": []
   },
   "outputs": [
    {
     "data": {
      "text/plain": [
       "'Sum rules for integration of a function'"
      ]
     },
     "execution_count": 8,
     "metadata": {},
     "output_type": "execute_result"
    }
   ],
   "source": [
    "integration.__doc__"
   ]
  },
  {
   "cell_type": "code",
   "execution_count": 9,
   "id": "11feb689-9e2e-40ff-b4f9-abe0fe0f86ee",
   "metadata": {},
   "outputs": [],
   "source": [
    "intg = integration()"
   ]
  },
  {
   "cell_type": "code",
   "execution_count": 10,
   "id": "b410c855-ec07-493f-b4b3-77d989713c8e",
   "metadata": {},
   "outputs": [
    {
     "data": {
      "text/plain": [
       "114.00360000000005"
      ]
     },
     "execution_count": 10,
     "metadata": {},
     "output_type": "execute_result"
    }
   ],
   "source": [
    "intg.Trapezoidal(g, 1, 7, 100)"
   ]
  },
  {
   "cell_type": "code",
   "execution_count": 11,
   "id": "db7af6b4-82fc-4356-9b7b-5ea41b6ba7b2",
   "metadata": {
    "tags": []
   },
   "outputs": [
    {
     "data": {
      "text/plain": [
       "113.99820000000001"
      ]
     },
     "execution_count": 11,
     "metadata": {},
     "output_type": "execute_result"
    }
   ],
   "source": [
    "intg.Riemann(g, 1, 7, 100, method = \"mid\")"
   ]
  },
  {
   "cell_type": "code",
   "execution_count": 12,
   "id": "70b98ae3-c5fa-4a7f-9e16-80ae82a30780",
   "metadata": {
    "tags": []
   },
   "outputs": [
    {
     "ename": "AttributeError",
     "evalue": "'integration' object has no attribute 'Simpson1_3'",
     "output_type": "error",
     "traceback": [
      "\u001b[0;31m---------------------------------------------------------------------------\u001b[0m",
      "\u001b[0;31mAttributeError\u001b[0m                            Traceback (most recent call last)",
      "\u001b[0;32m/tmp/ipykernel_703997/2001185363.py\u001b[0m in \u001b[0;36m<module>\u001b[0;34m\u001b[0m\n\u001b[0;32m----> 1\u001b[0;31m \u001b[0mintg\u001b[0m\u001b[0;34m.\u001b[0m\u001b[0mSimpson1_3\u001b[0m\u001b[0;34m(\u001b[0m\u001b[0mg\u001b[0m\u001b[0;34m,\u001b[0m \u001b[0;36m1\u001b[0m\u001b[0;34m,\u001b[0m \u001b[0;36m7\u001b[0m\u001b[0;34m,\u001b[0m \u001b[0;36m100\u001b[0m\u001b[0;34m)\u001b[0m\u001b[0;34m\u001b[0m\u001b[0;34m\u001b[0m\u001b[0m\n\u001b[0m",
      "\u001b[0;31mAttributeError\u001b[0m: 'integration' object has no attribute 'Simpson1_3'"
     ]
    }
   ],
   "source": [
    "intg.Simpson1_3(g, 1, 7, 100)"
   ]
  },
  {
   "cell_type": "code",
   "execution_count": 13,
   "id": "b1094ed7-fb06-45a8-8016-69c49539b222",
   "metadata": {},
   "outputs": [],
   "source": [
    "intg2 = integration2(g)"
   ]
  },
  {
   "cell_type": "code",
   "execution_count": 14,
   "id": "19aae31e-d538-4da7-8214-b4442e3afd21",
   "metadata": {},
   "outputs": [
    {
     "data": {
      "text/plain": [
       "114.00360000000005"
      ]
     },
     "execution_count": 14,
     "metadata": {},
     "output_type": "execute_result"
    }
   ],
   "source": [
    "intg2.Trapezoidal(1, 7, 100)"
   ]
  },
  {
   "cell_type": "code",
   "execution_count": 15,
   "id": "6ebd91a1-c5c2-4b3d-a8bf-5d75a9a61984",
   "metadata": {},
   "outputs": [
    {
     "data": {
      "text/plain": [
       "113.99820000000001"
      ]
     },
     "execution_count": 15,
     "metadata": {},
     "output_type": "execute_result"
    }
   ],
   "source": [
    "intg2.Riemann(1, 7, 100, method = \"mid\")"
   ]
  },
  {
   "cell_type": "code",
   "execution_count": 16,
   "id": "7b09446d-eafd-4221-a41c-be9bbb36a6b5",
   "metadata": {},
   "outputs": [
    {
     "ename": "AttributeError",
     "evalue": "'integration2' object has no attribute 'Simpson1_3'",
     "output_type": "error",
     "traceback": [
      "\u001b[0;31m---------------------------------------------------------------------------\u001b[0m",
      "\u001b[0;31mAttributeError\u001b[0m                            Traceback (most recent call last)",
      "\u001b[0;32m/tmp/ipykernel_703997/648755726.py\u001b[0m in \u001b[0;36m<module>\u001b[0;34m\u001b[0m\n\u001b[0;32m----> 1\u001b[0;31m \u001b[0mintg2\u001b[0m\u001b[0;34m.\u001b[0m\u001b[0mSimpson1_3\u001b[0m\u001b[0;34m(\u001b[0m\u001b[0;36m1\u001b[0m\u001b[0;34m,\u001b[0m \u001b[0;36m7\u001b[0m\u001b[0;34m,\u001b[0m \u001b[0;36m100\u001b[0m\u001b[0;34m)\u001b[0m\u001b[0;34m\u001b[0m\u001b[0;34m\u001b[0m\u001b[0m\n\u001b[0m",
      "\u001b[0;31mAttributeError\u001b[0m: 'integration2' object has no attribute 'Simpson1_3'"
     ]
    }
   ],
   "source": [
    "intg2.Simpson1_3(1, 7, 100)"
   ]
  },
  {
   "cell_type": "code",
   "execution_count": 17,
   "id": "90a4b475-4600-48d5-b915-65a3fab5b380",
   "metadata": {},
   "outputs": [],
   "source": [
    "intg3 = integration3(g, 1, 7, 100)"
   ]
  },
  {
   "cell_type": "code",
   "execution_count": 18,
   "id": "76cd737b-d9c0-4a6a-a6a3-087d89739952",
   "metadata": {},
   "outputs": [
    {
     "data": {
      "text/plain": [
       "114.00360000000005"
      ]
     },
     "execution_count": 18,
     "metadata": {},
     "output_type": "execute_result"
    }
   ],
   "source": [
    "intg3.Trapezoidal()"
   ]
  },
  {
   "cell_type": "code",
   "execution_count": 19,
   "id": "8848d8c9-ed41-4eb8-8af5-3507582b0b0e",
   "metadata": {},
   "outputs": [
    {
     "data": {
      "text/plain": [
       "113.99820000000001"
      ]
     },
     "execution_count": 19,
     "metadata": {},
     "output_type": "execute_result"
    }
   ],
   "source": [
    "intg3.Riemann(method = \"mid\")"
   ]
  },
  {
   "cell_type": "code",
   "execution_count": 20,
   "id": "568e6757-52e2-4460-ae61-7f53ba90ced5",
   "metadata": {},
   "outputs": [
    {
     "ename": "AttributeError",
     "evalue": "'integration3' object has no attribute 'Simpson1_3'",
     "output_type": "error",
     "traceback": [
      "\u001b[0;31m---------------------------------------------------------------------------\u001b[0m",
      "\u001b[0;31mAttributeError\u001b[0m                            Traceback (most recent call last)",
      "\u001b[0;32m/tmp/ipykernel_703997/1534318145.py\u001b[0m in \u001b[0;36m<module>\u001b[0;34m\u001b[0m\n\u001b[0;32m----> 1\u001b[0;31m \u001b[0mintg3\u001b[0m\u001b[0;34m.\u001b[0m\u001b[0mSimpson1_3\u001b[0m\u001b[0;34m(\u001b[0m\u001b[0;34m)\u001b[0m\u001b[0;34m\u001b[0m\u001b[0;34m\u001b[0m\u001b[0m\n\u001b[0m",
      "\u001b[0;31mAttributeError\u001b[0m: 'integration3' object has no attribute 'Simpson1_3'"
     ]
    }
   ],
   "source": [
    "intg3.Simpson1_3()"
   ]
  },
  {
   "cell_type": "code",
   "execution_count": null,
   "id": "bf756585-9180-4c83-8707-30178736495e",
   "metadata": {},
   "outputs": [],
   "source": []
  }
 ],
 "metadata": {
  "kernelspec": {
   "display_name": "Python 3 (ipykernel)",
   "language": "python",
   "name": "python3"
  },
  "language_info": {
   "codemirror_mode": {
    "name": "ipython",
    "version": 3
   },
   "file_extension": ".py",
   "mimetype": "text/x-python",
   "name": "python",
   "nbconvert_exporter": "python",
   "pygments_lexer": "ipython3",
   "version": "3.7.9"
  }
 },
 "nbformat": 4,
 "nbformat_minor": 5
}
