{
 "cells": [
  {
   "cell_type": "code",
   "execution_count": 1,
   "id": "52c49a21-1a13-45ba-90d0-aca167914b78",
   "metadata": {
    "tags": []
   },
   "outputs": [],
   "source": [
    "class integration:\n",
    "    \n",
    "    \"Sum rules for integration of a function\"\n",
    "    \n",
    "    def __init__(self, f, a, b, n):\n",
    "        self.f = f\n",
    "        self.a = a\n",
    "        self.b = b\n",
    "        self.n = n\n",
    "        self.h = (self.b - self.a)/self.n\n",
    "        \n",
    "    def Riemann(self, method=None):\n",
    "        import numpy as np\n",
    "        \n",
    "        if method == None:\n",
    "            self.y = np.arange(self.a, self.b, self.h)\n",
    "            self.s = self.h*sum(self.f(self.y+self.h/2))              # faster\n",
    "        elif method == 'left':\n",
    "            self.y = np.arange(self.a, self.b-self.h, self.h)\n",
    "            self.s = self.h*(self.f(self.a) + sum(self.f(self.y+self.h)))       # faster\n",
    "        elif method == 'right':\n",
    "            self.y = np.arange(self.a, self.b, self.h)\n",
    "            self.s = self.h*sum(self.f(self.y+self.h))                # faster\n",
    "        elif method == 'mid':\n",
    "            self.y = np.arange(self.a, self.b, self.h)\n",
    "            self.s = self.h*sum(self.f(self.y+self.h/2))              # faster\n",
    "                \n",
    "        return self.s\n",
    "                \n",
    "    def Trapezoidal(self):\n",
    "        \n",
    "        import numpy as np\n",
    "        \n",
    "        # self.y = np.linspace(self.a, self.b, self.n+1)\n",
    "        # self.s = self.h*(self.f(self.a) + 2*sum(self.f(self.y[1:self.n:1])) + self.f(self.b))/2  # faster\n",
    "        \n",
    "        self.y = np.arange(self.a, self.b, self.h)\n",
    "        self.s = self.h*(self.f(self.a) + 2*sum(self.f(self.y[1::])) + self.f(self.b))/2    # faster\n",
    "        \n",
    "        return self.s"
   ]
  },
  {
   "cell_type": "code",
   "execution_count": 2,
   "id": "06d2810c-0c9f-4a8c-9c28-863b48f08f37",
   "metadata": {
    "tags": []
   },
   "outputs": [],
   "source": [
    "# class integration:\n",
    "    \n",
    "#     \"Sum rules for integration of a function\"\n",
    "    \n",
    "#     def __init__(self, f, a, b, n):\n",
    "#         self.f = f\n",
    "#         self.a = a\n",
    "#         self.b = b\n",
    "#         self.n = n\n",
    "#         self.h = (self.b - self.a)/self.n\n",
    "#         self.s = 0\n",
    "        \n",
    "#     def Riemann(self, method=None):\n",
    "#         if method == None:\n",
    "#             for i in range(1,self.n+1):\n",
    "#                 self.s += self.h*self.f(self.a + ((2*i-1)/2)*self.h)\n",
    "#         elif method == 'left':\n",
    "#             for i in range(self.n):\n",
    "#                 self.s += self.h*self.f(self.a + i*self.h)                # slower\n",
    "#         elif method == 'right':\n",
    "#             for i in range(1,self.n+1):\n",
    "#                 self.s += self.h*self.f(self.a + i*self.h)                # slower\n",
    "#         elif method == 'mid':\n",
    "#             for i in range(1,self.n+1):\n",
    "#                 self.s += self.h*self.f(self.a + ((2*i-1)/2)*self.h)      # slower\n",
    "                \n",
    "#         return self.s\n",
    "                \n",
    "#     def Trapezoidal(self):\n",
    "        \n",
    "#         import numpy as np\n",
    "#         for i in range(1,self.n+1):\n",
    "#             self.s += self.h*(f(self.a+(i-1)*self.h) + f(self.a + i*self.h))/2 # slower\n",
    "                  \n",
    "        \n",
    "#         return self.s"
   ]
  },
  {
   "cell_type": "code",
   "execution_count": 3,
   "id": "a5ed5ee6-ffa7-4d82-88cc-1503bb9d2cc1",
   "metadata": {
    "tags": []
   },
   "outputs": [],
   "source": [
    "def g(x):\n",
    "    return 1/(x-8)**2"
   ]
  },
  {
   "cell_type": "code",
   "execution_count": 4,
   "id": "974e7e97-622b-487e-97dd-0ea8bbd35f70",
   "metadata": {
    "tags": []
   },
   "outputs": [
    {
     "data": {
      "text/plain": [
       "'Sum rules for integration of a function'"
      ]
     },
     "execution_count": 4,
     "metadata": {},
     "output_type": "execute_result"
    }
   ],
   "source": [
    "integration.__doc__"
   ]
  },
  {
   "cell_type": "code",
   "execution_count": 5,
   "id": "45a3ee2a-44c3-47c1-bd08-8e7914bbf222",
   "metadata": {
    "tags": []
   },
   "outputs": [
    {
     "data": {
      "text/plain": [
       "0.8568441086853078"
      ]
     },
     "execution_count": 5,
     "metadata": {},
     "output_type": "execute_result"
    }
   ],
   "source": [
    "integration(g, 1, 7, 100).Riemann()"
   ]
  },
  {
   "cell_type": "code",
   "execution_count": 6,
   "id": "efaae09c-6761-4eb0-ad38-00b2bb1f3ba5",
   "metadata": {
    "tags": []
   },
   "outputs": [
    {
     "data": {
      "text/plain": [
       "0.8883529219006895"
      ]
     },
     "execution_count": 6,
     "metadata": {},
     "output_type": "execute_result"
    }
   ],
   "source": [
    "integration(g, 1, 7, 100).Riemann(method = \"left\")"
   ]
  },
  {
   "cell_type": "code",
   "execution_count": 7,
   "id": "d5fee9a4-19f8-417c-b11f-f829a207fbab",
   "metadata": {
    "tags": []
   },
   "outputs": [
    {
     "data": {
      "text/plain": [
       "0.8871284321047711"
      ]
     },
     "execution_count": 7,
     "metadata": {},
     "output_type": "execute_result"
    }
   ],
   "source": [
    "integration(g, 1, 7, 100).Riemann(method = \"right\")"
   ]
  },
  {
   "cell_type": "code",
   "execution_count": 8,
   "id": "cfd3a1ce-2a7d-4431-abd6-a9559f824027",
   "metadata": {
    "tags": []
   },
   "outputs": [
    {
     "data": {
      "text/plain": [
       "0.8568441086853078"
      ]
     },
     "execution_count": 8,
     "metadata": {},
     "output_type": "execute_result"
    }
   ],
   "source": [
    "integration(g, 1, 7, 100).Riemann(method = \"mid\")"
   ]
  },
  {
   "cell_type": "code",
   "execution_count": 9,
   "id": "cf5d4039-1f5a-4123-81f2-816e695946ae",
   "metadata": {
    "tags": []
   },
   "outputs": [
    {
     "data": {
      "text/plain": [
       "0.8577406770027299"
      ]
     },
     "execution_count": 9,
     "metadata": {},
     "output_type": "execute_result"
    }
   ],
   "source": [
    "integration(g, 1, 7, 100).Trapezoidal()"
   ]
  },
  {
   "cell_type": "code",
   "execution_count": 10,
   "id": "b1094ed7-fb06-45a8-8016-69c49539b222",
   "metadata": {},
   "outputs": [],
   "source": [
    "intg = integration(g, 1, 7, 10000)"
   ]
  },
  {
   "cell_type": "code",
   "execution_count": 11,
   "id": "19aae31e-d538-4da7-8214-b4442e3afd21",
   "metadata": {},
   "outputs": [
    {
     "data": {
      "text/plain": [
       "0.8571429169673583"
      ]
     },
     "execution_count": 11,
     "metadata": {},
     "output_type": "execute_result"
    }
   ],
   "source": [
    "intg.Trapezoidal()"
   ]
  },
  {
   "cell_type": "code",
   "execution_count": 12,
   "id": "6ebd91a1-c5c2-4b3d-a8bf-5d75a9a61984",
   "metadata": {},
   "outputs": [
    {
     "data": {
      "text/plain": [
       "0.8571428272297573"
      ]
     },
     "execution_count": 12,
     "metadata": {},
     "output_type": "execute_result"
    }
   ],
   "source": [
    "intg.Riemann(method = \"mid\")"
   ]
  },
  {
   "cell_type": "code",
   "execution_count": null,
   "id": "3238f48c-80a4-49f0-9a3a-6d3333f845a3",
   "metadata": {},
   "outputs": [],
   "source": []
  },
  {
   "cell_type": "code",
   "execution_count": null,
   "id": "11feb689-9e2e-40ff-b4f9-abe0fe0f86ee",
   "metadata": {},
   "outputs": [],
   "source": []
  }
 ],
 "metadata": {
  "kernelspec": {
   "display_name": "Python 3 (ipykernel)",
   "language": "python",
   "name": "python3"
  },
  "language_info": {
   "codemirror_mode": {
    "name": "ipython",
    "version": 3
   },
   "file_extension": ".py",
   "mimetype": "text/x-python",
   "name": "python",
   "nbconvert_exporter": "python",
   "pygments_lexer": "ipython3",
   "version": "3.10.9"
  }
 },
 "nbformat": 4,
 "nbformat_minor": 5
}
