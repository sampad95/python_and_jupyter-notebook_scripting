{
 "cells": [
  {
   "cell_type": "code",
   "execution_count": 26,
   "id": "52c49a21-1a13-45ba-90d0-aca167914b78",
   "metadata": {
    "tags": []
   },
   "outputs": [],
   "source": [
    "class integration:\n",
    "    \n",
    "    \"Sum rules for integration of a function\"\n",
    "    \n",
    "    def __init__(self, a, b, n):\n",
    "        self.a = a\n",
    "        self.b = b\n",
    "        self.n = n\n",
    "        self.h = (self.b - self.a)/self.n\n",
    "        self.s = 0\n",
    "        \n",
    "    def Riemann(self, method=None):\n",
    "        if method == None:\n",
    "            for i in range(1,self.n+1):\n",
    "                self.s += self.h*f(self.a + ((2*i-1)/2)*self.h)\n",
    "        elif method == 'left':\n",
    "            for i in range(self.n):\n",
    "                self.s += self.h*f(self.a + i*self.h)\n",
    "        elif method == 'right':\n",
    "            for i in range(1,self.n+1):\n",
    "                self.s += self.h*f(self.a + i*self.h)\n",
    "        elif method == 'mid':\n",
    "            for i in range(1,self.n+1):\n",
    "                self.s += self.h*f(self.a + ((2*i-1)/2)*self.h)\n",
    "                \n",
    "        return self.s\n",
    "                \n",
    "    def Trapezoidal(self):\n",
    "        \n",
    "        for i in range(1,self.n+1):\n",
    "            self.s += self.h*(f(self.a+(i-1)*self.h) + f(self.a + i*self.h))/2\n",
    "        \n",
    "        return self.s"
   ]
  },
  {
   "cell_type": "code",
   "execution_count": 31,
   "id": "a5ed5ee6-ffa7-4d82-88cc-1503bb9d2cc1",
   "metadata": {
    "tags": []
   },
   "outputs": [],
   "source": [
    "def f(x):\n",
    "    return (x-8)**2"
   ]
  },
  {
   "cell_type": "code",
   "execution_count": 38,
   "id": "45a3ee2a-44c3-47c1-bd08-8e7914bbf222",
   "metadata": {
    "tags": []
   },
   "outputs": [
    {
     "data": {
      "text/plain": [
       "113.99820000000001"
      ]
     },
     "execution_count": 38,
     "metadata": {},
     "output_type": "execute_result"
    }
   ],
   "source": [
    "integration(1, 7, 100).Riemann()"
   ]
  },
  {
   "cell_type": "code",
   "execution_count": 41,
   "id": "efaae09c-6761-4eb0-ad38-00b2bb1f3ba5",
   "metadata": {
    "tags": []
   },
   "outputs": [
    {
     "data": {
      "text/plain": [
       "112.56359999999997"
      ]
     },
     "execution_count": 41,
     "metadata": {},
     "output_type": "execute_result"
    }
   ],
   "source": [
    "integration(1, 7, 100).Riemann(method = \"right\")"
   ]
  },
  {
   "cell_type": "code",
   "execution_count": 42,
   "id": "cf5d4039-1f5a-4123-81f2-816e695946ae",
   "metadata": {
    "tags": []
   },
   "outputs": [
    {
     "data": {
      "text/plain": [
       "114.00360000000005"
      ]
     },
     "execution_count": 42,
     "metadata": {},
     "output_type": "execute_result"
    }
   ],
   "source": [
    "integration(1, 7, 100).Trapezoidal()"
   ]
  },
  {
   "cell_type": "code",
   "execution_count": null,
   "id": "b1094ed7-fb06-45a8-8016-69c49539b222",
   "metadata": {},
   "outputs": [],
   "source": []
  }
 ],
 "metadata": {
  "kernelspec": {
   "display_name": "Python 3 (ipykernel)",
   "language": "python",
   "name": "python3"
  },
  "language_info": {
   "codemirror_mode": {
    "name": "ipython",
    "version": 3
   },
   "file_extension": ".py",
   "mimetype": "text/x-python",
   "name": "python",
   "nbconvert_exporter": "python",
   "pygments_lexer": "ipython3",
   "version": "3.7.9"
  }
 },
 "nbformat": 4,
 "nbformat_minor": 5
}
