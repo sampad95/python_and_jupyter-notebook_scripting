{
 "cells": [
  {
   "cell_type": "code",
   "execution_count": 78,
   "id": "012fe9e9-c4a3-4de2-9174-be514ae7f4ca",
   "metadata": {},
   "outputs": [],
   "source": [
    "import numpy as np\n",
    "import matplotlib.pyplot as plt\n",
    "from matplotlib.patches import Rectangle"
   ]
  },
  {
   "cell_type": "code",
   "execution_count": 17,
   "id": "7b25c2c5-5c0c-4a12-ac81-44a8572b9155",
   "metadata": {},
   "outputs": [],
   "source": [
    "def Riemann(a, b, n):\n",
    "    h = (b-a)/n\n",
    "    s = 0\n",
    "    for i in range(1,n+1):\n",
    "        s += h*f(a + i*h)\n",
    "    return s"
   ]
  },
  {
   "cell_type": "code",
   "execution_count": 28,
   "id": "f97e3d34-3cbb-4e4f-a545-fdcbe948f9a6",
   "metadata": {},
   "outputs": [],
   "source": [
    "def Riemann(a, b, n, method=None):\n",
    "    h = (b-a)/n\n",
    "    s = 0\n",
    "    if method == None:\n",
    "        for i in range(1,n+1):\n",
    "            s += h*f(a + ((2*i-1)/2)*h)\n",
    "    elif method == 'left':\n",
    "        for i in range(n):\n",
    "            s += h*f(a + i*h)\n",
    "    elif method == 'right':\n",
    "        for i in range(1,n+1):\n",
    "            s += h*f(a + i*h)\n",
    "    elif method == 'mid':\n",
    "        for i in range(1,n+1):\n",
    "            s += h*f(a + ((2*i-1)/2)*h)\n",
    "            \n",
    "    return s"
   ]
  },
  {
   "cell_type": "code",
   "execution_count": 132,
   "id": "93c7162b-d5a9-411c-a7ca-8ed27ce113b6",
   "metadata": {},
   "outputs": [],
   "source": [
    "def f(x):\n",
    "    return (x-8)**2"
   ]
  },
  {
   "cell_type": "code",
   "execution_count": 33,
   "id": "ff20d92f-e800-4417-8281-019d9e4f02f3",
   "metadata": {},
   "outputs": [
    {
     "data": {
      "text/plain": [
       "1.9459086796770044"
      ]
     },
     "execution_count": 33,
     "metadata": {},
     "output_type": "execute_result"
    }
   ],
   "source": [
    "Riemann(1, 7, 1000)"
   ]
  },
  {
   "cell_type": "code",
   "execution_count": 34,
   "id": "1b7fbd6a-b226-43eb-8d23-8d08306924c9",
   "metadata": {},
   "outputs": [
    {
     "data": {
      "text/plain": [
       "1.9484845163914557"
      ]
     },
     "execution_count": 34,
     "metadata": {},
     "output_type": "execute_result"
    }
   ],
   "source": [
    "Riemann(1, 7, 1000, method='left')"
   ]
  },
  {
   "cell_type": "code",
   "execution_count": 35,
   "id": "e32ed1be-e5af-4bf7-881c-ae3aa6fc0e0d",
   "metadata": {},
   "outputs": [
    {
     "data": {
      "text/plain": [
       "1.9433416592485988"
      ]
     },
     "execution_count": 35,
     "metadata": {},
     "output_type": "execute_result"
    }
   ],
   "source": [
    "Riemann(1, 7, 1000, method='right')"
   ]
  },
  {
   "cell_type": "code",
   "execution_count": 38,
   "id": "620e3801-3343-4740-bafd-3fbb7162002e",
   "metadata": {},
   "outputs": [
    {
     "data": {
      "text/plain": [
       "1.945910148908363"
      ]
     },
     "execution_count": 38,
     "metadata": {},
     "output_type": "execute_result"
    }
   ],
   "source": [
    "Riemann(1, 7, 100000, method='mid')"
   ]
  },
  {
   "cell_type": "code",
   "execution_count": 72,
   "id": "9760dffd-5bfa-4f06-8245-5dabf218b829",
   "metadata": {},
   "outputs": [],
   "source": [
    "def Riemann_plot(a, b, n, method=None):\n",
    "    h = (b-a)/n\n",
    "    if method == None:\n",
    "        for i in range(1, n+1):\n",
    "            plt.plot((a+((2*i-1)/2)*h), h*f(a + ((2*i-1)/2)*h))\n",
    "    elif method == 'left':\n",
    "        for i in range(n):\n",
    "            plt.plot(a+i*h, h*f(a + i*h))\n",
    "    elif method == 'right':\n",
    "        for i in range(1, n+1):\n",
    "            plt.plot(a+(i-1)*h, h*f(a + i*h))\n",
    "    elif method == 'mid':\n",
    "        for i in range(1, n+1):\n",
    "            plt.plot(a + ((2*i-1)/2)*h, h*f(a + ((2*i-1)/2)*h))\n",
    "    plt.show()"
   ]
  },
  {
   "cell_type": "code",
   "execution_count": 138,
   "id": "bf33d60f-0805-4280-a341-98d62f561018",
   "metadata": {},
   "outputs": [],
   "source": [
    "def Riemann_plot(a, b, n, method=None):\n",
    "    fig, ax = plt.subplots()\n",
    "    h = (b-a)/n\n",
    "    if method == None:\n",
    "        for i in range(1, n+1):\n",
    "            rec = Rectangle((a+(i-1)*h, 0), width = h, height=f(a + ((2*i-1)/2)*h), edgecolor='white')\n",
    "            ax.add_patch(rec)\n",
    "            # ax.set_xlim(0, b+1)\n",
    "            # ax.set_ylim(0, f(b)+1)\n",
    "    elif method == 'left':\n",
    "        for i in range(n):\n",
    "            rec = Rectangle((a+i*h, 0), width = h, height=f(a + i*h), edgecolor='white')\n",
    "            ax.add_patch(rec)\n",
    "            # ax.set_xlim(0, b+1)\n",
    "            # ax.set_ylim(0, f(b)+1)\n",
    "    elif method == 'right':\n",
    "        for i in range(1, n+1):\n",
    "            rec = Rectangle((a+(i-1)*h, 0), width = h, height=f(a + i*h), edgecolor='white')\n",
    "            ax.add_patch(rec)\n",
    "            # ax.set_xlim(0, b+1)\n",
    "            # ax.set_ylim(0, f(b)+1)\n",
    "    elif method == 'mid':\n",
    "        for i in range(1, n+1):\n",
    "            rec = Rectangle((a+(i-1)*h, 0), width = h, height=f(a + ((2*i-1)/2)*h), edgecolor='white')\n",
    "            ax.add_patch(rec)\n",
    "            # ax.set_xlim(0, b)\n",
    "            # ax.set_ylim(0, f(b)+1)\n",
    "    ax.set_xlim(0, b)\n",
    "    ax.set_ylim(0, f(b)+1)\n",
    "    x = np.arange(1,15, 0.00001)\n",
    "    g = [f(k) for k in x]\n",
    "    ax.plot(x, g, 'r')\n",
    "    plt.show()"
   ]
  },
  {
   "cell_type": "code",
   "execution_count": 139,
   "id": "b2d7cc00-cf71-4e62-b2be-434780d060e9",
   "metadata": {},
   "outputs": [
    {
     "data": {
      "image/png": "[encoded data removed]",
      "text/plain": [
       "<Figure size 640x480 with 1 Axes>"
      ]
     },
     "metadata": {},
     "output_type": "display_data"
    }
   ],
   "source": [
    "# x = np.arange(1,15, 0.00001)\n",
    "# g = [f(k) for k in x]\n",
    "# fig, ax = plt.subplots()\n",
    "# ax.plot(x, g)\n",
    "\n",
    "Riemann_plot(1, 15, 50, method='left')"
   ]
  },
  {
   "cell_type": "code",
   "execution_count": 108,
   "id": "c825933f-83ed-4b57-a69a-fb869b037d16",
   "metadata": {},
   "outputs": [],
   "source": [
    "x = range(8)\n",
    "y = [4.8, 5.5, 3.5, 4.6, 6.5, 6.6, 2.6, 3.0]"
   ]
  },
  {
   "cell_type": "code",
   "execution_count": 123,
   "id": "112e62f0-e49b-4309-8d07-0b0e167cec06",
   "metadata": {},
   "outputs": [
    {
     "data": {
      "image/png": "[encoded data removed]",
      "text/plain": [
       "<Figure size 640x480 with 1 Axes>"
      ]
     },
     "metadata": {},
     "output_type": "display_data"
    }
   ],
   "source": [
    "a = [1, 2, 3]\n",
    "b = [c**2 for c in a]\n",
    "fig, ax = plt.subplots()\n",
    "for d in range(len(a)):\n",
    "    rec = Rectangle((a[d]/2, 0), width=0.1, height=b[d],  edgecolor='r', facecolor='none')\n",
    "    ax.add_patch(rec)\n",
    "ax.set_xlim(0, 5)\n",
    "ax.set_ylim(0, 10)\n",
    "plt.show()"
   ]
  },
  {
   "cell_type": "code",
   "execution_count": 85,
   "id": "8abeb9a0-f480-46a0-9089-727a9fd62396",
   "metadata": {},
   "outputs": [
    {
     "data": {
      "image/png": "[encoded data removed]",
      "text/plain": [
       "<Figure size 640x480 with 1 Axes>"
      ]
     },
     "metadata": {},
     "output_type": "display_data"
    }
   ],
   "source": [
    "import matplotlib.pyplot as plt\n",
    "from matplotlib.patches import Rectangle\n",
    "\n",
    "# Define rectangle parameters\n",
    "x = 1\n",
    "y = 1\n",
    "width = 3\n",
    "height = 2\n",
    "\n",
    "# Create figure and axes\n",
    "fig, ax = plt.subplots()\n",
    "\n",
    "# Add rectangle to the plot\n",
    "rectangle = Rectangle((x, y), width, height, edgecolor='r', facecolor='none')\n",
    "ax.add_patch(rectangle)\n",
    "\n",
    "# Set limits and labels\n",
    "ax.set_xlim(0, 5)\n",
    "ax.set_ylim(0, 5)\n",
    "ax.set_xlabel('X-axis')\n",
    "ax.set_ylabel('Y-axis')\n",
    "ax.set_title('Rectangle Plot')\n",
    "\n",
    "# Show plot\n",
    "plt.grid(True)\n",
    "plt.show()\n"
   ]
  },
  {
   "cell_type": "code",
   "execution_count": null,
   "id": "0374cd69-a585-4c90-a1f1-b3bf8ad98059",
   "metadata": {},
   "outputs": [],
   "source": []
  }
 ],
 "metadata": {
  "kernelspec": {
   "display_name": "Python 3 (ipykernel)",
   "language": "python",
   "name": "python3"
  },
  "language_info": {
   "codemirror_mode": {
    "name": "ipython",
    "version": 3
   },
   "file_extension": ".py",
   "mimetype": "text/x-python",
   "name": "python",
   "nbconvert_exporter": "python",
   "pygments_lexer": "ipython3",
   "version": "3.10.9"
  }
 },
 "nbformat": 4,
 "nbformat_minor": 5
}
