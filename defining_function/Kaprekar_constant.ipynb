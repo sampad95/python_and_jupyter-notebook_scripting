{
 "cells": [
  {
   "cell_type": "code",
   "execution_count": 73,
   "id": "9ca4d122-232b-48cb-a11c-b28792b796da",
   "metadata": {},
   "outputs": [
    {
     "name": "stdout",
     "output_type": "stream",
     "text": [
      "Initial n =  4504\n",
      "5440 445 4995\n",
      "Next n= 4995 Step =  1\n",
      "9954 4599 5355\n",
      "Next n= 5355 Step =  2\n",
      "5553 3555 1998\n",
      "Next n= 1998 Step =  3\n",
      "9981 1899 8082\n",
      "Next n= 8082 Step =  4\n",
      "8820 288 8532\n",
      "Next n= 8532 Step =  5\n",
      "8532 2358 6174\n",
      "Next n= 6174 Step =  6\n"
     ]
    }
   ],
   "source": [
    "import random\n",
    "\n",
    "n=random.randint(1001, 9999)\n",
    "print(\"Initial n = \", n)\n",
    "i = 0\n",
    "while(n!=6174):\n",
    "    min_n=int(''.join(sorted(str(n))))\n",
    "    max_n=int(''.join(sorted(str(n), reverse=True)))   \n",
    "    diff = max_n - min_n\n",
    "    i = i+1\n",
    "    \n",
    "    print(max_n, min_n, diff)\n",
    "\n",
    "    n = diff\n",
    "        \n",
    "    print(\"Next n=\", n, \"Step = \", i)"
   ]
  },
  {
   "cell_type": "code",
   "execution_count": 135,
   "id": "861aeb54-a614-4441-8cc7-9ab6724f2fe0",
   "metadata": {},
   "outputs": [
    {
     "name": "stdout",
     "output_type": "stream",
     "text": [
      "Initial n =  1029\n",
      "Step =  1\n",
      "9210 129 9081\n",
      "Next n= 9081\n",
      "Step =  2\n",
      "9810 189 9621\n",
      "Next n= 9621\n",
      "Step =  3\n",
      "9621 1269 8352\n",
      "Next n= 8352\n",
      "Step =  4\n",
      "8532 2358 6174\n",
      "Next n= 6174\n"
     ]
    }
   ],
   "source": [
    "import random\n",
    "\n",
    "n=random.randint(100, 10000)\n",
    "# n = 2045\n",
    "print(\"Initial n = \", n)\n",
    "i = 0\n",
    "if len(str(n)) == 4:\n",
    "    while(int(n)!=6174):\n",
    "        min_n=int(''.join(sorted(str(n))))\n",
    "        max_n=int(''.join(sorted(str(n), reverse=True)))\n",
    "        if min_n == max_n:\n",
    "            print(\"Invalid\")\n",
    "            break\n",
    "        else:\n",
    "            diff = max_n - min_n\n",
    "            i +=1\n",
    "    \n",
    "            print(\"Step = \", i)\n",
    "            print(max_n, min_n, diff)\n",
    "                \n",
    "            if len(str(diff)) == 4:\n",
    "                n = diff\n",
    "            elif len(str(diff)) == 3:\n",
    "                n = '0'+str(diff)\n",
    "            elif len(str(diff)) == 2:\n",
    "                n = '00'+str(diff)\n",
    "            else:\n",
    "                n = '000'+str(diff)\n",
    "                \n",
    "            print(\"Next n=\", n)\n",
    "\n",
    "else:\n",
    "    print(\"Invalid\")       "
   ]
  },
  {
   "cell_type": "code",
   "execution_count": 96,
   "id": "f33d909f-68da-4ca1-8e1d-e0776f189817",
   "metadata": {},
   "outputs": [],
   "source": [
    "def Kaprekar_routine(n):\n",
    "    if len(str(n)) == 4:\n",
    "        while(int(n)!=6174):\n",
    "            min_n=int(''.join(sorted(str(n))))\n",
    "            max_n=int(''.join(sorted(str(n), reverse=True)))   \n",
    "            diff = max_n - min_n\n",
    "\n",
    "            if len(str(diff)) == 4:\n",
    "                n = diff\n",
    "            elif len(str(diff)) == 3:\n",
    "                n = '0'+str(diff)\n",
    "            elif len(str(diff)) == 2:\n",
    "                n = '00'+str(diff)\n",
    "            else:\n",
    "                n = '000'+str(diff)\n",
    "\n",
    "            print(n)\n",
    "    else:\n",
    "        print(\"Invalid\")"
   ]
  },
  {
   "cell_type": "code",
   "execution_count": 99,
   "id": "cdb04c16-5b5f-482e-8c91-fddf1314c6ee",
   "metadata": {},
   "outputs": [
    {
     "name": "stdout",
     "output_type": "stream",
     "text": [
      "0999\n",
      "8991\n",
      "8082\n",
      "8532\n",
      "6174\n"
     ]
    }
   ],
   "source": [
    "Kaprekar_routine(1000)"
   ]
  },
  {
   "cell_type": "code",
   "execution_count": null,
   "id": "10a54419-0796-4e8d-93cf-9965772e3c7a",
   "metadata": {},
   "outputs": [],
   "source": []
  }
 ],
 "metadata": {
  "kernelspec": {
   "display_name": "Python 3 (ipykernel)",
   "language": "python",
   "name": "python3"
  },
  "language_info": {
   "codemirror_mode": {
    "name": "ipython",
    "version": 3
   },
   "file_extension": ".py",
   "mimetype": "text/x-python",
   "name": "python",
   "nbconvert_exporter": "python",
   "pygments_lexer": "ipython3",
   "version": "3.8.10"
  }
 },
 "nbformat": 4,
 "nbformat_minor": 5
}
