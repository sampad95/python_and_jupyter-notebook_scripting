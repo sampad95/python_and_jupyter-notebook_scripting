{
 "cells": [
  {
   "cell_type": "code",
   "execution_count": 1,
   "id": "07ded2ff-bc33-4ca3-9092-a2766f2f61f4",
   "metadata": {},
   "outputs": [],
   "source": [
    "import random"
   ]
  },
  {
   "cell_type": "code",
   "execution_count": 2,
   "id": "c9ee5078-8a21-44fd-9b09-4350a283c0a5",
   "metadata": {},
   "outputs": [
    {
     "name": "stdout",
     "output_type": "stream",
     "text": [
      "Initial n =  4171\n",
      "7411 1147 6264\n",
      "Next n= 6264 Step =  1\n",
      "6642 2466 4176\n",
      "Next n= 4176 Step =  2\n",
      "7641 1467 6174\n",
      "Next n= 6174 Step =  3\n"
     ]
    }
   ],
   "source": [
    "n=random.randint(1001, 9999)\n",
    "print(\"Initial n = \", n)\n",
    "i = 0\n",
    "while(n!=6174):\n",
    "    min_n=int(''.join(sorted(str(n))))\n",
    "    max_n=int(''.join(sorted(str(n), reverse=True)))   \n",
    "    diff = max_n - min_n\n",
    "    i = i+1\n",
    "    \n",
    "    print(max_n, min_n, diff)\n",
    "\n",
    "    n = diff\n",
    "        \n",
    "    print(\"Next n=\", n, \"Step = \", i)"
   ]
  },
  {
   "cell_type": "code",
   "execution_count": 17,
   "id": "861aeb54-a614-4441-8cc7-9ab6724f2fe0",
   "metadata": {},
   "outputs": [
    {
     "name": "stdout",
     "output_type": "stream",
     "text": [
      "Initial n =  8440\n",
      "Step =  1\n",
      "8440 448 7992\n",
      "Next n= 7992\n",
      "Step =  2\n",
      "9972 2799 7173\n",
      "Next n= 7173\n",
      "Step =  3\n",
      "7731 1377 6354\n",
      "Next n= 6354\n",
      "Step =  4\n",
      "6543 3456 3087\n",
      "Next n= 3087\n",
      "Step =  5\n",
      "8730 378 8352\n",
      "Next n= 8352\n",
      "Step =  6\n",
      "8532 2358 6174\n",
      "Next n= 6174\n",
      "Stop\n"
     ]
    }
   ],
   "source": [
    "import random\n",
    "\n",
    "n=random.randint(100, 10000)\n",
    "# n = 2045\n",
    "print(\"Initial n = \", n)\n",
    "i = 0\n",
    "if len(str(n)) == 4:\n",
    "    while(int(n)!=6174):\n",
    "        min_n=int(''.join(sorted(str(n))))\n",
    "        max_n=int(''.join(sorted(str(n), reverse=True)))\n",
    "        if min_n == max_n:\n",
    "            print(\"Invalid\")\n",
    "            break\n",
    "        else:\n",
    "            diff = max_n - min_n\n",
    "            i +=1\n",
    "    \n",
    "            print(\"Step = \", i)\n",
    "            print(max_n, min_n, diff)\n",
    "                \n",
    "            if len(str(diff)) == 4:\n",
    "                n = diff\n",
    "            elif len(str(diff)) == 3:\n",
    "                n = '0'+str(diff)\n",
    "            elif len(str(diff)) == 2:\n",
    "                n = '00'+str(diff)\n",
    "            else:\n",
    "                n = '000'+str(diff)\n",
    "                \n",
    "            print(\"Next n=\", n)\n",
    "    print(\"Stop\")\n",
    "\n",
    "else:\n",
    "    print(\"Invalid\")       "
   ]
  },
  {
   "cell_type": "code",
   "execution_count": 9,
   "id": "f33d909f-68da-4ca1-8e1d-e0776f189817",
   "metadata": {},
   "outputs": [],
   "source": [
    "def Kaprekar_routine(n):\n",
    "    print(\"Initial n = \", n)\n",
    "    i = 0\n",
    "    if len(str(n)) == 4:\n",
    "        while(int(n)!=6174):\n",
    "            min_n=int(''.join(sorted(str(n))))\n",
    "            max_n=int(''.join(sorted(str(n), reverse=True)))\n",
    "\n",
    "            if min_n == max_n:\n",
    "                print(\"Invalid\")\n",
    "                break\n",
    "            else:\n",
    "                diff = max_n - min_n\n",
    "                i +=1\n",
    "\n",
    "                print(\"Step = \", i)\n",
    "                print(min_n, max_n, diff)\n",
    "\n",
    "\n",
    "                if len(str(diff)) == 4:\n",
    "                    n = diff\n",
    "                elif len(str(diff)) == 3:\n",
    "                    n = '0'+str(diff)\n",
    "                elif len(str(diff)) == 2:\n",
    "                    n = '00'+str(diff)\n",
    "                else:\n",
    "                    n = '000'+str(diff)\n",
    "\n",
    "                print(\"Next n = \", n)\n",
    "                \n",
    "        print(\"Stop\")\n",
    "\n",
    "    else:\n",
    "        print(\"Invalid\")"
   ]
  },
  {
   "cell_type": "code",
   "execution_count": 13,
   "id": "cdb04c16-5b5f-482e-8c91-fddf1314c6ee",
   "metadata": {},
   "outputs": [
    {
     "name": "stdout",
     "output_type": "stream",
     "text": [
      "Initial n =  5616\n",
      "Step =  1\n",
      "1566 6651 5085\n",
      "Next n =  5085\n",
      "Step =  2\n",
      "558 8550 7992\n",
      "Next n =  7992\n",
      "Step =  3\n",
      "2799 9972 7173\n",
      "Next n =  7173\n",
      "Step =  4\n",
      "1377 7731 6354\n",
      "Next n =  6354\n",
      "Step =  5\n",
      "3456 6543 3087\n",
      "Next n =  3087\n",
      "Step =  6\n",
      "378 8730 8352\n",
      "Next n =  8352\n",
      "Step =  7\n",
      "2358 8532 6174\n",
      "Next n =  6174\n",
      "Stop\n"
     ]
    }
   ],
   "source": [
    "num = random.randint(100, 10000)\n",
    "Kaprekar_routine(num)"
   ]
  },
  {
   "cell_type": "code",
   "execution_count": null,
   "id": "10a54419-0796-4e8d-93cf-9965772e3c7a",
   "metadata": {},
   "outputs": [],
   "source": []
  }
 ],
 "metadata": {
  "kernelspec": {
   "display_name": "Python 3 (ipykernel)",
   "language": "python",
   "name": "python3"
  },
  "language_info": {
   "codemirror_mode": {
    "name": "ipython",
    "version": 3
   },
   "file_extension": ".py",
   "mimetype": "text/x-python",
   "name": "python",
   "nbconvert_exporter": "python",
   "pygments_lexer": "ipython3",
   "version": "3.8.10"
  }
 },
 "nbformat": 4,
 "nbformat_minor": 5
}
