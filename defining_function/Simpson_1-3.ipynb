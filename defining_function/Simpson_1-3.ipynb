{
 "cells": [
  {
   "cell_type": "code",
   "execution_count": 1,
   "id": "9b2b20a0-58f3-460d-be92-cc4082dcabb4",
   "metadata": {
    "tags": []
   },
   "outputs": [],
   "source": [
    "import numpy as np\n",
    "import matplotlib.pyplot as plt"
   ]
  },
  {
   "cell_type": "code",
   "execution_count": 2,
   "id": "e03b6074-e54b-45aa-bc8e-7543a3af934f",
   "metadata": {
    "tags": []
   },
   "outputs": [],
   "source": [
    "# def f(x):\n",
    "#     return x**2\n",
    "\n",
    "# def simp1_3(a, b, n):\n",
    "#     h = (b-a)/n\n",
    "#     def x(i):\n",
    "#         return a+i*h\n",
    "#     msum = 0\n",
    "#     for k in np.arange(1, n/2+1):\n",
    "#         msum += (h/3)*(f(x(2*k-2)) + 4*f(x(2*k-1)) + f(x(2*k)))\n",
    "        \n",
    "#     return msum"
   ]
  },
  {
   "cell_type": "code",
   "execution_count": 3,
   "id": "07f730d4-81e9-41c8-a0d4-2574bc3503ca",
   "metadata": {
    "tags": []
   },
   "outputs": [],
   "source": [
    "def f(x):\n",
    "    return np.log(x)\n",
    "\n",
    "def simp1_3(a, b, n):\n",
    "    h = (b-a)/n\n",
    "    y = np.linspace(a, b, n+1)\n",
    "    msum = (h/3)*(f(a) + 4*sum(f(y[1:n:2])) + 2*sum(f(y[2:n-1:2])) + f(b))\n",
    "    \n",
    "    return msum, y, f(y)"
   ]
  },
  {
   "cell_type": "code",
   "execution_count": 4,
   "id": "e529bf8c-e08f-4da4-8f8c-821df70ca58c",
   "metadata": {
    "tags": []
   },
   "outputs": [
    {
     "name": "stdin",
     "output_type": "stream",
     "text": [
      "Enter the lower limit\n",
      " 0.0001\n",
      "Enter the upper limit\n",
      " 11\n",
      "Enter the number of intervals in between lower and upper limit\n",
      " 1000\n"
     ]
    },
    {
     "name": "stdout",
     "output_type": "stream",
     "text": [
      "15.36942437916899\n"
     ]
    }
   ],
   "source": [
    "l = eval(input('Enter the lower limit\\n'))\n",
    "u = eval(input('Enter the upper limit\\n'))\n",
    "\n",
    "intv = eval(input('Enter the number of intervals in between lower and upper limit\\n'))\n",
    "\n",
    "I, inputs, outputs = simp1_3(l, u, intv)\n",
    "\n",
    "print(I)"
   ]
  },
  {
   "cell_type": "code",
   "execution_count": 5,
   "id": "305b25f7-3b95-4d18-8e5b-623e8374f2a2",
   "metadata": {},
   "outputs": [
    {
     "data": {
      "image/png": "[encoded data removed]",
      "text/plain": [
       "<Figure size 432x288 with 1 Axes>"
      ]
     },
     "metadata": {
      "needs_background": "light"
     },
     "output_type": "display_data"
    }
   ],
   "source": [
    "plt.plot(inputs, outputs, color = 'r',linestyle='-',linewidth=2)\n",
    "plt.axvline(x = 0.0, color = 'lightgrey',linestyle='--',linewidth=2)\n",
    "plt.axhline(y = 0.0, color = 'lightgrey',linestyle='--',linewidth=2)\n",
    "plt.show()"
   ]
  },
  {
   "cell_type": "code",
   "execution_count": 6,
   "id": "f01c1dfc-1f24-4503-b438-4d186760d75b",
   "metadata": {
    "tags": []
   },
   "outputs": [],
   "source": [
    "import numpy as np\n",
    "from scipy import integrate"
   ]
  },
  {
   "cell_type": "code",
   "execution_count": 7,
   "id": "c72580b4-866b-4137-9947-6301da793738",
   "metadata": {
    "tags": []
   },
   "outputs": [
    {
     "data": {
      "text/plain": [
       "443.83333333333326"
      ]
     },
     "execution_count": 7,
     "metadata": {},
     "output_type": "execute_result"
    }
   ],
   "source": [
    "x = np.arange(0, 12)\n",
    "y = x**2\n",
    "\n",
    "integrate.simpson(y, x)"
   ]
  },
  {
   "cell_type": "code",
   "execution_count": null,
   "id": "b44d7ca3-556b-434a-b017-d0c0552739db",
   "metadata": {},
   "outputs": [],
   "source": []
  }
 ],
 "metadata": {
  "kernelspec": {
   "display_name": "Python 3 (ipykernel)",
   "language": "python",
   "name": "python3"
  },
  "language_info": {
   "codemirror_mode": {
    "name": "ipython",
    "version": 3
   },
   "file_extension": ".py",
   "mimetype": "text/x-python",
   "name": "python",
   "nbconvert_exporter": "python",
   "pygments_lexer": "ipython3",
   "version": "3.7.9"
  }
 },
 "nbformat": 4,
 "nbformat_minor": 5
}
