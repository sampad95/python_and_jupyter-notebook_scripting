{
 "cells": [
  {
   "cell_type": "code",
   "execution_count": 1,
   "id": "9b2b20a0-58f3-460d-be92-cc4082dcabb4",
   "metadata": {
    "tags": []
   },
   "outputs": [],
   "source": [
    "import numpy as np\n",
    "import matplotlib.pyplot as plt"
   ]
  },
  {
   "cell_type": "code",
   "execution_count": 2,
   "id": "e03b6074-e54b-45aa-bc8e-7543a3af934f",
   "metadata": {
    "tags": []
   },
   "outputs": [],
   "source": [
    "# def f(x):\n",
    "#     return x**2\n",
    "\n",
    "# def simp1_3(a, b, n):\n",
    "#     h = (b-a)/n\n",
    "#     def x(i):\n",
    "#         return a+i*h\n",
    "#     msum = 0\n",
    "#     for k in np.arange(1, n/2+1):\n",
    "#         msum += (h/3)*(f(x(2*k-2)) + 4*f(x(2*k-1)) + f(x(2*k)))\n",
    "        \n",
    "#     return msum"
   ]
  },
  {
   "cell_type": "code",
   "execution_count": 3,
   "id": "07f730d4-81e9-41c8-a0d4-2574bc3503ca",
   "metadata": {
    "tags": []
   },
   "outputs": [],
   "source": [
    "def f(x):\n",
    "    return np.log(x)\n",
    "\n",
    "def simp1_3(a, b, n):\n",
    "    h = (b-a)/n\n",
    "    y = np.linspace(a, b, n+1)\n",
    "    msum = (h/3)*(f(a) + 4*sum(f(y[1:n:2])) + 2*sum(f(y[2:n-1:2])) + f(b))\n",
    "    \n",
    "    return msum, y, f(y)"
   ]
  },
  {
   "cell_type": "code",
   "execution_count": 4,
   "id": "3cfe33d3-bae6-410d-890c-d8eedeb61e63",
   "metadata": {
    "tags": []
   },
   "outputs": [],
   "source": [
    "def Simpson1_3(f, a, b, n):\n",
    "    \n",
    "    import numpy as np\n",
    "    \n",
    "    h = (b-a)/n\n",
    "    \n",
    "#    y = np.linspace(a, b, n+1)\n",
    "    y = np.arange(a, b, h)\n",
    "    s = (h/3)*(f(a) + 4*sum(f(y[1:n:2])) + 2*sum(f(y[2:n-1:2])) + f(b))\n",
    "    \n",
    "    return s"
   ]
  },
  {
   "cell_type": "code",
   "execution_count": 13,
   "id": "579e2d32-68a3-43dd-a5b3-cfb1a3126ba3",
   "metadata": {
    "tags": []
   },
   "outputs": [],
   "source": [
    "def g(x):\n",
    "    return 1/(x-8)**2"
   ]
  },
  {
   "cell_type": "code",
   "execution_count": 14,
   "id": "44db7959-07ff-49cd-bab0-408cefe2a8d4",
   "metadata": {
    "tags": []
   },
   "outputs": [
    {
     "data": {
      "text/plain": [
       "0.8571445632783548"
      ]
     },
     "execution_count": 14,
     "metadata": {},
     "output_type": "execute_result"
    }
   ],
   "source": [
    "Simpson1_3(g, 1, 7, 100)"
   ]
  },
  {
   "cell_type": "code",
   "execution_count": 5,
   "id": "e529bf8c-e08f-4da4-8f8c-821df70ca58c",
   "metadata": {
    "tags": []
   },
   "outputs": [
    {
     "name": "stdin",
     "output_type": "stream",
     "text": [
      "Enter the lower limit\n",
      " 1\n",
      "Enter the upper limit\n",
      " 7\n",
      "Enter the number of intervals in between lower and upper limit\n",
      " 100\n"
     ]
    },
    {
     "name": "stdout",
     "output_type": "stream",
     "text": [
      "7.621370900539313\n"
     ]
    }
   ],
   "source": [
    "l = eval(input('Enter the lower limit\\n'))\n",
    "u = eval(input('Enter the upper limit\\n'))\n",
    "\n",
    "intv = eval(input('Enter the number of intervals in between lower and upper limit\\n'))\n",
    "\n",
    "I, inputs, outputs = simp1_3(l, u, intv)\n",
    "\n",
    "print(I)"
   ]
  },
  {
   "cell_type": "code",
   "execution_count": 6,
   "id": "305b25f7-3b95-4d18-8e5b-623e8374f2a2",
   "metadata": {},
   "outputs": [
    {
     "data": {
      "image/png": "[encoded data removed]",
      "text/plain": [
       "<Figure size 432x288 with 1 Axes>"
      ]
     },
     "metadata": {
      "needs_background": "light"
     },
     "output_type": "display_data"
    }
   ],
   "source": [
    "plt.plot(inputs, outputs, color = 'r',linestyle='-',linewidth=2)\n",
    "plt.axvline(x = 0.0, color = 'lightgrey',linestyle='--',linewidth=2)\n",
    "plt.axhline(y = 0.0, color = 'lightgrey',linestyle='--',linewidth=2)\n",
    "plt.show()"
   ]
  },
  {
   "cell_type": "code",
   "execution_count": 7,
   "id": "f01c1dfc-1f24-4503-b438-4d186760d75b",
   "metadata": {
    "tags": []
   },
   "outputs": [],
   "source": [
    "import numpy as np\n",
    "from scipy import integrate"
   ]
  },
  {
   "cell_type": "code",
   "execution_count": 8,
   "id": "c72580b4-866b-4137-9947-6301da793738",
   "metadata": {
    "tags": []
   },
   "outputs": [
    {
     "data": {
      "text/plain": [
       "17.824296890070443"
      ]
     },
     "execution_count": 8,
     "metadata": {},
     "output_type": "execute_result"
    }
   ],
   "source": [
    "x = np.arange(0.001, 12, 0.001)\n",
    "y = np.log(x)\n",
    "\n",
    "integrate.simpson(y, x)"
   ]
  },
  {
   "cell_type": "code",
   "execution_count": 9,
   "id": "69d459af-1585-4ca9-b536-e1ceff10818c",
   "metadata": {
    "tags": []
   },
   "outputs": [
    {
     "data": {
      "text/plain": [
       "1200"
      ]
     },
     "execution_count": 9,
     "metadata": {},
     "output_type": "execute_result"
    }
   ],
   "source": [
    "len(np.arange(0.001, 12, 0.01))"
   ]
  },
  {
   "cell_type": "code",
   "execution_count": 10,
   "id": "d4dd7c18-a324-46b1-b63b-08ba41ff273c",
   "metadata": {
    "tags": []
   },
   "outputs": [
    {
     "data": {
      "text/plain": [
       "array([1.0000e-03, 1.1000e-02, 2.1000e-02, ..., 1.1971e+01, 1.1981e+01,\n",
       "       1.1991e+01])"
      ]
     },
     "execution_count": 10,
     "metadata": {},
     "output_type": "execute_result"
    }
   ],
   "source": [
    "np.arange(0.001, 12, 0.01)"
   ]
  },
  {
   "cell_type": "code",
   "execution_count": null,
   "id": "a1de793b-8cc0-46ee-8c2f-ec6b1336d17a",
   "metadata": {},
   "outputs": [],
   "source": []
  }
 ],
 "metadata": {
  "kernelspec": {
   "display_name": "Python 3 (ipykernel)",
   "language": "python",
   "name": "python3"
  },
  "language_info": {
   "codemirror_mode": {
    "name": "ipython",
    "version": 3
   },
   "file_extension": ".py",
   "mimetype": "text/x-python",
   "name": "python",
   "nbconvert_exporter": "python",
   "pygments_lexer": "ipython3",
   "version": "3.7.9"
  }
 },
 "nbformat": 4,
 "nbformat_minor": 5
}
