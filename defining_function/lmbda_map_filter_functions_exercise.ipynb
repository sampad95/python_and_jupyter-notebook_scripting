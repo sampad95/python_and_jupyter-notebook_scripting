{
 "cells": [
  {
   "cell_type": "markdown",
   "id": "dd3bd418-c197-4082-8ce0-49fefa4ec784",
   "metadata": {},
   "source": [
    "**1. Write a lambda function that takes a list of integers and returns a new list where each integer is squared.**"
   ]
  },
  {
   "cell_type": "code",
   "execution_count": 1,
   "id": "8d322bad-9649-489d-a30c-f62063f37e59",
   "metadata": {
    "tags": []
   },
   "outputs": [
    {
     "data": {
      "text/plain": [
       "[9, 25, 49, 81]"
      ]
     },
     "execution_count": 1,
     "metadata": {},
     "output_type": "execute_result"
    }
   ],
   "source": [
    "sq_lst1 = lambda lst: [i**2 for i in lst]\n",
    "\n",
    "l = [3,5,7,9]\n",
    "sq_lst1(l)"
   ]
  },
  {
   "cell_type": "code",
   "execution_count": 2,
   "id": "110009d5-7b35-488f-979e-d9a9afc9a08f",
   "metadata": {
    "tags": []
   },
   "outputs": [],
   "source": [
    "def sq_lst2(lst):\n",
    "    return [i**2 for i in lst]"
   ]
  },
  {
   "cell_type": "code",
   "execution_count": 3,
   "id": "3cafb982-5528-441b-9e1e-431b992b5efb",
   "metadata": {
    "tags": []
   },
   "outputs": [
    {
     "data": {
      "text/plain": [
       "[9, 25, 49, 81]"
      ]
     },
     "execution_count": 3,
     "metadata": {},
     "output_type": "execute_result"
    }
   ],
   "source": [
    "sq_lst2(l)"
   ]
  },
  {
   "cell_type": "code",
   "execution_count": 4,
   "id": "bc962da3-606c-4cdf-b16c-6fa5ce48a76c",
   "metadata": {
    "tags": []
   },
   "outputs": [
    {
     "name": "stdout",
     "output_type": "stream",
     "text": [
      "[9, 25, 49, 81]\n"
     ]
    }
   ],
   "source": [
    "# lambda function in list comprehension\n",
    "sq_num1 = lambda i: i**2\n",
    "my_lst = [3,5,7,9]\n",
    "\n",
    "new_lst = [sq_num1(x) for x in my_lst]\n",
    "print(new_lst)"
   ]
  },
  {
   "cell_type": "code",
   "execution_count": 5,
   "id": "de9ec67c-43b0-403d-a4e3-d1069d0d781a",
   "metadata": {
    "tags": []
   },
   "outputs": [
    {
     "name": "stdout",
     "output_type": "stream",
     "text": [
      "[9, 25, 49, 81]\n"
     ]
    }
   ],
   "source": [
    "# lambda function in list comprehension\n",
    "my_lst = [3,5,7,9]\n",
    "\n",
    "new_lst = [(lambda i: i**2)(x) for x in my_lst]\n",
    "print(new_lst)"
   ]
  },
  {
   "cell_type": "markdown",
   "id": "a098061d-bf0b-4067-bddf-02a1b5e733bf",
   "metadata": {},
   "source": [
    "**using _map_ function**"
   ]
  },
  {
   "cell_type": "code",
   "execution_count": 6,
   "id": "ac4c8ebe-ed48-4878-b98d-5020e7c6f6ab",
   "metadata": {
    "tags": []
   },
   "outputs": [],
   "source": [
    "#help(map)"
   ]
  },
  {
   "cell_type": "code",
   "execution_count": 7,
   "id": "32ce4a8c-9366-424f-8c0a-d820cf697c63",
   "metadata": {
    "tags": []
   },
   "outputs": [
    {
     "name": "stdout",
     "output_type": "stream",
     "text": [
      "[9, 25, 49, 81]\n",
      "(9, 25, 49, 81)\n"
     ]
    }
   ],
   "source": [
    "sq_num1 = lambda x: x**2\n",
    "\n",
    "l = [3,5,7,9]\n",
    "\n",
    "print(list(map(sq_num1, l)))\n",
    "print(tuple(map(sq_num1, l)))"
   ]
  },
  {
   "cell_type": "code",
   "execution_count": 8,
   "id": "fdffd40e-e685-4066-a730-56ed7f1cce65",
   "metadata": {
    "tags": []
   },
   "outputs": [
    {
     "name": "stdout",
     "output_type": "stream",
     "text": [
      "[81, 49, 25, 9, 1]\n",
      "(81, 49, 25, 9, 1)\n"
     ]
    }
   ],
   "source": [
    "l = [9, 7, 5, 3, 1]\n",
    "\n",
    "print(list(map(lambda x: x**2, l)))\n",
    "print(tuple(map(lambda x: x**2, l)))"
   ]
  },
  {
   "cell_type": "code",
   "execution_count": 9,
   "id": "352e2787-d689-48a7-bcba-dc8940894e74",
   "metadata": {
    "tags": []
   },
   "outputs": [],
   "source": [
    "def sq_num2(x):\n",
    "    return x**2"
   ]
  },
  {
   "cell_type": "code",
   "execution_count": 10,
   "id": "98f07a37-4406-49b9-bb8c-c2aa9c9c6099",
   "metadata": {
    "tags": []
   },
   "outputs": [
    {
     "data": {
      "text/plain": [
       "[9, 25, 49, 81]"
      ]
     },
     "execution_count": 10,
     "metadata": {},
     "output_type": "execute_result"
    }
   ],
   "source": [
    "t = (3,5,7,9)\n",
    "list(map(sq_num2, t))"
   ]
  },
  {
   "cell_type": "code",
   "execution_count": 11,
   "id": "5fc74cc1-344e-4582-bcbc-781f34451277",
   "metadata": {
    "tags": []
   },
   "outputs": [
    {
     "name": "stdout",
     "output_type": "stream",
     "text": [
      "[1, 64, 729]\n",
      "(1, 4, 9)\n",
      "(1, 64, 729)\n"
     ]
    }
   ],
   "source": [
    "d = {1: 1, 2: 8, 3: 27}\n",
    "\n",
    "#print(d.keys())\n",
    "print(list(map(lambda x: x**2, d.values())))\n",
    "print(tuple(map(lambda x: x**2, d.keys())))\n",
    "print(tuple(map(lambda x: x**2, d.values())))"
   ]
  },
  {
   "cell_type": "code",
   "execution_count": 12,
   "id": "b67be397-b8ad-4b16-9e38-f1b012d77d04",
   "metadata": {
    "tags": []
   },
   "outputs": [
    {
     "name": "stdout",
     "output_type": "stream",
     "text": [
      "[1, 64, 729]\n",
      "(1, 4, 9)\n",
      "(1, 64, 729)\n"
     ]
    }
   ],
   "source": [
    "d = {1: 1, 2: 8, 3: 27}\n",
    "\n",
    "sq_num3 = lambda x: x**2\n",
    "\n",
    "#print(d.keys())\n",
    "print(list(map(sq_num3, d.values())))\n",
    "print(tuple(map(sq_num3, d.keys())))\n",
    "print(tuple(map(sq_num3, d.values())))"
   ]
  },
  {
   "cell_type": "markdown",
   "id": "9c5ebc68-1f1e-40e1-b7eb-ce2faef3f909",
   "metadata": {},
   "source": [
    "**2. Write a lambda function that takes a dictionary and returns the values sorted in descending order.**"
   ]
  },
  {
   "cell_type": "code",
   "execution_count": 13,
   "id": "714ebfdc-d178-4047-aeb4-f39900f56fa1",
   "metadata": {
    "tags": []
   },
   "outputs": [],
   "source": [
    "dict_val1 = lambda d: sorted(list(d.values()), reverse=True)"
   ]
  },
  {
   "cell_type": "code",
   "execution_count": 14,
   "id": "9de78df7-2d0a-440e-959a-5b8f21debb53",
   "metadata": {
    "tags": []
   },
   "outputs": [
    {
     "data": {
      "text/plain": [
       "[9, 5, 3, 2]"
      ]
     },
     "execution_count": 14,
     "metadata": {},
     "output_type": "execute_result"
    }
   ],
   "source": [
    "my_dict = {'a':2, 'b':9, 'c':3, 'd':5}\n",
    "\n",
    "dict_val1(my_dict)"
   ]
  },
  {
   "cell_type": "code",
   "execution_count": 15,
   "id": "86cacc8b-d6b0-4fd3-a617-304457f7da56",
   "metadata": {},
   "outputs": [],
   "source": [
    "dict_val2 = lambda d: sorted((d.values()), reverse=True)"
   ]
  },
  {
   "cell_type": "code",
   "execution_count": 16,
   "id": "d5d0f50e-2cae-4f2e-b5c3-5dedd2084d74",
   "metadata": {},
   "outputs": [
    {
     "data": {
      "text/plain": [
       "[9, 5, 3, 2]"
      ]
     },
     "execution_count": 16,
     "metadata": {},
     "output_type": "execute_result"
    }
   ],
   "source": [
    "my_dict = {'a':2, 'b':9, 'c':3, 'd':5}\n",
    "\n",
    "dict_val2(my_dict)"
   ]
  },
  {
   "cell_type": "markdown",
   "id": "eab8414f-fd87-47cc-95e5-e27f14f2fabb",
   "metadata": {},
   "source": [
    "**3. Write a lambda function that takes a list of tuples where each tuple contains a name and an age, and returns a new list of names sorted alphabetically.**"
   ]
  },
  {
   "cell_type": "code",
   "execution_count": 17,
   "id": "99fafc72-9b92-44ee-9e9a-b18111f3517f",
   "metadata": {
    "tags": []
   },
   "outputs": [],
   "source": [
    "name_lst1 = lambda lst: sorted(t[0] for t in lst)"
   ]
  },
  {
   "cell_type": "code",
   "execution_count": 18,
   "id": "d9f6050e-f23d-492f-840f-98a6c326359a",
   "metadata": {
    "tags": []
   },
   "outputs": [
    {
     "data": {
      "text/plain": [
       "['Laxman', 'Ram', 'Sarat', 'Sham']"
      ]
     },
     "execution_count": 18,
     "metadata": {},
     "output_type": "execute_result"
    }
   ],
   "source": [
    "my_lst = [('Ram', 27), ('Sham', 25), ('Laxman', 28), ('Sarat', 20)]\n",
    "\n",
    "name_lst1(my_lst)"
   ]
  },
  {
   "cell_type": "code",
   "execution_count": 19,
   "id": "716efb09-cb6c-4b1b-b4be-85d7c1679ad6",
   "metadata": {
    "tags": []
   },
   "outputs": [],
   "source": [
    "def name_lst2(lst):\n",
    "    return sorted(t[0] for t in lst)"
   ]
  },
  {
   "cell_type": "code",
   "execution_count": 20,
   "id": "d970befb-7fc1-4691-af41-83f1d71850c4",
   "metadata": {
    "tags": []
   },
   "outputs": [
    {
     "data": {
      "text/plain": [
       "['Laxman', 'Ram', 'Sarat', 'Sham']"
      ]
     },
     "execution_count": 20,
     "metadata": {},
     "output_type": "execute_result"
    }
   ],
   "source": [
    "name_lst2(my_lst)"
   ]
  },
  {
   "cell_type": "code",
   "execution_count": 21,
   "id": "737d0581-7f91-4643-a7a2-8c86a717c763",
   "metadata": {
    "tags": []
   },
   "outputs": [],
   "source": [
    "def name_lst3(lst):\n",
    "    new_lst = []\n",
    "    for t in lst:\n",
    "        new_lst.append(t[0])\n",
    "    return sorted(new_lst)\n",
    "    return new_lst"
   ]
  },
  {
   "cell_type": "code",
   "execution_count": 22,
   "id": "195a018f-912c-49cd-843b-0654f18674cc",
   "metadata": {
    "tags": []
   },
   "outputs": [
    {
     "data": {
      "text/plain": [
       "['Laxman', 'Ram', 'Sarat', 'Sham']"
      ]
     },
     "execution_count": 22,
     "metadata": {},
     "output_type": "execute_result"
    }
   ],
   "source": [
    "name_lst3(my_lst)"
   ]
  },
  {
   "cell_type": "markdown",
   "id": "7276ad47-46a7-4cc0-8b9c-6aebb895c69a",
   "metadata": {},
   "source": [
    "**sorting wit respect to the last character of the names**"
   ]
  },
  {
   "cell_type": "code",
   "execution_count": 23,
   "id": "9a275f07-407a-4503-ac7d-9adf6c42a0c2",
   "metadata": {
    "tags": []
   },
   "outputs": [],
   "source": [
    "name_lst4 = lambda lst: sorted((t[0] for t in lst), key=lambda x: x[::-1])"
   ]
  },
  {
   "cell_type": "code",
   "execution_count": 24,
   "id": "63f435a7-d27c-40e0-b311-b8a198daba31",
   "metadata": {
    "tags": []
   },
   "outputs": [
    {
     "data": {
      "text/plain": [
       "['Ram', 'Sham', 'Laxman', 'Sarat']"
      ]
     },
     "execution_count": 24,
     "metadata": {},
     "output_type": "execute_result"
    }
   ],
   "source": [
    "name_lst4(my_lst)"
   ]
  },
  {
   "cell_type": "markdown",
   "id": "5ef8d801-ad8e-47a3-afa8-e01d9510674f",
   "metadata": {},
   "source": [
    "**4. Write a lambda function that takes a list of strings and returns a new list containing only the strings that start with the letter 'S'.**"
   ]
  },
  {
   "cell_type": "code",
   "execution_count": 25,
   "id": "dd35ba14-1ad3-44e4-b7e2-cb2ec1230f07",
   "metadata": {
    "tags": []
   },
   "outputs": [],
   "source": [
    "def f(lst):\n",
    "    new_lst = []\n",
    "    for w in lst:\n",
    "        if w.startswith('S')==True:\n",
    "            new_lst.append(w)\n",
    "    return new_lst\n",
    "            "
   ]
  },
  {
   "cell_type": "code",
   "execution_count": 26,
   "id": "fc18d032-c354-41ac-b61c-6010ccd5fc20",
   "metadata": {
    "tags": []
   },
   "outputs": [
    {
     "data": {
      "text/plain": [
       "['Sham', 'Sarat']"
      ]
     },
     "execution_count": 26,
     "metadata": {},
     "output_type": "execute_result"
    }
   ],
   "source": [
    "names = ['Ram', 'Sham', 'Laxman', 'Sarat']\n",
    "\n",
    "f(names)"
   ]
  },
  {
   "cell_type": "code",
   "execution_count": 27,
   "id": "7457d954-6f51-4bc2-9cf7-c49c49ac06e8",
   "metadata": {},
   "outputs": [
    {
     "data": {
      "text/plain": [
       "[False, True, False, True]"
      ]
     },
     "execution_count": 27,
     "metadata": {},
     "output_type": "execute_result"
    }
   ],
   "source": [
    "s = lambda lst1: [w.startswith('S') for w in lst1]\n",
    "\n",
    "s(names)"
   ]
  },
  {
   "cell_type": "code",
   "execution_count": 28,
   "id": "3637b398-7322-4a47-ac93-eadd86b579a4",
   "metadata": {
    "tags": []
   },
   "outputs": [],
   "source": [
    "#help(filter)"
   ]
  },
  {
   "cell_type": "markdown",
   "id": "f603d758-821f-4014-9546-f549d3018d43",
   "metadata": {},
   "source": [
    "**using lambda and filter functions**"
   ]
  },
  {
   "cell_type": "code",
   "execution_count": 29,
   "id": "fba5975e-8a72-4ce0-ae7f-6db70bf009dc",
   "metadata": {
    "tags": []
   },
   "outputs": [
    {
     "name": "stdout",
     "output_type": "stream",
     "text": [
      "False\n",
      "['Sham', 'Sarat']\n"
     ]
    }
   ],
   "source": [
    "wd = lambda w: w.startswith('S')\n",
    "\n",
    "print(wd('Ram'))\n",
    "\n",
    "print(list(filter(lambda w: w.startswith('S'), names)))"
   ]
  },
  {
   "cell_type": "code",
   "execution_count": 30,
   "id": "1c3b3028-3468-42f0-8eee-e71a200cc20f",
   "metadata": {
    "tags": []
   },
   "outputs": [
    {
     "data": {
      "text/plain": [
       "['Sham', 'Sarat']"
      ]
     },
     "execution_count": 30,
     "metadata": {},
     "output_type": "execute_result"
    }
   ],
   "source": [
    "nlst = lambda lst: list(filter(lambda w: w.startswith('S'), lst))\n",
    "\n",
    "nlst(names)"
   ]
  },
  {
   "cell_type": "markdown",
   "id": "35c86771-bb53-4f4e-9682-0d1613e4f6df",
   "metadata": {},
   "source": [
    "**5. Write a lambda function that takes a list of strings and returns a new list where each string is reversed.**"
   ]
  },
  {
   "cell_type": "code",
   "execution_count": 31,
   "id": "28fbdfb4-02c5-4fd7-8359-b6c1e8b649fc",
   "metadata": {
    "tags": []
   },
   "outputs": [],
   "source": [
    "str_rev_lst1 = lambda str_lst: [strs[::-1] for strs in str_lst]"
   ]
  },
  {
   "cell_type": "code",
   "execution_count": 32,
   "id": "4439990b-4d98-4512-812c-c3d63bf92f65",
   "metadata": {
    "tags": []
   },
   "outputs": [
    {
     "data": {
      "text/plain": [
       "['maR', 'mahS', 'namxaL', 'taraS']"
      ]
     },
     "execution_count": 32,
     "metadata": {},
     "output_type": "execute_result"
    }
   ],
   "source": [
    "my_str_lst = ['Ram', 'Sham', 'Laxman', 'Sarat']\n",
    "\n",
    "str_rev_lst1(my_str_lst)"
   ]
  },
  {
   "cell_type": "code",
   "execution_count": 33,
   "id": "5600cd9b-4add-416a-baf0-76c61c9b90a3",
   "metadata": {
    "tags": []
   },
   "outputs": [],
   "source": [
    "def str_rev_lst2(lst):\n",
    "    nw_lst = []\n",
    "    for sr in lst:\n",
    "        nw_lst.append(sr[::-1])\n",
    "        \n",
    "    return nw_lst"
   ]
  },
  {
   "cell_type": "code",
   "execution_count": 34,
   "id": "80826f43-4fc2-477d-b70c-e217f8bc9bce",
   "metadata": {
    "tags": []
   },
   "outputs": [
    {
     "data": {
      "text/plain": [
       "['maR', 'mahS', 'namxaL', 'taraS']"
      ]
     },
     "execution_count": 34,
     "metadata": {},
     "output_type": "execute_result"
    }
   ],
   "source": [
    "str_rev_lst2(my_str_lst)"
   ]
  },
  {
   "cell_type": "markdown",
   "id": "95b62327-ae63-4227-a66f-317bf1201529",
   "metadata": {},
   "source": [
    "**6. Extract odd numbers from a list of integers using lambda function.**"
   ]
  },
  {
   "cell_type": "code",
   "execution_count": 35,
   "id": "b8f0fa31-bd4a-4d6c-9739-c3643612ae14",
   "metadata": {
    "tags": []
   },
   "outputs": [
    {
     "name": "stdout",
     "output_type": "stream",
     "text": [
      "True\n",
      "[11, 3, 5, 9]\n"
     ]
    }
   ],
   "source": [
    "odd_n =lambda n: n%2 != 0\n",
    "\n",
    "print(odd_n(5))\n",
    "\n",
    "my_int_lst = [11, 2, 3, 4, 8, 5, 9]\n",
    "print(list(filter(odd_n, my_int_lst)))"
   ]
  },
  {
   "cell_type": "code",
   "execution_count": 36,
   "id": "ff4b5bbd-de61-40d1-8b91-e5358cd2f5ed",
   "metadata": {
    "tags": []
   },
   "outputs": [],
   "source": [
    "odd_lst = lambda int_lst: list(filter(lambda n: n%2 != 0, int_lst))"
   ]
  },
  {
   "cell_type": "code",
   "execution_count": 37,
   "id": "f9bd05de-df95-4f33-ae69-f1a6e4596ef2",
   "metadata": {
    "tags": []
   },
   "outputs": [
    {
     "data": {
      "text/plain": [
       "[11, 3, 5, 9]"
      ]
     },
     "execution_count": 37,
     "metadata": {},
     "output_type": "execute_result"
    }
   ],
   "source": [
    "odd_lst(my_int_lst)"
   ]
  },
  {
   "cell_type": "markdown",
   "id": "b9ca42c9-da88-4cb7-9006-6718b9f330e1",
   "metadata": {},
   "source": [
    "**7. Take elements from two different list and make a new list of tuples using lambda function.**"
   ]
  },
  {
   "cell_type": "code",
   "execution_count": 38,
   "id": "91891dd0-9934-414f-81b0-05e71b17f3ab",
   "metadata": {
    "tags": []
   },
   "outputs": [],
   "source": [
    "coord1 = lambda seq1, seq2: list(map(lambda x, y: (x, y), seq1, seq2))"
   ]
  },
  {
   "cell_type": "code",
   "execution_count": 39,
   "id": "8d1a1633-b0c1-4354-a611-df49a46e152f",
   "metadata": {
    "tags": []
   },
   "outputs": [
    {
     "data": {
      "text/plain": [
       "[(1, 7), (3, 5), (5, 3), (7, 1)]"
      ]
     },
     "execution_count": 39,
     "metadata": {},
     "output_type": "execute_result"
    }
   ],
   "source": [
    "x_coord = [1, 3, 5, 7]\n",
    "y_coord = [7, 5, 3, 1]\n",
    "\n",
    "coord1(x_coord, y_coord)"
   ]
  },
  {
   "cell_type": "markdown",
   "id": "6fbec50d-5ff6-4887-ba18-c73d2d13378c",
   "metadata": {},
   "source": [
    "**using _zip_ function**"
   ]
  },
  {
   "cell_type": "code",
   "execution_count": 40,
   "id": "21531565-e822-486e-affd-9a2f3fd4d0f4",
   "metadata": {
    "tags": []
   },
   "outputs": [],
   "source": [
    "coord2 = lambda seq1 ,seq2: list(zip(seq1, seq2))"
   ]
  },
  {
   "cell_type": "code",
   "execution_count": 41,
   "id": "1446bf84-397a-45dc-aaa5-b344dc282d70",
   "metadata": {
    "tags": []
   },
   "outputs": [
    {
     "data": {
      "text/plain": [
       "[(1, 7), (3, 5), (5, 3), (7, 1)]"
      ]
     },
     "execution_count": 41,
     "metadata": {},
     "output_type": "execute_result"
    }
   ],
   "source": [
    "coord2(x_coord, y_coord)"
   ]
  },
  {
   "cell_type": "code",
   "execution_count": null,
   "id": "4019a6c2-0f95-4ad8-ad75-d0dc667e9a08",
   "metadata": {},
   "outputs": [],
   "source": []
  }
 ],
 "metadata": {
  "kernelspec": {
   "display_name": "Python 3 (ipykernel)",
   "language": "python",
   "name": "python3"
  },
  "language_info": {
   "codemirror_mode": {
    "name": "ipython",
    "version": 3
   },
   "file_extension": ".py",
   "mimetype": "text/x-python",
   "name": "python",
   "nbconvert_exporter": "python",
   "pygments_lexer": "ipython3",
   "version": "3.7.9"
  }
 },
 "nbformat": 4,
 "nbformat_minor": 5
}
