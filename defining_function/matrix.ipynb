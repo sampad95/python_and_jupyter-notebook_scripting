{
 "cells": [
  {
   "cell_type": "code",
   "execution_count": 1,
   "id": "27993999-82ce-4b73-826c-add85ecf6063",
   "metadata": {},
   "outputs": [],
   "source": [
    "def Null_mat(m, n):\n",
    "    N = [[0 for _ in range(n)] for _ in range(m)]\n",
    "    return N"
   ]
  },
  {
   "cell_type": "code",
   "execution_count": 2,
   "id": "ef1f269a-fc8e-41a0-8ac8-69f28798d183",
   "metadata": {},
   "outputs": [
    {
     "data": {
      "text/plain": [
       "[[0, 0, 0, 0, 0, 0],\n",
       " [0, 0, 0, 0, 0, 0],\n",
       " [0, 0, 0, 0, 0, 0],\n",
       " [0, 0, 0, 0, 0, 0],\n",
       " [0, 0, 0, 0, 0, 0]]"
      ]
     },
     "execution_count": 2,
     "metadata": {},
     "output_type": "execute_result"
    }
   ],
   "source": [
    "Null_mat(5, 6)"
   ]
  },
  {
   "cell_type": "code",
   "execution_count": 3,
   "id": "10eaaac3-b20e-4322-91ba-f786b62eb7a9",
   "metadata": {},
   "outputs": [],
   "source": [
    "# def Identity_mat(n):\n",
    "#     I = [[0 for j in range(n)] for i in range(n)]\n",
    "#     for i in range(len(I)):\n",
    "#         for j in range(len(I[i])):\n",
    "#             if i == j:\n",
    "#                 I[i][j] = 1\n",
    "            \n",
    "#     return I\n",
    "        "
   ]
  },
  {
   "cell_type": "code",
   "execution_count": 4,
   "id": "52389b82-45d1-40c3-be8b-d306fac755c8",
   "metadata": {},
   "outputs": [],
   "source": [
    "def Identity_mat(n):\n",
    "    I = [[1 if j == i else 0 for j in range(n)] for i in range(n)]   \n",
    "    \n",
    "    return I"
   ]
  },
  {
   "cell_type": "code",
   "execution_count": 5,
   "id": "95a5953f-5b01-4a20-9aa6-cf9b1d786d19",
   "metadata": {},
   "outputs": [
    {
     "data": {
      "text/plain": [
       "[[1, 0, 0, 0, 0],\n",
       " [0, 1, 0, 0, 0],\n",
       " [0, 0, 1, 0, 0],\n",
       " [0, 0, 0, 1, 0],\n",
       " [0, 0, 0, 0, 1]]"
      ]
     },
     "execution_count": 5,
     "metadata": {},
     "output_type": "execute_result"
    }
   ],
   "source": [
    "Identity_mat(5)"
   ]
  },
  {
   "cell_type": "code",
   "execution_count": 6,
   "id": "e7d20090-4ad6-4667-bc70-77b3677c5485",
   "metadata": {},
   "outputs": [],
   "source": [
    "def mat(m, n, a, b):\n",
    "    import random as rnd\n",
    "    mat = [[rnd.randint(a, b) for _ in range(n)] for _ in range(m)]\n",
    "    return mat"
   ]
  },
  {
   "cell_type": "code",
   "execution_count": 7,
   "id": "8f5e8953-c5d9-4c57-98e9-2b92e43e51e0",
   "metadata": {},
   "outputs": [
    {
     "data": {
      "text/plain": [
       "[[7, 1, -10, -3, 3],\n",
       " [8, 2, -7, -2, -1],\n",
       " [4, -9, -10, -9, -10],\n",
       " [-2, 6, 5, -2, -8],\n",
       " [4, 5, -6, 2, 2]]"
      ]
     },
     "execution_count": 7,
     "metadata": {},
     "output_type": "execute_result"
    }
   ],
   "source": [
    "mat(5, 5, -10, 10)"
   ]
  },
  {
   "cell_type": "code",
   "execution_count": 8,
   "id": "b13fdf94-4355-4a10-aed1-16ca504b20c1",
   "metadata": {},
   "outputs": [],
   "source": [
    "def null_mat(m, n):\n",
    "    null_matrix = []\n",
    "    for i in range(m):\n",
    "        n_mat = []\n",
    "        for j in range(n):\n",
    "            n_mat.append(0)\n",
    "            \n",
    "        null_matrix.append(n_mat)\n",
    "        \n",
    "    return null_matrix"
   ]
  },
  {
   "cell_type": "code",
   "execution_count": 9,
   "id": "f29ee715-d9a1-4735-9f8f-97f0157ca4c4",
   "metadata": {},
   "outputs": [
    {
     "data": {
      "text/plain": [
       "[[0, 0, 0, 0, 0, 0],\n",
       " [0, 0, 0, 0, 0, 0],\n",
       " [0, 0, 0, 0, 0, 0],\n",
       " [0, 0, 0, 0, 0, 0],\n",
       " [0, 0, 0, 0, 0, 0]]"
      ]
     },
     "execution_count": 9,
     "metadata": {},
     "output_type": "execute_result"
    }
   ],
   "source": [
    "null_mat(5, 6)"
   ]
  },
  {
   "cell_type": "code",
   "execution_count": 10,
   "id": "61ea7fe0-0261-438d-9f73-0a185cbacaec",
   "metadata": {},
   "outputs": [],
   "source": [
    "def identity_mat(m):\n",
    "    identity_matrix = []\n",
    "    for i in range(m):\n",
    "        i_mat = []\n",
    "        for j in range(m):\n",
    "            if i==j:\n",
    "                i_mat.append(1)\n",
    "            else:\n",
    "                i_mat.append(0)\n",
    "            \n",
    "        identity_matrix.append(i_mat)\n",
    "        \n",
    "    return identity_matrix"
   ]
  },
  {
   "cell_type": "code",
   "execution_count": 11,
   "id": "e1294c5c-8b5b-4a91-a728-ca4e764e421a",
   "metadata": {},
   "outputs": [
    {
     "data": {
      "text/plain": [
       "[[1, 0, 0, 0, 0],\n",
       " [0, 1, 0, 0, 0],\n",
       " [0, 0, 1, 0, 0],\n",
       " [0, 0, 0, 1, 0],\n",
       " [0, 0, 0, 0, 1]]"
      ]
     },
     "execution_count": 11,
     "metadata": {},
     "output_type": "execute_result"
    }
   ],
   "source": [
    "identity_mat(5)"
   ]
  },
  {
   "cell_type": "code",
   "execution_count": 12,
   "id": "692945c4-c32b-4c3c-8aef-11b8fae54efa",
   "metadata": {},
   "outputs": [],
   "source": [
    "def null_mat2(m, n):\n",
    "    null_matrix2 = []\n",
    "    i=1\n",
    "    while i <= m:\n",
    "        n_mat2 = []\n",
    "        j = 1\n",
    "        while j < n:\n",
    "            n_mat2.append(0)\n",
    "            j += 1\n",
    "            \n",
    "        null_matrix2.append(n_mat2)\n",
    "        i += 1\n",
    "        \n",
    "    return null_matrix2"
   ]
  },
  {
   "cell_type": "code",
   "execution_count": 13,
   "id": "973f81ec-a6e9-41e7-8643-ee14a069b488",
   "metadata": {},
   "outputs": [
    {
     "data": {
      "text/plain": [
       "[[0, 0, 0, 0, 0],\n",
       " [0, 0, 0, 0, 0],\n",
       " [0, 0, 0, 0, 0],\n",
       " [0, 0, 0, 0, 0],\n",
       " [0, 0, 0, 0, 0]]"
      ]
     },
     "execution_count": 13,
     "metadata": {},
     "output_type": "execute_result"
    }
   ],
   "source": [
    "null_mat2(5, 6)"
   ]
  },
  {
   "cell_type": "code",
   "execution_count": 14,
   "id": "ed838d95-a0f2-48ae-8f60-3a36dd8d7434",
   "metadata": {},
   "outputs": [],
   "source": [
    "def identity_mat2(m):\n",
    "    identity_matrix2 = []\n",
    "    i=1\n",
    "    while i <= m:\n",
    "        i_mat2 = []\n",
    "        j = 1\n",
    "        while j <= m:\n",
    "            if i==j:\n",
    "                i_mat2.append(1)\n",
    "            else:\n",
    "                i_mat2.append(0)\n",
    "            j += 1\n",
    "            \n",
    "        identity_matrix2.append(i_mat2)\n",
    "        i += 1\n",
    "        \n",
    "    return identity_matrix2"
   ]
  },
  {
   "cell_type": "code",
   "execution_count": 15,
   "id": "a6d5443a-ca64-4424-b0ea-55ea543a167b",
   "metadata": {},
   "outputs": [
    {
     "data": {
      "text/plain": [
       "[[1, 0, 0, 0, 0],\n",
       " [0, 1, 0, 0, 0],\n",
       " [0, 0, 1, 0, 0],\n",
       " [0, 0, 0, 1, 0],\n",
       " [0, 0, 0, 0, 1]]"
      ]
     },
     "execution_count": 15,
     "metadata": {},
     "output_type": "execute_result"
    }
   ],
   "source": [
    "identity_mat2(5)"
   ]
  },
  {
   "cell_type": "code",
   "execution_count": null,
   "id": "9c7a9b88-2495-4425-9c19-1f968fbb1f19",
   "metadata": {},
   "outputs": [],
   "source": []
  }
 ],
 "metadata": {
  "kernelspec": {
   "display_name": "Python 3 (ipykernel)",
   "language": "python",
   "name": "python3"
  },
  "language_info": {
   "codemirror_mode": {
    "name": "ipython",
    "version": 3
   },
   "file_extension": ".py",
   "mimetype": "text/x-python",
   "name": "python",
   "nbconvert_exporter": "python",
   "pygments_lexer": "ipython3",
   "version": "3.10.9"
  }
 },
 "nbformat": 4,
 "nbformat_minor": 5
}
