{
 "cells": [
  {
   "cell_type": "code",
   "execution_count": 1,
   "id": "6a7f9cbd-872f-4583-acdd-824ffbb87eb5",
   "metadata": {},
   "outputs": [],
   "source": [
    "def diff(f, x, h=1e-10):\n",
    "    return (f(x+h)-f(x))/h"
   ]
  },
  {
   "cell_type": "code",
   "execution_count": 2,
   "id": "e46d5009-ed53-4a46-bd44-e7ee6b6b1538",
   "metadata": {},
   "outputs": [],
   "source": [
    "import math as m\n",
    "def g(x):\n",
    "    return m.sin(x)"
   ]
  },
  {
   "cell_type": "code",
   "execution_count": 3,
   "id": "d231516c-4075-4f6e-94c6-be0ad4a40bb4",
   "metadata": {},
   "outputs": [
    {
     "data": {
      "text/plain": [
       "0.7071065954988853"
      ]
     },
     "execution_count": 3,
     "metadata": {},
     "output_type": "execute_result"
    }
   ],
   "source": [
    "diff(g, 45*m.pi/180)"
   ]
  },
  {
   "cell_type": "code",
   "execution_count": 24,
   "id": "c519e84f-f9ea-40fd-ae2f-c39c926ed273",
   "metadata": {},
   "outputs": [],
   "source": [
    "import math as m\n",
    "def p(x):\n",
    "    return x**3 + 2*x**2 + 4"
   ]
  },
  {
   "cell_type": "code",
   "execution_count": 33,
   "id": "a3e2044d-1d01-455f-912f-9bcf16060825",
   "metadata": {},
   "outputs": [],
   "source": [
    "def p(x):\n",
    "    return 1/(1-x)"
   ]
  },
  {
   "cell_type": "code",
   "execution_count": 34,
   "id": "dad9e76b-f587-4fdf-b2a7-4ef93b69fe9b",
   "metadata": {},
   "outputs": [
    {
     "data": {
      "text/plain": [
       "0.25000002068509275"
      ]
     },
     "execution_count": 34,
     "metadata": {},
     "output_type": "execute_result"
    }
   ],
   "source": [
    "diff(p, 3)"
   ]
  },
  {
   "cell_type": "code",
   "execution_count": 6,
   "id": "f91fe194-8665-48a8-8679-4d491cf98844",
   "metadata": {},
   "outputs": [],
   "source": [
    "def fact(n):\n",
    "    i=1\n",
    "    for j in range(1, n+1):\n",
    "        i = i*j\n",
    "        \n",
    "    return i"
   ]
  },
  {
   "cell_type": "code",
   "execution_count": 7,
   "id": "0fd3593e-2dfc-45b5-a4e9-8165096201a9",
   "metadata": {},
   "outputs": [
    {
     "data": {
      "text/plain": [
       "1"
      ]
     },
     "execution_count": 7,
     "metadata": {},
     "output_type": "execute_result"
    }
   ],
   "source": [
    "fact(0)"
   ]
  },
  {
   "cell_type": "code",
   "execution_count": 8,
   "id": "64dbdebd-108f-442d-979c-5ea95ed50e5f",
   "metadata": {},
   "outputs": [],
   "source": [
    "def sin(x, m):\n",
    "    s = 0.0\n",
    "    for k in range(m+1):\n",
    "        s += ((-1)**k)*x**(2*k + 1)/fact(2*k + 1)\n",
    "    return s"
   ]
  },
  {
   "cell_type": "code",
   "execution_count": 9,
   "id": "14e0bae5-3d69-4a38-968a-5b9264ad527e",
   "metadata": {},
   "outputs": [],
   "source": [
    "def cos(x, m):\n",
    "    s = 0.0\n",
    "    for k in range(m+1):\n",
    "        s += ((-1)**k)*x**(2*k)/fact(2*k)\n",
    "    return s"
   ]
  },
  {
   "cell_type": "code",
   "execution_count": 10,
   "id": "e181aab3-5536-48fe-a798-f3e3e718feb1",
   "metadata": {},
   "outputs": [],
   "source": [
    "def fn(d):\n",
    "    return sin(d, 6)/cos(d, 6)"
   ]
  },
  {
   "cell_type": "code",
   "execution_count": 19,
   "id": "efd152ad-0d5f-4f42-908b-34d25d3430c7",
   "metadata": {},
   "outputs": [],
   "source": [
    "def fn(d):\n",
    "    return sin(3*d, 6)**2"
   ]
  },
  {
   "cell_type": "code",
   "execution_count": 22,
   "id": "e871c9a6-53be-406a-8997-f2e4f48689ae",
   "metadata": {},
   "outputs": [
    {
     "data": {
      "text/plain": [
       "0.4999948960599493"
      ]
     },
     "execution_count": 22,
     "metadata": {},
     "output_type": "execute_result"
    }
   ],
   "source": [
    "d = 45*3.1416/180\n",
    "fn(d)"
   ]
  },
  {
   "cell_type": "code",
   "execution_count": 23,
   "id": "382b5ee3-dbbf-4edf-8bab-cabd1e494532",
   "metadata": {},
   "outputs": [
    {
     "data": {
      "text/plain": [
       "-2.9999902562138914"
      ]
     },
     "execution_count": 23,
     "metadata": {},
     "output_type": "execute_result"
    }
   ],
   "source": [
    "diff(fn, d)"
   ]
  },
  {
   "cell_type": "code",
   "execution_count": null,
   "id": "6613fe13-f3d1-4981-8d32-254e90b3b294",
   "metadata": {},
   "outputs": [],
   "source": []
  }
 ],
 "metadata": {
  "kernelspec": {
   "display_name": "Python 3 (ipykernel)",
   "language": "python",
   "name": "python3"
  },
  "language_info": {
   "codemirror_mode": {
    "name": "ipython",
    "version": 3
   },
   "file_extension": ".py",
   "mimetype": "text/x-python",
   "name": "python",
   "nbconvert_exporter": "python",
   "pygments_lexer": "ipython3",
   "version": "3.10.9"
  }
 },
 "nbformat": 4,
 "nbformat_minor": 5
}
