{
 "cells": [
  {
   "cell_type": "code",
   "execution_count": 1,
   "id": "73711726-c8d0-41ce-a37a-bb5ccac295ec",
   "metadata": {
    "tags": []
   },
   "outputs": [],
   "source": [
    "ls = [5, -2, -100, 6, 9, 1e8, 2, 6, 3, 72, 1]"
   ]
  },
  {
   "cell_type": "code",
   "execution_count": 2,
   "id": "d9b2c034-aa45-48c9-ab80-b8e7c0912423",
   "metadata": {
    "tags": []
   },
   "outputs": [],
   "source": [
    "def find_max(numbers):\n",
    "    max_val = numbers[0]\n",
    "    for i in numbers:\n",
    "        if i>max_val:\n",
    "            max_val = i\n",
    "            \n",
    "    return max_val"
   ]
  },
  {
   "cell_type": "code",
   "execution_count": 3,
   "id": "832b6896-2980-4775-935b-73ab881dffaf",
   "metadata": {
    "tags": []
   },
   "outputs": [],
   "source": [
    "def find_min(numbers):\n",
    "    min_val = numbers[0]\n",
    "    for i in numbers:\n",
    "        if i<min_val:\n",
    "            min_val = i\n",
    "            \n",
    "    return min_val"
   ]
  },
  {
   "cell_type": "code",
   "execution_count": 4,
   "id": "90fbc46e-84fd-4ac9-be6d-eb9e961e3ac4",
   "metadata": {
    "tags": []
   },
   "outputs": [
    {
     "data": {
      "text/plain": [
       "100000000.0"
      ]
     },
     "execution_count": 4,
     "metadata": {},
     "output_type": "execute_result"
    }
   ],
   "source": [
    "find_max(ls)"
   ]
  },
  {
   "cell_type": "code",
   "execution_count": 5,
   "id": "a9909149-4a47-4639-a275-6ce19db3acdb",
   "metadata": {
    "tags": []
   },
   "outputs": [
    {
     "data": {
      "text/plain": [
       "-100"
      ]
     },
     "execution_count": 5,
     "metadata": {},
     "output_type": "execute_result"
    }
   ],
   "source": [
    "find_min(ls)"
   ]
  },
  {
   "cell_type": "code",
   "execution_count": null,
   "id": "6fda49cb-9a32-4f04-bb10-88e04eb8b25e",
   "metadata": {},
   "outputs": [],
   "source": []
  }
 ],
 "metadata": {
  "kernelspec": {
   "display_name": "Python 3 (ipykernel)",
   "language": "python",
   "name": "python3"
  },
  "language_info": {
   "codemirror_mode": {
    "name": "ipython",
    "version": 3
   },
   "file_extension": ".py",
   "mimetype": "text/x-python",
   "name": "python",
   "nbconvert_exporter": "python",
   "pygments_lexer": "ipython3",
   "version": "3.7.9"
  }
 },
 "nbformat": 4,
 "nbformat_minor": 5
}
