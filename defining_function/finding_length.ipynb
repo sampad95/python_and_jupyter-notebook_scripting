{
 "cells": [
  {
   "cell_type": "code",
   "execution_count": 1,
   "id": "d68e3458-6125-4d70-adf0-675e7752c845",
   "metadata": {
    "tags": []
   },
   "outputs": [],
   "source": [
    "def find_len(data_type):\n",
    "    n = 0\n",
    "    for i in data_type:\n",
    "        n += 1\n",
    "        \n",
    "    return n "
   ]
  },
  {
   "cell_type": "code",
   "execution_count": 2,
   "id": "a6754e3b-83fd-44c2-a35f-84d2821090f5",
   "metadata": {
    "tags": []
   },
   "outputs": [],
   "source": [
    "s = 'Sampad'"
   ]
  },
  {
   "cell_type": "code",
   "execution_count": 3,
   "id": "f3c7767a-93f0-4224-84cc-db4fcad963bd",
   "metadata": {
    "tags": []
   },
   "outputs": [
    {
     "data": {
      "text/plain": [
       "6"
      ]
     },
     "execution_count": 3,
     "metadata": {},
     "output_type": "execute_result"
    }
   ],
   "source": [
    "find_len(s)"
   ]
  },
  {
   "cell_type": "code",
   "execution_count": 4,
   "id": "2755662f-46df-4786-a912-d6e0c9df2f0b",
   "metadata": {
    "tags": []
   },
   "outputs": [],
   "source": [
    "t = (1, 2, 8, 7)"
   ]
  },
  {
   "cell_type": "code",
   "execution_count": 5,
   "id": "bd59f71a-4314-4396-baaf-50ec8375b8bd",
   "metadata": {
    "tags": []
   },
   "outputs": [
    {
     "data": {
      "text/plain": [
       "4"
      ]
     },
     "execution_count": 5,
     "metadata": {},
     "output_type": "execute_result"
    }
   ],
   "source": [
    "find_len(t)"
   ]
  },
  {
   "cell_type": "code",
   "execution_count": 6,
   "id": "ce9fd6b3-d02a-45b1-b150-915dccc22dc9",
   "metadata": {
    "tags": []
   },
   "outputs": [],
   "source": [
    "l = [2, 'Rana',8]"
   ]
  },
  {
   "cell_type": "code",
   "execution_count": 7,
   "id": "bff25300-293b-4607-81e2-9e513aeeceed",
   "metadata": {
    "tags": []
   },
   "outputs": [
    {
     "data": {
      "text/plain": [
       "3"
      ]
     },
     "execution_count": 7,
     "metadata": {},
     "output_type": "execute_result"
    }
   ],
   "source": [
    "find_len(l)"
   ]
  },
  {
   "cell_type": "code",
   "execution_count": 8,
   "id": "9165c307-4b01-4301-964b-bba646c3599a",
   "metadata": {
    "tags": []
   },
   "outputs": [],
   "source": [
    "d = {'a': 2, 2:6}"
   ]
  },
  {
   "cell_type": "code",
   "execution_count": 9,
   "id": "68d73322-4e2b-48ef-82bd-1569dbc98066",
   "metadata": {
    "tags": []
   },
   "outputs": [
    {
     "data": {
      "text/plain": [
       "2"
      ]
     },
     "execution_count": 9,
     "metadata": {},
     "output_type": "execute_result"
    }
   ],
   "source": [
    "find_len(d)"
   ]
  },
  {
   "cell_type": "code",
   "execution_count": null,
   "id": "f0c30e1f-549d-4341-b531-5b37f0b016cb",
   "metadata": {},
   "outputs": [],
   "source": []
  }
 ],
 "metadata": {
  "kernelspec": {
   "display_name": "Python 3 (ipykernel)",
   "language": "python",
   "name": "python3"
  },
  "language_info": {
   "codemirror_mode": {
    "name": "ipython",
    "version": 3
   },
   "file_extension": ".py",
   "mimetype": "text/x-python",
   "name": "python",
   "nbconvert_exporter": "python",
   "pygments_lexer": "ipython3",
   "version": "3.7.9"
  }
 },
 "nbformat": 4,
 "nbformat_minor": 5
}
