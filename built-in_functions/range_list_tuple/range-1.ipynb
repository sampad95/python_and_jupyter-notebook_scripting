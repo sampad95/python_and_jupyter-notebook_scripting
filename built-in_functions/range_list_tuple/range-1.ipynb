{
 "cells": [
  {
   "cell_type": "code",
   "execution_count": null,
   "id": "39e0c0e9-7929-4f3e-8889-9d28795dded1",
   "metadata": {},
   "outputs": [],
   "source": [
    "start=eval(input('Enter the starting digit of the range\\n'))\n",
    "stop=eval(input('Enter the end digit of the range\\n'))\n",
    "step=eval(input('Enter the step of the range\\n'))\n",
    "\n",
    "r=range(start,stop,step)\n",
    "print('r=',r)\n",
    "\n",
    "print('number of elements in',r,'=',len(r))\n",
    "print('the smallest element of',r,'=',min(r))\n",
    "print('the largest element of',r,'=',max(r))\n",
    "\n",
    "print('list of',r,'=',list(r))\n",
    "print('tuple of',r,'=',tuple(r))"
   ]
  },
  {
   "cell_type": "code",
   "execution_count": null,
   "id": "0b7cd4d1-d637-4873-be75-f9e34331cbec",
   "metadata": {},
   "outputs": [],
   "source": [
    "print('Enter any number to check whether it belongs to',r)\n",
    "x=eval(input())\n",
    "print(x in r)"
   ]
  },
  {
   "cell_type": "code",
   "execution_count": null,
   "id": "49188692-7937-49c4-8bea-df7f6a7ee70a",
   "metadata": {},
   "outputs": [],
   "source": [
    "m=eval(input('Enter the index number for which you want to number in the list\\n'))\n",
    "print(m,'th element is',r[m])"
   ]
  },
  {
   "cell_type": "code",
   "execution_count": null,
   "id": "839f0818-1f82-4747-8923-c61ed0a4c3cb",
   "metadata": {},
   "outputs": [],
   "source": [
    "p,q=eval(input('Enter two index numbers with comma for slicing\\n'))\n",
    "print('(',p,',',q,')sliced range is=',r[p:q])\n",
    "print('the smallest element of the',r[p:q],'=',min(r[p:q]))\n",
    "print('the largest element of the',r[p:q],'=',max(r[p:q]))\n",
    "print('the list of the (', p,',',q,') sliced range is =',list(r[p:q]))"
   ]
  },
  {
   "cell_type": "code",
   "execution_count": null,
   "id": "57c6f46b-992b-4403-9ba7-690a2e4edac4",
   "metadata": {},
   "outputs": [],
   "source": []
  }
 ],
 "metadata": {
  "kernelspec": {
   "display_name": "Python 3 (ipykernel)",
   "language": "python",
   "name": "python3"
  },
  "language_info": {
   "codemirror_mode": {
    "name": "ipython",
    "version": 3
   },
   "file_extension": ".py",
   "mimetype": "text/x-python",
   "name": "python",
   "nbconvert_exporter": "python",
   "pygments_lexer": "ipython3",
   "version": "3.7.9"
  }
 },
 "nbformat": 4,
 "nbformat_minor": 5
}
