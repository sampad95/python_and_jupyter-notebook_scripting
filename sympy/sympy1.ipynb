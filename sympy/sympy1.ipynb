{
 "cells": [
  {
   "cell_type": "code",
   "execution_count": 1,
   "id": "657615fb-4ac0-41cb-971b-809c158b3b05",
   "metadata": {},
   "outputs": [],
   "source": [
    "import sympy as smp"
   ]
  },
  {
   "cell_type": "code",
   "execution_count": 2,
   "id": "2a7eb696-d572-4477-ae04-a5667d0c2a26",
   "metadata": {},
   "outputs": [
    {
     "data": {
      "text/plain": [
       "'1.11.1'"
      ]
     },
     "execution_count": 2,
     "metadata": {},
     "output_type": "execute_result"
    }
   ],
   "source": [
    "smp.__version__"
   ]
  },
  {
   "cell_type": "code",
   "execution_count": 3,
   "id": "57970443-2834-4b18-a364-d450a8a86ca8",
   "metadata": {},
   "outputs": [
    {
     "name": "stdout",
     "output_type": "stream",
     "text": [
      "['Abs', 'AccumBounds', 'Add', 'Adjoint', 'AlgebraicField', 'AlgebraicNumber', 'And', 'AppliedPredicate', 'Array', 'AssumptionsContext', 'Atom', 'AtomicExpr', 'BasePolynomialError', 'Basic', 'BlockDiagMatrix', 'BlockMatrix', 'CC', 'CRootOf', 'Catalan', 'Chi', 'Ci', 'Circle', 'CoercionFailed', 'Complement', 'ComplexField', 'ComplexRegion', 'ComplexRootOf', 'Complexes', 'ComputationFailed', 'ConditionSet', 'Contains', 'CosineTransform', 'Curve', 'DeferredVector', 'DenseNDimArray', 'Derivative', 'Determinant', 'DiagMatrix', 'DiagonalMatrix', 'DiagonalOf', 'Dict', 'DiracDelta', 'DisjointUnion', 'Domain', 'DomainError', 'DotProduct', 'Dummy', 'E', 'E1', 'EPath', 'EX', 'EXRAW', 'Ei', 'Eijk', 'Ellipse', 'EmptySequence', 'EmptySet', 'Eq', 'Equality', 'Equivalent', 'EulerGamma', 'EvaluationFailed', 'ExactQuotientFailed', 'Expr', 'ExpressionDomain', 'ExtraneousFactors', 'FF', 'FF_gmpy', 'FF_python', 'FU', 'FallingFactorial', 'FiniteField', 'FiniteSet', 'FlagError', 'Float', 'FourierTransform', 'FractionField', 'Function', 'FunctionClass', 'FunctionMatrix', 'GF', 'GMPYFiniteField', 'GMPYIntegerRing', 'GMPYRationalField', 'Ge', 'GeneratorsError', 'GeneratorsNeeded', 'GeometryError', 'GoldenRatio', 'GramSchmidt', 'GreaterThan', 'GroebnerBasis', 'Gt', 'HadamardPower', 'HadamardProduct', 'HankelTransform', 'Heaviside', 'HeuristicGCDFailed', 'HomomorphismFailed', 'I', 'ITE', 'Id', 'Identity', 'Idx', 'ImageSet', 'ImmutableDenseMatrix', 'ImmutableDenseNDimArray', 'ImmutableMatrix', 'ImmutableSparseMatrix', 'ImmutableSparseNDimArray', 'Implies', 'Indexed', 'IndexedBase', 'Integer', 'IntegerRing', 'Integers', 'Integral', 'Intersection', 'Interval', 'Inverse', 'InverseCosineTransform', 'InverseFourierTransform', 'InverseHankelTransform', 'InverseLaplaceTransform', 'InverseMellinTransform', 'InverseSineTransform', 'IsomorphismFailed', 'KroneckerDelta', 'KroneckerProduct', 'LC', 'LM', 'LT', 'Lambda', 'LambertW', 'LaplaceTransform', 'Le', 'LessThan', 'LeviCivita', 'Li', 'Limit', 'Line', 'Line2D', 'Line3D', 'Lt', 'MatAdd', 'MatMul', 'MatPow', 'Matrix', 'MatrixBase', 'MatrixExpr', 'MatrixPermute', 'MatrixSlice', 'MatrixSymbol', 'Max', 'MellinTransform', 'Min', 'Mod', 'Monomial', 'Mul', 'MultivariatePolynomialError', 'MutableDenseMatrix', 'MutableDenseNDimArray', 'MutableMatrix', 'MutableSparseMatrix', 'MutableSparseNDimArray', 'N', 'NDimArray', 'Nand', 'Naturals', 'Naturals0', 'Ne', 'NonSquareMatrixError', 'Nor', 'Not', 'NotAlgebraic', 'NotInvertible', 'NotReversible', 'Number', 'NumberSymbol', 'O', 'OmegaPower', 'OneMatrix', 'OperationNotSupported', 'OptionError', 'Options', 'Or', 'Order', 'Ordinal', 'POSform', 'Parabola', 'Permanent', 'PermutationMatrix', 'Piecewise', 'Plane', 'Point', 'Point2D', 'Point3D', 'PoleError', 'PolificationFailed', 'Poly', 'Polygon', 'PolynomialDivisionFailed', 'PolynomialError', 'PolynomialRing', 'Pow', 'PowerSet', 'PrecisionExhausted', 'Predicate', 'Product', 'ProductSet', 'PurePoly', 'PythonFiniteField', 'PythonIntegerRing', 'PythonRational', 'Q', 'QQ', 'QQ_I', 'QQ_gmpy', 'QQ_python', 'Quaternion', 'RR', 'Range', 'Rational', 'RationalField', 'Rationals', 'Ray', 'Ray2D', 'Ray3D', 'RealField', 'RealNumber', 'Reals', 'RefinementFailed', 'RegularPolygon', 'Rel', 'Rem', 'RisingFactorial', 'RootOf', 'RootSum', 'S', 'SOPform', 'SYMPY_DEBUG', 'Segment', 'Segment2D', 'Segment3D', 'SeqAdd', 'SeqFormula', 'SeqMul', 'SeqPer', 'Set', 'ShapeError', 'Shi', 'Si', 'Sieve', 'SineTransform', 'SingularityFunction', 'SparseMatrix', 'SparseNDimArray', 'StrPrinter', 'StrictGreaterThan', 'StrictLessThan', 'Subs', 'Sum', 'Symbol', 'SymmetricDifference', 'SympifyError', 'TableForm', 'Trace', 'Transpose', 'Triangle', 'TribonacciConstant', 'Tuple', 'Unequality', 'UnevaluatedExpr', 'UnificationFailed', 'Union', 'UnivariatePolynomialError', 'UniversalSet', 'Wild', 'WildFunction', 'Xor', 'Ynm', 'Ynm_c', 'ZZ', 'ZZ_I', 'ZZ_gmpy', 'ZZ_python', 'ZeroMatrix', 'Znm', '__all__', '__builtins__', '__cached__', '__doc__', '__file__', '__loader__', '__name__', '__package__', '__path__', '__spec__', '__sympy_debug', '__version__', 'abundance', 'acos', 'acosh', 'acot', 'acoth', 'acsc', 'acsch', 'adjoint', 'airyai', 'airyaiprime', 'airybi', 'airybiprime', 'algebras', 'apart', 'apart_list', 'appellf1', 'apply_finite_diff', 'approximants', 'are_similar', 'arg', 'arity', 'asec', 'asech', 'asin', 'asinh', 'ask', 'assemble_partfrac_list', 'assoc_laguerre', 'assoc_legendre', 'assuming', 'assumptions', 'atan', 'atan2', 'atanh', 'banded', 'bell', 'bernoulli', 'besseli', 'besselj', 'besselk', 'besselsimp', 'bessely', 'beta', 'betainc', 'betainc_regularized', 'binomial', 'binomial_coefficients', 'binomial_coefficients_list', 'block_collapse', 'blockcut', 'bool_map', 'bottom_up', 'bspline_basis', 'bspline_basis_set', 'cacheit', 'calculus', 'cancel', 'capture', 'carmichael', 'cartes', 'casoratian', 'catalan', 'cbrt', 'ccode', 'ceiling', 'centroid', 'chebyshevt', 'chebyshevt_poly', 'chebyshevt_root', 'chebyshevu', 'chebyshevu_poly', 'chebyshevu_root', 'check_assumptions', 'checkodesol', 'checkpdesol', 'checksol', 'classify_ode', 'classify_pde', 'closest_points', 'cofactors', 'collect', 'collect_const', 'combsimp', 'comp', 'compose', 'composite', 'compositepi', 'concrete', 'conjugate', 'construct_domain', 'content', 'continued_fraction', 'continued_fraction_convergents', 'continued_fraction_iterator', 'continued_fraction_periodic', 'continued_fraction_reduce', 'convex_hull', 'convolution', 'core', 'cos', 'cosh', 'cosine_transform', 'cot', 'coth', 'count_ops', 'count_roots', 'covering_product', 'csc', 'csch', 'cse', 'cxxcode', 'cycle_length', 'cyclotomic_poly', 'decompogen', 'decompose', 'default_sort_key', 'deg', 'degree', 'degree_list', 'denom', 'derive_by_array', 'det', 'det_quick', 'diag', 'diagonalize_vector', 'dict_merge', 'diff', 'difference_delta', 'differentiate_finite', 'digamma', 'diophantine', 'dirichlet_eta', 'discrete', 'discrete_log', 'discriminant', 'div', 'divisor_count', 'divisor_sigma', 'divisors', 'doctest', 'dotprint', 'dsolve', 'egyptian_fraction', 'elliptic_e', 'elliptic_f', 'elliptic_k', 'elliptic_pi', 'epath', 'erf', 'erf2', 'erf2inv', 'erfc', 'erfcinv', 'erfi', 'erfinv', 'euler', 'euler_equations', 'evalf', 'evaluate', 'exp', 'exp_polar', 'expand', 'expand_complex', 'expand_func', 'expand_log', 'expand_mul', 'expand_multinomial', 'expand_power_base', 'expand_power_exp', 'expand_trig', 'expint', 'exptrigsimp', 'exquo', 'external', 'eye', 'factor', 'factor_list', 'factor_nc', 'factor_terms', 'factorial', 'factorial2', 'factorint', 'factorrat', 'failing_assumptions', 'false', 'farthest_points', 'fcode', 'ff', 'fft', 'fibonacci', 'field', 'field_isomorphism', 'filldedent', 'finite_diff_weights', 'flatten', 'floor', 'fourier_series', 'fourier_transform', 'fps', 'frac', 'fraction', 'fresnelc', 'fresnels', 'fu', 'functions', 'fwht', 'gamma', 'gammasimp', 'gcd', 'gcd_list', 'gcd_terms', 'gcdex', 'gegenbauer', 'genocchi', 'geometry', 'get_contraction_structure', 'get_indices', 'gff', 'gff_list', 'glsl_code', 'grevlex', 'grlex', 'groebner', 'ground_roots', 'group', 'gruntz', 'hadamard_product', 'half_gcdex', 'hankel1', 'hankel2', 'hankel_transform', 'harmonic', 'has_dups', 'has_variety', 'hermite', 'hermite_poly', 'hessian', 'hn1', 'hn2', 'homogeneous_order', 'horner', 'hyper', 'hyperexpand', 'hypersimilar', 'hypersimp', 'idiff', 'ifft', 'ifwht', 'igcd', 'igrevlex', 'igrlex', 'ilcm', 'ilex', 'im', 'imageset', 'init_printing', 'init_session', 'integer_log', 'integer_nthroot', 'integrals', 'integrate', 'interactive', 'interactive_traversal', 'interpolate', 'interpolating_poly', 'interpolating_spline', 'intersecting_product', 'intersection', 'intervals', 'intt', 'inv_quick', 'inverse_cosine_transform', 'inverse_fourier_transform', 'inverse_hankel_transform', 'inverse_laplace_transform', 'inverse_mellin_transform', 'inverse_mobius_transform', 'inverse_sine_transform', 'invert', 'is_abundant', 'is_amicable', 'is_convex', 'is_decreasing', 'is_deficient', 'is_increasing', 'is_mersenne_prime', 'is_monotonic', 'is_nthpow_residue', 'is_perfect', 'is_primitive_root', 'is_quad_residue', 'is_strictly_decreasing', 'is_strictly_increasing', 'is_zero_dimensional', 'isolate', 'isprime', 'itermonomials', 'jacobi', 'jacobi_normalized', 'jacobi_poly', 'jacobi_symbol', 'jn', 'jn_zeros', 'jordan_cell', 'jscode', 'julia_code', 'kronecker_product', 'kroneckersimp', 'laguerre', 'laguerre_poly', 'lambdify', 'laplace_transform', 'latex', 'lcm', 'lcm_list', 'legendre', 'legendre_poly', 'legendre_symbol', 'lerchphi', 'lex', 'li', 'limit', 'limit_seq', 'line_integrate', 'linear_eq_to_matrix', 'linsolve', 'list2numpy', 'ln', 'log', 'logcombine', 'loggamma', 'logic', 'lowergamma', 'lucas', 'maple_code', 'marcumq', 'mathematica_code', 'mathieuc', 'mathieucprime', 'mathieus', 'mathieusprime', 'mathml', 'matrices', 'matrix2numpy', 'matrix_multiply_elementwise', 'matrix_symbols', 'maximum', 'meijerg', 'mellin_transform', 'memoize_property', 'mersenne_prime_exponent', 'minimal_polynomial', 'minimum', 'minpoly', 'mobius', 'mobius_transform', 'mod_inverse', 'monic', 'motzkin', 'multigamma', 'multiline_latex', 'multinomial_coefficients', 'multipledispatch', 'multiplicity', 'n_order', 'nan', 'nextprime', 'nfloat', 'nonlinsolve', 'not_empty_in', 'npartitions', 'nroots', 'nsimplify', 'nsolve', 'nth_power_roots_poly', 'ntheory', 'nthroot_mod', 'ntt', 'numbered_symbols', 'numer', 'octave_code', 'ode_order', 'ones', 'oo', 'ord0', 'ordered', 'pager_print', 'parallel_poly_from_expr', 'parse_expr', 'parsing', 'partition', 'pde_separate', 'pde_separate_add', 'pde_separate_mul', 'pdiv', 'pdsolve', 'per', 'perfect_power', 'periodic_argument', 'periodicity', 'permutedims', 'pexquo', 'pi', 'piecewise_exclusive', 'piecewise_fold', 'plot', 'plot_backends', 'plot_implicit', 'plot_parametric', 'plotting', 'polar_lift', 'polarify', 'pollard_pm1', 'pollard_rho', 'poly', 'poly_from_expr', 'polygamma', 'polylog', 'polys', 'posify', 'postfixes', 'postorder_traversal', 'powdenest', 'powsimp', 'pprint', 'pprint_try_use_unicode', 'pprint_use_unicode', 'pquo', 'prefixes', 'prem', 'preorder_traversal', 'pretty', 'pretty_print', 'preview', 'prevprime', 'prime', 'prime_decomp', 'prime_valuation', 'primefactors', 'primenu', 'primeomega', 'primepi', 'primerange', 'primitive', 'primitive_element', 'primitive_root', 'primorial', 'principal_branch', 'print_ccode', 'print_fcode', 'print_glsl', 'print_gtk', 'print_jscode', 'print_latex', 'print_maple_code', 'print_mathml', 'print_python', 'print_rcode', 'print_tree', 'printing', 'prod', 'product', 'proper_divisor_count', 'proper_divisors', 'public', 'pycode', 'python', 'quadratic_congruence', 'quadratic_residues', 'quo', 'rad', 'radsimp', 'randMatrix', 'random_poly', 'randprime', 'rational_interpolate', 'ratsimp', 'ratsimpmodprime', 'rcode', 'rcollect', 're', 'real_root', 'real_roots', 'reduce_abs_inequalities', 'reduce_abs_inequality', 'reduce_inequalities', 'reduced', 'reduced_totient', 'refine', 'refine_root', 'register_handler', 'release', 'rem', 'remove_handler', 'reshape', 'residue', 'resultant', 'rf', 'riemann_xi', 'ring', 'root', 'rootof', 'roots', 'rot_axis1', 'rot_axis2', 'rot_axis3', 'rotations', 'round_two', 'rsolve', 'rsolve_hyper', 'rsolve_poly', 'rsolve_ratio', 'rust_code', 'satisfiable', 'sec', 'sech', 'separatevars', 'sequence', 'series', 'seterr', 'sets', 'sfield', 'shape', 'sieve', 'sift', 'sign', 'signsimp', 'simplify', 'simplify_logic', 'sin', 'sinc', 'sine_transform', 'singularities', 'singularityintegrate', 'sinh', 'solve', 'solve_linear', 'solve_linear_system', 'solve_linear_system_LU', 'solve_poly_inequality', 'solve_poly_system', 'solve_rational_inequalities', 'solve_triangulated', 'solve_undetermined_coeffs', 'solve_univariate_inequality', 'solvers', 'solveset', 'source', 'sqf', 'sqf_list', 'sqf_norm', 'sqf_part', 'sqrt', 'sqrt_mod', 'sqrt_mod_iter', 'sqrtdenest', 'srepr', 'sring', 'sstr', 'sstrrepr', 'stationary_points', 'stieltjes', 'strategies', 'sturm', 'subfactorial', 'subresultants', 'subsets', 'substitution', 'summation', 'swinnerton_dyer_poly', 'symarray', 'symbols', 'symmetric_poly', 'symmetrize', 'sympify', 'take', 'tan', 'tanh', 'tensor', 'tensorcontraction', 'tensordiagonal', 'tensorproduct', 'terms_gcd', 'test', 'testing', 'textplot', 'threaded', 'timed', 'to_cnf', 'to_dnf', 'to_nnf', 'to_number_field', 'together', 'topological_sort', 'total_degree', 'totient', 'trace', 'trailing', 'transpose', 'tribonacci', 'trigamma', 'trigsimp', 'true', 'trunc', 'unbranched_argument', 'unflatten', 'unpolarify', 'uppergamma', 'use', 'utilities', 'var', 'variations', 'vectorize', 'vfield', 'viete', 'vring', 'wronskian', 'xfield', 'xring', 'xthreaded', 'yn', 'zeros', 'zeta', 'zoo']\n"
     ]
    }
   ],
   "source": [
    "print(dir(smp))"
   ]
  },
  {
   "cell_type": "code",
   "execution_count": 4,
   "id": "ddc842bc-b5c8-4d1c-85a6-38235a84f651",
   "metadata": {},
   "outputs": [
    {
     "data": {
      "text/latex": [
       "$\\displaystyle \\pi$"
      ],
      "text/plain": [
       "pi"
      ]
     },
     "execution_count": 4,
     "metadata": {},
     "output_type": "execute_result"
    }
   ],
   "source": [
    "smp.pi"
   ]
  },
  {
   "cell_type": "code",
   "execution_count": 5,
   "id": "58eda707-9fcb-45d7-a966-c4ade94fca26",
   "metadata": {},
   "outputs": [
    {
     "data": {
      "text/latex": [
       "$\\displaystyle \\sqrt{\\pi}$"
      ],
      "text/plain": [
       "sqrt(pi)"
      ]
     },
     "execution_count": 5,
     "metadata": {},
     "output_type": "execute_result"
    }
   ],
   "source": [
    "smp.sqrt(smp.pi)"
   ]
  },
  {
   "cell_type": "code",
   "execution_count": 6,
   "id": "1bdf27b7-2f3c-405b-a717-27787ecc1be4",
   "metadata": {},
   "outputs": [
    {
     "name": "stdout",
     "output_type": "stream",
     "text": [
      "sqrt(pi)\n"
     ]
    }
   ],
   "source": [
    "print(smp.sqrt(smp.pi))"
   ]
  },
  {
   "cell_type": "code",
   "execution_count": 7,
   "id": "219fdf91-700b-4dc9-aadc-be687f3ee071",
   "metadata": {},
   "outputs": [],
   "source": [
    "#help(smp.evalf)"
   ]
  },
  {
   "cell_type": "code",
   "execution_count": 8,
   "id": "e16dd5ae-424d-4377-a872-5f1ab64e563d",
   "metadata": {},
   "outputs": [
    {
     "name": "stdout",
     "output_type": "stream",
     "text": [
      "1.77245385090552\n"
     ]
    }
   ],
   "source": [
    "print(smp.sqrt(smp.pi).evalf())"
   ]
  },
  {
   "cell_type": "code",
   "execution_count": 9,
   "id": "622f4548-6559-48c5-8a31-34f975341de8",
   "metadata": {},
   "outputs": [
    {
     "data": {
      "text/latex": [
       "$\\displaystyle -1$"
      ],
      "text/plain": [
       "-1"
      ]
     },
     "execution_count": 9,
     "metadata": {},
     "output_type": "execute_result"
    }
   ],
   "source": [
    "smp.cos(smp.pi)"
   ]
  },
  {
   "cell_type": "code",
   "execution_count": 10,
   "id": "75b78f92-f3eb-4a1b-9345-d56a9ffe42e8",
   "metadata": {},
   "outputs": [
    {
     "name": "stdout",
     "output_type": "stream",
     "text": [
      "-1\n"
     ]
    }
   ],
   "source": [
    "print(smp.cos(smp.pi))"
   ]
  },
  {
   "cell_type": "code",
   "execution_count": 11,
   "id": "f0127926-d655-48cb-ae24-9b6b9590af4b",
   "metadata": {},
   "outputs": [
    {
     "data": {
      "text/latex": [
       "$\\displaystyle \\pi$"
      ],
      "text/plain": [
       "pi"
      ]
     },
     "execution_count": 11,
     "metadata": {},
     "output_type": "execute_result"
    }
   ],
   "source": [
    "smp.acos(-1)"
   ]
  },
  {
   "cell_type": "code",
   "execution_count": 12,
   "id": "6d74b3e7-be3f-4ad2-b627-84d6c20b9051",
   "metadata": {},
   "outputs": [
    {
     "name": "stdout",
     "output_type": "stream",
     "text": [
      "pi\n"
     ]
    }
   ],
   "source": [
    "print(smp.acos(-1))"
   ]
  },
  {
   "cell_type": "code",
   "execution_count": 13,
   "id": "355978f4-906b-45bb-b24c-132ce636cbf3",
   "metadata": {},
   "outputs": [
    {
     "name": "stdout",
     "output_type": "stream",
     "text": [
      "3.14159265358979\n"
     ]
    }
   ],
   "source": [
    "print(smp.acos(-1).evalf())"
   ]
  },
  {
   "cell_type": "code",
   "execution_count": 14,
   "id": "2748fb20-6659-422c-86ff-10748e46fc01",
   "metadata": {},
   "outputs": [
    {
     "name": "stdout",
     "output_type": "stream",
     "text": [
      "sin(θ)\n",
      "sin(π)\n",
      "pi\n",
      "sqrt(pi)\n",
      "1.77245385090552\n",
      "-1\n",
      "pi\n",
      "cos(45)\n",
      "0.525321988817730\n",
      "0.707106781186548\n"
     ]
    }
   ],
   "source": [
    "print(smp.sin('θ'))\n",
    "print(smp.sin('π'))\n",
    "print(smp.pi)\n",
    "print(smp.sqrt(smp.pi))\n",
    "print(smp.sqrt(smp.pi).evalf())\n",
    "print(smp.cos(smp.pi))\n",
    "print(smp.acos(-1))\n",
    "print(smp.cos(45))\n",
    "print(smp.cos(45).evalf())\n",
    "print(smp.cos(45*smp.pi/180).evalf())"
   ]
  },
  {
   "cell_type": "code",
   "execution_count": 15,
   "id": "362b02f9-ab1d-4024-9b09-c7a2346751b7",
   "metadata": {},
   "outputs": [],
   "source": [
    "#help(smp.Rational)"
   ]
  },
  {
   "cell_type": "code",
   "execution_count": 16,
   "id": "1b665396-5853-421f-b3dc-023a9208a5cb",
   "metadata": {},
   "outputs": [
    {
     "data": {
      "text/latex": [
       "$\\displaystyle \\frac{1}{2}$"
      ],
      "text/plain": [
       "1/2"
      ]
     },
     "execution_count": 16,
     "metadata": {},
     "output_type": "execute_result"
    }
   ],
   "source": [
    "smp.Rational(1/2)"
   ]
  },
  {
   "cell_type": "code",
   "execution_count": 17,
   "id": "4f2561ac-909f-485e-bacd-77d2037a541b",
   "metadata": {},
   "outputs": [
    {
     "data": {
      "text/latex": [
       "$\\displaystyle \\frac{1}{2}$"
      ],
      "text/plain": [
       "1/2"
      ]
     },
     "execution_count": 17,
     "metadata": {},
     "output_type": "execute_result"
    }
   ],
   "source": [
    "smp.Rational(0.5)"
   ]
  },
  {
   "cell_type": "code",
   "execution_count": 18,
   "id": "619c77aa-4ea0-45ab-af0a-52a54454fa9d",
   "metadata": {},
   "outputs": [
    {
     "name": "stdout",
     "output_type": "stream",
     "text": [
      "1/2\n"
     ]
    }
   ],
   "source": [
    "print(smp.Rational(1/2))"
   ]
  },
  {
   "cell_type": "code",
   "execution_count": 19,
   "id": "7068c948-0397-4875-b139-23c42815f866",
   "metadata": {},
   "outputs": [
    {
     "name": "stdout",
     "output_type": "stream",
     "text": [
      "1/2\n"
     ]
    }
   ],
   "source": [
    "print(smp.Rational(0.5))"
   ]
  },
  {
   "cell_type": "code",
   "execution_count": 20,
   "id": "987655fa-2c83-40ae-96b8-0ab7b56de2c7",
   "metadata": {},
   "outputs": [],
   "source": [
    "#help(smp.symbols)"
   ]
  },
  {
   "cell_type": "code",
   "execution_count": 21,
   "id": "176b7f92-66b9-4427-bbd3-aac699f59ea7",
   "metadata": {},
   "outputs": [
    {
     "data": {
      "text/latex": [
       "$\\displaystyle \\sqrt{x}$"
      ],
      "text/plain": [
       "sqrt(x)"
      ]
     },
     "execution_count": 21,
     "metadata": {},
     "output_type": "execute_result"
    }
   ],
   "source": [
    "smp.symbols('x')**smp.Rational(0.5)"
   ]
  },
  {
   "cell_type": "code",
   "execution_count": 22,
   "id": "8b63171a-39c7-4a94-a9e8-a28f4270716b",
   "metadata": {},
   "outputs": [
    {
     "data": {
      "text/latex": [
       "$\\displaystyle \\sqrt{x}$"
      ],
      "text/plain": [
       "sqrt(x)"
      ]
     },
     "execution_count": 22,
     "metadata": {},
     "output_type": "execute_result"
    }
   ],
   "source": [
    "smp.Symbol('x')**smp.Rational(0.5)"
   ]
  },
  {
   "cell_type": "code",
   "execution_count": 23,
   "id": "7b1d1856-9393-4297-a84e-efebcff48fef",
   "metadata": {},
   "outputs": [
    {
     "data": {
      "text/latex": [
       "$\\displaystyle θ^{\\frac{3}{2}}$"
      ],
      "text/plain": [
       "θ**(3/2)"
      ]
     },
     "execution_count": 23,
     "metadata": {},
     "output_type": "execute_result"
    }
   ],
   "source": [
    "smp.symbols('θ')**smp.Rational(3/2)"
   ]
  },
  {
   "cell_type": "markdown",
   "id": "0cd56421-8d01-4035-b2d0-4fa133e21a67",
   "metadata": {},
   "source": [
    "## Algebraic expressions and evaluating expressions"
   ]
  },
  {
   "cell_type": "code",
   "execution_count": 24,
   "id": "d2af4a97-c020-499d-b94e-1036cd27813c",
   "metadata": {},
   "outputs": [],
   "source": [
    "x, y, z = smp.symbols('x, y, z')"
   ]
  },
  {
   "cell_type": "code",
   "execution_count": 25,
   "id": "33d3e130-4b1f-49a2-811a-659a1aa68589",
   "metadata": {},
   "outputs": [
    {
     "data": {
      "text/latex": [
       "$\\displaystyle y e^{x} + z^{2}$"
      ],
      "text/plain": [
       "y*exp(x) + z**2"
      ]
     },
     "execution_count": 25,
     "metadata": {},
     "output_type": "execute_result"
    }
   ],
   "source": [
    "y*smp.exp(x) + z**2"
   ]
  },
  {
   "cell_type": "code",
   "execution_count": 26,
   "id": "80d407f5-7d1a-4dab-a354-95fac4324c1b",
   "metadata": {},
   "outputs": [
    {
     "name": "stdout",
     "output_type": "stream",
     "text": [
      "y*exp(x) + z**2\n"
     ]
    }
   ],
   "source": [
    "print(y*smp.exp(x) + z**2)"
   ]
  },
  {
   "cell_type": "code",
   "execution_count": 27,
   "id": "4aeaebb9-1074-4720-8a82-c1dfa1c92fe2",
   "metadata": {},
   "outputs": [
    {
     "data": {
      "text/latex": [
       "$\\displaystyle x^{\\frac{6004799503160661}{9007199254740992}}$"
      ],
      "text/plain": [
       "x**(6004799503160661/9007199254740992)"
      ]
     },
     "execution_count": 27,
     "metadata": {},
     "output_type": "execute_result"
    }
   ],
   "source": [
    "x**smp.Rational(2/3)"
   ]
  },
  {
   "cell_type": "code",
   "execution_count": 28,
   "id": "d7b22040-bc07-470f-a516-79eadfa0fb85",
   "metadata": {},
   "outputs": [
    {
     "data": {
      "text/latex": [
       "$\\displaystyle x^{\\frac{3}{2}}$"
      ],
      "text/plain": [
       "x**(3/2)"
      ]
     },
     "execution_count": 28,
     "metadata": {},
     "output_type": "execute_result"
    }
   ],
   "source": [
    "x**smp.Rational(3/2)"
   ]
  },
  {
   "cell_type": "code",
   "execution_count": 29,
   "id": "762c3185-5ade-47ca-9733-1fbca60fd5d4",
   "metadata": {},
   "outputs": [
    {
     "name": "stdout",
     "output_type": "stream",
     "text": [
      "x**(3/2)\n"
     ]
    }
   ],
   "source": [
    "print(x**smp.Rational(3/2))"
   ]
  },
  {
   "cell_type": "code",
   "execution_count": 30,
   "id": "f2b3b3c7-4306-4824-bc35-ef4bff862df1",
   "metadata": {},
   "outputs": [
    {
     "data": {
      "text/latex": [
       "$\\displaystyle x^{\\frac{6004799503160661}{9007199254740992}}$"
      ],
      "text/plain": [
       "x**(6004799503160661/9007199254740992)"
      ]
     },
     "execution_count": 30,
     "metadata": {},
     "output_type": "execute_result"
    }
   ],
   "source": [
    "expr1=x**smp.Rational(2/3)\n",
    "expr1"
   ]
  },
  {
   "cell_type": "code",
   "execution_count": 31,
   "id": "ee06c501-c19e-4a45-86d1-ec5a1b044053",
   "metadata": {},
   "outputs": [],
   "source": [
    "#help(smp.Subs)"
   ]
  },
  {
   "cell_type": "code",
   "execution_count": 32,
   "id": "f854c5f8-383e-4309-83c1-10727a4bd906",
   "metadata": {},
   "outputs": [
    {
     "data": {
      "text/latex": [
       "$\\displaystyle \\left. x^{\\frac{6004799503160661}{9007199254740992}} \\right|_{\\substack{ x=2 }}$"
      ],
      "text/plain": [
       "Subs(x**(6004799503160661/9007199254740992), x, 2)"
      ]
     },
     "execution_count": 32,
     "metadata": {},
     "output_type": "execute_result"
    }
   ],
   "source": [
    "smp.Subs(expr1, x, 2)"
   ]
  },
  {
   "cell_type": "code",
   "execution_count": 33,
   "id": "9ca8b8ad-9dbc-460b-865d-0cbc2ff6c369",
   "metadata": {},
   "outputs": [
    {
     "data": {
      "text/latex": [
       "$\\displaystyle 1.5874010519682$"
      ],
      "text/plain": [
       "1.58740105196820"
      ]
     },
     "execution_count": 33,
     "metadata": {},
     "output_type": "execute_result"
    }
   ],
   "source": [
    "smp.Subs(expr1, x, 2).evalf()"
   ]
  },
  {
   "cell_type": "code",
   "execution_count": 34,
   "id": "6bc9729c-c8e3-4756-8dce-688bf6592699",
   "metadata": {},
   "outputs": [
    {
     "data": {
      "text/latex": [
       "$\\displaystyle 2^{\\frac{6004799503160661}{9007199254740992}}$"
      ],
      "text/plain": [
       "2**(6004799503160661/9007199254740992)"
      ]
     },
     "execution_count": 34,
     "metadata": {},
     "output_type": "execute_result"
    }
   ],
   "source": [
    "expr1.subs(x,2)"
   ]
  },
  {
   "cell_type": "code",
   "execution_count": 35,
   "id": "129232cc-0186-42e5-9e75-cebdbdf5df83",
   "metadata": {},
   "outputs": [
    {
     "data": {
      "text/latex": [
       "$\\displaystyle 1.5874010519682$"
      ],
      "text/plain": [
       "1.58740105196820"
      ]
     },
     "execution_count": 35,
     "metadata": {},
     "output_type": "execute_result"
    }
   ],
   "source": [
    "expr1.subs(x,2).evalf()"
   ]
  },
  {
   "cell_type": "code",
   "execution_count": 36,
   "id": "860e8ba2-10b6-4331-90ed-a84f61d49384",
   "metadata": {},
   "outputs": [
    {
     "data": {
      "text/latex": [
       "$\\displaystyle x^{\\frac{2}{3}}$"
      ],
      "text/plain": [
       "x**(2/3)"
      ]
     },
     "execution_count": 36,
     "metadata": {},
     "output_type": "execute_result"
    }
   ],
   "source": [
    "expr2=x**smp.Rational('2/3')\n",
    "expr2"
   ]
  },
  {
   "cell_type": "code",
   "execution_count": 37,
   "id": "ccf1ef44-39d0-446a-b4f8-c78c8d9e0d7b",
   "metadata": {},
   "outputs": [
    {
     "data": {
      "text/latex": [
       "$\\displaystyle \\left. x^{\\frac{2}{3}} \\right|_{\\substack{ x=2 }}$"
      ],
      "text/plain": [
       "Subs(x**(2/3), x, 2)"
      ]
     },
     "execution_count": 37,
     "metadata": {},
     "output_type": "execute_result"
    }
   ],
   "source": [
    "smp.Subs(expr2, x, 2)"
   ]
  },
  {
   "cell_type": "code",
   "execution_count": 38,
   "id": "68e43539-d7e8-43e3-98d0-f38c9d3575cc",
   "metadata": {},
   "outputs": [
    {
     "name": "stdout",
     "output_type": "stream",
     "text": [
      "Subs(x**(2/3), x, 2)\n"
     ]
    }
   ],
   "source": [
    "print(smp.Subs(expr2, x, 2))"
   ]
  },
  {
   "cell_type": "code",
   "execution_count": 39,
   "id": "63726f1d-2d85-4045-a73b-d067b5ffab2d",
   "metadata": {},
   "outputs": [
    {
     "data": {
      "text/latex": [
       "$\\displaystyle 1.5874010519682$"
      ],
      "text/plain": [
       "1.58740105196820"
      ]
     },
     "execution_count": 39,
     "metadata": {},
     "output_type": "execute_result"
    }
   ],
   "source": [
    "smp.Subs(expr2, x, 2).evalf()"
   ]
  },
  {
   "cell_type": "code",
   "execution_count": 40,
   "id": "92cfa40f-d70b-48cc-82e2-b9e243764ee5",
   "metadata": {},
   "outputs": [
    {
     "name": "stdout",
     "output_type": "stream",
     "text": [
      "1.58740105196820\n"
     ]
    }
   ],
   "source": [
    "print(smp.Subs(expr2, x, 2).evalf())"
   ]
  },
  {
   "cell_type": "code",
   "execution_count": 41,
   "id": "a859ac46-9a50-4f14-99e3-3eeee64f1c80",
   "metadata": {},
   "outputs": [
    {
     "data": {
      "text/latex": [
       "$\\displaystyle x^{2} + x y + z$"
      ],
      "text/plain": [
       "x**2 + x*y + z"
      ]
     },
     "execution_count": 41,
     "metadata": {},
     "output_type": "execute_result"
    }
   ],
   "source": [
    "a = x**2 + x*y + z\n",
    "a"
   ]
  },
  {
   "cell_type": "code",
   "execution_count": 42,
   "id": "ad8e030a-68fc-42da-aa02-f07bcc1a7033",
   "metadata": {},
   "outputs": [
    {
     "data": {
      "text/latex": [
       "$\\displaystyle \\left. x^{2} + x y + z \\right|_{\\substack{ x=2\\\\ y=-1\\\\ z=1 }}$"
      ],
      "text/plain": [
       "Subs(x**2 + x*y + z, (x, y, z), (2, -1, 1))"
      ]
     },
     "execution_count": 42,
     "metadata": {},
     "output_type": "execute_result"
    }
   ],
   "source": [
    "smp.Subs(a,[x,y,z],[2,-1,1]) # multiple substitution"
   ]
  },
  {
   "cell_type": "code",
   "execution_count": 43,
   "id": "ef4de4b1-9831-45a5-a8b9-140b852cc490",
   "metadata": {},
   "outputs": [
    {
     "data": {
      "text/latex": [
       "$\\displaystyle 3.0$"
      ],
      "text/plain": [
       "3.00000000000000"
      ]
     },
     "execution_count": 43,
     "metadata": {},
     "output_type": "execute_result"
    }
   ],
   "source": [
    "smp.Subs(a,(x,y,z),(2,-1,1)).evalf()"
   ]
  },
  {
   "cell_type": "markdown",
   "id": "265ab279-244b-4ac3-962d-7741914c43cd",
   "metadata": {},
   "source": [
    "## Simplification of mathematical expressions"
   ]
  },
  {
   "cell_type": "code",
   "execution_count": 44,
   "id": "5a20c9f6-346e-4d9f-8adb-3ac1e8198852",
   "metadata": {},
   "outputs": [
    {
     "data": {
      "text/latex": [
       "$\\displaystyle \\frac{x^{3} - 4 x^{2} - x}{3 x^{3} + 9 x}$"
      ],
      "text/plain": [
       "(x**3 - 4*x**2 - x)/(3*x**3 + 9*x)"
      ]
     },
     "execution_count": 44,
     "metadata": {},
     "output_type": "execute_result"
    }
   ],
   "source": [
    "a = x**3 + 2*x**2 + 5*x\n",
    "b = 2*x**3 - 2*x**2 + 4*x\n",
    "c = (b-a)/(b+a)\n",
    "c"
   ]
  },
  {
   "cell_type": "code",
   "execution_count": 45,
   "id": "5f3af5c8-9ff1-4d8c-8e1b-ca28b94f0dcd",
   "metadata": {},
   "outputs": [
    {
     "data": {
      "text/latex": [
       "$\\displaystyle \\frac{x^{2} - 4 x - 1}{3 \\left(x^{2} + 3\\right)}$"
      ],
      "text/plain": [
       "(x**2 - 4*x - 1)/(3*(x**2 + 3))"
      ]
     },
     "execution_count": 45,
     "metadata": {},
     "output_type": "execute_result"
    }
   ],
   "source": [
    "smp.simplify(c)"
   ]
  },
  {
   "cell_type": "markdown",
   "id": "b167df95-4d75-479d-a119-760caa2c85e9",
   "metadata": {},
   "source": [
    "## Expansion of mathematical expressions"
   ]
  },
  {
   "cell_type": "code",
   "execution_count": 46,
   "id": "3c2a27f0-b73a-4c29-a45f-405f37c9c239",
   "metadata": {},
   "outputs": [
    {
     "data": {
      "text/latex": [
       "$\\displaystyle \\left(x + y\\right)^{3}$"
      ],
      "text/plain": [
       "(x + y)**3"
      ]
     },
     "execution_count": 46,
     "metadata": {},
     "output_type": "execute_result"
    }
   ],
   "source": [
    "d = (x+y)**3\n",
    "d"
   ]
  },
  {
   "cell_type": "code",
   "execution_count": 47,
   "id": "035870e0-903c-497e-80b4-68a1d9ce7668",
   "metadata": {},
   "outputs": [
    {
     "data": {
      "text/latex": [
       "$\\displaystyle x^{3} + 3 x^{2} y + 3 x y^{2} + y^{3}$"
      ],
      "text/plain": [
       "x**3 + 3*x**2*y + 3*x*y**2 + y**3"
      ]
     },
     "execution_count": 47,
     "metadata": {},
     "output_type": "execute_result"
    }
   ],
   "source": [
    "smp.expand(d)"
   ]
  },
  {
   "cell_type": "markdown",
   "id": "edc7f8cf-4832-4cc1-a93f-f73ae04fea75",
   "metadata": {},
   "source": [
    "## Factor cancellation"
   ]
  },
  {
   "cell_type": "code",
   "execution_count": 48,
   "id": "6b5f3f81-7599-47ef-8a77-bce05403dfac",
   "metadata": {},
   "outputs": [
    {
     "data": {
      "text/latex": [
       "$\\displaystyle \\frac{x^{2} + 2 x + 1}{x^{2} + x}$"
      ],
      "text/plain": [
       "(x**2 + 2*x + 1)/(x**2 + x)"
      ]
     },
     "execution_count": 48,
     "metadata": {},
     "output_type": "execute_result"
    }
   ],
   "source": [
    "g = (x**2 + 2*x + 1) / (x**2 + x)\n",
    "g"
   ]
  },
  {
   "cell_type": "code",
   "execution_count": 49,
   "id": "fd6bd6d5-d9c2-4ca6-b142-cfb77d579d6a",
   "metadata": {},
   "outputs": [
    {
     "data": {
      "text/latex": [
       "$\\displaystyle \\frac{x + 1}{x}$"
      ],
      "text/plain": [
       "(x + 1)/x"
      ]
     },
     "execution_count": 49,
     "metadata": {},
     "output_type": "execute_result"
    }
   ],
   "source": [
    "smp.factor(g)"
   ]
  },
  {
   "cell_type": "code",
   "execution_count": 50,
   "id": "8e562ff4-d005-40d3-8d02-143ea33ab3de",
   "metadata": {},
   "outputs": [
    {
     "data": {
      "text/latex": [
       "$\\displaystyle \\frac{x + 1}{x}$"
      ],
      "text/plain": [
       "(x + 1)/x"
      ]
     },
     "execution_count": 50,
     "metadata": {},
     "output_type": "execute_result"
    }
   ],
   "source": [
    "smp.cancel(g)"
   ]
  },
  {
   "cell_type": "markdown",
   "id": "3cef45c1-c670-4d6e-b677-00e1941ba3e9",
   "metadata": {},
   "source": [
    "## Factorization of algebraic expression"
   ]
  },
  {
   "cell_type": "code",
   "execution_count": 51,
   "id": "fdd1fd56-de1f-43d3-9923-464dc47eccea",
   "metadata": {},
   "outputs": [],
   "source": [
    "f = x**2 - 5*x + 6"
   ]
  },
  {
   "cell_type": "code",
   "execution_count": 52,
   "id": "48b02ad5-da7d-4f9e-9213-b679676cae39",
   "metadata": {},
   "outputs": [
    {
     "data": {
      "text/latex": [
       "$\\displaystyle x^{2} - 5 x + 6$"
      ],
      "text/plain": [
       "x**2 - 5*x + 6"
      ]
     },
     "execution_count": 52,
     "metadata": {},
     "output_type": "execute_result"
    }
   ],
   "source": [
    "f"
   ]
  },
  {
   "cell_type": "code",
   "execution_count": 53,
   "id": "1458d84f-4923-4afe-8e7a-4e3c03d89919",
   "metadata": {},
   "outputs": [
    {
     "data": {
      "text/latex": [
       "$\\displaystyle \\left(x - 3\\right) \\left(x - 2\\right)$"
      ],
      "text/plain": [
       "(x - 3)*(x - 2)"
      ]
     },
     "execution_count": 53,
     "metadata": {},
     "output_type": "execute_result"
    }
   ],
   "source": [
    "f.factor()"
   ]
  },
  {
   "cell_type": "markdown",
   "id": "8fdc687c-4123-4f21-ac19-6a38b66148aa",
   "metadata": {},
   "source": [
    "## Expressions with trignometric functions"
   ]
  },
  {
   "cell_type": "code",
   "execution_count": 54,
   "id": "8470afaf-424c-4826-805c-66a0ecadb6ed",
   "metadata": {},
   "outputs": [
    {
     "data": {
      "text/latex": [
       "$\\displaystyle \\sin{\\left(α \\right)} + \\frac{\\log{\\left(β^{γ} \\right)}}{\\sqrt{β}}$"
      ],
      "text/plain": [
       "sin(α) + log(β**γ)/sqrt(β)"
      ]
     },
     "execution_count": 54,
     "metadata": {},
     "output_type": "execute_result"
    }
   ],
   "source": [
    "α, β, γ = smp.symbols('α, β, γ')\n",
    "trig_expr = smp.sin(α) + smp.log(β**γ)/smp.sqrt(β)\n",
    "trig_expr"
   ]
  },
  {
   "cell_type": "markdown",
   "id": "aa8961e8-5cde-404c-b796-1b00e098d4f2",
   "metadata": {},
   "source": [
    "## Trignometric function simplification"
   ]
  },
  {
   "cell_type": "code",
   "execution_count": 55,
   "id": "591c806f-66ba-4cb9-99db-fdc91081cb88",
   "metadata": {},
   "outputs": [
    {
     "data": {
      "text/latex": [
       "$\\displaystyle \\sin^{2}{\\left(x \\right)} + \\cos^{2}{\\left(x \\right)}$"
      ],
      "text/plain": [
       "sin(x)**2 + cos(x)**2"
      ]
     },
     "execution_count": 55,
     "metadata": {},
     "output_type": "execute_result"
    }
   ],
   "source": [
    "f1 = smp.sin(x)**2 + smp.cos(x)**2\n",
    "f1"
   ]
  },
  {
   "cell_type": "code",
   "execution_count": 56,
   "id": "aba87e21-80b9-44cb-9e6c-a0d5f2b1ed9e",
   "metadata": {},
   "outputs": [
    {
     "data": {
      "text/latex": [
       "$\\displaystyle 1$"
      ],
      "text/plain": [
       "1"
      ]
     },
     "execution_count": 56,
     "metadata": {},
     "output_type": "execute_result"
    }
   ],
   "source": [
    "smp.simplify(f1)"
   ]
  },
  {
   "cell_type": "code",
   "execution_count": 57,
   "id": "b3166252-420f-4e53-8126-db90de9a96a1",
   "metadata": {},
   "outputs": [
    {
     "data": {
      "text/latex": [
       "$\\displaystyle 1$"
      ],
      "text/plain": [
       "1"
      ]
     },
     "execution_count": 57,
     "metadata": {},
     "output_type": "execute_result"
    }
   ],
   "source": [
    "smp.trigsimp(f1)"
   ]
  },
  {
   "cell_type": "code",
   "execution_count": 58,
   "id": "89a20211-058b-4051-b14e-64c683228a5e",
   "metadata": {},
   "outputs": [
    {
     "data": {
      "text/latex": [
       "$\\displaystyle 4 \\sin{\\left(x \\right)} \\sin{\\left(x + \\frac{\\pi}{3} \\right)} \\cos{\\left(x + \\frac{\\pi}{6} \\right)}$"
      ],
      "text/plain": [
       "4*sin(x)*sin(x + pi/3)*cos(x + pi/6)"
      ]
     },
     "execution_count": 58,
     "metadata": {},
     "output_type": "execute_result"
    }
   ],
   "source": [
    "f2 = 4*smp.sin(x)*smp.sin(smp.pi/3-x)*smp.sin(smp.pi/3+x)\n",
    "f2"
   ]
  },
  {
   "cell_type": "code",
   "execution_count": 59,
   "id": "245b6870-a5a1-4b18-bfcd-98f039c98beb",
   "metadata": {},
   "outputs": [
    {
     "data": {
      "text/latex": [
       "$\\displaystyle \\sin{\\left(3 x \\right)}$"
      ],
      "text/plain": [
       "sin(3*x)"
      ]
     },
     "execution_count": 59,
     "metadata": {},
     "output_type": "execute_result"
    }
   ],
   "source": [
    "smp.simplify(f2)"
   ]
  },
  {
   "cell_type": "code",
   "execution_count": 60,
   "id": "42ea681d-eed3-4828-a290-dc101c58fc2b",
   "metadata": {},
   "outputs": [
    {
     "data": {
      "text/latex": [
       "$\\displaystyle \\sin{\\left(3 x \\right)}$"
      ],
      "text/plain": [
       "sin(3*x)"
      ]
     },
     "execution_count": 60,
     "metadata": {},
     "output_type": "execute_result"
    }
   ],
   "source": [
    "smp.trigsimp(f2)"
   ]
  },
  {
   "cell_type": "markdown",
   "id": "830cf71d-db6d-4aa9-99b8-ad72449533b2",
   "metadata": {},
   "source": [
    "## Expansion of trignometric functions"
   ]
  },
  {
   "cell_type": "code",
   "execution_count": 61,
   "id": "7b1c3109-4329-4d35-89bc-26877a8df5ad",
   "metadata": {},
   "outputs": [
    {
     "data": {
      "text/latex": [
       "$\\displaystyle \\left(\\sin{\\left(x \\right)} + \\cos{\\left(x \\right)}\\right)^{2}$"
      ],
      "text/plain": [
       "(sin(x) + cos(x))**2"
      ]
     },
     "execution_count": 61,
     "metadata": {},
     "output_type": "execute_result"
    }
   ],
   "source": [
    "f3 = smp.cos(x) + smp.sin(x)\n",
    "f3**2"
   ]
  },
  {
   "cell_type": "code",
   "execution_count": 62,
   "id": "52d12fa0-7f20-43eb-a910-b659ee1e648d",
   "metadata": {},
   "outputs": [
    {
     "data": {
      "text/latex": [
       "$\\displaystyle \\sin^{2}{\\left(x \\right)} + 2 \\sin{\\left(x \\right)} \\cos{\\left(x \\right)} + \\cos^{2}{\\left(x \\right)}$"
      ],
      "text/plain": [
       "sin(x)**2 + 2*sin(x)*cos(x) + cos(x)**2"
      ]
     },
     "execution_count": 62,
     "metadata": {},
     "output_type": "execute_result"
    }
   ],
   "source": [
    "smp.expand(f3**2)"
   ]
  },
  {
   "cell_type": "code",
   "execution_count": 63,
   "id": "3d7134bc-8149-4cb3-81b9-9b6a5039f359",
   "metadata": {},
   "outputs": [
    {
     "data": {
      "text/latex": [
       "$\\displaystyle \\left(\\sin{\\left(x \\right)} + \\cos{\\left(x \\right)}\\right)^{2}$"
      ],
      "text/plain": [
       "(sin(x) + cos(x))**2"
      ]
     },
     "execution_count": 63,
     "metadata": {},
     "output_type": "execute_result"
    }
   ],
   "source": [
    "smp.expand_trig(f3**2)"
   ]
  },
  {
   "cell_type": "code",
   "execution_count": 64,
   "id": "c49908c5-4fdc-45d2-b661-c6b37a116dae",
   "metadata": {},
   "outputs": [
    {
     "data": {
      "text/latex": [
       "$\\displaystyle \\sin{\\left(2 x \\right)} + 1$"
      ],
      "text/plain": [
       "sin(2*x) + 1"
      ]
     },
     "execution_count": 64,
     "metadata": {},
     "output_type": "execute_result"
    }
   ],
   "source": [
    "smp.trigsimp(smp.expand(f3**2))"
   ]
  },
  {
   "cell_type": "code",
   "execution_count": 65,
   "id": "5705373a-67db-4cf8-b413-398983e80273",
   "metadata": {},
   "outputs": [
    {
     "data": {
      "text/latex": [
       "$\\displaystyle 2 \\sin^{2}{\\left(x + \\frac{\\pi}{4} \\right)}$"
      ],
      "text/plain": [
       "2*sin(x + pi/4)**2"
      ]
     },
     "execution_count": 65,
     "metadata": {},
     "output_type": "execute_result"
    }
   ],
   "source": [
    "smp.trigsimp(smp.expand_trig(f3**2))"
   ]
  },
  {
   "cell_type": "code",
   "execution_count": 66,
   "id": "bdf0eda9-9c57-4cd3-92cf-d053984ccfac",
   "metadata": {},
   "outputs": [
    {
     "data": {
      "text/latex": [
       "$\\displaystyle \\sin{\\left(x \\right)} \\cos{\\left(y \\right)} + \\sin{\\left(y \\right)} \\cos{\\left(x \\right)}$"
      ],
      "text/plain": [
       "sin(x)*cos(y) + sin(y)*cos(x)"
      ]
     },
     "execution_count": 66,
     "metadata": {},
     "output_type": "execute_result"
    }
   ],
   "source": [
    "f4 = smp.sin(x+y)\n",
    "smp.expand_trig(f4)"
   ]
  },
  {
   "cell_type": "code",
   "execution_count": 67,
   "id": "67152a86-da1b-474b-a5fc-bf713249fbf2",
   "metadata": {},
   "outputs": [
    {
     "data": {
      "text/latex": [
       "$\\displaystyle \\sin{\\left(x + y \\right)}$"
      ],
      "text/plain": [
       "sin(x + y)"
      ]
     },
     "execution_count": 67,
     "metadata": {},
     "output_type": "execute_result"
    }
   ],
   "source": [
    "smp.expand(f4)"
   ]
  },
  {
   "cell_type": "code",
   "execution_count": 68,
   "id": "43f0ff93-67b5-4e51-bb52-a3d2fe11dba7",
   "metadata": {},
   "outputs": [
    {
     "data": {
      "text/latex": [
       "$\\displaystyle \\frac{\\cot{\\left(x \\right)} \\cot{\\left(y \\right)} - 1}{\\cot{\\left(x \\right)} + \\cot{\\left(y \\right)}}$"
      ],
      "text/plain": [
       "(cot(x)*cot(y) - 1)/(cot(x) + cot(y))"
      ]
     },
     "execution_count": 68,
     "metadata": {},
     "output_type": "execute_result"
    }
   ],
   "source": [
    "f5 = smp.cot(x+y)\n",
    "smp.expand_trig(f5)"
   ]
  },
  {
   "cell_type": "code",
   "execution_count": 69,
   "id": "e12c460f-ebe0-4ff9-a6e5-6eb2549851d8",
   "metadata": {},
   "outputs": [
    {
     "data": {
      "text/latex": [
       "$\\displaystyle \\cot{\\left(x + y \\right)}$"
      ],
      "text/plain": [
       "cot(x + y)"
      ]
     },
     "execution_count": 69,
     "metadata": {},
     "output_type": "execute_result"
    }
   ],
   "source": [
    "smp.expand(f5)"
   ]
  },
  {
   "cell_type": "markdown",
   "id": "3d4f7495-5ffb-4f6d-9dcf-5489f6e7bf36",
   "metadata": {},
   "source": [
    "## Rewriting trignometric expression"
   ]
  },
  {
   "cell_type": "code",
   "execution_count": 70,
   "id": "e2bc2651-25d6-46d3-8f7b-2a11af56a35b",
   "metadata": {},
   "outputs": [
    {
     "data": {
      "text/latex": [
       "$\\displaystyle \\cos{\\left(x + y - \\frac{\\pi}{2} \\right)}$"
      ],
      "text/plain": [
       "cos(x + y - pi/2)"
      ]
     },
     "execution_count": 70,
     "metadata": {},
     "output_type": "execute_result"
    }
   ],
   "source": [
    "f4.rewrite(smp.cos)"
   ]
  },
  {
   "cell_type": "code",
   "execution_count": 71,
   "id": "2bffd037-1013-40a3-8438-5c473d313a36",
   "metadata": {},
   "outputs": [
    {
     "data": {
      "text/latex": [
       "$\\displaystyle \\frac{\\cos{\\left(x + y \\right)}}{\\cos{\\left(x + y - \\frac{\\pi}{2} \\right)}}$"
      ],
      "text/plain": [
       "cos(x + y)/cos(x + y - pi/2)"
      ]
     },
     "execution_count": 71,
     "metadata": {},
     "output_type": "execute_result"
    }
   ],
   "source": [
    "f5.rewrite(smp.cos)"
   ]
  },
  {
   "cell_type": "code",
   "execution_count": 72,
   "id": "79c5e752-57e7-483d-8c54-8244ea541c6c",
   "metadata": {},
   "outputs": [
    {
     "data": {
      "text/latex": [
       "$\\displaystyle \\frac{\\sin{\\left(2 x + 2 y \\right)}}{2 \\sin^{2}{\\left(x + y \\right)}}$"
      ],
      "text/plain": [
       "sin(2*x + 2*y)/(2*sin(x + y)**2)"
      ]
     },
     "execution_count": 72,
     "metadata": {},
     "output_type": "execute_result"
    }
   ],
   "source": [
    "f5.rewrite(smp.sin)"
   ]
  },
  {
   "cell_type": "code",
   "execution_count": 73,
   "id": "49091a8b-fc17-4316-b75d-4303e1d8fcb6",
   "metadata": {},
   "outputs": [
    {
     "data": {
      "text/latex": [
       "$\\displaystyle \\frac{1}{\\tan{\\left(x + y \\right)}}$"
      ],
      "text/plain": [
       "1/tan(x + y)"
      ]
     },
     "execution_count": 73,
     "metadata": {},
     "output_type": "execute_result"
    }
   ],
   "source": [
    "f5.rewrite(smp.tan)"
   ]
  },
  {
   "cell_type": "code",
   "execution_count": 74,
   "id": "4f80df6c-b007-4b01-b124-3e72c5dcda5e",
   "metadata": {},
   "outputs": [
    {
     "data": {
      "text/latex": [
       "$\\displaystyle \\frac{\\sin{\\left(x \\right)}}{\\sqrt{1 - \\sin^{2}{\\left(x \\right)}}}$"
      ],
      "text/plain": [
       "sin(x)/sqrt(1 - sin(x)**2)"
      ]
     },
     "execution_count": 74,
     "metadata": {},
     "output_type": "execute_result"
    }
   ],
   "source": [
    "f6 = smp.sin(x)/smp.sqrt(1 - smp.sin(x)**2) # actually tan(x)\n",
    "f6"
   ]
  },
  {
   "cell_type": "code",
   "execution_count": 75,
   "id": "55e81afa-46e6-44b1-84ff-266684712244",
   "metadata": {},
   "outputs": [
    {
     "data": {
      "text/latex": [
       "$\\displaystyle \\frac{2 \\tan{\\left(\\frac{x}{2} \\right)}}{\\sqrt{1 - \\frac{4 \\tan^{2}{\\left(\\frac{x}{2} \\right)}}{\\left(\\tan^{2}{\\left(\\frac{x}{2} \\right)} + 1\\right)^{2}}} \\left(\\tan^{2}{\\left(\\frac{x}{2} \\right)} + 1\\right)}$"
      ],
      "text/plain": [
       "2*tan(x/2)/(sqrt(1 - 4*tan(x/2)**2/(tan(x/2)**2 + 1)**2)*(tan(x/2)**2 + 1))"
      ]
     },
     "execution_count": 75,
     "metadata": {},
     "output_type": "execute_result"
    }
   ],
   "source": [
    "f6.rewrite(smp.tan(x))"
   ]
  },
  {
   "cell_type": "code",
   "execution_count": 76,
   "id": "eb29afe8-fdde-41db-92a5-fcd83a5932cc",
   "metadata": {},
   "outputs": [
    {
     "data": {
      "text/latex": [
       "$\\displaystyle \\frac{\\sin{\\left(x \\right)}}{\\sqrt{\\cos^{2}{\\left(x \\right)}}}$"
      ],
      "text/plain": [
       "sin(x)/sqrt(cos(x)**2)"
      ]
     },
     "execution_count": 76,
     "metadata": {},
     "output_type": "execute_result"
    }
   ],
   "source": [
    "smp.simplify(f6)"
   ]
  },
  {
   "cell_type": "code",
   "execution_count": 77,
   "id": "6bc89a84-2589-4395-86cd-1db89f68bf22",
   "metadata": {},
   "outputs": [
    {
     "data": {
      "text/latex": [
       "$\\displaystyle \\frac{\\sin{\\left(x \\right)}}{\\sqrt{\\cos^{2}{\\left(x \\right)}}}$"
      ],
      "text/plain": [
       "sin(x)/sqrt(cos(x)**2)"
      ]
     },
     "execution_count": 77,
     "metadata": {},
     "output_type": "execute_result"
    }
   ],
   "source": [
    "smp.trigsimp(f6)"
   ]
  },
  {
   "cell_type": "code",
   "execution_count": 78,
   "id": "5984ff16-c8ba-4f54-8f6c-30290a569006",
   "metadata": {},
   "outputs": [
    {
     "data": {
      "text/latex": [
       "$\\displaystyle \\frac{2 \\sin^{2}{\\left(x \\right)}}{\\sin{\\left(2 x \\right)}}$"
      ],
      "text/plain": [
       "2*sin(x)**2/sin(2*x)"
      ]
     },
     "execution_count": 78,
     "metadata": {},
     "output_type": "execute_result"
    }
   ],
   "source": [
    "f7 = 2*smp.sin(x)**2/smp.sin(2*x) # actually tan(x)\n",
    "f7"
   ]
  },
  {
   "cell_type": "code",
   "execution_count": 79,
   "id": "dd3f0254-e0ee-4416-9d59-45bc7107a517",
   "metadata": {},
   "outputs": [
    {
     "data": {
      "text/latex": [
       "$\\displaystyle \\frac{4 \\left(\\tan^{2}{\\left(x \\right)} + 1\\right) \\tan^{2}{\\left(\\frac{x}{2} \\right)}}{\\left(\\tan^{2}{\\left(\\frac{x}{2} \\right)} + 1\\right)^{2} \\tan{\\left(x \\right)}}$"
      ],
      "text/plain": [
       "4*(tan(x)**2 + 1)*tan(x/2)**2/((tan(x/2)**2 + 1)**2*tan(x))"
      ]
     },
     "execution_count": 79,
     "metadata": {},
     "output_type": "execute_result"
    }
   ],
   "source": [
    "f7.rewrite(smp.tan(x))"
   ]
  },
  {
   "cell_type": "code",
   "execution_count": 80,
   "id": "dcfd6e4f-1830-46e7-afa0-1139efc00df2",
   "metadata": {},
   "outputs": [
    {
     "data": {
      "text/latex": [
       "$\\displaystyle \\tan{\\left(x \\right)}$"
      ],
      "text/plain": [
       "tan(x)"
      ]
     },
     "execution_count": 80,
     "metadata": {},
     "output_type": "execute_result"
    }
   ],
   "source": [
    "smp.simplify(f7)"
   ]
  },
  {
   "cell_type": "code",
   "execution_count": 81,
   "id": "70301770-c8cd-4736-856b-55e87beedf44",
   "metadata": {},
   "outputs": [
    {
     "data": {
      "text/latex": [
       "$\\displaystyle \\tan{\\left(x \\right)}$"
      ],
      "text/plain": [
       "tan(x)"
      ]
     },
     "execution_count": 81,
     "metadata": {},
     "output_type": "execute_result"
    }
   ],
   "source": [
    "smp.trigsimp(f7)"
   ]
  },
  {
   "cell_type": "markdown",
   "id": "bab8ee33-eba9-411f-a461-f20eeeb246d2",
   "metadata": {},
   "source": [
    "## Factorial, Binomial combination"
   ]
  },
  {
   "cell_type": "code",
   "execution_count": 82,
   "id": "e5c6a422-9449-439d-8085-0911a7c0627c",
   "metadata": {},
   "outputs": [],
   "source": [
    "n, r = smp.symbols('n, r')"
   ]
  },
  {
   "cell_type": "code",
   "execution_count": 83,
   "id": "cef26485-319d-414a-8aa5-5591dca20e28",
   "metadata": {},
   "outputs": [
    {
     "data": {
      "text/latex": [
       "$\\displaystyle n!$"
      ],
      "text/plain": [
       "factorial(n)"
      ]
     },
     "execution_count": 83,
     "metadata": {},
     "output_type": "execute_result"
    }
   ],
   "source": [
    "smp.factorial(n)"
   ]
  },
  {
   "cell_type": "code",
   "execution_count": 84,
   "id": "1973248d-5179-4752-aa14-d077ff7249bf",
   "metadata": {},
   "outputs": [
    {
     "data": {
      "text/latex": [
       "$\\displaystyle {\\binom{n}{r}}$"
      ],
      "text/plain": [
       "binomial(n, r)"
      ]
     },
     "execution_count": 84,
     "metadata": {},
     "output_type": "execute_result"
    }
   ],
   "source": [
    "smp.binomial(n,r) #nCr"
   ]
  },
  {
   "cell_type": "markdown",
   "id": "7d2f877e-9017-48d5-a91f-8b0436cb27ed",
   "metadata": {},
   "source": [
    "## Simplification of binomial"
   ]
  },
  {
   "cell_type": "code",
   "execution_count": 85,
   "id": "931f95e9-dca5-40b1-a1a9-fafd5a1c8d00",
   "metadata": {},
   "outputs": [
    {
     "data": {
      "text/latex": [
       "$\\displaystyle \\frac{{\\binom{n}{n - 1}}}{{\\binom{n}{n - 2}}}$"
      ],
      "text/plain": [
       "binomial(n, n - 1)/binomial(n, n - 2)"
      ]
     },
     "execution_count": 85,
     "metadata": {},
     "output_type": "execute_result"
    }
   ],
   "source": [
    "c1 = smp.binomial(n, n-1)/smp.binomial(n, n-2)\n",
    "c1"
   ]
  },
  {
   "cell_type": "code",
   "execution_count": 86,
   "id": "3ce393d9-7feb-4dde-82f1-7e464dc5c972",
   "metadata": {},
   "outputs": [
    {
     "data": {
      "text/latex": [
       "$\\displaystyle \\frac{2}{n - 1}$"
      ],
      "text/plain": [
       "2/(n - 1)"
      ]
     },
     "execution_count": 86,
     "metadata": {},
     "output_type": "execute_result"
    }
   ],
   "source": [
    "smp.simplify(c1)"
   ]
  },
  {
   "cell_type": "code",
   "execution_count": 87,
   "id": "bebf898f-54f6-484d-a300-a4ff86928e39",
   "metadata": {},
   "outputs": [
    {
     "data": {
      "text/latex": [
       "$\\displaystyle \\frac{2}{n - 1}$"
      ],
      "text/plain": [
       "2/(n - 1)"
      ]
     },
     "execution_count": 87,
     "metadata": {},
     "output_type": "execute_result"
    }
   ],
   "source": [
    "smp.combsimp(c1)"
   ]
  },
  {
   "cell_type": "markdown",
   "id": "a89e8f2e-5103-4163-8991-4709f1772f7a",
   "metadata": {},
   "source": [
    "## Beta, Gamma, Hypergeometric function"
   ]
  },
  {
   "cell_type": "code",
   "execution_count": 88,
   "id": "b830d343-f2ef-42b2-9039-61038eb77504",
   "metadata": {},
   "outputs": [],
   "source": [
    "#help(smp.beta)"
   ]
  },
  {
   "cell_type": "code",
   "execution_count": 89,
   "id": "bcebd82e-f191-48fb-800a-a0724899005f",
   "metadata": {},
   "outputs": [
    {
     "data": {
      "text/latex": [
       "$\\displaystyle \\operatorname{B}\\left(x, y\\right)$"
      ],
      "text/plain": [
       "beta(x, y)"
      ]
     },
     "execution_count": 89,
     "metadata": {},
     "output_type": "execute_result"
    }
   ],
   "source": [
    "smp.beta(x, y)"
   ]
  },
  {
   "cell_type": "code",
   "execution_count": 90,
   "id": "e5c4c823-0d45-491f-ae11-fae9702560e3",
   "metadata": {},
   "outputs": [
    {
     "data": {
      "text/latex": [
       "$\\displaystyle \\frac{1}{x}$"
      ],
      "text/plain": [
       "1/x"
      ]
     },
     "execution_count": 90,
     "metadata": {},
     "output_type": "execute_result"
    }
   ],
   "source": [
    "smp.beta(x,1)"
   ]
  },
  {
   "cell_type": "code",
   "execution_count": 91,
   "id": "34ecef54-6ded-434b-93fe-cb1050945bbb",
   "metadata": {},
   "outputs": [
    {
     "data": {
      "text/latex": [
       "$\\displaystyle \\Gamma\\left(z\\right)$"
      ],
      "text/plain": [
       "gamma(z)"
      ]
     },
     "execution_count": 91,
     "metadata": {},
     "output_type": "execute_result"
    }
   ],
   "source": [
    "smp.gamma(z)"
   ]
  },
  {
   "cell_type": "code",
   "execution_count": 92,
   "id": "bbe04b25-8b93-4282-88bb-ea16744e4906",
   "metadata": {},
   "outputs": [
    {
     "data": {
      "text/latex": [
       "$\\displaystyle 1.77245385090552$"
      ],
      "text/plain": [
       "1.77245385090552"
      ]
     },
     "execution_count": 92,
     "metadata": {},
     "output_type": "execute_result"
    }
   ],
   "source": [
    "smp.gamma(1/2)"
   ]
  },
  {
   "cell_type": "code",
   "execution_count": 93,
   "id": "54b08a53-42fb-4d3c-b34c-b157e4f3a032",
   "metadata": {},
   "outputs": [
    {
     "data": {
      "text/latex": [
       "$\\displaystyle 1.77245385090552$"
      ],
      "text/plain": [
       "1.77245385090552"
      ]
     },
     "execution_count": 93,
     "metadata": {},
     "output_type": "execute_result"
    }
   ],
   "source": [
    "smp.gamma(1/2).rewrite(smp.pi)"
   ]
  },
  {
   "cell_type": "code",
   "execution_count": 94,
   "id": "63bfeb81-c99b-448c-a170-c90da983f40d",
   "metadata": {},
   "outputs": [
    {
     "data": {
      "text/latex": [
       "$\\displaystyle 0.887263817503075$"
      ],
      "text/plain": [
       "0.887263817503075"
      ]
     },
     "execution_count": 94,
     "metadata": {},
     "output_type": "execute_result"
    }
   ],
   "source": [
    "smp.gamma(2/5)*(2/5)"
   ]
  },
  {
   "cell_type": "code",
   "execution_count": 95,
   "id": "e855af47-b38a-4e45-b176-e8efe195b23f",
   "metadata": {},
   "outputs": [
    {
     "data": {
      "text/latex": [
       "$\\displaystyle 0.887263817503075$"
      ],
      "text/plain": [
       "0.887263817503075"
      ]
     },
     "execution_count": 95,
     "metadata": {},
     "output_type": "execute_result"
    }
   ],
   "source": [
    "smp.gamma(7/5)"
   ]
  },
  {
   "cell_type": "markdown",
   "id": "402877c1-35a5-4c6e-82b8-45a88acf2cb6",
   "metadata": {},
   "source": [
    "## Infinite series"
   ]
  },
  {
   "cell_type": "code",
   "execution_count": 96,
   "id": "ed5cd421-4877-4460-b825-1800a7c6549c",
   "metadata": {},
   "outputs": [],
   "source": [
    "#help(smp.series)"
   ]
  },
  {
   "cell_type": "code",
   "execution_count": 97,
   "id": "36a3e9c4-166d-449d-9a3a-3630f0e02324",
   "metadata": {},
   "outputs": [
    {
     "data": {
      "text/latex": [
       "$\\displaystyle x + \\frac{x^{3}}{3} + \\frac{2 x^{5}}{15} + O\\left(x^{6}\\right)$"
      ],
      "text/plain": [
       "x + x**3/3 + 2*x**5/15 + O(x**6)"
      ]
     },
     "execution_count": 97,
     "metadata": {},
     "output_type": "execute_result"
    }
   ],
   "source": [
    "smp.series(smp.tan(x), x, 0, 6, '+')"
   ]
  },
  {
   "cell_type": "code",
   "execution_count": 98,
   "id": "a86f694b-5f82-4287-9fb7-f81159f54806",
   "metadata": {},
   "outputs": [
    {
     "data": {
      "text/latex": [
       "$\\displaystyle x + \\frac{x^{3}}{3} + \\frac{2 x^{5}}{15} + O\\left(x^{6}\\right)$"
      ],
      "text/plain": [
       "x + x**3/3 + 2*x**5/15 + O(x**6)"
      ]
     },
     "execution_count": 98,
     "metadata": {},
     "output_type": "execute_result"
    }
   ],
   "source": [
    "smp.tan(x).series(x, 0, 6, '+')"
   ]
  },
  {
   "cell_type": "code",
   "execution_count": 99,
   "id": "f37d73b6-ed67-4546-a217-3c6856ab688a",
   "metadata": {},
   "outputs": [
    {
     "data": {
      "text/latex": [
       "$\\displaystyle x + \\frac{x^{3}}{3} + \\frac{2 x^{5}}{15} + O\\left(x^{6}\\right)$"
      ],
      "text/plain": [
       "x + x**3/3 + 2*x**5/15 + O(x**6)"
      ]
     },
     "execution_count": 99,
     "metadata": {},
     "output_type": "execute_result"
    }
   ],
   "source": [
    "smp.series(smp.tan(x), x, 0, 6, '-')"
   ]
  },
  {
   "cell_type": "code",
   "execution_count": 100,
   "id": "0db213ea-dac1-4eb9-9d54-c45cfa797576",
   "metadata": {},
   "outputs": [
    {
     "data": {
      "text/latex": [
       "$\\displaystyle \\tan{\\left(y \\right)} + \\left(x - y\\right) \\left(\\tan^{2}{\\left(y \\right)} + 1\\right) + \\left(x - y\\right)^{2} \\left(\\tan^{3}{\\left(y \\right)} + \\tan{\\left(y \\right)}\\right) + \\left(x - y\\right)^{3} \\left(\\tan^{4}{\\left(y \\right)} + \\frac{4 \\tan^{2}{\\left(y \\right)}}{3} + \\frac{1}{3}\\right) + \\left(x - y\\right)^{4} \\left(\\tan^{5}{\\left(y \\right)} + \\frac{5 \\tan^{3}{\\left(y \\right)}}{3} + \\frac{2 \\tan{\\left(y \\right)}}{3}\\right) + \\left(x - y\\right)^{5} \\left(\\tan^{6}{\\left(y \\right)} + 2 \\tan^{4}{\\left(y \\right)} + \\frac{17 \\tan^{2}{\\left(y \\right)}}{15} + \\frac{2}{15}\\right) + O\\left(\\left(x - y\\right)^{6}; x\\rightarrow y\\right)$"
      ],
      "text/plain": [
       "tan(y) + (x - y)*(tan(y)**2 + 1) + (x - y)**2*(tan(y)**3 + tan(y)) + (x - y)**3*(tan(y)**4 + 4*tan(y)**2/3 + 1/3) + (x - y)**4*(tan(y)**5 + 5*tan(y)**3/3 + 2*tan(y)/3) + (x - y)**5*(tan(y)**6 + 2*tan(y)**4 + 17*tan(y)**2/15 + 2/15) + O((x - y)**6, (x, y))"
      ]
     },
     "execution_count": 100,
     "metadata": {},
     "output_type": "execute_result"
    }
   ],
   "source": [
    "smp.series(smp.tan(x), x, y, 6, '+') # x0 = y"
   ]
  },
  {
   "cell_type": "code",
   "execution_count": 101,
   "id": "47a912e6-4a16-4cdb-b759-76b52cbf035e",
   "metadata": {},
   "outputs": [
    {
     "data": {
      "text/latex": [
       "$\\displaystyle \\tan{\\left(y \\right)} + \\left(- x + y\\right) \\left(- \\tan^{2}{\\left(y \\right)} - 1\\right) + \\left(- x + y\\right)^{2} \\left(\\tan^{3}{\\left(y \\right)} + \\tan{\\left(y \\right)}\\right) + \\left(- x + y\\right)^{3} \\left(- \\tan^{4}{\\left(y \\right)} - \\frac{4 \\tan^{2}{\\left(y \\right)}}{3} - \\frac{1}{3}\\right) + \\left(- x + y\\right)^{4} \\left(\\tan^{5}{\\left(y \\right)} + \\frac{5 \\tan^{3}{\\left(y \\right)}}{3} + \\frac{2 \\tan{\\left(y \\right)}}{3}\\right) + \\left(- x + y\\right)^{5} \\left(- \\tan^{6}{\\left(y \\right)} - 2 \\tan^{4}{\\left(y \\right)} - \\frac{17 \\tan^{2}{\\left(y \\right)}}{15} - \\frac{2}{15}\\right) + O\\left(\\left(x - y\\right)^{6}; x\\rightarrow y\\right)$"
      ],
      "text/plain": [
       "tan(y) + (-x + y)*(-tan(y)**2 - 1) + (-x + y)**2*(tan(y)**3 + tan(y)) + (-x + y)**3*(-tan(y)**4 - 4*tan(y)**2/3 - 1/3) + (-x + y)**4*(tan(y)**5 + 5*tan(y)**3/3 + 2*tan(y)/3) + (-x + y)**5*(-tan(y)**6 - 2*tan(y)**4 - 17*tan(y)**2/15 - 2/15) + O((x - y)**6, (x, y))"
      ]
     },
     "execution_count": 101,
     "metadata": {},
     "output_type": "execute_result"
    }
   ],
   "source": [
    "smp.series(smp.tan(x), x, y, 6, '-')"
   ]
  },
  {
   "cell_type": "code",
   "execution_count": 102,
   "id": "2b125ff4-0f3d-4c4e-8dd1-14f203196ae9",
   "metadata": {},
   "outputs": [
    {
     "data": {
      "text/latex": [
       "$\\displaystyle 1 + x + \\frac{x^{2}}{2} + \\frac{x^{3}}{6} + \\frac{x^{4}}{24} + \\frac{x^{5}}{120} + O\\left(x^{6}\\right)$"
      ],
      "text/plain": [
       "1 + x + x**2/2 + x**3/6 + x**4/24 + x**5/120 + O(x**6)"
      ]
     },
     "execution_count": 102,
     "metadata": {},
     "output_type": "execute_result"
    }
   ],
   "source": [
    "smp.series(smp.exp(x), x, 0, 6, '+')"
   ]
  },
  {
   "cell_type": "code",
   "execution_count": 103,
   "id": "0bbe95a0-fe32-418c-9bfc-8f68a25df8ea",
   "metadata": {},
   "outputs": [
    {
     "data": {
      "text/latex": [
       "$\\displaystyle 1 + x + \\frac{x^{2}}{2} + \\frac{x^{3}}{6} + \\frac{x^{4}}{24} + \\frac{x^{5}}{120} + O\\left(x^{6}\\right)$"
      ],
      "text/plain": [
       "1 + x + x**2/2 + x**3/6 + x**4/24 + x**5/120 + O(x**6)"
      ]
     },
     "execution_count": 103,
     "metadata": {},
     "output_type": "execute_result"
    }
   ],
   "source": [
    "smp.series(smp.exp(x), x, 0, 6, '-')"
   ]
  },
  {
   "cell_type": "code",
   "execution_count": 104,
   "id": "5b03e4e8-8a0d-485c-831a-8c34da725841",
   "metadata": {},
   "outputs": [
    {
     "data": {
      "text/latex": [
       "$\\displaystyle e^{y} + \\left(x - y\\right) e^{y} + \\frac{\\left(x - y\\right)^{2} e^{y}}{2} + \\frac{\\left(x - y\\right)^{3} e^{y}}{6} + \\frac{\\left(x - y\\right)^{4} e^{y}}{24} + \\frac{\\left(x - y\\right)^{5} e^{y}}{120} + O\\left(\\left(x - y\\right)^{6}; x\\rightarrow y\\right)$"
      ],
      "text/plain": [
       "exp(y) + (x - y)*exp(y) + (x - y)**2*exp(y)/2 + (x - y)**3*exp(y)/6 + (x - y)**4*exp(y)/24 + (x - y)**5*exp(y)/120 + O((x - y)**6, (x, y))"
      ]
     },
     "execution_count": 104,
     "metadata": {},
     "output_type": "execute_result"
    }
   ],
   "source": [
    "smp.series(smp.exp(x), x, y, 6, '+')"
   ]
  },
  {
   "cell_type": "code",
   "execution_count": 105,
   "id": "042b31d3-a6b7-454a-a77e-23476efc1bc6",
   "metadata": {},
   "outputs": [
    {
     "data": {
      "text/latex": [
       "$\\displaystyle e^{y} - \\left(- x + y\\right) e^{y} + \\frac{\\left(- x + y\\right)^{2} e^{y}}{2} - \\frac{\\left(- x + y\\right)^{3} e^{y}}{6} + \\frac{\\left(- x + y\\right)^{4} e^{y}}{24} - \\frac{\\left(- x + y\\right)^{5} e^{y}}{120} + O\\left(\\left(x - y\\right)^{6}; x\\rightarrow y\\right)$"
      ],
      "text/plain": [
       "exp(y) - (-x + y)*exp(y) + (-x + y)**2*exp(y)/2 - (-x + y)**3*exp(y)/6 + (-x + y)**4*exp(y)/24 - (-x + y)**5*exp(y)/120 + O((x - y)**6, (x, y))"
      ]
     },
     "execution_count": 105,
     "metadata": {},
     "output_type": "execute_result"
    }
   ],
   "source": [
    "smp.series(smp.exp(x), x, y, 6, '-')"
   ]
  },
  {
   "cell_type": "code",
   "execution_count": 106,
   "id": "c84e538d-78d7-444b-ba75-93a0565ae33e",
   "metadata": {},
   "outputs": [
    {
     "data": {
      "text/latex": [
       "$\\displaystyle \\log{\\left(x \\right)}$"
      ],
      "text/plain": [
       "log(x)"
      ]
     },
     "execution_count": 106,
     "metadata": {},
     "output_type": "execute_result"
    }
   ],
   "source": [
    "smp.series(smp.log(x), x, 0, 6, '+')"
   ]
  },
  {
   "cell_type": "code",
   "execution_count": 107,
   "id": "1b301382-5bae-46a4-9676-8f2deee94af1",
   "metadata": {},
   "outputs": [
    {
     "data": {
      "text/latex": [
       "$\\displaystyle \\frac{\\left(x - y\\right)^{5}}{5 y^{5}} - \\frac{\\left(x - y\\right)^{4}}{4 y^{4}} + \\frac{\\left(x - y\\right)^{3}}{3 y^{3}} - \\frac{\\left(x - y\\right)^{2}}{2 y^{2}} + \\frac{x - y}{y} + \\log{\\left(y \\right)} + O\\left(\\left(x - y\\right)^{6}; x\\rightarrow y\\right)$"
      ],
      "text/plain": [
       "(x - y)**5/(5*y**5) - (x - y)**4/(4*y**4) + (x - y)**3/(3*y**3) - (x - y)**2/(2*y**2) + (x - y)/y + log(y) + O((x - y)**6, (x, y))"
      ]
     },
     "execution_count": 107,
     "metadata": {},
     "output_type": "execute_result"
    }
   ],
   "source": [
    "smp.series(smp.log(x), x, y, 6, '+')"
   ]
  },
  {
   "cell_type": "code",
   "execution_count": 108,
   "id": "f4350d3a-4205-4654-8e7e-a133acc35226",
   "metadata": {},
   "outputs": [
    {
     "data": {
      "text/latex": [
       "$\\displaystyle - \\frac{\\left(- x + y\\right)^{5}}{5 y^{5}} - \\frac{\\left(- x + y\\right)^{4}}{4 y^{4}} - \\frac{\\left(- x + y\\right)^{3}}{3 y^{3}} - \\frac{\\left(- x + y\\right)^{2}}{2 y^{2}} - \\frac{- x + y}{y} + \\log{\\left(y \\right)} + O\\left(\\left(x - y\\right)^{6}; x\\rightarrow y\\right)$"
      ],
      "text/plain": [
       "-(-x + y)**5/(5*y**5) - (-x + y)**4/(4*y**4) - (-x + y)**3/(3*y**3) - (-x + y)**2/(2*y**2) - (-x + y)/y + log(y) + O((x - y)**6, (x, y))"
      ]
     },
     "execution_count": 108,
     "metadata": {},
     "output_type": "execute_result"
    }
   ],
   "source": [
    "smp.series(smp.log(x), x, y, 6, '-')"
   ]
  },
  {
   "cell_type": "code",
   "execution_count": 109,
   "id": "d6382ebd-14a1-4753-88e7-7e6bb2e6a292",
   "metadata": {},
   "outputs": [
    {
     "data": {
      "text/latex": [
       "$\\displaystyle \\log{\\left(2 \\right)} - 1 - \\frac{\\left(x - 2\\right)^{2}}{8} + \\frac{\\left(x - 2\\right)^{3}}{24} - \\frac{\\left(x - 2\\right)^{4}}{64} + \\frac{\\left(x - 2\\right)^{5}}{160} + \\frac{x}{2} + O\\left(\\left(x - 2\\right)^{6}; x\\rightarrow 2\\right)$"
      ],
      "text/plain": [
       "log(2) - 1 - (x - 2)**2/8 + (x - 2)**3/24 - (x - 2)**4/64 + (x - 2)**5/160 + x/2 + O((x - 2)**6, (x, 2))"
      ]
     },
     "execution_count": 109,
     "metadata": {},
     "output_type": "execute_result"
    }
   ],
   "source": [
    "smp.series(smp.log(x), x, 2, 6, '+')"
   ]
  },
  {
   "cell_type": "code",
   "execution_count": 110,
   "id": "09149810-61da-4cfc-b2ba-536ed170e124",
   "metadata": {},
   "outputs": [
    {
     "data": {
      "text/latex": [
       "$\\displaystyle \\log{\\left(2 \\right)} - 1 - \\frac{\\left(x - 2\\right)^{2}}{8} + \\frac{\\left(x - 2\\right)^{3}}{24} - \\frac{\\left(x - 2\\right)^{4}}{64} + \\frac{\\left(x - 2\\right)^{5}}{160} + \\frac{x}{2} + O\\left(\\left(x - 2\\right)^{6}; x\\rightarrow 2\\right)$"
      ],
      "text/plain": [
       "log(2) - 1 - (x - 2)**2/8 + (x - 2)**3/24 - (x - 2)**4/64 + (x - 2)**5/160 + x/2 + O((x - 2)**6, (x, 2))"
      ]
     },
     "execution_count": 110,
     "metadata": {},
     "output_type": "execute_result"
    }
   ],
   "source": [
    "smp.log(x).series(x, 2, 6, '+')"
   ]
  },
  {
   "cell_type": "markdown",
   "id": "92953cbd-7233-4d39-935a-b1a61ef2cc53",
   "metadata": {},
   "source": [
    "## Declare function and expand"
   ]
  },
  {
   "cell_type": "code",
   "execution_count": 111,
   "id": "0b521673-e607-4e9b-8027-7f361bb7d5ed",
   "metadata": {},
   "outputs": [
    {
     "data": {
      "text/latex": [
       "$\\displaystyle \\frac{\\sin{\\left(x \\right)}}{x}$"
      ],
      "text/plain": [
       "sin(x)/x"
      ]
     },
     "execution_count": 111,
     "metadata": {},
     "output_type": "execute_result"
    }
   ],
   "source": [
    "f = smp.sin(x)/x\n",
    "f"
   ]
  },
  {
   "cell_type": "code",
   "execution_count": 112,
   "id": "d2f4e11f-251c-4b17-b052-fb30e4f4492c",
   "metadata": {},
   "outputs": [
    {
     "data": {
      "text/latex": [
       "$\\displaystyle 1 - \\frac{x^{2}}{6} + \\frac{x^{4}}{120} - \\frac{x^{6}}{5040} + O\\left(x^{7}\\right)$"
      ],
      "text/plain": [
       "1 - x**2/6 + x**4/120 - x**6/5040 + O(x**7)"
      ]
     },
     "execution_count": 112,
     "metadata": {},
     "output_type": "execute_result"
    }
   ],
   "source": [
    "f.series(x, 0, 7)"
   ]
  },
  {
   "cell_type": "code",
   "execution_count": 113,
   "id": "c890475e-ea60-4698-82a1-b0a7f3c1da70",
   "metadata": {},
   "outputs": [
    {
     "data": {
      "text/latex": [
       "$\\displaystyle \\frac{\\sin{\\left(y \\right)}}{y} + \\left(x - y\\right) \\left(\\frac{\\cos{\\left(y \\right)}}{y} - \\frac{\\sin{\\left(y \\right)}}{y^{2}}\\right) + \\left(x - y\\right)^{2} \\left(- \\frac{\\sin{\\left(y \\right)}}{2 y} - \\frac{\\cos{\\left(y \\right)}}{y^{2}} + \\frac{\\sin{\\left(y \\right)}}{y^{3}}\\right) + \\left(x - y\\right)^{3} \\left(- \\frac{\\cos{\\left(y \\right)}}{6 y} + \\frac{\\sin{\\left(y \\right)}}{2 y^{2}} + \\frac{\\cos{\\left(y \\right)}}{y^{3}} - \\frac{\\sin{\\left(y \\right)}}{y^{4}}\\right) + \\left(x - y\\right)^{4} \\left(\\frac{\\sin{\\left(y \\right)}}{24 y} + \\frac{\\cos{\\left(y \\right)}}{6 y^{2}} - \\frac{\\sin{\\left(y \\right)}}{2 y^{3}} - \\frac{\\cos{\\left(y \\right)}}{y^{4}} + \\frac{\\sin{\\left(y \\right)}}{y^{5}}\\right) + O\\left(\\left(x - y\\right)^{5}; x\\rightarrow y\\right)$"
      ],
      "text/plain": [
       "sin(y)/y + (x - y)*(cos(y)/y - sin(y)/y**2) + (x - y)**2*(-sin(y)/(2*y) - cos(y)/y**2 + sin(y)/y**3) + (x - y)**3*(-cos(y)/(6*y) + sin(y)/(2*y**2) + cos(y)/y**3 - sin(y)/y**4) + (x - y)**4*(sin(y)/(24*y) + cos(y)/(6*y**2) - sin(y)/(2*y**3) - cos(y)/y**4 + sin(y)/y**5) + O((x - y)**5, (x, y))"
      ]
     },
     "execution_count": 113,
     "metadata": {},
     "output_type": "execute_result"
    }
   ],
   "source": [
    "f.series(x, y, 5)"
   ]
  },
  {
   "cell_type": "markdown",
   "id": "d250d3df-a96a-4190-be17-9b62dff5b91a",
   "metadata": {},
   "source": [
    "## Algebraic equation, solve"
   ]
  },
  {
   "cell_type": "code",
   "execution_count": 114,
   "id": "1d4398b7-bc7e-4aaf-afbe-9ebaa9dcfc5c",
   "metadata": {},
   "outputs": [],
   "source": [
    "#help(smp.solve)"
   ]
  },
  {
   "cell_type": "code",
   "execution_count": 115,
   "id": "e0040eb6-1754-4e74-9d32-15cdae87b153",
   "metadata": {},
   "outputs": [
    {
     "data": {
      "text/latex": [
       "$\\displaystyle x^{2} - 5 x + 3$"
      ],
      "text/plain": [
       "x**2 - 5*x + 3"
      ]
     },
     "execution_count": 115,
     "metadata": {},
     "output_type": "execute_result"
    }
   ],
   "source": [
    "eq = x**2 - 5*x + 3\n",
    "eq"
   ]
  },
  {
   "cell_type": "code",
   "execution_count": 116,
   "id": "d61679e3-6bd7-4bc7-9642-8cf51718a405",
   "metadata": {},
   "outputs": [
    {
     "data": {
      "text/plain": [
       "[5/2 - sqrt(13)/2, sqrt(13)/2 + 5/2]"
      ]
     },
     "execution_count": 116,
     "metadata": {},
     "output_type": "execute_result"
    }
   ],
   "source": [
    "smp.solve(eq)"
   ]
  },
  {
   "cell_type": "markdown",
   "id": "fa43c2bb-503e-48d3-9a67-cb7870332b18",
   "metadata": {},
   "source": [
    "## System of equations, solve"
   ]
  },
  {
   "cell_type": "code",
   "execution_count": 117,
   "id": "10585f22-8d66-401a-b767-b8d30352ae9a",
   "metadata": {},
   "outputs": [],
   "source": [
    "eq1 = x + y - 4\n",
    "eq2 = x - y - 2"
   ]
  },
  {
   "cell_type": "code",
   "execution_count": 118,
   "id": "9bf8a4ee-6bee-47ab-929e-2b8cafbfa259",
   "metadata": {},
   "outputs": [
    {
     "data": {
      "text/plain": [
       "{x: 3, y: 1}"
      ]
     },
     "execution_count": 118,
     "metadata": {},
     "output_type": "execute_result"
    }
   ],
   "source": [
    "smp.solve((eq1, eq2), x, y)"
   ]
  },
  {
   "cell_type": "markdown",
   "id": "7fe9e37f-0f0d-4a01-a3cc-6f13e853ba91",
   "metadata": {},
   "source": [
    "## Matrix"
   ]
  },
  {
   "cell_type": "code",
   "execution_count": 119,
   "id": "ffe42fac-249a-4d71-9ccf-54f44cf93841",
   "metadata": {},
   "outputs": [],
   "source": [
    "#help(smp.Matrix)"
   ]
  },
  {
   "cell_type": "code",
   "execution_count": 120,
   "id": "217e45c3-6577-4e15-9f73-6befd36baca7",
   "metadata": {},
   "outputs": [
    {
     "data": {
      "text/latex": [
       "$\\displaystyle \\left[\\begin{matrix}1\\\\2\\\\3\\end{matrix}\\right]$"
      ],
      "text/plain": [
       "Matrix([\n",
       "[1],\n",
       "[2],\n",
       "[3]])"
      ]
     },
     "execution_count": 120,
     "metadata": {},
     "output_type": "execute_result"
    }
   ],
   "source": [
    "smp.Matrix([1, 2, 3]) # column matrix"
   ]
  },
  {
   "cell_type": "code",
   "execution_count": 121,
   "id": "87ec7496-50b6-48a0-a692-211bfb81daaf",
   "metadata": {},
   "outputs": [
    {
     "data": {
      "text/plain": [
       "(3, 1)"
      ]
     },
     "execution_count": 121,
     "metadata": {},
     "output_type": "execute_result"
    }
   ],
   "source": [
    "smp.Matrix([1, 2, 3]).shape "
   ]
  },
  {
   "cell_type": "code",
   "execution_count": 122,
   "id": "ca09fd37-4d7b-43ed-b92f-49171efa4160",
   "metadata": {},
   "outputs": [
    {
     "data": {
      "text/plain": [
       "(3, 1)"
      ]
     },
     "execution_count": 122,
     "metadata": {},
     "output_type": "execute_result"
    }
   ],
   "source": [
    "smp.Matrix([[1], [2], [3]]).shape "
   ]
  },
  {
   "cell_type": "code",
   "execution_count": 123,
   "id": "bda2e995-a6fc-4288-a462-fd6037485fae",
   "metadata": {},
   "outputs": [
    {
     "data": {
      "text/latex": [
       "$\\displaystyle \\left[\\begin{matrix}1 & 2 & 3\\\\4 & 5 & 6\\\\7 & 8 & 9\\end{matrix}\\right]$"
      ],
      "text/plain": [
       "Matrix([\n",
       "[1, 2, 3],\n",
       "[4, 5, 6],\n",
       "[7, 8, 9]])"
      ]
     },
     "execution_count": 123,
     "metadata": {},
     "output_type": "execute_result"
    }
   ],
   "source": [
    "smp.Matrix([[1, 2, 3], [4, 5, 6], [7, 8, 9]]) "
   ]
  },
  {
   "cell_type": "code",
   "execution_count": 124,
   "id": "74b35c8c-debe-4d27-8f3c-e0740ab7e9f0",
   "metadata": {},
   "outputs": [],
   "source": [
    "A = smp.Matrix([[1, 2, 3], [4, 5, 6], [7, 8, 9]]) \n",
    "B = smp.Matrix([[1, 0, 1], [1, 2, -1], [3, 1, 4]])"
   ]
  },
  {
   "cell_type": "code",
   "execution_count": 125,
   "id": "9a2ddb37-86f3-4a9d-a470-e95541047619",
   "metadata": {},
   "outputs": [
    {
     "data": {
      "text/plain": [
       "(3, 3)"
      ]
     },
     "execution_count": 125,
     "metadata": {},
     "output_type": "execute_result"
    }
   ],
   "source": [
    "A.shape"
   ]
  },
  {
   "cell_type": "code",
   "execution_count": 126,
   "id": "2e451b3b-ba29-48bc-802f-370e81988026",
   "metadata": {},
   "outputs": [
    {
     "data": {
      "text/latex": [
       "$\\displaystyle \\left[\\begin{matrix}4 & 5 & 6\\end{matrix}\\right]$"
      ],
      "text/plain": [
       "Matrix([[4, 5, 6]])"
      ]
     },
     "execution_count": 126,
     "metadata": {},
     "output_type": "execute_result"
    }
   ],
   "source": [
    "A.row(1)"
   ]
  },
  {
   "cell_type": "code",
   "execution_count": 127,
   "id": "799ce662-05c1-445e-9994-be0655b4050f",
   "metadata": {},
   "outputs": [
    {
     "data": {
      "text/latex": [
       "$\\displaystyle \\left[\\begin{matrix}1\\\\4\\\\7\\end{matrix}\\right]$"
      ],
      "text/plain": [
       "Matrix([\n",
       "[1],\n",
       "[4],\n",
       "[7]])"
      ]
     },
     "execution_count": 127,
     "metadata": {},
     "output_type": "execute_result"
    }
   ],
   "source": [
    "A.col(0)"
   ]
  },
  {
   "cell_type": "code",
   "execution_count": 128,
   "id": "934f4203-a408-4d00-b3ba-55cd08964d0d",
   "metadata": {},
   "outputs": [
    {
     "data": {
      "text/latex": [
       "$\\displaystyle \\left[\\begin{matrix}2 & 2 & 4\\\\5 & 7 & 5\\\\10 & 9 & 13\\end{matrix}\\right]$"
      ],
      "text/plain": [
       "Matrix([\n",
       "[ 2, 2,  4],\n",
       "[ 5, 7,  5],\n",
       "[10, 9, 13]])"
      ]
     },
     "execution_count": 128,
     "metadata": {},
     "output_type": "execute_result"
    }
   ],
   "source": [
    "A + B # addition"
   ]
  },
  {
   "cell_type": "code",
   "execution_count": 129,
   "id": "253c7f11-dee0-4455-9686-a3969caf18db",
   "metadata": {},
   "outputs": [
    {
     "data": {
      "text/latex": [
       "$\\displaystyle \\left[\\begin{matrix}12 & 7 & 11\\\\27 & 16 & 23\\\\42 & 25 & 35\\end{matrix}\\right]$"
      ],
      "text/plain": [
       "Matrix([\n",
       "[12,  7, 11],\n",
       "[27, 16, 23],\n",
       "[42, 25, 35]])"
      ]
     },
     "execution_count": 129,
     "metadata": {},
     "output_type": "execute_result"
    }
   ],
   "source": [
    "A*B # product"
   ]
  },
  {
   "cell_type": "code",
   "execution_count": 130,
   "id": "f6e03495-5d22-4195-9992-5ce27b828ad1",
   "metadata": {},
   "outputs": [
    {
     "data": {
      "text/latex": [
       "$\\displaystyle \\left[\\begin{matrix}8 & 10 & 12\\\\2 & 4 & 6\\\\35 & 43 & 51\\end{matrix}\\right]$"
      ],
      "text/plain": [
       "Matrix([\n",
       "[ 8, 10, 12],\n",
       "[ 2,  4,  6],\n",
       "[35, 43, 51]])"
      ]
     },
     "execution_count": 130,
     "metadata": {},
     "output_type": "execute_result"
    }
   ],
   "source": [
    "B*A # product"
   ]
  },
  {
   "cell_type": "code",
   "execution_count": 131,
   "id": "4f5d88e3-f5ac-4497-a6a5-5f78d35e30df",
   "metadata": {},
   "outputs": [
    {
     "data": {
      "text/latex": [
       "$\\displaystyle \\left[\\begin{matrix}\\frac{9}{4} & \\frac{1}{4} & - \\frac{1}{2}\\\\- \\frac{7}{4} & \\frac{1}{4} & \\frac{1}{2}\\\\- \\frac{5}{4} & - \\frac{1}{4} & \\frac{1}{2}\\end{matrix}\\right]$"
      ],
      "text/plain": [
       "Matrix([\n",
       "[ 9/4,  1/4, -1/2],\n",
       "[-7/4,  1/4,  1/2],\n",
       "[-5/4, -1/4,  1/2]])"
      ]
     },
     "execution_count": 131,
     "metadata": {},
     "output_type": "execute_result"
    }
   ],
   "source": [
    "B**-1 # inverse of matrix"
   ]
  },
  {
   "cell_type": "code",
   "execution_count": 132,
   "id": "61eb2f7b-4d44-45ec-9992-6b0f461d51b1",
   "metadata": {},
   "outputs": [
    {
     "data": {
      "text/latex": [
       "$\\displaystyle \\left[\\begin{matrix}1 & 0 & 0\\\\0 & 1 & 0\\\\0 & 0 & 1\\end{matrix}\\right]$"
      ],
      "text/plain": [
       "Matrix([\n",
       "[1, 0, 0],\n",
       "[0, 1, 0],\n",
       "[0, 0, 1]])"
      ]
     },
     "execution_count": 132,
     "metadata": {},
     "output_type": "execute_result"
    }
   ],
   "source": [
    "B*B**-1 # check inverse"
   ]
  },
  {
   "cell_type": "code",
   "execution_count": 133,
   "id": "c4a558bb-3395-4b0a-960e-73406b3e4cc0",
   "metadata": {},
   "outputs": [
    {
     "data": {
      "text/latex": [
       "$\\displaystyle \\left[\\begin{matrix}1 & 4 & 7\\\\2 & 5 & 8\\\\3 & 6 & 9\\end{matrix}\\right]$"
      ],
      "text/plain": [
       "Matrix([\n",
       "[1, 4, 7],\n",
       "[2, 5, 8],\n",
       "[3, 6, 9]])"
      ]
     },
     "execution_count": 133,
     "metadata": {},
     "output_type": "execute_result"
    }
   ],
   "source": [
    "A.T # transpose"
   ]
  },
  {
   "cell_type": "code",
   "execution_count": 134,
   "id": "d77d339a-2180-4516-8066-c03c5b9af43c",
   "metadata": {},
   "outputs": [
    {
     "data": {
      "text/latex": [
       "$\\displaystyle \\left[\\begin{matrix}30 & 36 & 42\\\\66 & 81 & 96\\\\102 & 126 & 150\\end{matrix}\\right]$"
      ],
      "text/plain": [
       "Matrix([\n",
       "[ 30,  36,  42],\n",
       "[ 66,  81,  96],\n",
       "[102, 126, 150]])"
      ]
     },
     "execution_count": 134,
     "metadata": {},
     "output_type": "execute_result"
    }
   ],
   "source": [
    "A**2 # power of matrix"
   ]
  },
  {
   "cell_type": "code",
   "execution_count": 135,
   "id": "e6e86b70-2aa4-4b32-8d01-1c5544d9cc2c",
   "metadata": {},
   "outputs": [
    {
     "data": {
      "text/latex": [
       "$\\displaystyle 0$"
      ],
      "text/plain": [
       "0"
      ]
     },
     "execution_count": 135,
     "metadata": {},
     "output_type": "execute_result"
    }
   ],
   "source": [
    "A.det()"
   ]
  },
  {
   "cell_type": "code",
   "execution_count": 136,
   "id": "eff220cd-4d27-4a5c-986f-4c1d99f7e3ae",
   "metadata": {},
   "outputs": [
    {
     "data": {
      "text/latex": [
       "$\\displaystyle 4$"
      ],
      "text/plain": [
       "4"
      ]
     },
     "execution_count": 136,
     "metadata": {},
     "output_type": "execute_result"
    }
   ],
   "source": [
    "B.det() # determinant"
   ]
  },
  {
   "cell_type": "code",
   "execution_count": 137,
   "id": "b8a06a17-3936-4dce-a984-b42e71f8d823",
   "metadata": {},
   "outputs": [
    {
     "data": {
      "text/plain": [
       "{2: 1, 5/2 - sqrt(17)/2: 1, sqrt(17)/2 + 5/2: 1}"
      ]
     },
     "execution_count": 137,
     "metadata": {},
     "output_type": "execute_result"
    }
   ],
   "source": [
    "B.eigenvals()"
   ]
  },
  {
   "cell_type": "code",
   "execution_count": 138,
   "id": "1cf506e8-a3c5-4853-b512-7f4edc0d7029",
   "metadata": {},
   "outputs": [
    {
     "data": {
      "text/plain": [
       "[(2,\n",
       "  1,\n",
       "  [Matrix([\n",
       "   [ 1],\n",
       "   [-5],\n",
       "   [ 1]])]),\n",
       " (5/2 - sqrt(17)/2,\n",
       "  1,\n",
       "  [Matrix([\n",
       "   [-sqrt(17)/4 - 3/4],\n",
       "   [ 3/4 + sqrt(17)/4],\n",
       "   [                1]])]),\n",
       " (sqrt(17)/2 + 5/2,\n",
       "  1,\n",
       "  [Matrix([\n",
       "   [-3/4 + sqrt(17)/4],\n",
       "   [ 3/4 - sqrt(17)/4],\n",
       "   [                1]])])]"
      ]
     },
     "execution_count": 138,
     "metadata": {},
     "output_type": "execute_result"
    }
   ],
   "source": [
    "B.eigenvects()"
   ]
  },
  {
   "cell_type": "code",
   "execution_count": 139,
   "id": "874a1c5a-2239-421c-bcc6-cbe6605042dc",
   "metadata": {},
   "outputs": [],
   "source": [
    "#help(smp.Matrix.diagonalize)"
   ]
  },
  {
   "cell_type": "code",
   "execution_count": 140,
   "id": "6e7b6d32-0049-4118-b3b7-c347bb6ea519",
   "metadata": {},
   "outputs": [],
   "source": [
    "P, D = B.diagonalize()"
   ]
  },
  {
   "cell_type": "code",
   "execution_count": 141,
   "id": "be958c02-74c2-4b07-949f-18d67d9b44e3",
   "metadata": {},
   "outputs": [
    {
     "data": {
      "text/latex": [
       "$\\displaystyle \\left[\\begin{matrix}2 & 0 & 0\\\\0 & \\frac{5}{2} - \\frac{\\sqrt{17}}{2} & 0\\\\0 & 0 & \\frac{\\sqrt{17}}{2} + \\frac{5}{2}\\end{matrix}\\right]$"
      ],
      "text/plain": [
       "Matrix([\n",
       "[2,                0,                0],\n",
       "[0, 5/2 - sqrt(17)/2,                0],\n",
       "[0,                0, sqrt(17)/2 + 5/2]])"
      ]
     },
     "execution_count": 141,
     "metadata": {},
     "output_type": "execute_result"
    }
   ],
   "source": [
    "D"
   ]
  },
  {
   "cell_type": "code",
   "execution_count": 142,
   "id": "0e10e336-2ff9-4b94-ba2a-c43e85f236f2",
   "metadata": {},
   "outputs": [
    {
     "data": {
      "text/latex": [
       "$\\displaystyle \\left[\\begin{matrix}1 & - \\frac{\\sqrt{17}}{4} - \\frac{3}{4} & - \\frac{3}{4} + \\frac{\\sqrt{17}}{4}\\\\-5 & \\frac{3}{4} + \\frac{\\sqrt{17}}{4} & \\frac{3}{4} - \\frac{\\sqrt{17}}{4}\\\\1 & 1 & 1\\end{matrix}\\right]$"
      ],
      "text/plain": [
       "Matrix([\n",
       "[ 1, -sqrt(17)/4 - 3/4, -3/4 + sqrt(17)/4],\n",
       "[-5,  3/4 + sqrt(17)/4,  3/4 - sqrt(17)/4],\n",
       "[ 1,                 1,                 1]])"
      ]
     },
     "execution_count": 142,
     "metadata": {},
     "output_type": "execute_result"
    }
   ],
   "source": [
    "P"
   ]
  },
  {
   "cell_type": "code",
   "execution_count": 143,
   "id": "acc039da-1566-477b-aab0-08de2cdb5b21",
   "metadata": {},
   "outputs": [
    {
     "data": {
      "text/latex": [
       "$\\displaystyle \\left[\\begin{matrix}- \\frac{1}{4} & - \\frac{1}{4} & 0\\\\\\frac{- 5 \\sqrt{17} - 13}{6 \\sqrt{17} + 34} & \\frac{- \\sqrt{17} - 1}{6 \\sqrt{17} + 34} & \\frac{8}{6 \\sqrt{17} + 34}\\\\\\frac{1}{8} + \\frac{23 \\sqrt{17}}{136} & \\frac{1}{8} + \\frac{7 \\sqrt{17}}{136} & \\frac{3 \\sqrt{17}}{34} + \\frac{1}{2}\\end{matrix}\\right]$"
      ],
      "text/plain": [
       "Matrix([\n",
       "[                                -1/4,                              -1/4,                   0],\n",
       "[(-5*sqrt(17) - 13)/(6*sqrt(17) + 34), (-sqrt(17) - 1)/(6*sqrt(17) + 34), 8/(6*sqrt(17) + 34)],\n",
       "[               1/8 + 23*sqrt(17)/136,              1/8 + 7*sqrt(17)/136, 3*sqrt(17)/34 + 1/2]])"
      ]
     },
     "execution_count": 143,
     "metadata": {},
     "output_type": "execute_result"
    }
   ],
   "source": [
    "P**-1"
   ]
  },
  {
   "cell_type": "code",
   "execution_count": 144,
   "id": "f9bc6d01-2bb8-4e7c-8b7c-813b9faffc35",
   "metadata": {},
   "outputs": [
    {
     "data": {
      "text/latex": [
       "$\\displaystyle \\left[\\begin{matrix}2 & 0 & 0\\\\\\frac{2 \\left(- 5 \\sqrt{17} - 13\\right)}{6 \\sqrt{17} + 34} + \\frac{16}{6 \\sqrt{17} + 34} - \\frac{10 \\left(- \\sqrt{17} - 1\\right)}{6 \\sqrt{17} + 34} & \\frac{- 5 \\sqrt{17} - 13}{6 \\sqrt{17} + 34} + \\left(\\frac{3}{4} + \\frac{\\sqrt{17}}{4}\\right) \\left(\\frac{2 \\left(- \\sqrt{17} - 1\\right)}{6 \\sqrt{17} + 34} + \\frac{8}{6 \\sqrt{17} + 34}\\right) - \\frac{- \\sqrt{17} - 1}{6 \\sqrt{17} + 34} + \\left(- \\frac{\\sqrt{17}}{4} - \\frac{3}{4}\\right) \\left(\\frac{- 5 \\sqrt{17} - 13}{6 \\sqrt{17} + 34} + \\frac{- \\sqrt{17} - 1}{6 \\sqrt{17} + 34} + \\frac{24}{6 \\sqrt{17} + 34}\\right) + \\frac{32}{6 \\sqrt{17} + 34} & \\frac{- 5 \\sqrt{17} - 13}{6 \\sqrt{17} + 34} + \\left(- \\frac{3}{4} + \\frac{\\sqrt{17}}{4}\\right) \\left(\\frac{- 5 \\sqrt{17} - 13}{6 \\sqrt{17} + 34} + \\frac{- \\sqrt{17} - 1}{6 \\sqrt{17} + 34} + \\frac{24}{6 \\sqrt{17} + 34}\\right) + \\left(\\frac{3}{4} - \\frac{\\sqrt{17}}{4}\\right) \\left(\\frac{2 \\left(- \\sqrt{17} - 1\\right)}{6 \\sqrt{17} + 34} + \\frac{8}{6 \\sqrt{17} + 34}\\right) - \\frac{- \\sqrt{17} - 1}{6 \\sqrt{17} + 34} + \\frac{32}{6 \\sqrt{17} + 34}\\\\0 & \\left(\\frac{7}{4} + \\frac{33 \\sqrt{17}}{68}\\right) \\left(- \\frac{\\sqrt{17}}{4} - \\frac{3}{4}\\right) + \\frac{8 \\sqrt{17}}{17} + 2 + \\left(\\frac{3}{4} + \\frac{13 \\sqrt{17}}{68}\\right) \\left(\\frac{3}{4} + \\frac{\\sqrt{17}}{4}\\right) & \\left(\\frac{3}{4} - \\frac{\\sqrt{17}}{4}\\right) \\left(\\frac{3}{4} + \\frac{13 \\sqrt{17}}{68}\\right) + \\left(- \\frac{3}{4} + \\frac{\\sqrt{17}}{4}\\right) \\left(\\frac{7}{4} + \\frac{33 \\sqrt{17}}{68}\\right) + \\frac{8 \\sqrt{17}}{17} + 2\\end{matrix}\\right]$"
      ],
      "text/plain": [
       "Matrix([\n",
       "[                                                                                                   2,                                                                                                                                                                                                                                                                                                        0,                                                                                                                                                                                                                                                                                                        0],\n",
       "[2*(-5*sqrt(17) - 13)/(6*sqrt(17) + 34) + 16/(6*sqrt(17) + 34) - 10*(-sqrt(17) - 1)/(6*sqrt(17) + 34), (-5*sqrt(17) - 13)/(6*sqrt(17) + 34) + (3/4 + sqrt(17)/4)*(2*(-sqrt(17) - 1)/(6*sqrt(17) + 34) + 8/(6*sqrt(17) + 34)) - (-sqrt(17) - 1)/(6*sqrt(17) + 34) + (-sqrt(17)/4 - 3/4)*((-5*sqrt(17) - 13)/(6*sqrt(17) + 34) + (-sqrt(17) - 1)/(6*sqrt(17) + 34) + 24/(6*sqrt(17) + 34)) + 32/(6*sqrt(17) + 34), (-5*sqrt(17) - 13)/(6*sqrt(17) + 34) + (-3/4 + sqrt(17)/4)*((-5*sqrt(17) - 13)/(6*sqrt(17) + 34) + (-sqrt(17) - 1)/(6*sqrt(17) + 34) + 24/(6*sqrt(17) + 34)) + (3/4 - sqrt(17)/4)*(2*(-sqrt(17) - 1)/(6*sqrt(17) + 34) + 8/(6*sqrt(17) + 34)) - (-sqrt(17) - 1)/(6*sqrt(17) + 34) + 32/(6*sqrt(17) + 34)],\n",
       "[                                                                                                   0,                                                                                                                                                                                               (7/4 + 33*sqrt(17)/68)*(-sqrt(17)/4 - 3/4) + 8*sqrt(17)/17 + 2 + (3/4 + 13*sqrt(17)/68)*(3/4 + sqrt(17)/4),                                                                                                                                                                                               (3/4 - sqrt(17)/4)*(3/4 + 13*sqrt(17)/68) + (-3/4 + sqrt(17)/4)*(7/4 + 33*sqrt(17)/68) + 8*sqrt(17)/17 + 2]])"
      ]
     },
     "execution_count": 144,
     "metadata": {},
     "output_type": "execute_result"
    }
   ],
   "source": [
    "P**-1*B*P # D"
   ]
  },
  {
   "cell_type": "code",
   "execution_count": 145,
   "id": "87292fe7-94ce-4534-948d-1a8cc9fdbb5b",
   "metadata": {},
   "outputs": [
    {
     "data": {
      "text/latex": [
       "$\\displaystyle \\left[\\begin{matrix}1 & 0 & 0\\\\0 & 3 & 0\\\\0 & 0 & 5\\end{matrix}\\right]$"
      ],
      "text/plain": [
       "Matrix([\n",
       "[1, 0, 0],\n",
       "[0, 3, 0],\n",
       "[0, 0, 5]])"
      ]
     },
     "execution_count": 145,
     "metadata": {},
     "output_type": "execute_result"
    }
   ],
   "source": [
    "smp.diag(1, 3, 5) # diagonal matrix"
   ]
  },
  {
   "cell_type": "code",
   "execution_count": 146,
   "id": "31ca4a04-50b8-4514-8d97-489e90843a2b",
   "metadata": {},
   "outputs": [
    {
     "data": {
      "text/latex": [
       "$\\displaystyle \\left[\\begin{matrix}0 & 0 & 0\\\\0 & 0 & 0\\\\0 & 0 & 0\\end{matrix}\\right]$"
      ],
      "text/plain": [
       "Matrix([\n",
       "[0, 0, 0],\n",
       "[0, 0, 0],\n",
       "[0, 0, 0]])"
      ]
     },
     "execution_count": 146,
     "metadata": {},
     "output_type": "execute_result"
    }
   ],
   "source": [
    "smp.zeros(3) # null matrix"
   ]
  },
  {
   "cell_type": "code",
   "execution_count": 147,
   "id": "fc52de0c-cb1e-4216-8aff-94c2fa7808d6",
   "metadata": {},
   "outputs": [
    {
     "data": {
      "text/latex": [
       "$\\displaystyle \\left[\\begin{matrix}1 & 0 & 0\\\\0 & 1 & 0\\\\0 & 0 & 1\\end{matrix}\\right]$"
      ],
      "text/plain": [
       "Matrix([\n",
       "[1, 0, 0],\n",
       "[0, 1, 0],\n",
       "[0, 0, 1]])"
      ]
     },
     "execution_count": 147,
     "metadata": {},
     "output_type": "execute_result"
    }
   ],
   "source": [
    "smp.eye(3) # identity matrix"
   ]
  },
  {
   "cell_type": "markdown",
   "id": "720ca2c9-2759-4053-ace6-165d5b3f4678",
   "metadata": {},
   "source": [
    "## Calculas"
   ]
  },
  {
   "cell_type": "code",
   "execution_count": 148,
   "id": "0054320c-0f00-46a7-a61c-88618db8404a",
   "metadata": {},
   "outputs": [],
   "source": [
    "#help(smp.Limit)"
   ]
  },
  {
   "cell_type": "code",
   "execution_count": 149,
   "id": "5a13980e-5c6f-4516-823b-4a82f953fab9",
   "metadata": {},
   "outputs": [
    {
     "data": {
      "text/latex": [
       "$\\displaystyle \\lim_{x \\to 0^+}\\left(\\frac{\\sin{\\left(x \\right)}}{x}\\right)$"
      ],
      "text/plain": [
       "Limit(sin(x)/x, x, 0)"
      ]
     },
     "execution_count": 149,
     "metadata": {},
     "output_type": "execute_result"
    }
   ],
   "source": [
    "smp.Limit(smp.sin(x)/x, x, 0)"
   ]
  },
  {
   "cell_type": "code",
   "execution_count": 150,
   "id": "8745c1f7-516f-466f-be1b-f62be933692a",
   "metadata": {},
   "outputs": [
    {
     "data": {
      "text/latex": [
       "$\\displaystyle 1$"
      ],
      "text/plain": [
       "1"
      ]
     },
     "execution_count": 150,
     "metadata": {},
     "output_type": "execute_result"
    }
   ],
   "source": [
    "smp.limit(smp.sin(x)/x, x, 0) # direct evaluation"
   ]
  },
  {
   "cell_type": "code",
   "execution_count": 151,
   "id": "7fd84973-f0d5-4f6a-a777-9bcda11aebd3",
   "metadata": {},
   "outputs": [
    {
     "data": {
      "text/latex": [
       "$\\displaystyle \\lim_{x \\to \\infty}\\left(\\frac{\\sqrt{x^{2} + 1}}{x}\\right)$"
      ],
      "text/plain": [
       "Limit(sqrt(x**2 + 1)/x, x, oo, dir='-')"
      ]
     },
     "execution_count": 151,
     "metadata": {},
     "output_type": "execute_result"
    }
   ],
   "source": [
    "l = smp.Limit(smp.sqrt(x**2 + 1)/x, x, smp.oo)\n",
    "l"
   ]
  },
  {
   "cell_type": "code",
   "execution_count": 152,
   "id": "801cb61d-3802-40fd-8e54-49c5ba73e4fa",
   "metadata": {},
   "outputs": [
    {
     "data": {
      "text/latex": [
       "$\\displaystyle 1$"
      ],
      "text/plain": [
       "1"
      ]
     },
     "execution_count": 152,
     "metadata": {},
     "output_type": "execute_result"
    }
   ],
   "source": [
    "l.doit() # evaluation using doit()"
   ]
  },
  {
   "cell_type": "code",
   "execution_count": 153,
   "id": "6cb05500-994c-47dd-a2c7-ad6caf7a2edc",
   "metadata": {},
   "outputs": [
    {
     "data": {
      "text/latex": [
       "$\\displaystyle 1$"
      ],
      "text/plain": [
       "1"
      ]
     },
     "execution_count": 153,
     "metadata": {},
     "output_type": "execute_result"
    }
   ],
   "source": [
    "smp.limit(smp.sqrt(x**2 + 1)/x, x, smp.oo) # direct evaluation"
   ]
  },
  {
   "cell_type": "markdown",
   "id": "5b1d3c11-d56f-4d12-ae62-ed18e393d4f4",
   "metadata": {},
   "source": [
    "## Differentiation"
   ]
  },
  {
   "cell_type": "code",
   "execution_count": 154,
   "id": "caff75dd-ace4-4b2c-bda5-5708bd1af966",
   "metadata": {},
   "outputs": [],
   "source": [
    "#help(smp.Function)"
   ]
  },
  {
   "cell_type": "code",
   "execution_count": 155,
   "id": "9caeb463-fe18-4efb-bf51-24e5e886e443",
   "metadata": {},
   "outputs": [],
   "source": [
    "t = smp.symbols('t')"
   ]
  },
  {
   "cell_type": "code",
   "execution_count": 156,
   "id": "524fd2b8-ceb8-44cc-a636-4e214cec2cca",
   "metadata": {},
   "outputs": [],
   "source": [
    "y = smp.Function('y')"
   ]
  },
  {
   "cell_type": "code",
   "execution_count": 157,
   "id": "8c2fc27a-10f5-44cb-a6cf-8fff9cdeabef",
   "metadata": {},
   "outputs": [
    {
     "data": {
      "text/plain": [
       "y"
      ]
     },
     "execution_count": 157,
     "metadata": {},
     "output_type": "execute_result"
    }
   ],
   "source": [
    "y"
   ]
  },
  {
   "cell_type": "code",
   "execution_count": 158,
   "id": "2d28eaa4-e5e1-4160-8c65-158d4cfee92b",
   "metadata": {},
   "outputs": [
    {
     "data": {
      "text/latex": [
       "$\\displaystyle y{\\left(t \\right)}$"
      ],
      "text/plain": [
       "y(t)"
      ]
     },
     "execution_count": 158,
     "metadata": {},
     "output_type": "execute_result"
    }
   ],
   "source": [
    "y(t)"
   ]
  },
  {
   "cell_type": "code",
   "execution_count": 159,
   "id": "75dca4b4-9c14-428f-8a01-4a99b26f474e",
   "metadata": {},
   "outputs": [],
   "source": [
    "z = smp.Function('z')(t)"
   ]
  },
  {
   "cell_type": "code",
   "execution_count": 160,
   "id": "084df7c5-2485-4dd0-bf83-d775ba1fda79",
   "metadata": {},
   "outputs": [
    {
     "data": {
      "text/latex": [
       "$\\displaystyle z{\\left(t \\right)}$"
      ],
      "text/plain": [
       "z(t)"
      ]
     },
     "execution_count": 160,
     "metadata": {},
     "output_type": "execute_result"
    }
   ],
   "source": [
    "z"
   ]
  },
  {
   "cell_type": "code",
   "execution_count": 161,
   "id": "96b03b0b-8599-4f18-b4a5-446dce0667b2",
   "metadata": {},
   "outputs": [
    {
     "name": "stdout",
     "output_type": "stream",
     "text": [
      "Help on function diff in module sympy.core.expr:\n",
      "\n",
      "diff(self, *symbols, **assumptions)\n",
      "\n"
     ]
    }
   ],
   "source": [
    "help(smp.Function.diff)"
   ]
  },
  {
   "cell_type": "code",
   "execution_count": 162,
   "id": "ce6aa6a7-3cc2-4188-869c-5234de5071e1",
   "metadata": {},
   "outputs": [],
   "source": [
    "#help(smp.Derivative)"
   ]
  },
  {
   "cell_type": "code",
   "execution_count": 163,
   "id": "8a0861e9-9751-4766-8523-2149368d0c05",
   "metadata": {},
   "outputs": [
    {
     "data": {
      "text/latex": [
       "$\\displaystyle 1$"
      ],
      "text/plain": [
       "1"
      ]
     },
     "execution_count": 163,
     "metadata": {},
     "output_type": "execute_result"
    }
   ],
   "source": [
    "y.diff(t)"
   ]
  },
  {
   "cell_type": "code",
   "execution_count": 164,
   "id": "ca24c4c4-9535-4c4b-9b3b-1f9ae28fb87f",
   "metadata": {},
   "outputs": [
    {
     "data": {
      "text/latex": [
       "$\\displaystyle \\frac{d}{d t} y{\\left(t \\right)}$"
      ],
      "text/plain": [
       "Derivative(y(t), t)"
      ]
     },
     "execution_count": 164,
     "metadata": {},
     "output_type": "execute_result"
    }
   ],
   "source": [
    "y(t).diff(t)"
   ]
  },
  {
   "cell_type": "code",
   "execution_count": 165,
   "id": "f8c35671-26dc-4355-8969-0ea6c45955ea",
   "metadata": {},
   "outputs": [
    {
     "data": {
      "text/latex": [
       "$\\displaystyle \\frac{d}{d t} y{\\left(t \\right)}$"
      ],
      "text/plain": [
       "Derivative(y(t), t)"
      ]
     },
     "execution_count": 165,
     "metadata": {},
     "output_type": "execute_result"
    }
   ],
   "source": [
    "smp.diff(y(t), t)"
   ]
  },
  {
   "cell_type": "code",
   "execution_count": 166,
   "id": "2b0a46bc-2fc7-43bf-a808-a1b9d8aa545f",
   "metadata": {},
   "outputs": [
    {
     "data": {
      "text/latex": [
       "$\\displaystyle \\frac{d}{d t} y{\\left(t \\right)}$"
      ],
      "text/plain": [
       "Derivative(y(t), t)"
      ]
     },
     "execution_count": 166,
     "metadata": {},
     "output_type": "execute_result"
    }
   ],
   "source": [
    "smp.Derivative(y(t), t)"
   ]
  },
  {
   "cell_type": "code",
   "execution_count": 167,
   "id": "389a4345-082b-4402-bc2f-a68b1960b514",
   "metadata": {},
   "outputs": [
    {
     "data": {
      "text/latex": [
       "$\\displaystyle \\frac{d^{3}}{d t^{3}} y{\\left(t \\right)}$"
      ],
      "text/plain": [
       "Derivative(y(t), (t, 3))"
      ]
     },
     "execution_count": 167,
     "metadata": {},
     "output_type": "execute_result"
    }
   ],
   "source": [
    "y(t).diff(t, 3) # triple derivative"
   ]
  },
  {
   "cell_type": "code",
   "execution_count": 168,
   "id": "ebd63977-cf91-4d90-9403-1c008eb24cb8",
   "metadata": {},
   "outputs": [
    {
     "data": {
      "text/latex": [
       "$\\displaystyle \\frac{d^{3}}{d t^{3}} y{\\left(t \\right)}$"
      ],
      "text/plain": [
       "Derivative(y(t), (t, 3))"
      ]
     },
     "execution_count": 168,
     "metadata": {},
     "output_type": "execute_result"
    }
   ],
   "source": [
    "smp.diff(y(t), t, 3) # triple derivative"
   ]
  },
  {
   "cell_type": "code",
   "execution_count": 169,
   "id": "74aeed39-bd00-42d4-8429-089feb4650e7",
   "metadata": {},
   "outputs": [
    {
     "data": {
      "text/latex": [
       "$\\displaystyle \\frac{d^{3}}{d t^{3}} y{\\left(t \\right)}$"
      ],
      "text/plain": [
       "Derivative(y(t), (t, 3))"
      ]
     },
     "execution_count": 169,
     "metadata": {},
     "output_type": "execute_result"
    }
   ],
   "source": [
    "smp.Derivative(y(t), t, 3) # triple derivative"
   ]
  },
  {
   "cell_type": "code",
   "execution_count": 170,
   "id": "ac951662-ecb9-4ed4-bed9-409f9ccb2811",
   "metadata": {},
   "outputs": [
    {
     "data": {
      "text/latex": [
       "$\\displaystyle \\frac{d}{d t} z{\\left(t \\right)}$"
      ],
      "text/plain": [
       "Derivative(z(t), t)"
      ]
     },
     "execution_count": 170,
     "metadata": {},
     "output_type": "execute_result"
    }
   ],
   "source": [
    "z.diff(t)"
   ]
  },
  {
   "cell_type": "code",
   "execution_count": 171,
   "id": "33f88f54-80fe-4269-83fb-9442915b2a5d",
   "metadata": {},
   "outputs": [
    {
     "data": {
      "text/latex": [
       "$\\displaystyle \\frac{d}{d t} z{\\left(t \\right)}$"
      ],
      "text/plain": [
       "Derivative(z(t), t)"
      ]
     },
     "execution_count": 171,
     "metadata": {},
     "output_type": "execute_result"
    }
   ],
   "source": [
    "smp.diff(z, t)"
   ]
  },
  {
   "cell_type": "code",
   "execution_count": 172,
   "id": "c143bed8-50a5-4d3f-88b8-902f7d7fc061",
   "metadata": {},
   "outputs": [
    {
     "data": {
      "text/latex": [
       "$\\displaystyle \\frac{d}{d t} z{\\left(t \\right)}$"
      ],
      "text/plain": [
       "Derivative(z(t), t)"
      ]
     },
     "execution_count": 172,
     "metadata": {},
     "output_type": "execute_result"
    }
   ],
   "source": [
    "smp.Derivative(z, t)"
   ]
  },
  {
   "cell_type": "code",
   "execution_count": 173,
   "id": "cb730a07-36c2-4e6b-b5b3-967ef05472bd",
   "metadata": {},
   "outputs": [
    {
     "data": {
      "text/latex": [
       "$\\displaystyle \\left. \\frac{d}{d t} y{\\left(t \\right)} \\right|_{\\substack{ t=0 }}$"
      ],
      "text/plain": [
       "Subs(Derivative(y(t), t), t, 0)"
      ]
     },
     "execution_count": 173,
     "metadata": {},
     "output_type": "execute_result"
    }
   ],
   "source": [
    "y(t).diff(t).subs(t, 0)"
   ]
  },
  {
   "cell_type": "code",
   "execution_count": 174,
   "id": "1d818000-9714-45b4-b885-2c70193c3928",
   "metadata": {},
   "outputs": [
    {
     "data": {
      "text/latex": [
       "$\\displaystyle \\left. \\frac{d}{d t} z{\\left(t \\right)} \\right|_{\\substack{ t=0 }}$"
      ],
      "text/plain": [
       "Subs(Derivative(z(t), t), t, 0)"
      ]
     },
     "execution_count": 174,
     "metadata": {},
     "output_type": "execute_result"
    }
   ],
   "source": [
    "z.diff(t).subs(t, 0)"
   ]
  },
  {
   "cell_type": "code",
   "execution_count": 175,
   "id": "2379e4c5-f222-4b88-9932-eff96ff3e414",
   "metadata": {},
   "outputs": [
    {
     "data": {
      "text/latex": [
       "$\\displaystyle \\left. \\frac{d}{d t} y{\\left(t \\right)} \\right|_{\\substack{ t=0 }}$"
      ],
      "text/plain": [
       "Subs(Derivative(y(t), t), t, 0)"
      ]
     },
     "execution_count": 175,
     "metadata": {},
     "output_type": "execute_result"
    }
   ],
   "source": [
    "smp.Subs(smp.Derivative(y(t), t), t, 0)"
   ]
  },
  {
   "cell_type": "code",
   "execution_count": 176,
   "id": "acb1694c-0d1f-4c8c-a8ff-ca6c13e3ec33",
   "metadata": {},
   "outputs": [
    {
     "data": {
      "text/latex": [
       "$\\displaystyle \\left. \\frac{d}{d t} z{\\left(t \\right)} \\right|_{\\substack{ t=0 }}$"
      ],
      "text/plain": [
       "Subs(Derivative(z(t), t), t, 0)"
      ]
     },
     "execution_count": 176,
     "metadata": {},
     "output_type": "execute_result"
    }
   ],
   "source": [
    "smp.Subs(smp.Derivative(z, t), t, 0)"
   ]
  },
  {
   "cell_type": "code",
   "execution_count": 177,
   "id": "63f46f07-5a7c-4b1f-ab74-cb6d19ecd165",
   "metadata": {},
   "outputs": [],
   "source": [
    "p = t**3 + 2*t**2 + 4"
   ]
  },
  {
   "cell_type": "code",
   "execution_count": 178,
   "id": "2c813553-25f9-4a63-9af6-7b8d688fc56a",
   "metadata": {},
   "outputs": [
    {
     "data": {
      "text/latex": [
       "$\\displaystyle 3 t^{2} + 4 t$"
      ],
      "text/plain": [
       "3*t**2 + 4*t"
      ]
     },
     "execution_count": 178,
     "metadata": {},
     "output_type": "execute_result"
    }
   ],
   "source": [
    "p.diff(t)"
   ]
  },
  {
   "cell_type": "code",
   "execution_count": 179,
   "id": "4fc2ac3e-3c87-4c92-8a5d-13bd84ae3dc4",
   "metadata": {},
   "outputs": [
    {
     "data": {
      "text/latex": [
       "$\\displaystyle 3 t^{2} + 4 t$"
      ],
      "text/plain": [
       "3*t**2 + 4*t"
      ]
     },
     "execution_count": 179,
     "metadata": {},
     "output_type": "execute_result"
    }
   ],
   "source": [
    "smp.diff(p, t)"
   ]
  },
  {
   "cell_type": "code",
   "execution_count": 180,
   "id": "2e562d5c-56b1-49d8-8739-fd978fec06a2",
   "metadata": {},
   "outputs": [
    {
     "data": {
      "text/latex": [
       "$\\displaystyle 7$"
      ],
      "text/plain": [
       "7"
      ]
     },
     "execution_count": 180,
     "metadata": {},
     "output_type": "execute_result"
    }
   ],
   "source": [
    "p.diff(t).subs(t, 1)"
   ]
  },
  {
   "cell_type": "code",
   "execution_count": 181,
   "id": "ade65977-5ebf-448a-b7b6-37ca82c32a9e",
   "metadata": {},
   "outputs": [
    {
     "data": {
      "text/latex": [
       "$\\displaystyle 20$"
      ],
      "text/plain": [
       "20"
      ]
     },
     "execution_count": 181,
     "metadata": {},
     "output_type": "execute_result"
    }
   ],
   "source": [
    "smp.diff(p, t).subs(t, 2)"
   ]
  },
  {
   "cell_type": "code",
   "execution_count": 182,
   "id": "c51d2043-290c-4b1a-b329-4abf24debd3b",
   "metadata": {},
   "outputs": [
    {
     "data": {
      "text/latex": [
       "$\\displaystyle e^{x} \\sin{\\left(x \\right)} + e^{x} \\cos{\\left(x \\right)}$"
      ],
      "text/plain": [
       "exp(x)*sin(x) + exp(x)*cos(x)"
      ]
     },
     "execution_count": 182,
     "metadata": {},
     "output_type": "execute_result"
    }
   ],
   "source": [
    "smp.diff(smp.sin(x)*smp.exp(x), x)"
   ]
  },
  {
   "cell_type": "markdown",
   "id": "7f04ebef-e9d3-46c2-ab24-683bdcd16092",
   "metadata": {},
   "source": [
    "## Integration"
   ]
  },
  {
   "cell_type": "code",
   "execution_count": 183,
   "id": "8bd49fe3-0950-416f-9940-478aa3ff3116",
   "metadata": {},
   "outputs": [],
   "source": [
    "#help(smp.integrate)"
   ]
  },
  {
   "cell_type": "code",
   "execution_count": 184,
   "id": "57a04eb2-eca4-4eae-86ed-b96f9745bc51",
   "metadata": {},
   "outputs": [
    {
     "data": {
      "text/latex": [
       "$\\displaystyle \\frac{e^{x} \\sin{\\left(x \\right)}}{2} - \\frac{e^{x} \\cos{\\left(x \\right)}}{2}$"
      ],
      "text/plain": [
       "exp(x)*sin(x)/2 - exp(x)*cos(x)/2"
      ]
     },
     "execution_count": 184,
     "metadata": {},
     "output_type": "execute_result"
    }
   ],
   "source": [
    "smp.integrate(smp.sin(x)*smp.exp(x))"
   ]
  },
  {
   "cell_type": "markdown",
   "id": "ac8ba06b-4b08-4ceb-bc88-29fa9e87e06a",
   "metadata": {},
   "source": [
    "## Representation of definite Integral"
   ]
  },
  {
   "cell_type": "code",
   "execution_count": 201,
   "id": "73747ce4-f3f2-4530-980c-e004f762ea73",
   "metadata": {},
   "outputs": [],
   "source": [
    "#help(smp.Integral)"
   ]
  },
  {
   "cell_type": "code",
   "execution_count": 186,
   "id": "ca9435cc-60ac-4b54-a39c-48254958cb81",
   "metadata": {},
   "outputs": [
    {
     "data": {
      "text/latex": [
       "$\\displaystyle \\int\\limits_{0}^{1} e^{x} \\sin{\\left(x \\right)}\\, dx$"
      ],
      "text/plain": [
       "Integral(exp(x)*sin(x), (x, 0, 1))"
      ]
     },
     "execution_count": 186,
     "metadata": {},
     "output_type": "execute_result"
    }
   ],
   "source": [
    "smp.Integral(smp.sin(x)*smp.exp(x), (x, 0, 1))"
   ]
  },
  {
   "cell_type": "markdown",
   "id": "68aaae88-589b-4bea-bdd6-bd95db61cf06",
   "metadata": {},
   "source": [
    "## Evaluating a definite Integral"
   ]
  },
  {
   "cell_type": "code",
   "execution_count": 187,
   "id": "0820c9de-874b-4703-b7f9-699a141377f5",
   "metadata": {},
   "outputs": [
    {
     "data": {
      "text/latex": [
       "$\\displaystyle - \\frac{e \\cos{\\left(1 \\right)}}{2} + \\frac{1}{2} + \\frac{e \\sin{\\left(1 \\right)}}{2}$"
      ],
      "text/plain": [
       "-E*cos(1)/2 + 1/2 + E*sin(1)/2"
      ]
     },
     "execution_count": 187,
     "metadata": {},
     "output_type": "execute_result"
    }
   ],
   "source": [
    "smp.integrate(smp.sin(x)*smp.exp(x), (x, 0, 1))"
   ]
  },
  {
   "cell_type": "code",
   "execution_count": 188,
   "id": "bce3a764-2dc1-43db-a188-50c886acda27",
   "metadata": {},
   "outputs": [
    {
     "data": {
      "text/latex": [
       "$\\displaystyle 0.909330673631479$"
      ],
      "text/plain": [
       "0.909330673631479"
      ]
     },
     "execution_count": 188,
     "metadata": {},
     "output_type": "execute_result"
    }
   ],
   "source": [
    "smp.integrate(smp.sin(x)*smp.exp(x), (x, 0, 1)).evalf()"
   ]
  },
  {
   "cell_type": "code",
   "execution_count": 189,
   "id": "cd58fe19-7742-4d92-a318-d933c4e36a2e",
   "metadata": {},
   "outputs": [
    {
     "data": {
      "text/latex": [
       "$\\displaystyle \\int\\limits_{0}^{\\infty} e^{- x^{2}}\\, dx$"
      ],
      "text/plain": [
       "Integral(exp(-x**2), (x, 0, oo))"
      ]
     },
     "execution_count": 189,
     "metadata": {},
     "output_type": "execute_result"
    }
   ],
   "source": [
    "smp.Integral(smp.exp(-x**2), (x, 0, smp.oo))"
   ]
  },
  {
   "cell_type": "code",
   "execution_count": 190,
   "id": "ae753a89-7cd9-44b9-a60e-f1ae63215ebc",
   "metadata": {},
   "outputs": [
    {
     "data": {
      "text/latex": [
       "$\\displaystyle \\frac{\\sqrt{\\pi}}{2}$"
      ],
      "text/plain": [
       "sqrt(pi)/2"
      ]
     },
     "execution_count": 190,
     "metadata": {},
     "output_type": "execute_result"
    }
   ],
   "source": [
    "smp.integrate(smp.exp(-x**2), (x, 0, smp.oo))"
   ]
  },
  {
   "cell_type": "code",
   "execution_count": 191,
   "id": "f17903c6-981c-4a2a-bace-a6823f0c962c",
   "metadata": {},
   "outputs": [
    {
     "data": {
      "text/latex": [
       "$\\displaystyle \\int\\limits_{0}^{\\infty} \\frac{e^{- x}}{x^{0.5}}\\, dx$"
      ],
      "text/plain": [
       "Integral(exp(-x)/x**0.5, (x, 0, oo))"
      ]
     },
     "execution_count": 191,
     "metadata": {},
     "output_type": "execute_result"
    }
   ],
   "source": [
    "smp.Integral(smp.exp(-x)*x**(-1/2), (x, 0, smp.oo)) # Gamma(1/2)"
   ]
  },
  {
   "cell_type": "code",
   "execution_count": 192,
   "id": "dfa82930-6079-41e6-b16f-35259353e19d",
   "metadata": {},
   "outputs": [
    {
     "data": {
      "text/latex": [
       "$\\displaystyle 1.77245385090552$"
      ],
      "text/plain": [
       "1.77245385090552"
      ]
     },
     "execution_count": 192,
     "metadata": {},
     "output_type": "execute_result"
    }
   ],
   "source": [
    "smp.integrate(smp.exp(-x)*x**(-1/2), (x, 0, smp.oo))"
   ]
  },
  {
   "cell_type": "code",
   "execution_count": 204,
   "id": "c4cbb244-c2c7-4cce-bf28-dcbe9fcf5d78",
   "metadata": {},
   "outputs": [
    {
     "data": {
      "text/latex": [
       "$\\displaystyle 1.94591014905531$"
      ],
      "text/plain": [
       "1.94591014905531"
      ]
     },
     "execution_count": 204,
     "metadata": {},
     "output_type": "execute_result"
    }
   ],
   "source": [
    "smp.integrate(1/x, (x, 1, 7)).evalf()"
   ]
  },
  {
   "cell_type": "markdown",
   "id": "56356a99-ee6b-45d5-9eaa-d8fa3d3c8ccc",
   "metadata": {},
   "source": [
    "## Double Integral"
   ]
  },
  {
   "cell_type": "code",
   "execution_count": 194,
   "id": "77873384-ef4c-402b-bd5b-0e179b5530ab",
   "metadata": {},
   "outputs": [],
   "source": [
    "x,y = smp.symbols('x, y')"
   ]
  },
  {
   "cell_type": "code",
   "execution_count": 195,
   "id": "a19fddcb-e589-418d-bb53-42ded05470d7",
   "metadata": {},
   "outputs": [
    {
     "data": {
      "text/latex": [
       "$\\displaystyle \\int\\limits_{0}^{\\infty}\\int\\limits_{0}^{\\infty} e^{- x^{2} - y^{2}}\\, dx\\, dy$"
      ],
      "text/plain": [
       "Integral(exp(-x**2 - y**2), (x, 0, oo), (y, 0, oo))"
      ]
     },
     "execution_count": 195,
     "metadata": {},
     "output_type": "execute_result"
    }
   ],
   "source": [
    "smp.Integral(smp.exp(-(x**2 + y**2)), (x, 0, smp.oo), (y, 0, smp.oo))"
   ]
  },
  {
   "cell_type": "code",
   "execution_count": 196,
   "id": "4f115aff-2c89-4956-a888-0e6da5cf38c9",
   "metadata": {},
   "outputs": [
    {
     "data": {
      "text/latex": [
       "$\\displaystyle \\frac{\\pi}{4}$"
      ],
      "text/plain": [
       "pi/4"
      ]
     },
     "execution_count": 196,
     "metadata": {},
     "output_type": "execute_result"
    }
   ],
   "source": [
    "smp.integrate(smp.exp(-(x**2 + y**2)), (x, 0, smp.oo), (y, 0, smp.oo))"
   ]
  },
  {
   "cell_type": "code",
   "execution_count": 197,
   "id": "8a2f29df-8c78-472f-aaf7-a87ce41eee25",
   "metadata": {},
   "outputs": [],
   "source": [
    "r, ϕ = smp.symbols('r, ϕ')"
   ]
  },
  {
   "cell_type": "code",
   "execution_count": 198,
   "id": "da013e77-2b54-49e9-b67b-6c5a6e0e29c4",
   "metadata": {},
   "outputs": [
    {
     "data": {
      "text/latex": [
       "$\\displaystyle \\int\\limits_{0}^{\\frac{\\pi}{2}}\\int\\limits_{0}^{\\infty} r e^{- r^{2}}\\, dr\\, dϕ$"
      ],
      "text/plain": [
       "Integral(r*exp(-r**2), (r, 0, oo), (ϕ, 0, pi/2))"
      ]
     },
     "execution_count": 198,
     "metadata": {},
     "output_type": "execute_result"
    }
   ],
   "source": [
    "smp.Integral(smp.exp(-r**2)*r, (r, 0, smp.oo), (ϕ, 0, smp.pi/2))"
   ]
  },
  {
   "cell_type": "code",
   "execution_count": 199,
   "id": "6f6e4322-caa0-4aa5-845b-45372bbec2aa",
   "metadata": {},
   "outputs": [
    {
     "data": {
      "text/latex": [
       "$\\displaystyle \\frac{\\pi}{4}$"
      ],
      "text/plain": [
       "pi/4"
      ]
     },
     "execution_count": 199,
     "metadata": {},
     "output_type": "execute_result"
    }
   ],
   "source": [
    "smp.integrate(smp.exp(-r**2)*r, (r, 0, smp.oo), (ϕ, 0, smp.pi/2))"
   ]
  },
  {
   "cell_type": "code",
   "execution_count": null,
   "id": "006e96bb-4e44-438e-b4d4-971a6deb88a7",
   "metadata": {},
   "outputs": [],
   "source": []
  }
 ],
 "metadata": {
  "kernelspec": {
   "display_name": "Python 3 (ipykernel)",
   "language": "python",
   "name": "python3"
  },
  "language_info": {
   "codemirror_mode": {
    "name": "ipython",
    "version": 3
   },
   "file_extension": ".py",
   "mimetype": "text/x-python",
   "name": "python",
   "nbconvert_exporter": "python",
   "pygments_lexer": "ipython3",
   "version": "3.10.9"
  }
 },
 "nbformat": 4,
 "nbformat_minor": 5
}
